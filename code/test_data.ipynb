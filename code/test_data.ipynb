{
 "cells": [
  {
   "cell_type": "code",
   "execution_count": 1,
   "id": "237d489c",
   "metadata": {},
   "outputs": [],
   "source": [
    "# Import required packages\n",
    "\n",
    "import numpy as np\n",
    "import pandas as pd\n",
    "import matplotlib.pyplot as plt\n",
    "import seaborn as sns\n",
    "\n",
    "import datetime\n"
   ]
  },
  {
   "cell_type": "code",
   "execution_count": 2,
   "id": "a03c2823",
   "metadata": {},
   "outputs": [],
   "source": [
    "# Import Data\n",
    "\n",
    "train = pd.read_csv('../data/train.csv')\n",
    "test = pd.read_csv('../data/test.csv')"
   ]
  },
  {
   "cell_type": "code",
   "execution_count": 28,
   "id": "2917233b",
   "metadata": {},
   "outputs": [],
   "source": [
    "# Standardise column names\n",
    "\n",
    "new_col_names = [x.lower() for x in list(train.columns)]\n",
    "train.columns = new_col_names"
   ]
  },
  {
   "cell_type": "code",
   "execution_count": 29,
   "id": "27446dae",
   "metadata": {},
   "outputs": [
    {
     "name": "stdout",
     "output_type": "stream",
     "text": [
      "<class 'pandas.core.frame.DataFrame'>\n",
      "RangeIndex: 10506 entries, 0 to 10505\n",
      "Data columns (total 12 columns):\n",
      " #   Column                  Non-Null Count  Dtype  \n",
      "---  ------                  --------------  -----  \n",
      " 0   date                    10506 non-null  object \n",
      " 1   address                 10506 non-null  object \n",
      " 2   species                 10506 non-null  object \n",
      " 3   block                   10506 non-null  int64  \n",
      " 4   street                  10506 non-null  object \n",
      " 5   trap                    10506 non-null  object \n",
      " 6   addressnumberandstreet  10506 non-null  object \n",
      " 7   latitude                10506 non-null  float64\n",
      " 8   longitude               10506 non-null  float64\n",
      " 9   addressaccuracy         10506 non-null  int64  \n",
      " 10  nummosquitos            10506 non-null  int64  \n",
      " 11  wnvpresent              10506 non-null  int64  \n",
      "dtypes: float64(2), int64(4), object(6)\n",
      "memory usage: 985.1+ KB\n"
     ]
    }
   ],
   "source": [
    "# View Data info\n",
    "\n",
    "train.info()"
   ]
  },
  {
   "cell_type": "code",
   "execution_count": 30,
   "id": "5fe1133e",
   "metadata": {},
   "outputs": [
    {
     "data": {
      "text/html": [
       "<div>\n",
       "<style scoped>\n",
       "    .dataframe tbody tr th:only-of-type {\n",
       "        vertical-align: middle;\n",
       "    }\n",
       "\n",
       "    .dataframe tbody tr th {\n",
       "        vertical-align: top;\n",
       "    }\n",
       "\n",
       "    .dataframe thead th {\n",
       "        text-align: right;\n",
       "    }\n",
       "</style>\n",
       "<table border=\"1\" class=\"dataframe\">\n",
       "  <thead>\n",
       "    <tr style=\"text-align: right;\">\n",
       "      <th></th>\n",
       "      <th>date</th>\n",
       "      <th>address</th>\n",
       "      <th>species</th>\n",
       "      <th>block</th>\n",
       "      <th>street</th>\n",
       "      <th>trap</th>\n",
       "      <th>addressnumberandstreet</th>\n",
       "      <th>latitude</th>\n",
       "      <th>longitude</th>\n",
       "      <th>addressaccuracy</th>\n",
       "      <th>nummosquitos</th>\n",
       "      <th>wnvpresent</th>\n",
       "    </tr>\n",
       "  </thead>\n",
       "  <tbody>\n",
       "    <tr>\n",
       "      <th>0</th>\n",
       "      <td>2007-05-29</td>\n",
       "      <td>4100 North Oak Park Avenue, Chicago, IL 60634,...</td>\n",
       "      <td>CULEX PIPIENS/RESTUANS</td>\n",
       "      <td>41</td>\n",
       "      <td>N OAK PARK AVE</td>\n",
       "      <td>T002</td>\n",
       "      <td>4100  N OAK PARK AVE, Chicago, IL</td>\n",
       "      <td>41.954690</td>\n",
       "      <td>-87.800991</td>\n",
       "      <td>9</td>\n",
       "      <td>1</td>\n",
       "      <td>0</td>\n",
       "    </tr>\n",
       "    <tr>\n",
       "      <th>1</th>\n",
       "      <td>2007-05-29</td>\n",
       "      <td>4100 North Oak Park Avenue, Chicago, IL 60634,...</td>\n",
       "      <td>CULEX RESTUANS</td>\n",
       "      <td>41</td>\n",
       "      <td>N OAK PARK AVE</td>\n",
       "      <td>T002</td>\n",
       "      <td>4100  N OAK PARK AVE, Chicago, IL</td>\n",
       "      <td>41.954690</td>\n",
       "      <td>-87.800991</td>\n",
       "      <td>9</td>\n",
       "      <td>1</td>\n",
       "      <td>0</td>\n",
       "    </tr>\n",
       "    <tr>\n",
       "      <th>2</th>\n",
       "      <td>2007-05-29</td>\n",
       "      <td>6200 North Mandell Avenue, Chicago, IL 60646, USA</td>\n",
       "      <td>CULEX RESTUANS</td>\n",
       "      <td>62</td>\n",
       "      <td>N MANDELL AVE</td>\n",
       "      <td>T007</td>\n",
       "      <td>6200  N MANDELL AVE, Chicago, IL</td>\n",
       "      <td>41.994991</td>\n",
       "      <td>-87.769279</td>\n",
       "      <td>9</td>\n",
       "      <td>1</td>\n",
       "      <td>0</td>\n",
       "    </tr>\n",
       "    <tr>\n",
       "      <th>3</th>\n",
       "      <td>2007-05-29</td>\n",
       "      <td>7900 West Foster Avenue, Chicago, IL 60656, USA</td>\n",
       "      <td>CULEX PIPIENS/RESTUANS</td>\n",
       "      <td>79</td>\n",
       "      <td>W FOSTER AVE</td>\n",
       "      <td>T015</td>\n",
       "      <td>7900  W FOSTER AVE, Chicago, IL</td>\n",
       "      <td>41.974089</td>\n",
       "      <td>-87.824812</td>\n",
       "      <td>8</td>\n",
       "      <td>1</td>\n",
       "      <td>0</td>\n",
       "    </tr>\n",
       "    <tr>\n",
       "      <th>4</th>\n",
       "      <td>2007-05-29</td>\n",
       "      <td>7900 West Foster Avenue, Chicago, IL 60656, USA</td>\n",
       "      <td>CULEX RESTUANS</td>\n",
       "      <td>79</td>\n",
       "      <td>W FOSTER AVE</td>\n",
       "      <td>T015</td>\n",
       "      <td>7900  W FOSTER AVE, Chicago, IL</td>\n",
       "      <td>41.974089</td>\n",
       "      <td>-87.824812</td>\n",
       "      <td>8</td>\n",
       "      <td>4</td>\n",
       "      <td>0</td>\n",
       "    </tr>\n",
       "  </tbody>\n",
       "</table>\n",
       "</div>"
      ],
      "text/plain": [
       "         date                                            address  \\\n",
       "0  2007-05-29  4100 North Oak Park Avenue, Chicago, IL 60634,...   \n",
       "1  2007-05-29  4100 North Oak Park Avenue, Chicago, IL 60634,...   \n",
       "2  2007-05-29  6200 North Mandell Avenue, Chicago, IL 60646, USA   \n",
       "3  2007-05-29    7900 West Foster Avenue, Chicago, IL 60656, USA   \n",
       "4  2007-05-29    7900 West Foster Avenue, Chicago, IL 60656, USA   \n",
       "\n",
       "                  species  block           street  trap  \\\n",
       "0  CULEX PIPIENS/RESTUANS     41   N OAK PARK AVE  T002   \n",
       "1          CULEX RESTUANS     41   N OAK PARK AVE  T002   \n",
       "2          CULEX RESTUANS     62    N MANDELL AVE  T007   \n",
       "3  CULEX PIPIENS/RESTUANS     79     W FOSTER AVE  T015   \n",
       "4          CULEX RESTUANS     79     W FOSTER AVE  T015   \n",
       "\n",
       "              addressnumberandstreet   latitude  longitude  addressaccuracy  \\\n",
       "0  4100  N OAK PARK AVE, Chicago, IL  41.954690 -87.800991                9   \n",
       "1  4100  N OAK PARK AVE, Chicago, IL  41.954690 -87.800991                9   \n",
       "2   6200  N MANDELL AVE, Chicago, IL  41.994991 -87.769279                9   \n",
       "3    7900  W FOSTER AVE, Chicago, IL  41.974089 -87.824812                8   \n",
       "4    7900  W FOSTER AVE, Chicago, IL  41.974089 -87.824812                8   \n",
       "\n",
       "   nummosquitos  wnvpresent  \n",
       "0             1           0  \n",
       "1             1           0  \n",
       "2             1           0  \n",
       "3             1           0  \n",
       "4             4           0  "
      ]
     },
     "execution_count": 30,
     "metadata": {},
     "output_type": "execute_result"
    }
   ],
   "source": [
    "# train data manipulation\n",
    "\n",
    "# train.rename(columns={'date': 'date_col'}, inplace=True)\n",
    "train.head()"
   ]
  },
  {
   "cell_type": "markdown",
   "id": "46676b92",
   "metadata": {},
   "source": [
    "**Data Exploration**"
   ]
  },
  {
   "cell_type": "code",
   "execution_count": 31,
   "id": "9a33dfbd",
   "metadata": {},
   "outputs": [
    {
     "data": {
      "text/plain": [
       "<AxesSubplot:>"
      ]
     },
     "execution_count": 31,
     "metadata": {},
     "output_type": "execute_result"
    },
    {
     "data": {
      "image/png": "[encoded data removed]",
      "text/plain": [
       "<Figure size 432x288 with 1 Axes>"
      ]
     },
     "metadata": {
      "needs_background": "light"
     },
     "output_type": "display_data"
    }
   ],
   "source": [
    "# Distribution of mosquitos found\n",
    "\n",
    "train['nummosquitos'].hist(bins=50) # Ceiling at 50 is reflective of how the data is entered"
   ]
  },
  {
   "cell_type": "markdown",
   "id": "c6a33afb",
   "metadata": {},
   "source": [
    "These test results are organized in such a way that when the number of mosquitos exceed 50, they are split into another record (another row in the dataset), such that the number of mosquitos are capped at 50. \n",
    "\n",
    "If the mosquito traps are only inspected ONCE a day, will only expect more than one entry for the specific location/trap/date if one of the entry has 50 mosquitos "
   ]
  },
  {
   "cell_type": "code",
   "execution_count": 32,
   "id": "69d44c03",
   "metadata": {},
   "outputs": [
    {
     "name": "stdout",
     "output_type": "stream",
     "text": [
      "(10506, 12)\n"
     ]
    }
   ],
   "source": [
    "print(train.shape)\n",
    "# train.groupby(list(train.columns))[list(train.columns)].mean().shape"
   ]
  },
  {
   "cell_type": "code",
   "execution_count": 33,
   "id": "c310a802",
   "metadata": {},
   "outputs": [],
   "source": [
    "# Create a list of columns without 'nummosquitos'\n",
    "\n",
    "col_w = list(train.columns)\n",
    "col_w.remove('nummosquitos') # this includes all the column names except for 'nummosquitos'\n",
    "#col_w"
   ]
  },
  {
   "cell_type": "code",
   "execution_count": 34,
   "id": "e722aaa7",
   "metadata": {},
   "outputs": [],
   "source": [
    "# Inspect dulplicated rows where number of mosquito count is less than 50\n",
    "\n",
    "mos_u50 = train.loc[train['nummosquitos']<50,:] # slice data for nummosquitos < 50\n",
    "\n",
    "edup = mos_u50.duplicated(keep=False)       # find index of data which are exact duplicates\n",
    "dup = mos_u50[col_w].duplicated(keep=False) # find index of data which have same are duplicates except 'nummosquitos'"
   ]
  },
  {
   "cell_type": "code",
   "execution_count": 35,
   "id": "c64b2159",
   "metadata": {},
   "outputs": [
    {
     "name": "stdout",
     "output_type": "stream",
     "text": [
      "(208, 12)\n",
      "(1537, 12)\n"
     ]
    }
   ],
   "source": [
    "print(mos_u50[edup].shape)\n",
    "print(mos_u50[dup].shape)"
   ]
  },
  {
   "cell_type": "code",
   "execution_count": 36,
   "id": "2f8ff775",
   "metadata": {},
   "outputs": [
    {
     "data": {
      "text/html": [
       "<div>\n",
       "<style scoped>\n",
       "    .dataframe tbody tr th:only-of-type {\n",
       "        vertical-align: middle;\n",
       "    }\n",
       "\n",
       "    .dataframe tbody tr th {\n",
       "        vertical-align: top;\n",
       "    }\n",
       "\n",
       "    .dataframe thead th {\n",
       "        text-align: right;\n",
       "    }\n",
       "</style>\n",
       "<table border=\"1\" class=\"dataframe\">\n",
       "  <thead>\n",
       "    <tr style=\"text-align: right;\">\n",
       "      <th></th>\n",
       "      <th>date</th>\n",
       "      <th>address</th>\n",
       "      <th>species</th>\n",
       "      <th>block</th>\n",
       "      <th>street</th>\n",
       "      <th>trap</th>\n",
       "      <th>addressnumberandstreet</th>\n",
       "      <th>latitude</th>\n",
       "      <th>longitude</th>\n",
       "      <th>addressaccuracy</th>\n",
       "      <th>nummosquitos</th>\n",
       "      <th>wnvpresent</th>\n",
       "    </tr>\n",
       "  </thead>\n",
       "  <tbody>\n",
       "    <tr>\n",
       "      <th>98</th>\n",
       "      <td>2007-06-26</td>\n",
       "      <td>2200 West 113th Street, Chicago, IL 60643, USA</td>\n",
       "      <td>CULEX PIPIENS/RESTUANS</td>\n",
       "      <td>22</td>\n",
       "      <td>W 113TH ST</td>\n",
       "      <td>T086</td>\n",
       "      <td>2200  W 113TH ST, Chicago, IL</td>\n",
       "      <td>41.688324</td>\n",
       "      <td>-87.676709</td>\n",
       "      <td>8</td>\n",
       "      <td>1</td>\n",
       "      <td>0</td>\n",
       "    </tr>\n",
       "    <tr>\n",
       "      <th>99</th>\n",
       "      <td>2007-06-26</td>\n",
       "      <td>2200 West 113th Street, Chicago, IL 60643, USA</td>\n",
       "      <td>CULEX PIPIENS/RESTUANS</td>\n",
       "      <td>22</td>\n",
       "      <td>W 113TH ST</td>\n",
       "      <td>T086</td>\n",
       "      <td>2200  W 113TH ST, Chicago, IL</td>\n",
       "      <td>41.688324</td>\n",
       "      <td>-87.676709</td>\n",
       "      <td>8</td>\n",
       "      <td>1</td>\n",
       "      <td>0</td>\n",
       "    </tr>\n",
       "    <tr>\n",
       "      <th>280</th>\n",
       "      <td>2007-07-11</td>\n",
       "      <td>7900 West Foster Avenue, Chicago, IL 60656, USA</td>\n",
       "      <td>CULEX RESTUANS</td>\n",
       "      <td>79</td>\n",
       "      <td>W FOSTER AVE</td>\n",
       "      <td>T015</td>\n",
       "      <td>7900  W FOSTER AVE, Chicago, IL</td>\n",
       "      <td>41.974089</td>\n",
       "      <td>-87.824812</td>\n",
       "      <td>8</td>\n",
       "      <td>1</td>\n",
       "      <td>0</td>\n",
       "    </tr>\n",
       "    <tr>\n",
       "      <th>281</th>\n",
       "      <td>2007-07-11</td>\n",
       "      <td>7900 West Foster Avenue, Chicago, IL 60656, USA</td>\n",
       "      <td>CULEX RESTUANS</td>\n",
       "      <td>79</td>\n",
       "      <td>W FOSTER AVE</td>\n",
       "      <td>T015</td>\n",
       "      <td>7900  W FOSTER AVE, Chicago, IL</td>\n",
       "      <td>41.974089</td>\n",
       "      <td>-87.824812</td>\n",
       "      <td>8</td>\n",
       "      <td>2</td>\n",
       "      <td>0</td>\n",
       "    </tr>\n",
       "    <tr>\n",
       "      <th>294</th>\n",
       "      <td>2007-07-11</td>\n",
       "      <td>2200 West 113th Street, Chicago, IL 60643, USA</td>\n",
       "      <td>CULEX PIPIENS/RESTUANS</td>\n",
       "      <td>22</td>\n",
       "      <td>W 113TH ST</td>\n",
       "      <td>T086</td>\n",
       "      <td>2200  W 113TH ST, Chicago, IL</td>\n",
       "      <td>41.688324</td>\n",
       "      <td>-87.676709</td>\n",
       "      <td>8</td>\n",
       "      <td>35</td>\n",
       "      <td>0</td>\n",
       "    </tr>\n",
       "    <tr>\n",
       "      <th>296</th>\n",
       "      <td>2007-07-11</td>\n",
       "      <td>2200 West 113th Street, Chicago, IL 60643, USA</td>\n",
       "      <td>CULEX PIPIENS/RESTUANS</td>\n",
       "      <td>22</td>\n",
       "      <td>W 113TH ST</td>\n",
       "      <td>T086</td>\n",
       "      <td>2200  W 113TH ST, Chicago, IL</td>\n",
       "      <td>41.688324</td>\n",
       "      <td>-87.676709</td>\n",
       "      <td>8</td>\n",
       "      <td>8</td>\n",
       "      <td>0</td>\n",
       "    </tr>\n",
       "  </tbody>\n",
       "</table>\n",
       "</div>"
      ],
      "text/plain": [
       "           date                                          address  \\\n",
       "98   2007-06-26   2200 West 113th Street, Chicago, IL 60643, USA   \n",
       "99   2007-06-26   2200 West 113th Street, Chicago, IL 60643, USA   \n",
       "280  2007-07-11  7900 West Foster Avenue, Chicago, IL 60656, USA   \n",
       "281  2007-07-11  7900 West Foster Avenue, Chicago, IL 60656, USA   \n",
       "294  2007-07-11   2200 West 113th Street, Chicago, IL 60643, USA   \n",
       "296  2007-07-11   2200 West 113th Street, Chicago, IL 60643, USA   \n",
       "\n",
       "                    species  block         street  trap  \\\n",
       "98   CULEX PIPIENS/RESTUANS     22     W 113TH ST  T086   \n",
       "99   CULEX PIPIENS/RESTUANS     22     W 113TH ST  T086   \n",
       "280          CULEX RESTUANS     79   W FOSTER AVE  T015   \n",
       "281          CULEX RESTUANS     79   W FOSTER AVE  T015   \n",
       "294  CULEX PIPIENS/RESTUANS     22     W 113TH ST  T086   \n",
       "296  CULEX PIPIENS/RESTUANS     22     W 113TH ST  T086   \n",
       "\n",
       "              addressnumberandstreet   latitude  longitude  addressaccuracy  \\\n",
       "98     2200  W 113TH ST, Chicago, IL  41.688324 -87.676709                8   \n",
       "99     2200  W 113TH ST, Chicago, IL  41.688324 -87.676709                8   \n",
       "280  7900  W FOSTER AVE, Chicago, IL  41.974089 -87.824812                8   \n",
       "281  7900  W FOSTER AVE, Chicago, IL  41.974089 -87.824812                8   \n",
       "294    2200  W 113TH ST, Chicago, IL  41.688324 -87.676709                8   \n",
       "296    2200  W 113TH ST, Chicago, IL  41.688324 -87.676709                8   \n",
       "\n",
       "     nummosquitos  wnvpresent  \n",
       "98              1           0  \n",
       "99              1           0  \n",
       "280             1           0  \n",
       "281             2           0  \n",
       "294            35           0  \n",
       "296             8           0  "
      ]
     },
     "execution_count": 36,
     "metadata": {},
     "output_type": "execute_result"
    }
   ],
   "source": [
    "# View some data which are duplicates except 'nummosquitos'\n",
    "\n",
    "mos_u50[dup][:6] "
   ]
  },
  {
   "cell_type": "markdown",
   "id": "ab6ceb7e",
   "metadata": {},
   "source": [
    "There are entries that have the same date, location, trap with different number of mosquitos.\n",
    "\n",
    "This could mean that the data is not entered as we expect, there are data entry errors, traps are checked more than once a day or others. As we are unable to discern duplicates/errors from True values, we will assume that ALL ENTRIES ARE VALID."
   ]
  },
  {
   "cell_type": "code",
   "execution_count": 37,
   "id": "a643cc1b",
   "metadata": {},
   "outputs": [
    {
     "data": {
      "text/plain": [
       "0    0.947554\n",
       "1    0.052446\n",
       "Name: wnvpresent, dtype: float64"
      ]
     },
     "execution_count": 37,
     "metadata": {},
     "output_type": "execute_result"
    }
   ],
   "source": [
    "# base rate of wnvpresent BEFORE transformation\n",
    "\n",
    "train['wnvpresent'].value_counts(normalize=True)"
   ]
  },
  {
   "cell_type": "code",
   "execution_count": 38,
   "id": "b19c1aed",
   "metadata": {},
   "outputs": [],
   "source": [
    "# To merge rows if they have the same date, location, trap\n",
    "# Create new column to identify those with wnv\n",
    "\n",
    "col_w.remove('wnvpresent') # ie all columns except wnvpresent and nummosquitos\n",
    "\n",
    "train_1 = train.groupby(col_w).sum()\n",
    "train_1.reset_index(inplace=True)"
   ]
  },
  {
   "cell_type": "code",
   "execution_count": 39,
   "id": "1b9eabd6",
   "metadata": {},
   "outputs": [
    {
     "data": {
      "text/html": [
       "<div>\n",
       "<style scoped>\n",
       "    .dataframe tbody tr th:only-of-type {\n",
       "        vertical-align: middle;\n",
       "    }\n",
       "\n",
       "    .dataframe tbody tr th {\n",
       "        vertical-align: top;\n",
       "    }\n",
       "\n",
       "    .dataframe thead th {\n",
       "        text-align: right;\n",
       "    }\n",
       "</style>\n",
       "<table border=\"1\" class=\"dataframe\">\n",
       "  <thead>\n",
       "    <tr style=\"text-align: right;\">\n",
       "      <th></th>\n",
       "      <th>wnv_binary</th>\n",
       "    </tr>\n",
       "    <tr>\n",
       "      <th>wnvpresent</th>\n",
       "      <th></th>\n",
       "    </tr>\n",
       "  </thead>\n",
       "  <tbody>\n",
       "    <tr>\n",
       "      <th>0</th>\n",
       "      <td>0</td>\n",
       "    </tr>\n",
       "    <tr>\n",
       "      <th>1</th>\n",
       "      <td>409</td>\n",
       "    </tr>\n",
       "    <tr>\n",
       "      <th>2</th>\n",
       "      <td>31</td>\n",
       "    </tr>\n",
       "    <tr>\n",
       "      <th>3</th>\n",
       "      <td>9</td>\n",
       "    </tr>\n",
       "    <tr>\n",
       "      <th>4</th>\n",
       "      <td>2</td>\n",
       "    </tr>\n",
       "    <tr>\n",
       "      <th>5</th>\n",
       "      <td>1</td>\n",
       "    </tr>\n",
       "    <tr>\n",
       "      <th>6</th>\n",
       "      <td>1</td>\n",
       "    </tr>\n",
       "    <tr>\n",
       "      <th>7</th>\n",
       "      <td>1</td>\n",
       "    </tr>\n",
       "    <tr>\n",
       "      <th>8</th>\n",
       "      <td>1</td>\n",
       "    </tr>\n",
       "    <tr>\n",
       "      <th>9</th>\n",
       "      <td>1</td>\n",
       "    </tr>\n",
       "    <tr>\n",
       "      <th>10</th>\n",
       "      <td>1</td>\n",
       "    </tr>\n",
       "  </tbody>\n",
       "</table>\n",
       "</div>"
      ],
      "text/plain": [
       "            wnv_binary\n",
       "wnvpresent            \n",
       "0                    0\n",
       "1                  409\n",
       "2                   31\n",
       "3                    9\n",
       "4                    2\n",
       "5                    1\n",
       "6                    1\n",
       "7                    1\n",
       "8                    1\n",
       "9                    1\n",
       "10                   1"
      ]
     },
     "execution_count": 39,
     "metadata": {},
     "output_type": "execute_result"
    }
   ],
   "source": [
    "# Create a new column for to indicate if it has wnv\n",
    "\n",
    "train_1['wnv_binary'] = train_1['wnvpresent'].map(lambda x: 1 if x > 0 else 0)\n",
    "train_1[['wnvpresent', 'wnv_binary']].groupby('wnvpresent').sum()"
   ]
  },
  {
   "cell_type": "code",
   "execution_count": 40,
   "id": "55b1dd50",
   "metadata": {},
   "outputs": [],
   "source": [
    "# Rename column names to the appropriate one\n",
    "\n",
    "train_1.rename(columns={'wnvpresent': 'wnvcount',\n",
    "                       'wnv_binary': 'wnvpresent'}, inplace=True)"
   ]
  },
  {
   "cell_type": "code",
   "execution_count": 41,
   "id": "af59ea64",
   "metadata": {},
   "outputs": [
    {
     "data": {
      "text/html": [
       "<div>\n",
       "<style scoped>\n",
       "    .dataframe tbody tr th:only-of-type {\n",
       "        vertical-align: middle;\n",
       "    }\n",
       "\n",
       "    .dataframe tbody tr th {\n",
       "        vertical-align: top;\n",
       "    }\n",
       "\n",
       "    .dataframe thead th {\n",
       "        text-align: right;\n",
       "    }\n",
       "</style>\n",
       "<table border=\"1\" class=\"dataframe\">\n",
       "  <thead>\n",
       "    <tr style=\"text-align: right;\">\n",
       "      <th></th>\n",
       "      <th>wnvcount</th>\n",
       "    </tr>\n",
       "    <tr>\n",
       "      <th>wnvpresent</th>\n",
       "      <th></th>\n",
       "    </tr>\n",
       "  </thead>\n",
       "  <tbody>\n",
       "    <tr>\n",
       "      <th>0</th>\n",
       "      <td>0</td>\n",
       "    </tr>\n",
       "    <tr>\n",
       "      <th>1</th>\n",
       "      <td>551</td>\n",
       "    </tr>\n",
       "  </tbody>\n",
       "</table>\n",
       "</div>"
      ],
      "text/plain": [
       "            wnvcount\n",
       "wnvpresent          \n",
       "0                  0\n",
       "1                551"
      ]
     },
     "execution_count": 41,
     "metadata": {},
     "output_type": "execute_result"
    }
   ],
   "source": [
    "# to check if lablled correctly\n",
    "train_1[['wnvcount', 'wnvpresent']].groupby('wnvpresent').sum()"
   ]
  },
  {
   "cell_type": "code",
   "execution_count": 42,
   "id": "b99aad3d",
   "metadata": {},
   "outputs": [
    {
     "data": {
      "text/plain": [
       "0    0.946077\n",
       "1    0.053923\n",
       "Name: wnvpresent, dtype: float64"
      ]
     },
     "execution_count": 42,
     "metadata": {},
     "output_type": "execute_result"
    }
   ],
   "source": [
    "# base rate of wnvpresent AFTER transformation\n",
    "\n",
    "train_1['wnvpresent'].value_counts(normalize=True)"
   ]
  },
  {
   "cell_type": "code",
   "execution_count": 43,
   "id": "4b939c3b",
   "metadata": {},
   "outputs": [
    {
     "data": {
      "text/html": [
       "<div>\n",
       "<style scoped>\n",
       "    .dataframe tbody tr th:only-of-type {\n",
       "        vertical-align: middle;\n",
       "    }\n",
       "\n",
       "    .dataframe tbody tr th {\n",
       "        vertical-align: top;\n",
       "    }\n",
       "\n",
       "    .dataframe thead th {\n",
       "        text-align: right;\n",
       "    }\n",
       "</style>\n",
       "<table border=\"1\" class=\"dataframe\">\n",
       "  <thead>\n",
       "    <tr style=\"text-align: right;\">\n",
       "      <th></th>\n",
       "      <th>block</th>\n",
       "      <th>latitude</th>\n",
       "      <th>longitude</th>\n",
       "      <th>addressaccuracy</th>\n",
       "      <th>nummosquitos</th>\n",
       "      <th>wnvcount</th>\n",
       "      <th>wnvpresent</th>\n",
       "    </tr>\n",
       "  </thead>\n",
       "  <tbody>\n",
       "    <tr>\n",
       "      <th>count</th>\n",
       "      <td>8475.000000</td>\n",
       "      <td>8475.000000</td>\n",
       "      <td>8475.000000</td>\n",
       "      <td>8475.000000</td>\n",
       "      <td>8475.000000</td>\n",
       "      <td>8475.000000</td>\n",
       "      <td>8475.000000</td>\n",
       "    </tr>\n",
       "    <tr>\n",
       "      <th>mean</th>\n",
       "      <td>38.949381</td>\n",
       "      <td>41.844618</td>\n",
       "      <td>-87.694788</td>\n",
       "      <td>7.941239</td>\n",
       "      <td>15.933805</td>\n",
       "      <td>0.065015</td>\n",
       "      <td>0.053923</td>\n",
       "    </tr>\n",
       "    <tr>\n",
       "      <th>std</th>\n",
       "      <td>24.117693</td>\n",
       "      <td>0.106609</td>\n",
       "      <td>0.084063</td>\n",
       "      <td>1.321681</td>\n",
       "      <td>75.084707</td>\n",
       "      <td>0.337489</td>\n",
       "      <td>0.225880</td>\n",
       "    </tr>\n",
       "    <tr>\n",
       "      <th>min</th>\n",
       "      <td>10.000000</td>\n",
       "      <td>41.644612</td>\n",
       "      <td>-87.930995</td>\n",
       "      <td>3.000000</td>\n",
       "      <td>1.000000</td>\n",
       "      <td>0.000000</td>\n",
       "      <td>0.000000</td>\n",
       "    </tr>\n",
       "    <tr>\n",
       "      <th>25%</th>\n",
       "      <td>14.000000</td>\n",
       "      <td>41.750498</td>\n",
       "      <td>-87.752329</td>\n",
       "      <td>8.000000</td>\n",
       "      <td>2.000000</td>\n",
       "      <td>0.000000</td>\n",
       "      <td>0.000000</td>\n",
       "    </tr>\n",
       "    <tr>\n",
       "      <th>50%</th>\n",
       "      <td>37.000000</td>\n",
       "      <td>41.857402</td>\n",
       "      <td>-87.694991</td>\n",
       "      <td>8.000000</td>\n",
       "      <td>4.000000</td>\n",
       "      <td>0.000000</td>\n",
       "      <td>0.000000</td>\n",
       "    </tr>\n",
       "    <tr>\n",
       "      <th>75%</th>\n",
       "      <td>58.000000</td>\n",
       "      <td>41.944869</td>\n",
       "      <td>-87.642984</td>\n",
       "      <td>9.000000</td>\n",
       "      <td>11.000000</td>\n",
       "      <td>0.000000</td>\n",
       "      <td>0.000000</td>\n",
       "    </tr>\n",
       "    <tr>\n",
       "      <th>max</th>\n",
       "      <td>98.000000</td>\n",
       "      <td>42.017430</td>\n",
       "      <td>-87.531635</td>\n",
       "      <td>9.000000</td>\n",
       "      <td>2532.000000</td>\n",
       "      <td>10.000000</td>\n",
       "      <td>1.000000</td>\n",
       "    </tr>\n",
       "  </tbody>\n",
       "</table>\n",
       "</div>"
      ],
      "text/plain": [
       "             block     latitude    longitude  addressaccuracy  nummosquitos  \\\n",
       "count  8475.000000  8475.000000  8475.000000      8475.000000   8475.000000   \n",
       "mean     38.949381    41.844618   -87.694788         7.941239     15.933805   \n",
       "std      24.117693     0.106609     0.084063         1.321681     75.084707   \n",
       "min      10.000000    41.644612   -87.930995         3.000000      1.000000   \n",
       "25%      14.000000    41.750498   -87.752329         8.000000      2.000000   \n",
       "50%      37.000000    41.857402   -87.694991         8.000000      4.000000   \n",
       "75%      58.000000    41.944869   -87.642984         9.000000     11.000000   \n",
       "max      98.000000    42.017430   -87.531635         9.000000   2532.000000   \n",
       "\n",
       "          wnvcount   wnvpresent  \n",
       "count  8475.000000  8475.000000  \n",
       "mean      0.065015     0.053923  \n",
       "std       0.337489     0.225880  \n",
       "min       0.000000     0.000000  \n",
       "25%       0.000000     0.000000  \n",
       "50%       0.000000     0.000000  \n",
       "75%       0.000000     0.000000  \n",
       "max      10.000000     1.000000  "
      ]
     },
     "execution_count": 43,
     "metadata": {},
     "output_type": "execute_result"
    }
   ],
   "source": [
    "train_1.describe()"
   ]
  },
  {
   "cell_type": "code",
   "execution_count": 44,
   "id": "5c09f882",
   "metadata": {},
   "outputs": [],
   "source": [
    "train_1['date'] = pd.to_datetime(train_1['date'])\n",
    "train_1['date_col'] = train_1['date']\n",
    "\n",
    "# Set Date to be in the index\n",
    "\n",
    "train_1.set_index('date', inplace=True)"
   ]
  },
  {
   "cell_type": "code",
   "execution_count": 45,
   "id": "c4700fb8",
   "metadata": {},
   "outputs": [
    {
     "data": {
      "text/html": [
       "<div>\n",
       "<style scoped>\n",
       "    .dataframe tbody tr th:only-of-type {\n",
       "        vertical-align: middle;\n",
       "    }\n",
       "\n",
       "    .dataframe tbody tr th {\n",
       "        vertical-align: top;\n",
       "    }\n",
       "\n",
       "    .dataframe thead th {\n",
       "        text-align: right;\n",
       "    }\n",
       "</style>\n",
       "<table border=\"1\" class=\"dataframe\">\n",
       "  <thead>\n",
       "    <tr style=\"text-align: right;\">\n",
       "      <th></th>\n",
       "      <th>address</th>\n",
       "      <th>species</th>\n",
       "      <th>block</th>\n",
       "      <th>street</th>\n",
       "      <th>trap</th>\n",
       "      <th>addressnumberandstreet</th>\n",
       "      <th>latitude</th>\n",
       "      <th>longitude</th>\n",
       "      <th>addressaccuracy</th>\n",
       "      <th>nummosquitos</th>\n",
       "      <th>wnvcount</th>\n",
       "      <th>wnvpresent</th>\n",
       "      <th>date_col</th>\n",
       "    </tr>\n",
       "    <tr>\n",
       "      <th>date</th>\n",
       "      <th></th>\n",
       "      <th></th>\n",
       "      <th></th>\n",
       "      <th></th>\n",
       "      <th></th>\n",
       "      <th></th>\n",
       "      <th></th>\n",
       "      <th></th>\n",
       "      <th></th>\n",
       "      <th></th>\n",
       "      <th></th>\n",
       "      <th></th>\n",
       "      <th></th>\n",
       "    </tr>\n",
       "  </thead>\n",
       "  <tbody>\n",
       "    <tr>\n",
       "      <th>2007-05-29</th>\n",
       "      <td>1100 Roosevelt Road, Chicago, IL 60608, USA</td>\n",
       "      <td>CULEX PIPIENS/RESTUANS</td>\n",
       "      <td>11</td>\n",
       "      <td>W ROOSEVELT</td>\n",
       "      <td>T048</td>\n",
       "      <td>1100  W ROOSEVELT, Chicago, IL</td>\n",
       "      <td>41.867108</td>\n",
       "      <td>-87.654224</td>\n",
       "      <td>8</td>\n",
       "      <td>1</td>\n",
       "      <td>0</td>\n",
       "      <td>0</td>\n",
       "      <td>2007-05-29</td>\n",
       "    </tr>\n",
       "    <tr>\n",
       "      <th>2007-05-29</th>\n",
       "      <td>1100 Roosevelt Road, Chicago, IL 60608, USA</td>\n",
       "      <td>CULEX RESTUANS</td>\n",
       "      <td>11</td>\n",
       "      <td>W ROOSEVELT</td>\n",
       "      <td>T048</td>\n",
       "      <td>1100  W ROOSEVELT, Chicago, IL</td>\n",
       "      <td>41.867108</td>\n",
       "      <td>-87.654224</td>\n",
       "      <td>8</td>\n",
       "      <td>2</td>\n",
       "      <td>0</td>\n",
       "      <td>0</td>\n",
       "      <td>2007-05-29</td>\n",
       "    </tr>\n",
       "    <tr>\n",
       "      <th>2007-05-29</th>\n",
       "      <td>1100 South Peoria Street, Chicago, IL 60608, USA</td>\n",
       "      <td>CULEX RESTUANS</td>\n",
       "      <td>11</td>\n",
       "      <td>S PEORIA ST</td>\n",
       "      <td>T091</td>\n",
       "      <td>1100  S PEORIA ST, Chicago, IL</td>\n",
       "      <td>41.862292</td>\n",
       "      <td>-87.648860</td>\n",
       "      <td>8</td>\n",
       "      <td>1</td>\n",
       "      <td>0</td>\n",
       "      <td>0</td>\n",
       "      <td>2007-05-29</td>\n",
       "    </tr>\n",
       "    <tr>\n",
       "      <th>2007-05-29</th>\n",
       "      <td>1100 West Chicago Avenue, Chicago, IL 60642, USA</td>\n",
       "      <td>CULEX RESTUANS</td>\n",
       "      <td>11</td>\n",
       "      <td>W CHICAGO</td>\n",
       "      <td>T049</td>\n",
       "      <td>1100  W CHICAGO, Chicago, IL</td>\n",
       "      <td>41.896282</td>\n",
       "      <td>-87.655232</td>\n",
       "      <td>8</td>\n",
       "      <td>1</td>\n",
       "      <td>0</td>\n",
       "      <td>0</td>\n",
       "      <td>2007-05-29</td>\n",
       "    </tr>\n",
       "    <tr>\n",
       "      <th>2007-05-29</th>\n",
       "      <td>1500 North Long Avenue, Chicago, IL 60651, USA</td>\n",
       "      <td>CULEX RESTUANS</td>\n",
       "      <td>15</td>\n",
       "      <td>N LONG AVE</td>\n",
       "      <td>T153</td>\n",
       "      <td>1500  N LONG AVE, Chicago, IL</td>\n",
       "      <td>41.907645</td>\n",
       "      <td>-87.760886</td>\n",
       "      <td>8</td>\n",
       "      <td>1</td>\n",
       "      <td>0</td>\n",
       "      <td>0</td>\n",
       "      <td>2007-05-29</td>\n",
       "    </tr>\n",
       "    <tr>\n",
       "      <th>...</th>\n",
       "      <td>...</td>\n",
       "      <td>...</td>\n",
       "      <td>...</td>\n",
       "      <td>...</td>\n",
       "      <td>...</td>\n",
       "      <td>...</td>\n",
       "      <td>...</td>\n",
       "      <td>...</td>\n",
       "      <td>...</td>\n",
       "      <td>...</td>\n",
       "      <td>...</td>\n",
       "      <td>...</td>\n",
       "      <td>...</td>\n",
       "    </tr>\n",
       "    <tr>\n",
       "      <th>2013-09-26</th>\n",
       "      <td>South Stony Island Avenue, Chicago, IL, USA</td>\n",
       "      <td>CULEX PIPIENS</td>\n",
       "      <td>10</td>\n",
       "      <td>S STONY ISLAND AVE</td>\n",
       "      <td>T138</td>\n",
       "      <td>1000  S STONY ISLAND AVE, Chicago, IL</td>\n",
       "      <td>41.726465</td>\n",
       "      <td>-87.585413</td>\n",
       "      <td>5</td>\n",
       "      <td>6</td>\n",
       "      <td>0</td>\n",
       "      <td>0</td>\n",
       "      <td>2013-09-26</td>\n",
       "    </tr>\n",
       "    <tr>\n",
       "      <th>2013-09-26</th>\n",
       "      <td>South Stony Island Avenue, Chicago, IL, USA</td>\n",
       "      <td>CULEX PIPIENS/RESTUANS</td>\n",
       "      <td>10</td>\n",
       "      <td>S STONY ISLAND AVE</td>\n",
       "      <td>T138</td>\n",
       "      <td>1000  S STONY ISLAND AVE, Chicago, IL</td>\n",
       "      <td>41.726465</td>\n",
       "      <td>-87.585413</td>\n",
       "      <td>5</td>\n",
       "      <td>4</td>\n",
       "      <td>0</td>\n",
       "      <td>0</td>\n",
       "      <td>2013-09-26</td>\n",
       "    </tr>\n",
       "    <tr>\n",
       "      <th>2013-09-26</th>\n",
       "      <td>South Vincennes Avenue, Chicago, IL, USA</td>\n",
       "      <td>CULEX PIPIENS/RESTUANS</td>\n",
       "      <td>10</td>\n",
       "      <td>S VINCENNES</td>\n",
       "      <td>T089</td>\n",
       "      <td>1000  S VINCENNES, Chicago, IL</td>\n",
       "      <td>41.723195</td>\n",
       "      <td>-87.649970</td>\n",
       "      <td>5</td>\n",
       "      <td>4</td>\n",
       "      <td>0</td>\n",
       "      <td>0</td>\n",
       "      <td>2013-09-26</td>\n",
       "    </tr>\n",
       "    <tr>\n",
       "      <th>2013-09-26</th>\n",
       "      <td>University of Illinois at Chicago, 1100 South ...</td>\n",
       "      <td>CULEX PIPIENS/RESTUANS</td>\n",
       "      <td>11</td>\n",
       "      <td>S ASHLAND AVE</td>\n",
       "      <td>T090</td>\n",
       "      <td>1100  S ASHLAND AVE, Chicago, IL</td>\n",
       "      <td>41.868077</td>\n",
       "      <td>-87.666901</td>\n",
       "      <td>9</td>\n",
       "      <td>2</td>\n",
       "      <td>0</td>\n",
       "      <td>0</td>\n",
       "      <td>2013-09-26</td>\n",
       "    </tr>\n",
       "    <tr>\n",
       "      <th>2013-09-26</th>\n",
       "      <td>West Garfield Boulevard, Chicago, IL, USA</td>\n",
       "      <td>CULEX PIPIENS/RESTUANS</td>\n",
       "      <td>90</td>\n",
       "      <td>W GARFIELD BLVD</td>\n",
       "      <td>T226</td>\n",
       "      <td>9000  W GARFIELD BLVD, Chicago, IL</td>\n",
       "      <td>41.793818</td>\n",
       "      <td>-87.654234</td>\n",
       "      <td>5</td>\n",
       "      <td>8</td>\n",
       "      <td>0</td>\n",
       "      <td>0</td>\n",
       "      <td>2013-09-26</td>\n",
       "    </tr>\n",
       "  </tbody>\n",
       "</table>\n",
       "<p>8475 rows × 13 columns</p>\n",
       "</div>"
      ],
      "text/plain": [
       "                                                      address  \\\n",
       "date                                                            \n",
       "2007-05-29        1100 Roosevelt Road, Chicago, IL 60608, USA   \n",
       "2007-05-29        1100 Roosevelt Road, Chicago, IL 60608, USA   \n",
       "2007-05-29   1100 South Peoria Street, Chicago, IL 60608, USA   \n",
       "2007-05-29   1100 West Chicago Avenue, Chicago, IL 60642, USA   \n",
       "2007-05-29     1500 North Long Avenue, Chicago, IL 60651, USA   \n",
       "...                                                       ...   \n",
       "2013-09-26        South Stony Island Avenue, Chicago, IL, USA   \n",
       "2013-09-26        South Stony Island Avenue, Chicago, IL, USA   \n",
       "2013-09-26           South Vincennes Avenue, Chicago, IL, USA   \n",
       "2013-09-26  University of Illinois at Chicago, 1100 South ...   \n",
       "2013-09-26          West Garfield Boulevard, Chicago, IL, USA   \n",
       "\n",
       "                           species  block               street  trap  \\\n",
       "date                                                                   \n",
       "2007-05-29  CULEX PIPIENS/RESTUANS     11          W ROOSEVELT  T048   \n",
       "2007-05-29          CULEX RESTUANS     11          W ROOSEVELT  T048   \n",
       "2007-05-29          CULEX RESTUANS     11          S PEORIA ST  T091   \n",
       "2007-05-29          CULEX RESTUANS     11            W CHICAGO  T049   \n",
       "2007-05-29          CULEX RESTUANS     15           N LONG AVE  T153   \n",
       "...                            ...    ...                  ...   ...   \n",
       "2013-09-26           CULEX PIPIENS     10   S STONY ISLAND AVE  T138   \n",
       "2013-09-26  CULEX PIPIENS/RESTUANS     10   S STONY ISLAND AVE  T138   \n",
       "2013-09-26  CULEX PIPIENS/RESTUANS     10          S VINCENNES  T089   \n",
       "2013-09-26  CULEX PIPIENS/RESTUANS     11        S ASHLAND AVE  T090   \n",
       "2013-09-26  CULEX PIPIENS/RESTUANS     90      W GARFIELD BLVD  T226   \n",
       "\n",
       "                           addressnumberandstreet   latitude  longitude  \\\n",
       "date                                                                      \n",
       "2007-05-29         1100  W ROOSEVELT, Chicago, IL  41.867108 -87.654224   \n",
       "2007-05-29         1100  W ROOSEVELT, Chicago, IL  41.867108 -87.654224   \n",
       "2007-05-29         1100  S PEORIA ST, Chicago, IL  41.862292 -87.648860   \n",
       "2007-05-29           1100  W CHICAGO, Chicago, IL  41.896282 -87.655232   \n",
       "2007-05-29          1500  N LONG AVE, Chicago, IL  41.907645 -87.760886   \n",
       "...                                           ...        ...        ...   \n",
       "2013-09-26  1000  S STONY ISLAND AVE, Chicago, IL  41.726465 -87.585413   \n",
       "2013-09-26  1000  S STONY ISLAND AVE, Chicago, IL  41.726465 -87.585413   \n",
       "2013-09-26         1000  S VINCENNES, Chicago, IL  41.723195 -87.649970   \n",
       "2013-09-26       1100  S ASHLAND AVE, Chicago, IL  41.868077 -87.666901   \n",
       "2013-09-26     9000  W GARFIELD BLVD, Chicago, IL  41.793818 -87.654234   \n",
       "\n",
       "            addressaccuracy  nummosquitos  wnvcount  wnvpresent   date_col  \n",
       "date                                                                        \n",
       "2007-05-29                8             1         0           0 2007-05-29  \n",
       "2007-05-29                8             2         0           0 2007-05-29  \n",
       "2007-05-29                8             1         0           0 2007-05-29  \n",
       "2007-05-29                8             1         0           0 2007-05-29  \n",
       "2007-05-29                8             1         0           0 2007-05-29  \n",
       "...                     ...           ...       ...         ...        ...  \n",
       "2013-09-26                5             6         0           0 2013-09-26  \n",
       "2013-09-26                5             4         0           0 2013-09-26  \n",
       "2013-09-26                5             4         0           0 2013-09-26  \n",
       "2013-09-26                9             2         0           0 2013-09-26  \n",
       "2013-09-26                5             8         0           0 2013-09-26  \n",
       "\n",
       "[8475 rows x 13 columns]"
      ]
     },
     "execution_count": 45,
     "metadata": {},
     "output_type": "execute_result"
    }
   ],
   "source": [
    "train_1"
   ]
  },
  {
   "cell_type": "code",
   "execution_count": 46,
   "id": "6c752e5e",
   "metadata": {},
   "outputs": [
    {
     "data": {
      "text/plain": [
       "address                   0\n",
       "species                   0\n",
       "block                     0\n",
       "street                    0\n",
       "trap                      0\n",
       "addressnumberandstreet    0\n",
       "latitude                  0\n",
       "longitude                 0\n",
       "addressaccuracy           0\n",
       "nummosquitos              0\n",
       "wnvcount                  0\n",
       "wnvpresent                0\n",
       "date_col                  0\n",
       "dtype: int64"
      ]
     },
     "execution_count": 46,
     "metadata": {},
     "output_type": "execute_result"
    }
   ],
   "source": [
    "train_1.isnull().sum()"
   ]
  },
  {
   "cell_type": "code",
   "execution_count": 48,
   "id": "96fd7274",
   "metadata": {},
   "outputs": [
    {
     "data": {
      "text/html": [
       "<div>\n",
       "<style scoped>\n",
       "    .dataframe tbody tr th:only-of-type {\n",
       "        vertical-align: middle;\n",
       "    }\n",
       "\n",
       "    .dataframe tbody tr th {\n",
       "        vertical-align: top;\n",
       "    }\n",
       "\n",
       "    .dataframe thead th {\n",
       "        text-align: right;\n",
       "    }\n",
       "</style>\n",
       "<table border=\"1\" class=\"dataframe\">\n",
       "  <thead>\n",
       "    <tr style=\"text-align: right;\">\n",
       "      <th></th>\n",
       "      <th>block</th>\n",
       "      <th>latitude</th>\n",
       "      <th>longitude</th>\n",
       "      <th>addressaccuracy</th>\n",
       "      <th>nummosquitos</th>\n",
       "      <th>wnvcount</th>\n",
       "      <th>wnvpresent</th>\n",
       "    </tr>\n",
       "    <tr>\n",
       "      <th>date</th>\n",
       "      <th></th>\n",
       "      <th></th>\n",
       "      <th></th>\n",
       "      <th></th>\n",
       "      <th></th>\n",
       "      <th></th>\n",
       "      <th></th>\n",
       "    </tr>\n",
       "  </thead>\n",
       "  <tbody>\n",
       "    <tr>\n",
       "      <th>2011-07-17</th>\n",
       "      <td>37.501887</td>\n",
       "      <td>41.849773</td>\n",
       "      <td>-87.695882</td>\n",
       "      <td>7.867925</td>\n",
       "      <td>17.313208</td>\n",
       "      <td>0.000000</td>\n",
       "      <td>0.000000</td>\n",
       "    </tr>\n",
       "    <tr>\n",
       "      <th>2011-07-24</th>\n",
       "      <td>NaN</td>\n",
       "      <td>NaN</td>\n",
       "      <td>NaN</td>\n",
       "      <td>NaN</td>\n",
       "      <td>NaN</td>\n",
       "      <td>NaN</td>\n",
       "      <td>NaN</td>\n",
       "    </tr>\n",
       "    <tr>\n",
       "      <th>2011-07-31</th>\n",
       "      <td>37.613636</td>\n",
       "      <td>41.845859</td>\n",
       "      <td>-87.701689</td>\n",
       "      <td>7.939394</td>\n",
       "      <td>14.609848</td>\n",
       "      <td>0.041667</td>\n",
       "      <td>0.037879</td>\n",
       "    </tr>\n",
       "  </tbody>\n",
       "</table>\n",
       "</div>"
      ],
      "text/plain": [
       "                block   latitude  longitude  addressaccuracy  nummosquitos  \\\n",
       "date                                                                         \n",
       "2011-07-17  37.501887  41.849773 -87.695882         7.867925     17.313208   \n",
       "2011-07-24        NaN        NaN        NaN              NaN           NaN   \n",
       "2011-07-31  37.613636  41.845859 -87.701689         7.939394     14.609848   \n",
       "\n",
       "            wnvcount  wnvpresent  \n",
       "date                              \n",
       "2011-07-17  0.000000    0.000000  \n",
       "2011-07-24       NaN         NaN  \n",
       "2011-07-31  0.041667    0.037879  "
      ]
     },
     "execution_count": 48,
     "metadata": {},
     "output_type": "execute_result"
    }
   ],
   "source": [
    "train_1.loc['2011-07'].resample('W').mean()"
   ]
  },
  {
   "cell_type": "code",
   "execution_count": 49,
   "id": "19b4803d",
   "metadata": {},
   "outputs": [
    {
     "data": {
      "text/plain": [
       "Text(0.5, 1.0, 'Percentage of traps with WNV by year')"
      ]
     },
     "execution_count": 49,
     "metadata": {},
     "output_type": "execute_result"
    },
    {
     "data": {
      "image/png": "[encoded data removed]",
      "text/plain": [
       "<Figure size 432x288 with 1 Axes>"
      ]
     },
     "metadata": {
      "needs_background": "light"
     },
     "output_type": "display_data"
    }
   ],
   "source": [
    "#train_1.resample('Y').mean()['wnvpresent'].plot.bar()\n",
    "plt.bar(['2007', '2009', '2011', '2013'],train_1.resample('Y').mean().dropna()['wnvpresent'])\n",
    "plt.title('Percentage of traps with WNV by year')\n",
    "#train_1.resample('Y').mean().dropna()['wnvpresent']"
   ]
  },
  {
   "cell_type": "code",
   "execution_count": 5,
   "id": "4f48982a",
   "metadata": {},
   "outputs": [
    {
     "data": {
      "text/plain": [
       "Text(0, 0.5, 'Month')"
      ]
     },
     "execution_count": 5,
     "metadata": {},
     "output_type": "execute_result"
    },
    {
     "data": {
      "image/png": "[encoded data removed]",
      "text/plain": [
       "<Figure size 432x288 with 1 Axes>"
      ]
     },
     "metadata": {
      "needs_background": "light"
     },
     "output_type": "display_data"
    }
   ],
   "source": [
    "#df[df['Date'].dt.month == 11]\n",
    "plt.bar(['May', 'Jun', 'Jul', 'Aug', 'Sep', 'Oct'],\n",
    "        train_1.groupby(train_1['date_col'].dt.month)['wnvpresent'].sum().reset_index()['wnvpresent'])\n",
    "\n",
    "plt.title('WNV presence by Month')\n",
    "plt.xlabel('Number of Traps with WNV')\n",
    "plt.ylabel('Month')"
   ]
  },
  {
   "cell_type": "code",
   "execution_count": 4,
   "id": "3fab2c0c",
   "metadata": {},
   "outputs": [
    {
     "data": {
      "text/plain": [
       "<AxesSubplot:xlabel='species'>"
      ]
     },
     "execution_count": 4,
     "metadata": {},
     "output_type": "execute_result"
    },
    {
     "data": {
      "image/png": "[encoded data removed]",
      "text/plain": [
       "<Figure size 432x288 with 1 Axes>"
      ]
     },
     "metadata": {
      "needs_background": "light"
     },
     "output_type": "display_data"
    }
   ],
   "source": [
    "train_1.groupby('species')['wnvpresent'].mean().plot.bar()"
   ]
  },
  {
   "cell_type": "code",
   "execution_count": 237,
   "id": "c3c519ca",
   "metadata": {},
   "outputs": [
    {
     "data": {
      "text/plain": [
       "<AxesSubplot:xlabel='date'>"
      ]
     },
     "execution_count": 237,
     "metadata": {},
     "output_type": "execute_result"
    },
    {
     "data": {
      "image/png": "[encoded data removed]",
      "text/plain": [
       "<Figure size 432x288 with 1 Axes>"
      ]
     },
     "metadata": {
      "needs_background": "light"
     },
     "output_type": "display_data"
    }
   ],
   "source": [
    "train_1.resample('M').mean().dropna()['wnvpresent'].plot.bar()"
   ]
  },
  {
   "cell_type": "markdown",
   "id": "560c833b",
   "metadata": {},
   "source": [
    "# Code to transform train data"
   ]
  },
  {
   "cell_type": "code",
   "execution_count": 6,
   "id": "38917d7c",
   "metadata": {},
   "outputs": [
    {
     "name": "stdout",
     "output_type": "stream",
     "text": [
      "['date', 'address', 'species', 'block', 'street', 'trap', 'addressnumberandstreet', 'latitude', 'longitude', 'addressaccuracy']\n"
     ]
    }
   ],
   "source": [
    "# Standardise column names\n",
    "\n",
    "new_col_names = [x.lower() for x in list(train.columns)]\n",
    "train.columns = new_col_names\n",
    "\n",
    "# To merge rows if they have the same date, location, trap\n",
    "\n",
    "col_w = list(train.columns)\n",
    "col_w.remove('nummosquitos')\n",
    "col_w.remove('wnvpresent') # ie all columns except wnvpresent and nummosquitos\n",
    "print(col_w)\n",
    "\n",
    "train_1 = train.groupby(col_w).sum() # collapse rows that have same values in columns col_w\n",
    "train_1.reset_index(inplace=True)    # create new df from those collapsed rows\n",
    "\n",
    "\n",
    "# Create a new column for to indicate if it has wnv\n",
    "\n",
    "train_1['wnv_binary'] = train_1['wnvpresent'].map(lambda x: 1 if x > 0 else 0)\n",
    "train_1[['wnvpresent', 'wnv_binary']].groupby('wnvpresent').sum()\n",
    "\n",
    "train_1.rename(columns={'wnvpresent': 'wnvcount', # Rename column names to the appropriate one\n",
    "                       'wnv_binary': 'wnvpresent'}, inplace=True)\n",
    "\n",
    "\n",
    "train_1['date'] = pd.to_datetime(train_1['date']) # convert date type\n",
    "train_1['date_col'] = train_1['date']             # create another column of date\n",
    "\n",
    "# Set Date to be in the index\n",
    "\n",
    "train_1.set_index('date', inplace=True)           # set date to be index"
   ]
  },
  {
   "cell_type": "code",
   "execution_count": 53,
   "id": "c9c15e1d",
   "metadata": {},
   "outputs": [
    {
     "data": {
      "text/plain": [
       "['date',\n",
       " 'address',\n",
       " 'species',\n",
       " 'block',\n",
       " 'street',\n",
       " 'trap',\n",
       " 'addressnumberandstreet',\n",
       " 'latitude',\n",
       " 'longitude',\n",
       " 'addressaccuracy',\n",
       " 'nummosquitos',\n",
       " 'wnvpresent']"
      ]
     },
     "execution_count": 53,
     "metadata": {},
     "output_type": "execute_result"
    }
   ],
   "source": [
    "col_w"
   ]
  },
  {
   "cell_type": "markdown",
   "id": "33887a73",
   "metadata": {},
   "source": [
    "## Still under maintenance"
   ]
  },
  {
   "cell_type": "code",
   "execution_count": null,
   "id": "b70ea10f",
   "metadata": {},
   "outputs": [],
   "source": []
  },
  {
   "cell_type": "code",
   "execution_count": 227,
   "id": "8d90d797",
   "metadata": {},
   "outputs": [],
   "source": [
    "mon_label = ['May', 'Jun', 'Jul', 'Aug', 'Sep', 'Oct']"
   ]
  },
  {
   "cell_type": "code",
   "execution_count": null,
   "id": "cc410981",
   "metadata": {},
   "outputs": [],
   "source": [
    "fig, axes = plt.subplots(\n",
    "    nrows=4,\n",
    "    figsize=(15,12))\n",
    "axes[0].bar(mon_label,train_1.loc['2007'].resample('M').mean().dropna()['wnvpresent'])        # all years\n",
    "axes[1].bar(mon_label,train_1.loc['2009'].resample('M').mean().dropna()['wnvpresent']) # stationarity\n",
    "axes[2].bar(mon_label,train_1.loc['2011'].resample('M').mean().dropna()['wnvpresent'])\n",
    "axes[3].bar(mon_label,train_1.loc['2013'].resample('M').mean().dropna()['wnvpresent'])"
   ]
  },
  {
   "cell_type": "code",
   "execution_count": 220,
   "id": "5d8f1aeb",
   "metadata": {},
   "outputs": [
    {
     "data": {
      "text/plain": [
       "0.0681081081081081"
      ]
     },
     "execution_count": 220,
     "metadata": {},
     "output_type": "execute_result"
    }
   ],
   "source": [
    "train_1.resample('Y').mean().dropna()['wnvpresent'][0]"
   ]
  },
  {
   "cell_type": "code",
   "execution_count": 229,
   "id": "42ea68a1",
   "metadata": {},
   "outputs": [
    {
     "data": {
      "text/plain": [
       "date\n",
       "2007-05-31    0.000000\n",
       "2007-06-30    0.000000\n",
       "2007-07-31    0.006565\n",
       "2007-08-31    0.125592\n",
       "2007-09-30    0.038402\n",
       "2007-10-31    0.009950\n",
       "2009-05-31    0.000000\n",
       "2009-06-30    0.000000\n",
       "2009-07-31    0.008052\n",
       "2009-08-31    0.027692\n",
       "2009-09-30    0.013123\n",
       "2009-10-31    0.000000\n",
       "2011-06-30    0.000000\n",
       "2011-07-31    0.018904\n",
       "2011-08-31    0.040179\n",
       "2011-09-30    0.045643\n",
       "2013-06-30    0.002639\n",
       "2013-07-31    0.047035\n",
       "2013-08-31    0.164557\n",
       "2013-09-30    0.133949\n",
       "Name: wnvpresent, dtype: float64"
      ]
     },
     "execution_count": 229,
     "metadata": {},
     "output_type": "execute_result"
    }
   ],
   "source": [
    "train_1.resample('M').mean().dropna()['wnvpresent']"
   ]
  },
  {
   "cell_type": "code",
   "execution_count": 230,
   "id": "35bbd2df",
   "metadata": {},
   "outputs": [
    {
     "data": {
      "text/plain": [
       "date\n",
       "2011-06-30    0.000000\n",
       "2011-07-31    0.018904\n",
       "2011-08-31    0.040179\n",
       "2011-09-30    0.045643\n",
       "Freq: M, Name: wnvpresent, dtype: float64"
      ]
     },
     "execution_count": 230,
     "metadata": {},
     "output_type": "execute_result"
    }
   ],
   "source": [
    "train_1.loc['2011'].resample('M').mean().dropna()['wnvpresent']"
   ]
  },
  {
   "cell_type": "code",
   "execution_count": null,
   "id": "f073f491",
   "metadata": {},
   "outputs": [],
   "source": []
  },
  {
   "cell_type": "code",
   "execution_count": null,
   "id": "09bb0265",
   "metadata": {},
   "outputs": [],
   "source": []
  },
  {
   "cell_type": "code",
   "execution_count": null,
   "id": "9fa5a94e",
   "metadata": {},
   "outputs": [],
   "source": []
  }
 ],
 "metadata": {
  "kernelspec": {
   "display_name": "Python 3 (ipykernel)",
   "language": "python",
   "name": "python3"
  },
  "language_info": {
   "codemirror_mode": {
    "name": "ipython",
    "version": 3
   },
   "file_extension": ".py",
   "mimetype": "text/x-python",
   "name": "python",
   "nbconvert_exporter": "python",
   "pygments_lexer": "ipython3",
   "version": "3.8.12"
  }
 },
 "nbformat": 4,
 "nbformat_minor": 5
}
