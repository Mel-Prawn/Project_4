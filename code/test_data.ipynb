{
 "cells": [
  {
   "cell_type": "code",
   "execution_count": 2,
   "id": "237d489c",
   "metadata": {},
   "outputs": [],
   "source": [
    "# Import required packages\n",
    "\n",
    "import numpy as np\n",
    "import pandas as pd\n",
    "import matplotlib.pyplot as plt\n",
    "import seaborn as sns\n",
    "\n",
    "# These test results are organized in such a way that when the number of mosquitos exceed 50, \n",
    "# they are split into another record (another row in the dataset), \n",
    "# such that the number of mosquitos are capped at 50. "
   ]
  },
  {
   "cell_type": "code",
   "execution_count": 4,
   "id": "a03c2823",
   "metadata": {},
   "outputs": [],
   "source": [
    "# Import Data\n",
    "\n",
    "train = pd.read_csv('../data/train.csv')\n",
    "test = pd.read_csv('../data/test.csv')"
   ]
  },
  {
   "cell_type": "code",
   "execution_count": 7,
   "id": "e57bf28f",
   "metadata": {},
   "outputs": [
    {
     "data": {
      "text/plain": [
       "(10506, 12)"
      ]
     },
     "execution_count": 7,
     "metadata": {},
     "output_type": "execute_result"
    }
   ],
   "source": [
    "train.shape"
   ]
  },
  {
   "cell_type": "code",
   "execution_count": 9,
   "id": "b1293b03",
   "metadata": {},
   "outputs": [
    {
     "data": {
      "text/html": [
       "<div>\n",
       "<style scoped>\n",
       "    .dataframe tbody tr th:only-of-type {\n",
       "        vertical-align: middle;\n",
       "    }\n",
       "\n",
       "    .dataframe tbody tr th {\n",
       "        vertical-align: top;\n",
       "    }\n",
       "\n",
       "    .dataframe thead th {\n",
       "        text-align: right;\n",
       "    }\n",
       "</style>\n",
       "<table border=\"1\" class=\"dataframe\">\n",
       "  <thead>\n",
       "    <tr style=\"text-align: right;\">\n",
       "      <th></th>\n",
       "      <th>Date</th>\n",
       "      <th>Address</th>\n",
       "      <th>Species</th>\n",
       "      <th>Block</th>\n",
       "      <th>Street</th>\n",
       "      <th>Trap</th>\n",
       "      <th>AddressNumberAndStreet</th>\n",
       "      <th>Latitude</th>\n",
       "      <th>Longitude</th>\n",
       "      <th>AddressAccuracy</th>\n",
       "      <th>NumMosquitos</th>\n",
       "      <th>WnvPresent</th>\n",
       "    </tr>\n",
       "  </thead>\n",
       "  <tbody>\n",
       "    <tr>\n",
       "      <th>0</th>\n",
       "      <td>2007-05-29</td>\n",
       "      <td>4100 North Oak Park Avenue, Chicago, IL 60634,...</td>\n",
       "      <td>CULEX PIPIENS/RESTUANS</td>\n",
       "      <td>41</td>\n",
       "      <td>N OAK PARK AVE</td>\n",
       "      <td>T002</td>\n",
       "      <td>4100  N OAK PARK AVE, Chicago, IL</td>\n",
       "      <td>41.954690</td>\n",
       "      <td>-87.800991</td>\n",
       "      <td>9</td>\n",
       "      <td>1</td>\n",
       "      <td>0</td>\n",
       "    </tr>\n",
       "    <tr>\n",
       "      <th>1</th>\n",
       "      <td>2007-05-29</td>\n",
       "      <td>4100 North Oak Park Avenue, Chicago, IL 60634,...</td>\n",
       "      <td>CULEX RESTUANS</td>\n",
       "      <td>41</td>\n",
       "      <td>N OAK PARK AVE</td>\n",
       "      <td>T002</td>\n",
       "      <td>4100  N OAK PARK AVE, Chicago, IL</td>\n",
       "      <td>41.954690</td>\n",
       "      <td>-87.800991</td>\n",
       "      <td>9</td>\n",
       "      <td>1</td>\n",
       "      <td>0</td>\n",
       "    </tr>\n",
       "    <tr>\n",
       "      <th>2</th>\n",
       "      <td>2007-05-29</td>\n",
       "      <td>6200 North Mandell Avenue, Chicago, IL 60646, USA</td>\n",
       "      <td>CULEX RESTUANS</td>\n",
       "      <td>62</td>\n",
       "      <td>N MANDELL AVE</td>\n",
       "      <td>T007</td>\n",
       "      <td>6200  N MANDELL AVE, Chicago, IL</td>\n",
       "      <td>41.994991</td>\n",
       "      <td>-87.769279</td>\n",
       "      <td>9</td>\n",
       "      <td>1</td>\n",
       "      <td>0</td>\n",
       "    </tr>\n",
       "    <tr>\n",
       "      <th>3</th>\n",
       "      <td>2007-05-29</td>\n",
       "      <td>7900 West Foster Avenue, Chicago, IL 60656, USA</td>\n",
       "      <td>CULEX PIPIENS/RESTUANS</td>\n",
       "      <td>79</td>\n",
       "      <td>W FOSTER AVE</td>\n",
       "      <td>T015</td>\n",
       "      <td>7900  W FOSTER AVE, Chicago, IL</td>\n",
       "      <td>41.974089</td>\n",
       "      <td>-87.824812</td>\n",
       "      <td>8</td>\n",
       "      <td>1</td>\n",
       "      <td>0</td>\n",
       "    </tr>\n",
       "    <tr>\n",
       "      <th>4</th>\n",
       "      <td>2007-05-29</td>\n",
       "      <td>7900 West Foster Avenue, Chicago, IL 60656, USA</td>\n",
       "      <td>CULEX RESTUANS</td>\n",
       "      <td>79</td>\n",
       "      <td>W FOSTER AVE</td>\n",
       "      <td>T015</td>\n",
       "      <td>7900  W FOSTER AVE, Chicago, IL</td>\n",
       "      <td>41.974089</td>\n",
       "      <td>-87.824812</td>\n",
       "      <td>8</td>\n",
       "      <td>4</td>\n",
       "      <td>0</td>\n",
       "    </tr>\n",
       "  </tbody>\n",
       "</table>\n",
       "</div>"
      ],
      "text/plain": [
       "         Date                                            Address  \\\n",
       "0  2007-05-29  4100 North Oak Park Avenue, Chicago, IL 60634,...   \n",
       "1  2007-05-29  4100 North Oak Park Avenue, Chicago, IL 60634,...   \n",
       "2  2007-05-29  6200 North Mandell Avenue, Chicago, IL 60646, USA   \n",
       "3  2007-05-29    7900 West Foster Avenue, Chicago, IL 60656, USA   \n",
       "4  2007-05-29    7900 West Foster Avenue, Chicago, IL 60656, USA   \n",
       "\n",
       "                  Species  Block           Street  Trap  \\\n",
       "0  CULEX PIPIENS/RESTUANS     41   N OAK PARK AVE  T002   \n",
       "1          CULEX RESTUANS     41   N OAK PARK AVE  T002   \n",
       "2          CULEX RESTUANS     62    N MANDELL AVE  T007   \n",
       "3  CULEX PIPIENS/RESTUANS     79     W FOSTER AVE  T015   \n",
       "4          CULEX RESTUANS     79     W FOSTER AVE  T015   \n",
       "\n",
       "              AddressNumberAndStreet   Latitude  Longitude  AddressAccuracy  \\\n",
       "0  4100  N OAK PARK AVE, Chicago, IL  41.954690 -87.800991                9   \n",
       "1  4100  N OAK PARK AVE, Chicago, IL  41.954690 -87.800991                9   \n",
       "2   6200  N MANDELL AVE, Chicago, IL  41.994991 -87.769279                9   \n",
       "3    7900  W FOSTER AVE, Chicago, IL  41.974089 -87.824812                8   \n",
       "4    7900  W FOSTER AVE, Chicago, IL  41.974089 -87.824812                8   \n",
       "\n",
       "   NumMosquitos  WnvPresent  \n",
       "0             1           0  \n",
       "1             1           0  \n",
       "2             1           0  \n",
       "3             1           0  \n",
       "4             4           0  "
      ]
     },
     "execution_count": 9,
     "metadata": {},
     "output_type": "execute_result"
    }
   ],
   "source": [
    "train.head()"
   ]
  },
  {
   "cell_type": "code",
   "execution_count": 11,
   "id": "27446dae",
   "metadata": {},
   "outputs": [
    {
     "name": "stdout",
     "output_type": "stream",
     "text": [
      "<class 'pandas.core.frame.DataFrame'>\n",
      "RangeIndex: 10506 entries, 0 to 10505\n",
      "Data columns (total 12 columns):\n",
      " #   Column                  Non-Null Count  Dtype  \n",
      "---  ------                  --------------  -----  \n",
      " 0   Date                    10506 non-null  object \n",
      " 1   Address                 10506 non-null  object \n",
      " 2   Species                 10506 non-null  object \n",
      " 3   Block                   10506 non-null  int64  \n",
      " 4   Street                  10506 non-null  object \n",
      " 5   Trap                    10506 non-null  object \n",
      " 6   AddressNumberAndStreet  10506 non-null  object \n",
      " 7   Latitude                10506 non-null  float64\n",
      " 8   Longitude               10506 non-null  float64\n",
      " 9   AddressAccuracy         10506 non-null  int64  \n",
      " 10  NumMosquitos            10506 non-null  int64  \n",
      " 11  WnvPresent              10506 non-null  int64  \n",
      "dtypes: float64(2), int64(4), object(6)\n",
      "memory usage: 985.1+ KB\n"
     ]
    }
   ],
   "source": [
    "train.info()"
   ]
  },
  {
   "cell_type": "code",
   "execution_count": 14,
   "id": "3a69d55d",
   "metadata": {},
   "outputs": [
    {
     "data": {
      "text/html": [
       "<div>\n",
       "<style scoped>\n",
       "    .dataframe tbody tr th:only-of-type {\n",
       "        vertical-align: middle;\n",
       "    }\n",
       "\n",
       "    .dataframe tbody tr th {\n",
       "        vertical-align: top;\n",
       "    }\n",
       "\n",
       "    .dataframe thead th {\n",
       "        text-align: right;\n",
       "    }\n",
       "</style>\n",
       "<table border=\"1\" class=\"dataframe\">\n",
       "  <thead>\n",
       "    <tr style=\"text-align: right;\">\n",
       "      <th></th>\n",
       "      <th>Block</th>\n",
       "      <th>Latitude</th>\n",
       "      <th>Longitude</th>\n",
       "      <th>AddressAccuracy</th>\n",
       "      <th>NumMosquitos</th>\n",
       "      <th>WnvPresent</th>\n",
       "    </tr>\n",
       "  </thead>\n",
       "  <tbody>\n",
       "    <tr>\n",
       "      <th>count</th>\n",
       "      <td>10506.000000</td>\n",
       "      <td>10506.000000</td>\n",
       "      <td>10506.000000</td>\n",
       "      <td>10506.000000</td>\n",
       "      <td>10506.000000</td>\n",
       "      <td>10506.000000</td>\n",
       "    </tr>\n",
       "    <tr>\n",
       "      <th>mean</th>\n",
       "      <td>35.687797</td>\n",
       "      <td>41.841139</td>\n",
       "      <td>-87.699908</td>\n",
       "      <td>7.819532</td>\n",
       "      <td>12.853512</td>\n",
       "      <td>0.052446</td>\n",
       "    </tr>\n",
       "    <tr>\n",
       "      <th>std</th>\n",
       "      <td>24.339468</td>\n",
       "      <td>0.112742</td>\n",
       "      <td>0.096514</td>\n",
       "      <td>1.452921</td>\n",
       "      <td>16.133816</td>\n",
       "      <td>0.222936</td>\n",
       "    </tr>\n",
       "    <tr>\n",
       "      <th>min</th>\n",
       "      <td>10.000000</td>\n",
       "      <td>41.644612</td>\n",
       "      <td>-87.930995</td>\n",
       "      <td>3.000000</td>\n",
       "      <td>1.000000</td>\n",
       "      <td>0.000000</td>\n",
       "    </tr>\n",
       "    <tr>\n",
       "      <th>25%</th>\n",
       "      <td>12.000000</td>\n",
       "      <td>41.732984</td>\n",
       "      <td>-87.760070</td>\n",
       "      <td>8.000000</td>\n",
       "      <td>2.000000</td>\n",
       "      <td>0.000000</td>\n",
       "    </tr>\n",
       "    <tr>\n",
       "      <th>50%</th>\n",
       "      <td>33.000000</td>\n",
       "      <td>41.846283</td>\n",
       "      <td>-87.694991</td>\n",
       "      <td>8.000000</td>\n",
       "      <td>5.000000</td>\n",
       "      <td>0.000000</td>\n",
       "    </tr>\n",
       "    <tr>\n",
       "      <th>75%</th>\n",
       "      <td>52.000000</td>\n",
       "      <td>41.954690</td>\n",
       "      <td>-87.627796</td>\n",
       "      <td>9.000000</td>\n",
       "      <td>17.000000</td>\n",
       "      <td>0.000000</td>\n",
       "    </tr>\n",
       "    <tr>\n",
       "      <th>max</th>\n",
       "      <td>98.000000</td>\n",
       "      <td>42.017430</td>\n",
       "      <td>-87.531635</td>\n",
       "      <td>9.000000</td>\n",
       "      <td>50.000000</td>\n",
       "      <td>1.000000</td>\n",
       "    </tr>\n",
       "  </tbody>\n",
       "</table>\n",
       "</div>"
      ],
      "text/plain": [
       "              Block      Latitude     Longitude  AddressAccuracy  \\\n",
       "count  10506.000000  10506.000000  10506.000000     10506.000000   \n",
       "mean      35.687797     41.841139    -87.699908         7.819532   \n",
       "std       24.339468      0.112742      0.096514         1.452921   \n",
       "min       10.000000     41.644612    -87.930995         3.000000   \n",
       "25%       12.000000     41.732984    -87.760070         8.000000   \n",
       "50%       33.000000     41.846283    -87.694991         8.000000   \n",
       "75%       52.000000     41.954690    -87.627796         9.000000   \n",
       "max       98.000000     42.017430    -87.531635         9.000000   \n",
       "\n",
       "       NumMosquitos    WnvPresent  \n",
       "count  10506.000000  10506.000000  \n",
       "mean      12.853512      0.052446  \n",
       "std       16.133816      0.222936  \n",
       "min        1.000000      0.000000  \n",
       "25%        2.000000      0.000000  \n",
       "50%        5.000000      0.000000  \n",
       "75%       17.000000      0.000000  \n",
       "max       50.000000      1.000000  "
      ]
     },
     "execution_count": 14,
     "metadata": {},
     "output_type": "execute_result"
    }
   ],
   "source": [
    "train.describe()"
   ]
  },
  {
   "cell_type": "code",
   "execution_count": 16,
   "id": "1541bae2",
   "metadata": {},
   "outputs": [
    {
     "data": {
      "text/plain": [
       "0        2007-05-29\n",
       "24       2007-05-29\n",
       "23       2007-05-29\n",
       "22       2007-05-29\n",
       "21       2007-05-29\n",
       "            ...    \n",
       "10439    2013-09-26\n",
       "10438    2013-09-26\n",
       "10437    2013-09-26\n",
       "10446    2013-09-26\n",
       "10505    2013-09-26\n",
       "Name: Date, Length: 10506, dtype: object"
      ]
     },
     "execution_count": 16,
     "metadata": {},
     "output_type": "execute_result"
    }
   ],
   "source": [
    "train['Date'].sort_values()"
   ]
  },
  {
   "cell_type": "code",
   "execution_count": 18,
   "id": "ae2434fc",
   "metadata": {},
   "outputs": [
    {
     "data": {
      "text/plain": [
       "0    9955\n",
       "1     551\n",
       "Name: WnvPresent, dtype: int64"
      ]
     },
     "execution_count": 18,
     "metadata": {},
     "output_type": "execute_result"
    }
   ],
   "source": [
    "train['WnvPresent'].value_counts()"
   ]
  },
  {
   "cell_type": "code",
   "execution_count": 20,
   "id": "1d2c0d2b",
   "metadata": {},
   "outputs": [
    {
     "data": {
      "text/plain": [
       "<AxesSubplot:>"
      ]
     },
     "execution_count": 20,
     "metadata": {},
     "output_type": "execute_result"
    },
    {
     "data": {
      "image/png": "[encoded data removed]",
      "text/plain": [
       "<Figure size 432x288 with 1 Axes>"
      ]
     },
     "metadata": {
      "needs_background": "light"
     },
     "output_type": "display_data"
    }
   ],
   "source": [
    "train['NumMosquitos'].hist(bins=50)"
   ]
  },
  {
   "cell_type": "code",
   "execution_count": 21,
   "id": "367af57e",
   "metadata": {},
   "outputs": [
    {
     "data": {
      "text/plain": [
       "1019"
      ]
     },
     "execution_count": 21,
     "metadata": {},
     "output_type": "execute_result"
    }
   ],
   "source": [
    "(train['NumMosquitos']==50).sum()"
   ]
  },
  {
   "cell_type": "code",
   "execution_count": 22,
   "id": "c300c55d",
   "metadata": {},
   "outputs": [
    {
     "name": "stdout",
     "output_type": "stream",
     "text": [
      "Date                                                             2007-05-29\n",
      "Address                   4100 North Oak Park Avenue, Chicago, IL 60634,...\n",
      "Species                                              CULEX PIPIENS/RESTUANS\n",
      "Block                                                                    41\n",
      "Street                                                       N OAK PARK AVE\n",
      "Trap                                                                   T002\n",
      "AddressNumberAndStreet                    4100  N OAK PARK AVE, Chicago, IL\n",
      "Latitude                                                           41.95469\n",
      "Longitude                                                        -87.800991\n",
      "AddressAccuracy                                                           9\n",
      "NumMosquitos                                                              1\n",
      "WnvPresent                                                                0\n",
      "Name: 0, dtype: object\n",
      "Date                                                             2007-05-29\n",
      "Address                   4100 North Oak Park Avenue, Chicago, IL 60634,...\n",
      "Species                                                      CULEX RESTUANS\n",
      "Block                                                                    41\n",
      "Street                                                       N OAK PARK AVE\n",
      "Trap                                                                   T002\n",
      "AddressNumberAndStreet                    4100  N OAK PARK AVE, Chicago, IL\n",
      "Latitude                                                           41.95469\n",
      "Longitude                                                        -87.800991\n",
      "AddressAccuracy                                                           9\n",
      "NumMosquitos                                                              1\n",
      "WnvPresent                                                                0\n",
      "Name: 1, dtype: object\n",
      "Date                                                             2007-05-29\n",
      "Address                   6200 North Mandell Avenue, Chicago, IL 60646, USA\n",
      "Species                                                      CULEX RESTUANS\n",
      "Block                                                                    62\n",
      "Street                                                        N MANDELL AVE\n",
      "Trap                                                                   T007\n",
      "AddressNumberAndStreet                     6200  N MANDELL AVE, Chicago, IL\n",
      "Latitude                                                          41.994991\n",
      "Longitude                                                        -87.769279\n",
      "AddressAccuracy                                                           9\n",
      "NumMosquitos                                                              1\n",
      "WnvPresent                                                                0\n",
      "Name: 2, dtype: object\n",
      "Date                                                           2007-05-29\n",
      "Address                   7900 West Foster Avenue, Chicago, IL 60656, USA\n",
      "Species                                            CULEX PIPIENS/RESTUANS\n",
      "Block                                                                  79\n",
      "Street                                                       W FOSTER AVE\n",
      "Trap                                                                 T015\n",
      "AddressNumberAndStreet                    7900  W FOSTER AVE, Chicago, IL\n",
      "Latitude                                                        41.974089\n",
      "Longitude                                                      -87.824812\n",
      "AddressAccuracy                                                         8\n",
      "NumMosquitos                                                            1\n",
      "WnvPresent                                                              0\n",
      "Name: 3, dtype: object\n",
      "Date                                                           2007-05-29\n",
      "Address                   7900 West Foster Avenue, Chicago, IL 60656, USA\n",
      "Species                                                    CULEX RESTUANS\n",
      "Block                                                                  79\n",
      "Street                                                       W FOSTER AVE\n",
      "Trap                                                                 T015\n",
      "AddressNumberAndStreet                    7900  W FOSTER AVE, Chicago, IL\n",
      "Latitude                                                        41.974089\n",
      "Longitude                                                      -87.824812\n",
      "AddressAccuracy                                                         8\n",
      "NumMosquitos                                                            4\n",
      "WnvPresent                                                              0\n",
      "Name: 4, dtype: object\n",
      "Date                                                            2007-05-29\n",
      "Address                   1500 West Webster Avenue, Chicago, IL 60614, USA\n",
      "Species                                                     CULEX RESTUANS\n",
      "Block                                                                   15\n",
      "Street                                                       W WEBSTER AVE\n",
      "Trap                                                                  T045\n",
      "AddressNumberAndStreet                    1500  W WEBSTER AVE, Chicago, IL\n",
      "Latitude                                                           41.9216\n",
      "Longitude                                                       -87.666455\n",
      "AddressAccuracy                                                          8\n",
      "NumMosquitos                                                             2\n",
      "WnvPresent                                                               0\n",
      "Name: 5, dtype: object\n",
      "Date                                                          2007-05-29\n",
      "Address                   2500 West Grand Avenue, Chicago, IL 60654, USA\n",
      "Species                                                   CULEX RESTUANS\n",
      "Block                                                                 25\n",
      "Street                                                       W GRAND AVE\n",
      "Trap                                                                T046\n",
      "AddressNumberAndStreet                    2500  W GRAND AVE, Chicago, IL\n",
      "Latitude                                                       41.891118\n",
      "Longitude                                                     -87.654491\n",
      "AddressAccuracy                                                        8\n",
      "NumMosquitos                                                           1\n",
      "WnvPresent                                                             0\n",
      "Name: 6, dtype: object\n",
      "Date                                                       2007-05-29\n",
      "Address                   1100 Roosevelt Road, Chicago, IL 60608, USA\n",
      "Species                                        CULEX PIPIENS/RESTUANS\n",
      "Block                                                              11\n",
      "Street                                                    W ROOSEVELT\n",
      "Trap                                                             T048\n",
      "AddressNumberAndStreet                 1100  W ROOSEVELT, Chicago, IL\n",
      "Latitude                                                    41.867108\n",
      "Longitude                                                  -87.654224\n",
      "AddressAccuracy                                                     8\n",
      "NumMosquitos                                                        1\n",
      "WnvPresent                                                          0\n",
      "Name: 7, dtype: object\n",
      "Date                                                       2007-05-29\n",
      "Address                   1100 Roosevelt Road, Chicago, IL 60608, USA\n",
      "Species                                                CULEX RESTUANS\n",
      "Block                                                              11\n",
      "Street                                                    W ROOSEVELT\n",
      "Trap                                                             T048\n",
      "AddressNumberAndStreet                 1100  W ROOSEVELT, Chicago, IL\n",
      "Latitude                                                    41.867108\n",
      "Longitude                                                  -87.654224\n",
      "AddressAccuracy                                                     8\n",
      "NumMosquitos                                                        2\n",
      "WnvPresent                                                          0\n",
      "Name: 8, dtype: object\n",
      "Date                                                            2007-05-29\n",
      "Address                   1100 West Chicago Avenue, Chicago, IL 60642, USA\n",
      "Species                                                     CULEX RESTUANS\n",
      "Block                                                                   11\n",
      "Street                                                           W CHICAGO\n",
      "Trap                                                                  T049\n",
      "AddressNumberAndStreet                        1100  W CHICAGO, Chicago, IL\n",
      "Latitude                                                         41.896282\n",
      "Longitude                                                       -87.655232\n",
      "AddressAccuracy                                                          8\n",
      "NumMosquitos                                                             1\n",
      "WnvPresent                                                               0\n",
      "Name: 9, dtype: object\n"
     ]
    }
   ],
   "source": []
  },
  {
   "cell_type": "code",
   "execution_count": null,
   "id": "fe84ad14",
   "metadata": {},
   "outputs": [],
   "source": []
  }
 ],
 "metadata": {
  "kernelspec": {
   "display_name": "Python 3 (ipykernel)",
   "language": "python",
   "name": "python3"
  },
  "language_info": {
   "codemirror_mode": {
    "name": "ipython",
    "version": 3
   },
   "file_extension": ".py",
   "mimetype": "text/x-python",
   "name": "python",
   "nbconvert_exporter": "python",
   "pygments_lexer": "ipython3",
   "version": "3.8.12"
  }
 },
 "nbformat": 4,
 "nbformat_minor": 5
}
