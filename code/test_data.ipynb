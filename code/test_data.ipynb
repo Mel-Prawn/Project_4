{
 "cells": [
  {
   "cell_type": "code",
   "execution_count": 33,
   "id": "237d489c",
   "metadata": {},
   "outputs": [],
   "source": [
    "# Import required packages\n",
    "\n",
    "import numpy as np\n",
    "import pandas as pd\n",
    "import matplotlib.pyplot as plt\n",
    "import seaborn as sns\n",
    "\n",
    "import datetime\n",
    "\n",
    "# These test results are organized in such a way that when the number of mosquitos exceed 50, \n",
    "# they are split into another record (another row in the dataset), \n",
    "# such that the number of mosquitos are capped at 50. "
   ]
  },
  {
   "cell_type": "code",
   "execution_count": 96,
   "id": "a03c2823",
   "metadata": {},
   "outputs": [],
   "source": [
    "# Import Data\n",
    "\n",
    "train = pd.read_csv('../data/train.csv')\n",
    "test = pd.read_csv('../data/test.csv')"
   ]
  },
  {
   "cell_type": "code",
   "execution_count": 97,
   "id": "2917233b",
   "metadata": {},
   "outputs": [],
   "source": [
    "# Standardise column names\n",
    "\n",
    "new_col_names = [x.lower() for x in list(train.columns)]\n",
    "train.columns = new_col_names\n"
   ]
  },
  {
   "cell_type": "code",
   "execution_count": 102,
   "id": "27446dae",
   "metadata": {},
   "outputs": [
    {
     "name": "stdout",
     "output_type": "stream",
     "text": [
      "<class 'pandas.core.frame.DataFrame'>\n",
      "RangeIndex: 10506 entries, 0 to 10505\n",
      "Data columns (total 12 columns):\n",
      " #   Column                  Non-Null Count  Dtype  \n",
      "---  ------                  --------------  -----  \n",
      " 0   date                    10506 non-null  object \n",
      " 1   address                 10506 non-null  object \n",
      " 2   species                 10506 non-null  object \n",
      " 3   block                   10506 non-null  int64  \n",
      " 4   street                  10506 non-null  object \n",
      " 5   trap                    10506 non-null  object \n",
      " 6   addressnumberandstreet  10506 non-null  object \n",
      " 7   latitude                10506 non-null  float64\n",
      " 8   longitude               10506 non-null  float64\n",
      " 9   addressaccuracy         10506 non-null  int64  \n",
      " 10  nummosquitos            10506 non-null  int64  \n",
      " 11  wnvpresent              10506 non-null  int64  \n",
      "dtypes: float64(2), int64(4), object(6)\n",
      "memory usage: 985.1+ KB\n"
     ]
    }
   ],
   "source": [
    "# View Data info\n",
    "\n",
    "train.info()"
   ]
  },
  {
   "cell_type": "code",
   "execution_count": 99,
   "id": "5fe1133e",
   "metadata": {},
   "outputs": [
    {
     "data": {
      "text/html": [
       "<div>\n",
       "<style scoped>\n",
       "    .dataframe tbody tr th:only-of-type {\n",
       "        vertical-align: middle;\n",
       "    }\n",
       "\n",
       "    .dataframe tbody tr th {\n",
       "        vertical-align: top;\n",
       "    }\n",
       "\n",
       "    .dataframe thead th {\n",
       "        text-align: right;\n",
       "    }\n",
       "</style>\n",
       "<table border=\"1\" class=\"dataframe\">\n",
       "  <thead>\n",
       "    <tr style=\"text-align: right;\">\n",
       "      <th></th>\n",
       "      <th>date</th>\n",
       "      <th>address</th>\n",
       "      <th>species</th>\n",
       "      <th>block</th>\n",
       "      <th>street</th>\n",
       "      <th>trap</th>\n",
       "      <th>addressnumberandstreet</th>\n",
       "      <th>latitude</th>\n",
       "      <th>longitude</th>\n",
       "      <th>addressaccuracy</th>\n",
       "      <th>nummosquitos</th>\n",
       "      <th>wnvpresent</th>\n",
       "    </tr>\n",
       "  </thead>\n",
       "  <tbody>\n",
       "    <tr>\n",
       "      <th>0</th>\n",
       "      <td>2007-05-29</td>\n",
       "      <td>4100 North Oak Park Avenue, Chicago, IL 60634,...</td>\n",
       "      <td>CULEX PIPIENS/RESTUANS</td>\n",
       "      <td>41</td>\n",
       "      <td>N OAK PARK AVE</td>\n",
       "      <td>T002</td>\n",
       "      <td>4100  N OAK PARK AVE, Chicago, IL</td>\n",
       "      <td>41.954690</td>\n",
       "      <td>-87.800991</td>\n",
       "      <td>9</td>\n",
       "      <td>1</td>\n",
       "      <td>0</td>\n",
       "    </tr>\n",
       "    <tr>\n",
       "      <th>1</th>\n",
       "      <td>2007-05-29</td>\n",
       "      <td>4100 North Oak Park Avenue, Chicago, IL 60634,...</td>\n",
       "      <td>CULEX RESTUANS</td>\n",
       "      <td>41</td>\n",
       "      <td>N OAK PARK AVE</td>\n",
       "      <td>T002</td>\n",
       "      <td>4100  N OAK PARK AVE, Chicago, IL</td>\n",
       "      <td>41.954690</td>\n",
       "      <td>-87.800991</td>\n",
       "      <td>9</td>\n",
       "      <td>1</td>\n",
       "      <td>0</td>\n",
       "    </tr>\n",
       "    <tr>\n",
       "      <th>2</th>\n",
       "      <td>2007-05-29</td>\n",
       "      <td>6200 North Mandell Avenue, Chicago, IL 60646, USA</td>\n",
       "      <td>CULEX RESTUANS</td>\n",
       "      <td>62</td>\n",
       "      <td>N MANDELL AVE</td>\n",
       "      <td>T007</td>\n",
       "      <td>6200  N MANDELL AVE, Chicago, IL</td>\n",
       "      <td>41.994991</td>\n",
       "      <td>-87.769279</td>\n",
       "      <td>9</td>\n",
       "      <td>1</td>\n",
       "      <td>0</td>\n",
       "    </tr>\n",
       "    <tr>\n",
       "      <th>3</th>\n",
       "      <td>2007-05-29</td>\n",
       "      <td>7900 West Foster Avenue, Chicago, IL 60656, USA</td>\n",
       "      <td>CULEX PIPIENS/RESTUANS</td>\n",
       "      <td>79</td>\n",
       "      <td>W FOSTER AVE</td>\n",
       "      <td>T015</td>\n",
       "      <td>7900  W FOSTER AVE, Chicago, IL</td>\n",
       "      <td>41.974089</td>\n",
       "      <td>-87.824812</td>\n",
       "      <td>8</td>\n",
       "      <td>1</td>\n",
       "      <td>0</td>\n",
       "    </tr>\n",
       "    <tr>\n",
       "      <th>4</th>\n",
       "      <td>2007-05-29</td>\n",
       "      <td>7900 West Foster Avenue, Chicago, IL 60656, USA</td>\n",
       "      <td>CULEX RESTUANS</td>\n",
       "      <td>79</td>\n",
       "      <td>W FOSTER AVE</td>\n",
       "      <td>T015</td>\n",
       "      <td>7900  W FOSTER AVE, Chicago, IL</td>\n",
       "      <td>41.974089</td>\n",
       "      <td>-87.824812</td>\n",
       "      <td>8</td>\n",
       "      <td>4</td>\n",
       "      <td>0</td>\n",
       "    </tr>\n",
       "  </tbody>\n",
       "</table>\n",
       "</div>"
      ],
      "text/plain": [
       "         date                                            address  \\\n",
       "0  2007-05-29  4100 North Oak Park Avenue, Chicago, IL 60634,...   \n",
       "1  2007-05-29  4100 North Oak Park Avenue, Chicago, IL 60634,...   \n",
       "2  2007-05-29  6200 North Mandell Avenue, Chicago, IL 60646, USA   \n",
       "3  2007-05-29    7900 West Foster Avenue, Chicago, IL 60656, USA   \n",
       "4  2007-05-29    7900 West Foster Avenue, Chicago, IL 60656, USA   \n",
       "\n",
       "                  species  block           street  trap  \\\n",
       "0  CULEX PIPIENS/RESTUANS     41   N OAK PARK AVE  T002   \n",
       "1          CULEX RESTUANS     41   N OAK PARK AVE  T002   \n",
       "2          CULEX RESTUANS     62    N MANDELL AVE  T007   \n",
       "3  CULEX PIPIENS/RESTUANS     79     W FOSTER AVE  T015   \n",
       "4          CULEX RESTUANS     79     W FOSTER AVE  T015   \n",
       "\n",
       "              addressnumberandstreet   latitude  longitude  addressaccuracy  \\\n",
       "0  4100  N OAK PARK AVE, Chicago, IL  41.954690 -87.800991                9   \n",
       "1  4100  N OAK PARK AVE, Chicago, IL  41.954690 -87.800991                9   \n",
       "2   6200  N MANDELL AVE, Chicago, IL  41.994991 -87.769279                9   \n",
       "3    7900  W FOSTER AVE, Chicago, IL  41.974089 -87.824812                8   \n",
       "4    7900  W FOSTER AVE, Chicago, IL  41.974089 -87.824812                8   \n",
       "\n",
       "   nummosquitos  wnvpresent  \n",
       "0             1           0  \n",
       "1             1           0  \n",
       "2             1           0  \n",
       "3             1           0  \n",
       "4             4           0  "
      ]
     },
     "execution_count": 99,
     "metadata": {},
     "output_type": "execute_result"
    }
   ],
   "source": [
    "# train data manipulation\n",
    "\n",
    "# train.rename(columns={'date': 'date_col'}, inplace=True)\n",
    "train.head()"
   ]
  },
  {
   "cell_type": "code",
   "execution_count": 147,
   "id": "9a33dfbd",
   "metadata": {},
   "outputs": [
    {
     "data": {
      "text/plain": [
       "<AxesSubplot:>"
      ]
     },
     "execution_count": 147,
     "metadata": {},
     "output_type": "execute_result"
    },
    {
     "data": {
      "image/png": "[encoded data removed]",
      "text/plain": [
       "<Figure size 432x288 with 1 Axes>"
      ]
     },
     "metadata": {
      "needs_background": "light"
     },
     "output_type": "display_data"
    }
   ],
   "source": [
    "train['nummosquitos'].hist(bins=50)"
   ]
  },
  {
   "cell_type": "code",
   "execution_count": 122,
   "id": "070bd998",
   "metadata": {},
   "outputs": [
    {
     "name": "stdout",
     "output_type": "stream",
     "text": [
      "1019\n"
     ]
    }
   ],
   "source": [
    "print(sum(train['nummosquitos']==50))"
   ]
  },
  {
   "cell_type": "code",
   "execution_count": 120,
   "id": "69d44c03",
   "metadata": {},
   "outputs": [
    {
     "name": "stdout",
     "output_type": "stream",
     "text": [
      "(10506, 12)\n"
     ]
    },
    {
     "data": {
      "text/plain": [
       "(9693, 6)"
      ]
     },
     "execution_count": 120,
     "metadata": {},
     "output_type": "execute_result"
    }
   ],
   "source": [
    "print(train.shape)\n",
    "train.groupby(list(train.columns))[list(train.columns)].mean().shape"
   ]
  },
  {
   "cell_type": "code",
   "execution_count": null,
   "id": "d9306de9",
   "metadata": {},
   "outputs": [],
   "source": [
    "8475+1019"
   ]
  },
  {
   "cell_type": "code",
   "execution_count": 148,
   "id": "c310a802",
   "metadata": {},
   "outputs": [],
   "source": [
    "col_w = list(train.columns)\n",
    "col_w.remove('nummosquitos')\n",
    "#col_w"
   ]
  },
  {
   "cell_type": "code",
   "execution_count": 159,
   "id": "f9dbb298",
   "metadata": {},
   "outputs": [],
   "source": [
    "df_t = train.groupby(col_w)['nummosquitos'].agg('sum')\n",
    "\n",
    "df_t=pd.DataFrame(df_t)\n",
    "df_t.reset_index(inplace=True)"
   ]
  },
  {
   "cell_type": "code",
   "execution_count": 162,
   "id": "571bff1a",
   "metadata": {},
   "outputs": [
    {
     "name": "stdout",
     "output_type": "stream",
     "text": [
      "date                      2007-05-292007-05-292007-05-292007-05-292007-0...\n",
      "address                   4100 North Oak Park Avenue, Chicago, IL 60634,...\n",
      "species                   CULEX PIPIENS/RESTUANSCULEX RESTUANSCULEX REST...\n",
      "block                                                                374936\n",
      "street                     N OAK PARK AVE N OAK PARK AVE N MANDELL AVE W...\n",
      "trap                      T002T002T007T015T015T045T046T048T048T049T050T0...\n",
      "addressnumberandstreet    4100  N OAK PARK AVE, Chicago, IL4100  N OAK P...\n",
      "latitude                                                      439583.009378\n",
      "longitude                                                    -921375.233272\n",
      "addressaccuracy                                                       82152\n",
      "nummosquitos                                                         135039\n",
      "wnvpresent                                                              551\n",
      "dtype: object\n",
      "date                      2007-05-292007-05-292007-05-292007-05-292007-0...\n",
      "address                   1100 Roosevelt Road, Chicago, IL 60608, USA110...\n",
      "species                   CULEX PIPIENS/RESTUANSCULEX RESTUANSCULEX REST...\n",
      "block                                                                334011\n",
      "street                     W ROOSEVELT W ROOSEVELT S PEORIA ST W CHICAGO...\n",
      "trap                      T048T048T091T049T153T045T094T050T054T054T086T0...\n",
      "addressnumberandstreet    1100  W ROOSEVELT, Chicago, IL1100  W ROOSEVEL...\n",
      "latitude                                                      360280.469667\n",
      "longitude                                                    -755055.989126\n",
      "addressaccuracy                                                       68330\n",
      "wnvpresent                                                              457\n",
      "nummosquitos                                                         135039\n",
      "dtype: object\n"
     ]
    },
    {
     "data": {
      "text/html": [
       "<div>\n",
       "<style scoped>\n",
       "    .dataframe tbody tr th:only-of-type {\n",
       "        vertical-align: middle;\n",
       "    }\n",
       "\n",
       "    .dataframe tbody tr th {\n",
       "        vertical-align: top;\n",
       "    }\n",
       "\n",
       "    .dataframe thead th {\n",
       "        text-align: right;\n",
       "    }\n",
       "</style>\n",
       "<table border=\"1\" class=\"dataframe\">\n",
       "  <thead>\n",
       "    <tr style=\"text-align: right;\">\n",
       "      <th></th>\n",
       "      <th>date</th>\n",
       "      <th>address</th>\n",
       "      <th>species</th>\n",
       "      <th>block</th>\n",
       "      <th>street</th>\n",
       "      <th>trap</th>\n",
       "      <th>addressnumberandstreet</th>\n",
       "      <th>latitude</th>\n",
       "      <th>longitude</th>\n",
       "      <th>addressaccuracy</th>\n",
       "      <th>wnvpresent</th>\n",
       "      <th>nummosquitos</th>\n",
       "    </tr>\n",
       "  </thead>\n",
       "  <tbody>\n",
       "    <tr>\n",
       "      <th>0</th>\n",
       "      <td>2007-05-29</td>\n",
       "      <td>1100 Roosevelt Road, Chicago, IL 60608, USA</td>\n",
       "      <td>CULEX PIPIENS/RESTUANS</td>\n",
       "      <td>11</td>\n",
       "      <td>W ROOSEVELT</td>\n",
       "      <td>T048</td>\n",
       "      <td>1100  W ROOSEVELT, Chicago, IL</td>\n",
       "      <td>41.867108</td>\n",
       "      <td>-87.654224</td>\n",
       "      <td>8</td>\n",
       "      <td>0</td>\n",
       "      <td>1</td>\n",
       "    </tr>\n",
       "    <tr>\n",
       "      <th>1</th>\n",
       "      <td>2007-05-29</td>\n",
       "      <td>1100 Roosevelt Road, Chicago, IL 60608, USA</td>\n",
       "      <td>CULEX RESTUANS</td>\n",
       "      <td>11</td>\n",
       "      <td>W ROOSEVELT</td>\n",
       "      <td>T048</td>\n",
       "      <td>1100  W ROOSEVELT, Chicago, IL</td>\n",
       "      <td>41.867108</td>\n",
       "      <td>-87.654224</td>\n",
       "      <td>8</td>\n",
       "      <td>0</td>\n",
       "      <td>2</td>\n",
       "    </tr>\n",
       "    <tr>\n",
       "      <th>2</th>\n",
       "      <td>2007-05-29</td>\n",
       "      <td>1100 South Peoria Street, Chicago, IL 60608, USA</td>\n",
       "      <td>CULEX RESTUANS</td>\n",
       "      <td>11</td>\n",
       "      <td>S PEORIA ST</td>\n",
       "      <td>T091</td>\n",
       "      <td>1100  S PEORIA ST, Chicago, IL</td>\n",
       "      <td>41.862292</td>\n",
       "      <td>-87.648860</td>\n",
       "      <td>8</td>\n",
       "      <td>0</td>\n",
       "      <td>1</td>\n",
       "    </tr>\n",
       "    <tr>\n",
       "      <th>3</th>\n",
       "      <td>2007-05-29</td>\n",
       "      <td>1100 West Chicago Avenue, Chicago, IL 60642, USA</td>\n",
       "      <td>CULEX RESTUANS</td>\n",
       "      <td>11</td>\n",
       "      <td>W CHICAGO</td>\n",
       "      <td>T049</td>\n",
       "      <td>1100  W CHICAGO, Chicago, IL</td>\n",
       "      <td>41.896282</td>\n",
       "      <td>-87.655232</td>\n",
       "      <td>8</td>\n",
       "      <td>0</td>\n",
       "      <td>1</td>\n",
       "    </tr>\n",
       "    <tr>\n",
       "      <th>4</th>\n",
       "      <td>2007-05-29</td>\n",
       "      <td>1500 North Long Avenue, Chicago, IL 60651, USA</td>\n",
       "      <td>CULEX RESTUANS</td>\n",
       "      <td>15</td>\n",
       "      <td>N LONG AVE</td>\n",
       "      <td>T153</td>\n",
       "      <td>1500  N LONG AVE, Chicago, IL</td>\n",
       "      <td>41.907645</td>\n",
       "      <td>-87.760886</td>\n",
       "      <td>8</td>\n",
       "      <td>0</td>\n",
       "      <td>1</td>\n",
       "    </tr>\n",
       "    <tr>\n",
       "      <th>...</th>\n",
       "      <td>...</td>\n",
       "      <td>...</td>\n",
       "      <td>...</td>\n",
       "      <td>...</td>\n",
       "      <td>...</td>\n",
       "      <td>...</td>\n",
       "      <td>...</td>\n",
       "      <td>...</td>\n",
       "      <td>...</td>\n",
       "      <td>...</td>\n",
       "      <td>...</td>\n",
       "      <td>...</td>\n",
       "    </tr>\n",
       "    <tr>\n",
       "      <th>8605</th>\n",
       "      <td>2013-09-26</td>\n",
       "      <td>South Stony Island Avenue, Chicago, IL, USA</td>\n",
       "      <td>CULEX PIPIENS</td>\n",
       "      <td>10</td>\n",
       "      <td>S STONY ISLAND AVE</td>\n",
       "      <td>T138</td>\n",
       "      <td>1000  S STONY ISLAND AVE, Chicago, IL</td>\n",
       "      <td>41.726465</td>\n",
       "      <td>-87.585413</td>\n",
       "      <td>5</td>\n",
       "      <td>0</td>\n",
       "      <td>6</td>\n",
       "    </tr>\n",
       "    <tr>\n",
       "      <th>8606</th>\n",
       "      <td>2013-09-26</td>\n",
       "      <td>South Stony Island Avenue, Chicago, IL, USA</td>\n",
       "      <td>CULEX PIPIENS/RESTUANS</td>\n",
       "      <td>10</td>\n",
       "      <td>S STONY ISLAND AVE</td>\n",
       "      <td>T138</td>\n",
       "      <td>1000  S STONY ISLAND AVE, Chicago, IL</td>\n",
       "      <td>41.726465</td>\n",
       "      <td>-87.585413</td>\n",
       "      <td>5</td>\n",
       "      <td>0</td>\n",
       "      <td>4</td>\n",
       "    </tr>\n",
       "    <tr>\n",
       "      <th>8607</th>\n",
       "      <td>2013-09-26</td>\n",
       "      <td>South Vincennes Avenue, Chicago, IL, USA</td>\n",
       "      <td>CULEX PIPIENS/RESTUANS</td>\n",
       "      <td>10</td>\n",
       "      <td>S VINCENNES</td>\n",
       "      <td>T089</td>\n",
       "      <td>1000  S VINCENNES, Chicago, IL</td>\n",
       "      <td>41.723195</td>\n",
       "      <td>-87.649970</td>\n",
       "      <td>5</td>\n",
       "      <td>0</td>\n",
       "      <td>4</td>\n",
       "    </tr>\n",
       "    <tr>\n",
       "      <th>8608</th>\n",
       "      <td>2013-09-26</td>\n",
       "      <td>University of Illinois at Chicago, 1100 South ...</td>\n",
       "      <td>CULEX PIPIENS/RESTUANS</td>\n",
       "      <td>11</td>\n",
       "      <td>S ASHLAND AVE</td>\n",
       "      <td>T090</td>\n",
       "      <td>1100  S ASHLAND AVE, Chicago, IL</td>\n",
       "      <td>41.868077</td>\n",
       "      <td>-87.666901</td>\n",
       "      <td>9</td>\n",
       "      <td>0</td>\n",
       "      <td>2</td>\n",
       "    </tr>\n",
       "    <tr>\n",
       "      <th>8609</th>\n",
       "      <td>2013-09-26</td>\n",
       "      <td>West Garfield Boulevard, Chicago, IL, USA</td>\n",
       "      <td>CULEX PIPIENS/RESTUANS</td>\n",
       "      <td>90</td>\n",
       "      <td>W GARFIELD BLVD</td>\n",
       "      <td>T226</td>\n",
       "      <td>9000  W GARFIELD BLVD, Chicago, IL</td>\n",
       "      <td>41.793818</td>\n",
       "      <td>-87.654234</td>\n",
       "      <td>5</td>\n",
       "      <td>0</td>\n",
       "      <td>8</td>\n",
       "    </tr>\n",
       "  </tbody>\n",
       "</table>\n",
       "<p>8610 rows × 12 columns</p>\n",
       "</div>"
      ],
      "text/plain": [
       "            date                                            address  \\\n",
       "0     2007-05-29        1100 Roosevelt Road, Chicago, IL 60608, USA   \n",
       "1     2007-05-29        1100 Roosevelt Road, Chicago, IL 60608, USA   \n",
       "2     2007-05-29   1100 South Peoria Street, Chicago, IL 60608, USA   \n",
       "3     2007-05-29   1100 West Chicago Avenue, Chicago, IL 60642, USA   \n",
       "4     2007-05-29     1500 North Long Avenue, Chicago, IL 60651, USA   \n",
       "...          ...                                                ...   \n",
       "8605  2013-09-26        South Stony Island Avenue, Chicago, IL, USA   \n",
       "8606  2013-09-26        South Stony Island Avenue, Chicago, IL, USA   \n",
       "8607  2013-09-26           South Vincennes Avenue, Chicago, IL, USA   \n",
       "8608  2013-09-26  University of Illinois at Chicago, 1100 South ...   \n",
       "8609  2013-09-26          West Garfield Boulevard, Chicago, IL, USA   \n",
       "\n",
       "                     species  block               street  trap  \\\n",
       "0     CULEX PIPIENS/RESTUANS     11          W ROOSEVELT  T048   \n",
       "1             CULEX RESTUANS     11          W ROOSEVELT  T048   \n",
       "2             CULEX RESTUANS     11          S PEORIA ST  T091   \n",
       "3             CULEX RESTUANS     11            W CHICAGO  T049   \n",
       "4             CULEX RESTUANS     15           N LONG AVE  T153   \n",
       "...                      ...    ...                  ...   ...   \n",
       "8605           CULEX PIPIENS     10   S STONY ISLAND AVE  T138   \n",
       "8606  CULEX PIPIENS/RESTUANS     10   S STONY ISLAND AVE  T138   \n",
       "8607  CULEX PIPIENS/RESTUANS     10          S VINCENNES  T089   \n",
       "8608  CULEX PIPIENS/RESTUANS     11        S ASHLAND AVE  T090   \n",
       "8609  CULEX PIPIENS/RESTUANS     90      W GARFIELD BLVD  T226   \n",
       "\n",
       "                     addressnumberandstreet   latitude  longitude  \\\n",
       "0            1100  W ROOSEVELT, Chicago, IL  41.867108 -87.654224   \n",
       "1            1100  W ROOSEVELT, Chicago, IL  41.867108 -87.654224   \n",
       "2            1100  S PEORIA ST, Chicago, IL  41.862292 -87.648860   \n",
       "3              1100  W CHICAGO, Chicago, IL  41.896282 -87.655232   \n",
       "4             1500  N LONG AVE, Chicago, IL  41.907645 -87.760886   \n",
       "...                                     ...        ...        ...   \n",
       "8605  1000  S STONY ISLAND AVE, Chicago, IL  41.726465 -87.585413   \n",
       "8606  1000  S STONY ISLAND AVE, Chicago, IL  41.726465 -87.585413   \n",
       "8607         1000  S VINCENNES, Chicago, IL  41.723195 -87.649970   \n",
       "8608       1100  S ASHLAND AVE, Chicago, IL  41.868077 -87.666901   \n",
       "8609     9000  W GARFIELD BLVD, Chicago, IL  41.793818 -87.654234   \n",
       "\n",
       "      addressaccuracy  wnvpresent  nummosquitos  \n",
       "0                   8           0             1  \n",
       "1                   8           0             2  \n",
       "2                   8           0             1  \n",
       "3                   8           0             1  \n",
       "4                   8           0             1  \n",
       "...               ...         ...           ...  \n",
       "8605                5           0             6  \n",
       "8606                5           0             4  \n",
       "8607                5           0             4  \n",
       "8608                9           0             2  \n",
       "8609                5           0             8  \n",
       "\n",
       "[8610 rows x 12 columns]"
      ]
     },
     "execution_count": 162,
     "metadata": {},
     "output_type": "execute_result"
    }
   ],
   "source": [
    "print(train.sum())\n",
    "print(df_t.sum())\n",
    "df_t"
   ]
  },
  {
   "cell_type": "code",
   "execution_count": 150,
   "id": "232a8109",
   "metadata": {},
   "outputs": [
    {
     "data": {
      "text/plain": [
       "9629"
      ]
     },
     "execution_count": 150,
     "metadata": {},
     "output_type": "execute_result"
    }
   ],
   "source": [
    "8610+1019"
   ]
  },
  {
   "cell_type": "code",
   "execution_count": 139,
   "id": "f3ee32f0",
   "metadata": {},
   "outputs": [
    {
     "data": {
      "text/plain": [
       "<AxesSubplot:>"
      ]
     },
     "execution_count": 139,
     "metadata": {},
     "output_type": "execute_result"
    },
    {
     "data": {
      "image/png": "[encoded data removed]",
      "text/plain": [
       "<Figure size 432x288 with 1 Axes>"
      ]
     },
     "metadata": {
      "needs_background": "light"
     },
     "output_type": "display_data"
    }
   ],
   "source": [
    "df_t['nummosquitos'].hist()\n",
    "#.sort_values().values"
   ]
  },
  {
   "cell_type": "code",
   "execution_count": 115,
   "id": "161b7930",
   "metadata": {},
   "outputs": [
    {
     "data": {
      "text/plain": [
       "date                      2007-05-292007-05-292007-05-292007-05-292007-0...\n",
       "address                   4100 North Oak Park Avenue, Chicago, IL 60634,...\n",
       "species                   CULEX PIPIENS/RESTUANSCULEX RESTUANSCULEX REST...\n",
       "block                                                                374936\n",
       "street                     N OAK PARK AVE N OAK PARK AVE N MANDELL AVE W...\n",
       "trap                      T002T002T007T015T015T045T046T048T048T049T050T0...\n",
       "addressnumberandstreet    4100  N OAK PARK AVE, Chicago, IL4100  N OAK P...\n",
       "latitude                                                      439583.009378\n",
       "longitude                                                    -921375.233272\n",
       "addressaccuracy                                                       82152\n",
       "nummosquitos                                                         135039\n",
       "wnvpresent                                                              551\n",
       "dtype: object"
      ]
     },
     "execution_count": 115,
     "metadata": {},
     "output_type": "execute_result"
    }
   ],
   "source": [
    "train.sum()"
   ]
  },
  {
   "cell_type": "code",
   "execution_count": 119,
   "id": "8c9f4229",
   "metadata": {},
   "outputs": [
    {
     "data": {
      "text/plain": [
       "nummosquitos    135039\n",
       "wnvpresent         551\n",
       "dtype: int64"
      ]
     },
     "execution_count": 119,
     "metadata": {},
     "output_type": "execute_result"
    }
   ],
   "source": [
    "df_t.sum()"
   ]
  },
  {
   "cell_type": "code",
   "execution_count": 95,
   "id": "cb2bcbe5",
   "metadata": {},
   "outputs": [
    {
     "data": {
      "text/plain": [
       "['date_col',\n",
       " 'address',\n",
       " 'species',\n",
       " 'block',\n",
       " 'street',\n",
       " 'trap',\n",
       " 'addressnumberandstreet',\n",
       " 'latitude',\n",
       " 'longitude',\n",
       " 'addressaccuracy']"
      ]
     },
     "execution_count": 95,
     "metadata": {},
     "output_type": "execute_result"
    }
   ],
   "source": [
    "list(train.columns[:10])"
   ]
  },
  {
   "cell_type": "code",
   "execution_count": 117,
   "id": "3887ead8",
   "metadata": {},
   "outputs": [
    {
     "name": "stderr",
     "output_type": "stream",
     "text": [
      "C:\\Users\\User\\AppData\\Local\\Temp/ipykernel_2608/1403201589.py:1: FutureWarning: Indexing with multiple keys (implicitly converted to a tuple of keys) will be deprecated, use a list instead.\n",
      "  df_t = train.groupby(list(train.columns[:10]))['nummosquitos', 'wnvpresent'].agg('sum')\n"
     ]
    },
    {
     "data": {
      "text/plain": [
       "(8475, 12)"
      ]
     },
     "execution_count": 117,
     "metadata": {},
     "output_type": "execute_result"
    }
   ],
   "source": []
  },
  {
   "cell_type": "code",
   "execution_count": null,
   "id": "a8d3fa40",
   "metadata": {},
   "outputs": [],
   "source": []
  },
  {
   "cell_type": "code",
   "execution_count": 109,
   "id": "9336b786",
   "metadata": {},
   "outputs": [
    {
     "data": {
      "text/plain": [
       "9487"
      ]
     },
     "execution_count": 109,
     "metadata": {},
     "output_type": "execute_result"
    }
   ],
   "source": [
    "10506-sum(train['nummosquitos']==50)"
   ]
  },
  {
   "cell_type": "code",
   "execution_count": 89,
   "id": "15809b91",
   "metadata": {},
   "outputs": [
    {
     "data": {
      "text/plain": [
       "date_col    address                                             trap  species               \n",
       "2007-05-29  1100 Roosevelt Road, Chicago, IL 60608, USA         T048  CULEX PIPIENS/RESTUANS       1\n",
       "2009-09-25  6300 West 64th Street, Chicago, IL 60638, USA       T155  CULEX PIPIENS                1\n",
       "            6100 West Fullerton Avenue, Chicago, IL 60639, USA  T013  CULEX RESTUANS               1\n",
       "            6000 West Montrose Avenue, Chicago, IL 60634, USA   T017  CULEX RESTUANS               1\n",
       "2007-08-24  4200 West 127th Street, Alsip, IL 60803, USA        T135  CULEX RESTUANS               1\n",
       "                                                                                                ... \n",
       "2007-09-05  South Doty Avenue, Chicago, IL, USA                 T115  CULEX PIPIENS             1648\n",
       "2007-08-08  South Stony Island Avenue, Chicago, IL, USA         T138  CULEX PIPIENS             1658\n",
       "2007-08-28  South Doty Avenue, Chicago, IL, USA                 T115  CULEX PIPIENS             2207\n",
       "2007-07-25  South Doty Avenue, Chicago, IL, USA                 T115  CULEX PIPIENS             2356\n",
       "2007-08-16  South Doty Avenue, Chicago, IL, USA                 T115  CULEX PIPIENS             2532\n",
       "Name: nummosquitos, Length: 8475, dtype: int64"
      ]
     },
     "execution_count": 89,
     "metadata": {},
     "output_type": "execute_result"
    }
   ],
   "source": [
    "df_t['nummosquitos'].sort_values()"
   ]
  },
  {
   "cell_type": "code",
   "execution_count": 65,
   "id": "041b7741",
   "metadata": {},
   "outputs": [
    {
     "ename": "TypeError",
     "evalue": "'NoneType' object is not iterable",
     "output_type": "error",
     "traceback": [
      "\u001b[1;31m---------------------------------------------------------------------------\u001b[0m",
      "\u001b[1;31mTypeError\u001b[0m                                 Traceback (most recent call last)",
      "\u001b[1;32m~\\AppData\\Local\\Temp/ipykernel_2608/592329159.py\u001b[0m in \u001b[0;36m<module>\u001b[1;34m\u001b[0m\n\u001b[0;32m      1\u001b[0m \u001b[1;31m#train['Date']<'2008'\u001b[0m\u001b[1;33m\u001b[0m\u001b[1;33m\u001b[0m\u001b[1;33m\u001b[0m\u001b[0m\n\u001b[1;32m----> 2\u001b[1;33m \u001b[0mplot_series\u001b[0m\u001b[1;33m(\u001b[0m\u001b[0mtrain\u001b[0m\u001b[1;33m.\u001b[0m\u001b[0mloc\u001b[0m\u001b[1;33m[\u001b[0m\u001b[0mtrain\u001b[0m\u001b[1;33m[\u001b[0m\u001b[1;34m'date_col'\u001b[0m\u001b[1;33m]\u001b[0m\u001b[1;33m<\u001b[0m\u001b[1;34m'2008'\u001b[0m\u001b[1;33m,\u001b[0m\u001b[1;33m:\u001b[0m\u001b[1;33m]\u001b[0m\u001b[1;33m.\u001b[0m\u001b[0mgroupby\u001b[0m\u001b[1;33m(\u001b[0m\u001b[1;34m'date_col'\u001b[0m\u001b[1;33m)\u001b[0m\u001b[1;33m[\u001b[0m\u001b[1;34m'NumMosquitos'\u001b[0m\u001b[1;33m]\u001b[0m\u001b[1;33m,\u001b[0m \u001b[0msteps\u001b[0m\u001b[1;33m=\u001b[0m\u001b[1;36m10\u001b[0m\u001b[1;33m)\u001b[0m\u001b[1;33m\u001b[0m\u001b[1;33m\u001b[0m\u001b[0m\n\u001b[0m",
      "\u001b[1;32m~\\AppData\\Local\\Temp/ipykernel_2608/2007543464.py\u001b[0m in \u001b[0;36mplot_series\u001b[1;34m(df, cols, title, xlab, ylab, steps)\u001b[0m\n\u001b[0;32m      7\u001b[0m \u001b[1;33m\u001b[0m\u001b[0m\n\u001b[0;32m      8\u001b[0m     \u001b[1;31m# Iterate through each column name.\u001b[0m\u001b[1;33m\u001b[0m\u001b[1;33m\u001b[0m\u001b[1;33m\u001b[0m\u001b[0m\n\u001b[1;32m----> 9\u001b[1;33m     \u001b[1;32mfor\u001b[0m \u001b[0mcol\u001b[0m \u001b[1;32min\u001b[0m \u001b[0mcols\u001b[0m\u001b[1;33m:\u001b[0m\u001b[1;33m\u001b[0m\u001b[1;33m\u001b[0m\u001b[0m\n\u001b[0m\u001b[0;32m     10\u001b[0m \u001b[1;33m\u001b[0m\u001b[0m\n\u001b[0;32m     11\u001b[0m         \u001b[1;31m# Generate a line plot of the column name.\u001b[0m\u001b[1;33m\u001b[0m\u001b[1;33m\u001b[0m\u001b[1;33m\u001b[0m\u001b[0m\n",
      "\u001b[1;31mTypeError\u001b[0m: 'NoneType' object is not iterable"
     ]
    },
    {
     "data": {
      "text/plain": [
       "<Figure size 1296x648 with 0 Axes>"
      ]
     },
     "metadata": {},
     "output_type": "display_data"
    }
   ],
   "source": [
    "#train['Date']<'2008'\n",
    "plot_series(train.loc[train['date_col']<'2008',:].groupby('date_col')['NumMosquitos'], steps=10)\n"
   ]
  },
  {
   "cell_type": "code",
   "execution_count": null,
   "id": "5b17c0ce",
   "metadata": {},
   "outputs": [],
   "source": [
    "test"
   ]
  },
  {
   "cell_type": "code",
   "execution_count": null,
   "id": "81a1ee96",
   "metadata": {},
   "outputs": [],
   "source": []
  },
  {
   "cell_type": "code",
   "execution_count": 6,
   "id": "3a69d55d",
   "metadata": {},
   "outputs": [
    {
     "data": {
      "text/html": [
       "<div>\n",
       "<style scoped>\n",
       "    .dataframe tbody tr th:only-of-type {\n",
       "        vertical-align: middle;\n",
       "    }\n",
       "\n",
       "    .dataframe tbody tr th {\n",
       "        vertical-align: top;\n",
       "    }\n",
       "\n",
       "    .dataframe thead th {\n",
       "        text-align: right;\n",
       "    }\n",
       "</style>\n",
       "<table border=\"1\" class=\"dataframe\">\n",
       "  <thead>\n",
       "    <tr style=\"text-align: right;\">\n",
       "      <th></th>\n",
       "      <th>Block</th>\n",
       "      <th>Latitude</th>\n",
       "      <th>Longitude</th>\n",
       "      <th>AddressAccuracy</th>\n",
       "      <th>NumMosquitos</th>\n",
       "      <th>WnvPresent</th>\n",
       "    </tr>\n",
       "  </thead>\n",
       "  <tbody>\n",
       "    <tr>\n",
       "      <th>count</th>\n",
       "      <td>10506.000000</td>\n",
       "      <td>10506.000000</td>\n",
       "      <td>10506.000000</td>\n",
       "      <td>10506.000000</td>\n",
       "      <td>10506.000000</td>\n",
       "      <td>10506.000000</td>\n",
       "    </tr>\n",
       "    <tr>\n",
       "      <th>mean</th>\n",
       "      <td>35.687797</td>\n",
       "      <td>41.841139</td>\n",
       "      <td>-87.699908</td>\n",
       "      <td>7.819532</td>\n",
       "      <td>12.853512</td>\n",
       "      <td>0.052446</td>\n",
       "    </tr>\n",
       "    <tr>\n",
       "      <th>std</th>\n",
       "      <td>24.339468</td>\n",
       "      <td>0.112742</td>\n",
       "      <td>0.096514</td>\n",
       "      <td>1.452921</td>\n",
       "      <td>16.133816</td>\n",
       "      <td>0.222936</td>\n",
       "    </tr>\n",
       "    <tr>\n",
       "      <th>min</th>\n",
       "      <td>10.000000</td>\n",
       "      <td>41.644612</td>\n",
       "      <td>-87.930995</td>\n",
       "      <td>3.000000</td>\n",
       "      <td>1.000000</td>\n",
       "      <td>0.000000</td>\n",
       "    </tr>\n",
       "    <tr>\n",
       "      <th>25%</th>\n",
       "      <td>12.000000</td>\n",
       "      <td>41.732984</td>\n",
       "      <td>-87.760070</td>\n",
       "      <td>8.000000</td>\n",
       "      <td>2.000000</td>\n",
       "      <td>0.000000</td>\n",
       "    </tr>\n",
       "    <tr>\n",
       "      <th>50%</th>\n",
       "      <td>33.000000</td>\n",
       "      <td>41.846283</td>\n",
       "      <td>-87.694991</td>\n",
       "      <td>8.000000</td>\n",
       "      <td>5.000000</td>\n",
       "      <td>0.000000</td>\n",
       "    </tr>\n",
       "    <tr>\n",
       "      <th>75%</th>\n",
       "      <td>52.000000</td>\n",
       "      <td>41.954690</td>\n",
       "      <td>-87.627796</td>\n",
       "      <td>9.000000</td>\n",
       "      <td>17.000000</td>\n",
       "      <td>0.000000</td>\n",
       "    </tr>\n",
       "    <tr>\n",
       "      <th>max</th>\n",
       "      <td>98.000000</td>\n",
       "      <td>42.017430</td>\n",
       "      <td>-87.531635</td>\n",
       "      <td>9.000000</td>\n",
       "      <td>50.000000</td>\n",
       "      <td>1.000000</td>\n",
       "    </tr>\n",
       "  </tbody>\n",
       "</table>\n",
       "</div>"
      ],
      "text/plain": [
       "              Block      Latitude     Longitude  AddressAccuracy  \\\n",
       "count  10506.000000  10506.000000  10506.000000     10506.000000   \n",
       "mean      35.687797     41.841139    -87.699908         7.819532   \n",
       "std       24.339468      0.112742      0.096514         1.452921   \n",
       "min       10.000000     41.644612    -87.930995         3.000000   \n",
       "25%       12.000000     41.732984    -87.760070         8.000000   \n",
       "50%       33.000000     41.846283    -87.694991         8.000000   \n",
       "75%       52.000000     41.954690    -87.627796         9.000000   \n",
       "max       98.000000     42.017430    -87.531635         9.000000   \n",
       "\n",
       "       NumMosquitos    WnvPresent  \n",
       "count  10506.000000  10506.000000  \n",
       "mean      12.853512      0.052446  \n",
       "std       16.133816      0.222936  \n",
       "min        1.000000      0.000000  \n",
       "25%        2.000000      0.000000  \n",
       "50%        5.000000      0.000000  \n",
       "75%       17.000000      0.000000  \n",
       "max       50.000000      1.000000  "
      ]
     },
     "execution_count": 6,
     "metadata": {},
     "output_type": "execute_result"
    }
   ],
   "source": [
    "train.describe()"
   ]
  },
  {
   "cell_type": "code",
   "execution_count": 7,
   "id": "1541bae2",
   "metadata": {},
   "outputs": [
    {
     "data": {
      "text/plain": [
       "0        2007-05-29\n",
       "24       2007-05-29\n",
       "23       2007-05-29\n",
       "22       2007-05-29\n",
       "21       2007-05-29\n",
       "            ...    \n",
       "10439    2013-09-26\n",
       "10438    2013-09-26\n",
       "10437    2013-09-26\n",
       "10446    2013-09-26\n",
       "10505    2013-09-26\n",
       "Name: Date, Length: 10506, dtype: object"
      ]
     },
     "execution_count": 7,
     "metadata": {},
     "output_type": "execute_result"
    }
   ],
   "source": [
    "train['Date'].sort_values()"
   ]
  },
  {
   "cell_type": "code",
   "execution_count": 41,
   "id": "185ad9da",
   "metadata": {},
   "outputs": [
    {
     "data": {
      "text/plain": [
       "min   2007-05-29\n",
       "max   2013-09-26\n",
       "Name: Date, dtype: datetime64[ns]"
      ]
     },
     "execution_count": 41,
     "metadata": {},
     "output_type": "execute_result"
    }
   ],
   "source": []
  },
  {
   "cell_type": "code",
   "execution_count": 18,
   "id": "ae2434fc",
   "metadata": {},
   "outputs": [
    {
     "data": {
      "text/plain": [
       "0    9955\n",
       "1     551\n",
       "Name: WnvPresent, dtype: int64"
      ]
     },
     "execution_count": 18,
     "metadata": {},
     "output_type": "execute_result"
    }
   ],
   "source": [
    "train['WnvPresent'].value_counts()"
   ]
  },
  {
   "cell_type": "code",
   "execution_count": 20,
   "id": "1d2c0d2b",
   "metadata": {},
   "outputs": [
    {
     "data": {
      "text/plain": [
       "<AxesSubplot:>"
      ]
     },
     "execution_count": 20,
     "metadata": {},
     "output_type": "execute_result"
    },
    {
     "data": {
      "image/png": "[encoded data removed]",
      "text/plain": [
       "<Figure size 432x288 with 1 Axes>"
      ]
     },
     "metadata": {
      "needs_background": "light"
     },
     "output_type": "display_data"
    }
   ],
   "source": []
  },
  {
   "cell_type": "code",
   "execution_count": 14,
   "id": "367af57e",
   "metadata": {
    "scrolled": false
   },
   "outputs": [
    {
     "data": {
      "text/html": [
       "<div>\n",
       "<style scoped>\n",
       "    .dataframe tbody tr th:only-of-type {\n",
       "        vertical-align: middle;\n",
       "    }\n",
       "\n",
       "    .dataframe tbody tr th {\n",
       "        vertical-align: top;\n",
       "    }\n",
       "\n",
       "    .dataframe thead th {\n",
       "        text-align: right;\n",
       "    }\n",
       "</style>\n",
       "<table border=\"1\" class=\"dataframe\">\n",
       "  <thead>\n",
       "    <tr style=\"text-align: right;\">\n",
       "      <th></th>\n",
       "      <th>Date</th>\n",
       "      <th>Address</th>\n",
       "      <th>Species</th>\n",
       "      <th>Block</th>\n",
       "      <th>Street</th>\n",
       "      <th>Trap</th>\n",
       "      <th>AddressNumberAndStreet</th>\n",
       "      <th>Latitude</th>\n",
       "      <th>Longitude</th>\n",
       "      <th>AddressAccuracy</th>\n",
       "      <th>NumMosquitos</th>\n",
       "      <th>WnvPresent</th>\n",
       "    </tr>\n",
       "  </thead>\n",
       "  <tbody>\n",
       "    <tr>\n",
       "      <th>842</th>\n",
       "      <td>2007-08-01</td>\n",
       "      <td>2200 West 89th Street, Chicago, IL 60643, USA</td>\n",
       "      <td>CULEX PIPIENS</td>\n",
       "      <td>22</td>\n",
       "      <td>W 89TH ST</td>\n",
       "      <td>T096</td>\n",
       "      <td>2200  W 89TH ST, Chicago, IL</td>\n",
       "      <td>41.731922</td>\n",
       "      <td>-87.677512</td>\n",
       "      <td>8</td>\n",
       "      <td>15</td>\n",
       "      <td>1</td>\n",
       "    </tr>\n",
       "    <tr>\n",
       "      <th>902</th>\n",
       "      <td>2007-08-01</td>\n",
       "      <td>University of Illinois at Chicago, 1100 South ...</td>\n",
       "      <td>CULEX PIPIENS/RESTUANS</td>\n",
       "      <td>11</td>\n",
       "      <td>S ASHLAND AVE</td>\n",
       "      <td>T090</td>\n",
       "      <td>1100  S ASHLAND AVE, Chicago, IL</td>\n",
       "      <td>41.868077</td>\n",
       "      <td>-87.666901</td>\n",
       "      <td>9</td>\n",
       "      <td>17</td>\n",
       "      <td>1</td>\n",
       "    </tr>\n",
       "    <tr>\n",
       "      <th>917</th>\n",
       "      <td>2007-08-01</td>\n",
       "      <td>4200 West 127th Street, Alsip, IL 60803, USA</td>\n",
       "      <td>CULEX PIPIENS/RESTUANS</td>\n",
       "      <td>42</td>\n",
       "      <td>W 127TH PL</td>\n",
       "      <td>T135</td>\n",
       "      <td>4200  W 127TH PL, Chicago, IL</td>\n",
       "      <td>41.662014</td>\n",
       "      <td>-87.724608</td>\n",
       "      <td>8</td>\n",
       "      <td>50</td>\n",
       "      <td>1</td>\n",
       "    </tr>\n",
       "    <tr>\n",
       "      <th>919</th>\n",
       "      <td>2007-08-01</td>\n",
       "      <td>4200 West 127th Street, Alsip, IL 60803, USA</td>\n",
       "      <td>CULEX PIPIENS</td>\n",
       "      <td>42</td>\n",
       "      <td>W 127TH PL</td>\n",
       "      <td>T135</td>\n",
       "      <td>4200  W 127TH PL, Chicago, IL</td>\n",
       "      <td>41.662014</td>\n",
       "      <td>-87.724608</td>\n",
       "      <td>8</td>\n",
       "      <td>10</td>\n",
       "      <td>1</td>\n",
       "    </tr>\n",
       "    <tr>\n",
       "      <th>970</th>\n",
       "      <td>2007-08-01</td>\n",
       "      <td>4500 North Campbell Avenue, Chicago, IL 60625,...</td>\n",
       "      <td>CULEX PIPIENS/RESTUANS</td>\n",
       "      <td>45</td>\n",
       "      <td>N CAMPBELL AVE</td>\n",
       "      <td>T220</td>\n",
       "      <td>4500  N CAMPBELL AVE, Chicago, IL</td>\n",
       "      <td>41.963976</td>\n",
       "      <td>-87.691810</td>\n",
       "      <td>9</td>\n",
       "      <td>2</td>\n",
       "      <td>1</td>\n",
       "    </tr>\n",
       "    <tr>\n",
       "      <th>986</th>\n",
       "      <td>2007-08-01</td>\n",
       "      <td>7000 North Moselle Avenue, Chicago, IL 60646, USA</td>\n",
       "      <td>CULEX PIPIENS</td>\n",
       "      <td>70</td>\n",
       "      <td>N MOSELL AVE</td>\n",
       "      <td>T008</td>\n",
       "      <td>7000  N MOSELL AVE, Chicago, IL</td>\n",
       "      <td>42.008314</td>\n",
       "      <td>-87.777921</td>\n",
       "      <td>9</td>\n",
       "      <td>50</td>\n",
       "      <td>1</td>\n",
       "    </tr>\n",
       "    <tr>\n",
       "      <th>1047</th>\n",
       "      <td>2007-08-01</td>\n",
       "      <td>3300 North Rutherford Avenue, Chicago, IL 6063...</td>\n",
       "      <td>CULEX PIPIENS</td>\n",
       "      <td>33</td>\n",
       "      <td>N RUTHERFORD AVE</td>\n",
       "      <td>T144</td>\n",
       "      <td>3300  N RUTHERFORD AVE, Chicago, IL</td>\n",
       "      <td>41.940160</td>\n",
       "      <td>-87.794896</td>\n",
       "      <td>9</td>\n",
       "      <td>10</td>\n",
       "      <td>1</td>\n",
       "    </tr>\n",
       "    <tr>\n",
       "      <th>1078</th>\n",
       "      <td>2007-08-01</td>\n",
       "      <td>Chicago Midway International Airport (MDW), 52...</td>\n",
       "      <td>CULEX PIPIENS/RESTUANS</td>\n",
       "      <td>52</td>\n",
       "      <td>W 63RD ST</td>\n",
       "      <td>T065</td>\n",
       "      <td>5200  W 63RD ST, Chicago, IL</td>\n",
       "      <td>41.778297</td>\n",
       "      <td>-87.752411</td>\n",
       "      <td>9</td>\n",
       "      <td>28</td>\n",
       "      <td>1</td>\n",
       "    </tr>\n",
       "    <tr>\n",
       "      <th>1159</th>\n",
       "      <td>2007-08-01</td>\n",
       "      <td>4000 South Dearborn Street, Chicago, IL 60609,...</td>\n",
       "      <td>CULEX PIPIENS/RESTUANS</td>\n",
       "      <td>40</td>\n",
       "      <td>S DEARBORN ST</td>\n",
       "      <td>T081</td>\n",
       "      <td>4000  S DEARBORN ST, Chicago, IL</td>\n",
       "      <td>41.821582</td>\n",
       "      <td>-87.627796</td>\n",
       "      <td>9</td>\n",
       "      <td>13</td>\n",
       "      <td>1</td>\n",
       "    </tr>\n",
       "    <tr>\n",
       "      <th>1166</th>\n",
       "      <td>2007-08-01</td>\n",
       "      <td>5000 South Union Avenue, Chicago, IL 60609, USA</td>\n",
       "      <td>CULEX PIPIENS/RESTUANS</td>\n",
       "      <td>50</td>\n",
       "      <td>S UNION AVE</td>\n",
       "      <td>T082</td>\n",
       "      <td>5000  S UNION AVE, Chicago, IL</td>\n",
       "      <td>41.803423</td>\n",
       "      <td>-87.642984</td>\n",
       "      <td>8</td>\n",
       "      <td>3</td>\n",
       "      <td>1</td>\n",
       "    </tr>\n",
       "  </tbody>\n",
       "</table>\n",
       "</div>"
      ],
      "text/plain": [
       "            Date                                            Address  \\\n",
       "842   2007-08-01      2200 West 89th Street, Chicago, IL 60643, USA   \n",
       "902   2007-08-01  University of Illinois at Chicago, 1100 South ...   \n",
       "917   2007-08-01       4200 West 127th Street, Alsip, IL 60803, USA   \n",
       "919   2007-08-01       4200 West 127th Street, Alsip, IL 60803, USA   \n",
       "970   2007-08-01  4500 North Campbell Avenue, Chicago, IL 60625,...   \n",
       "986   2007-08-01  7000 North Moselle Avenue, Chicago, IL 60646, USA   \n",
       "1047  2007-08-01  3300 North Rutherford Avenue, Chicago, IL 6063...   \n",
       "1078  2007-08-01  Chicago Midway International Airport (MDW), 52...   \n",
       "1159  2007-08-01  4000 South Dearborn Street, Chicago, IL 60609,...   \n",
       "1166  2007-08-01    5000 South Union Avenue, Chicago, IL 60609, USA   \n",
       "\n",
       "                     Species  Block             Street  Trap  \\\n",
       "842            CULEX PIPIENS     22          W 89TH ST  T096   \n",
       "902   CULEX PIPIENS/RESTUANS     11      S ASHLAND AVE  T090   \n",
       "917   CULEX PIPIENS/RESTUANS     42         W 127TH PL  T135   \n",
       "919            CULEX PIPIENS     42         W 127TH PL  T135   \n",
       "970   CULEX PIPIENS/RESTUANS     45     N CAMPBELL AVE  T220   \n",
       "986            CULEX PIPIENS     70       N MOSELL AVE  T008   \n",
       "1047           CULEX PIPIENS     33   N RUTHERFORD AVE  T144   \n",
       "1078  CULEX PIPIENS/RESTUANS     52          W 63RD ST  T065   \n",
       "1159  CULEX PIPIENS/RESTUANS     40      S DEARBORN ST  T081   \n",
       "1166  CULEX PIPIENS/RESTUANS     50        S UNION AVE  T082   \n",
       "\n",
       "                   AddressNumberAndStreet   Latitude  Longitude  \\\n",
       "842          2200  W 89TH ST, Chicago, IL  41.731922 -87.677512   \n",
       "902      1100  S ASHLAND AVE, Chicago, IL  41.868077 -87.666901   \n",
       "917         4200  W 127TH PL, Chicago, IL  41.662014 -87.724608   \n",
       "919         4200  W 127TH PL, Chicago, IL  41.662014 -87.724608   \n",
       "970     4500  N CAMPBELL AVE, Chicago, IL  41.963976 -87.691810   \n",
       "986       7000  N MOSELL AVE, Chicago, IL  42.008314 -87.777921   \n",
       "1047  3300  N RUTHERFORD AVE, Chicago, IL  41.940160 -87.794896   \n",
       "1078         5200  W 63RD ST, Chicago, IL  41.778297 -87.752411   \n",
       "1159     4000  S DEARBORN ST, Chicago, IL  41.821582 -87.627796   \n",
       "1166       5000  S UNION AVE, Chicago, IL  41.803423 -87.642984   \n",
       "\n",
       "      AddressAccuracy  NumMosquitos  WnvPresent  \n",
       "842                 8            15           1  \n",
       "902                 9            17           1  \n",
       "917                 8            50           1  \n",
       "919                 8            10           1  \n",
       "970                 9             2           1  \n",
       "986                 9            50           1  \n",
       "1047                9            10           1  \n",
       "1078                9            28           1  \n",
       "1159                9            13           1  \n",
       "1166                8             3           1  "
      ]
     },
     "execution_count": 14,
     "metadata": {},
     "output_type": "execute_result"
    }
   ],
   "source": [
    "train.loc[train['WnvPresent']>0,:][10:20]"
   ]
  },
  {
   "cell_type": "code",
   "execution_count": 15,
   "id": "c300c55d",
   "metadata": {},
   "outputs": [],
   "source": [
    "# Mosquito information\n",
    "\n",
    "# if different species, new row\n",
    "# if more than 50 mosquitos, new row"
   ]
  },
  {
   "cell_type": "code",
   "execution_count": 27,
   "id": "fe84ad14",
   "metadata": {},
   "outputs": [
    {
     "data": {
      "text/html": [
       "<div>\n",
       "<style scoped>\n",
       "    .dataframe tbody tr th:only-of-type {\n",
       "        vertical-align: middle;\n",
       "    }\n",
       "\n",
       "    .dataframe tbody tr th {\n",
       "        vertical-align: top;\n",
       "    }\n",
       "\n",
       "    .dataframe thead th {\n",
       "        text-align: right;\n",
       "    }\n",
       "</style>\n",
       "<table border=\"1\" class=\"dataframe\">\n",
       "  <thead>\n",
       "    <tr style=\"text-align: right;\">\n",
       "      <th></th>\n",
       "      <th>mean</th>\n",
       "      <th>count</th>\n",
       "    </tr>\n",
       "    <tr>\n",
       "      <th>Species</th>\n",
       "      <th></th>\n",
       "      <th></th>\n",
       "    </tr>\n",
       "  </thead>\n",
       "  <tbody>\n",
       "    <tr>\n",
       "      <th>CULEX ERRATICUS</th>\n",
       "      <td>0.000000</td>\n",
       "      <td>1</td>\n",
       "    </tr>\n",
       "    <tr>\n",
       "      <th>CULEX PIPIENS</th>\n",
       "      <td>0.088922</td>\n",
       "      <td>2699</td>\n",
       "    </tr>\n",
       "    <tr>\n",
       "      <th>CULEX PIPIENS/RESTUANS</th>\n",
       "      <td>0.055135</td>\n",
       "      <td>4752</td>\n",
       "    </tr>\n",
       "    <tr>\n",
       "      <th>CULEX RESTUANS</th>\n",
       "      <td>0.017883</td>\n",
       "      <td>2740</td>\n",
       "    </tr>\n",
       "    <tr>\n",
       "      <th>CULEX SALINARIUS</th>\n",
       "      <td>0.000000</td>\n",
       "      <td>86</td>\n",
       "    </tr>\n",
       "    <tr>\n",
       "      <th>CULEX TARSALIS</th>\n",
       "      <td>0.000000</td>\n",
       "      <td>6</td>\n",
       "    </tr>\n",
       "    <tr>\n",
       "      <th>CULEX TERRITANS</th>\n",
       "      <td>0.000000</td>\n",
       "      <td>222</td>\n",
       "    </tr>\n",
       "  </tbody>\n",
       "</table>\n",
       "</div>"
      ],
      "text/plain": [
       "                            mean  count\n",
       "Species                                \n",
       "CULEX ERRATICUS         0.000000      1\n",
       "CULEX PIPIENS           0.088922   2699\n",
       "CULEX PIPIENS/RESTUANS  0.055135   4752\n",
       "CULEX RESTUANS          0.017883   2740\n",
       "CULEX SALINARIUS        0.000000     86\n",
       "CULEX TARSALIS          0.000000      6\n",
       "CULEX TERRITANS         0.000000    222"
      ]
     },
     "execution_count": 27,
     "metadata": {},
     "output_type": "execute_result"
    }
   ],
   "source": [
    "# Proportion of WNV by species\n",
    "\n",
    "train.groupby('Species')['WnvPresent'].agg(['mean', 'count'])"
   ]
  },
  {
   "cell_type": "code",
   "execution_count": 141,
   "id": "373385da",
   "metadata": {},
   "outputs": [
    {
     "data": {
      "text/plain": [
       "5439"
      ]
     },
     "execution_count": 141,
     "metadata": {},
     "output_type": "execute_result"
    }
   ],
   "source": [
    "2740+2699"
   ]
  },
  {
   "cell_type": "code",
   "execution_count": null,
   "id": "3f0e7e10",
   "metadata": {},
   "outputs": [],
   "source": [
    "# Change Data column to date time\n",
    "test.set_index(pd.to_datetime(test['Date']), inplace=True)\n",
    "\n",
    "test['Date'].agg(['min', 'max']) # date range"
   ]
  }
 ],
 "metadata": {
  "kernelspec": {
   "display_name": "Python 3 (ipykernel)",
   "language": "python",
   "name": "python3"
  },
  "language_info": {
   "codemirror_mode": {
    "name": "ipython",
    "version": 3
   },
   "file_extension": ".py",
   "mimetype": "text/x-python",
   "name": "python",
   "nbconvert_exporter": "python",
   "pygments_lexer": "ipython3",
   "version": "3.8.12"
  }
 },
 "nbformat": 4,
 "nbformat_minor": 5
}
