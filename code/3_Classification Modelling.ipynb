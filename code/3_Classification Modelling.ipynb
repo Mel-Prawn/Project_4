{
 "cells": [
  {
   "cell_type": "markdown",
   "metadata": {},
   "source": [
    "# Contents"
   ]
  },
  {
   "cell_type": "code",
   "execution_count": 6,
   "metadata": {},
   "outputs": [],
   "source": [
    "import pandas as pd\n",
    "import numpy as np\n",
    "import seaborn as sns\n",
    "import matplotlib.pyplot as plt\n",
    "from datetime import datetime\n",
    "\n",
    "\n",
    "from sklearn import metrics\n",
    "from sklearn.metrics import confusion_matrix, plot_confusion_matrix, accuracy_score, \\\n",
    "    plot_roc_curve, roc_auc_score, recall_score, precision_score, f1_score, mean_squared_error\n",
    "\n",
    "\n",
    "from sklearn.linear_model import (\n",
    "    Ridge,RidgeCV,\n",
    "    Lasso,LassoCV,\n",
    "    ElasticNet, ElasticNetCV,\n",
    "    LinearRegression\n",
    ")\n",
    "\n",
    "from sklearn.model_selection import(\n",
    "    cross_val_score,\n",
    "    train_test_split\n",
    ")\n",
    "\n",
    "from sklearn.preprocessing import (\n",
    "    StandardScaler,\n",
    ")\n",
    "\n",
    "from imblearn.over_sampling import SMOTE\n",
    "from imblearn.pipeline import Pipeline, make_pipeline\n",
    "\n",
    "from sklearn.preprocessing import StandardScaler\n",
    "from sklearn.model_selection import train_test_split, cross_val_score, GridSearchCV\n",
    "from sklearn.linear_model import LogisticRegression\n",
    "from sklearn.ensemble import RandomForestClassifier\n",
    "from sklearn.svm import SVC\n",
    "from sklearn.inspection import permutation_importance\n",
    "\n",
    "from xgboost import XGBClassifier\n",
    "from xgboost import cv\n",
    "from xgboost import plot_importance\n",
    "import xgboost as xgb\n",
    "use_label_encoder=False\n",
    "\n",
    "# pd.set_option('display.max_rows', 1000)  # or 1000\n",
    "pd.set_option('display.max_columns', 50)  # or 1000"
   ]
  },
  {
   "cell_type": "markdown",
   "metadata": {},
   "source": [
    "# Exploratory Data Analysis"
   ]
  },
  {
   "cell_type": "code",
   "execution_count": 7,
   "metadata": {},
   "outputs": [],
   "source": [
    "lag_train = pd.read_csv('../data/lag7_g1.csv')"
   ]
  },
  {
   "cell_type": "code",
   "execution_count": 8,
   "metadata": {},
   "outputs": [
    {
     "data": {
      "text/html": [
       "<div>\n",
       "<style scoped>\n",
       "    .dataframe tbody tr th:only-of-type {\n",
       "        vertical-align: middle;\n",
       "    }\n",
       "\n",
       "    .dataframe tbody tr th {\n",
       "        vertical-align: top;\n",
       "    }\n",
       "\n",
       "    .dataframe thead th {\n",
       "        text-align: right;\n",
       "    }\n",
       "</style>\n",
       "<table border=\"1\" class=\"dataframe\">\n",
       "  <thead>\n",
       "    <tr style=\"text-align: right;\">\n",
       "      <th></th>\n",
       "      <th>wnvpresent</th>\n",
       "      <th>tmax</th>\n",
       "      <th>tmin</th>\n",
       "      <th>tavg</th>\n",
       "      <th>dewpoint</th>\n",
       "      <th>wetbulb</th>\n",
       "      <th>heat</th>\n",
       "      <th>cool</th>\n",
       "      <th>codesum</th>\n",
       "      <th>preciptotal</th>\n",
       "      <th>stnpressure</th>\n",
       "      <th>sealevel</th>\n",
       "      <th>resultspeed</th>\n",
       "      <th>resultdir</th>\n",
       "      <th>avgspeed</th>\n",
       "      <th>month</th>\n",
       "      <th>sunrise</th>\n",
       "      <th>sunset</th>\n",
       "      <th>bcfg</th>\n",
       "      <th>br</th>\n",
       "      <th>dz</th>\n",
       "      <th>fg</th>\n",
       "      <th>fg+</th>\n",
       "      <th>fu</th>\n",
       "      <th>hz</th>\n",
       "      <th>...</th>\n",
       "      <th>trap_T903.1</th>\n",
       "      <th>trap_T223.1</th>\n",
       "      <th>trap_T900.3</th>\n",
       "      <th>trap_T013.3</th>\n",
       "      <th>trap_T225.2</th>\n",
       "      <th>trap_T003.4</th>\n",
       "      <th>trap_T030.1</th>\n",
       "      <th>trap_T235</th>\n",
       "      <th>trap_T002.4</th>\n",
       "      <th>trap_T027.1</th>\n",
       "      <th>trap_T028.3</th>\n",
       "      <th>trap_T233</th>\n",
       "      <th>trap_T054</th>\n",
       "      <th>trap_T066</th>\n",
       "      <th>trap_T228</th>\n",
       "      <th>trap_T230.1</th>\n",
       "      <th>trap_T008.4</th>\n",
       "      <th>trap_T009.3</th>\n",
       "      <th>trap_T061.2</th>\n",
       "      <th>trap_T147</th>\n",
       "      <th>trap_T223.2</th>\n",
       "      <th>trap_T226</th>\n",
       "      <th>trap_T227</th>\n",
       "      <th>trap_T231</th>\n",
       "      <th>trap_T115.3</th>\n",
       "    </tr>\n",
       "  </thead>\n",
       "  <tbody>\n",
       "    <tr>\n",
       "      <th>0</th>\n",
       "      <td>0.0</td>\n",
       "      <td>87</td>\n",
       "      <td>60</td>\n",
       "      <td>73.5</td>\n",
       "      <td>44</td>\n",
       "      <td>58.0</td>\n",
       "      <td>0.0</td>\n",
       "      <td>9.0</td>\n",
       "      <td></td>\n",
       "      <td>0.000</td>\n",
       "      <td>29.41</td>\n",
       "      <td>30.05</td>\n",
       "      <td>10.1</td>\n",
       "      <td>16</td>\n",
       "      <td>10.6</td>\n",
       "      <td>5</td>\n",
       "      <td>4.416667</td>\n",
       "      <td>19.183333</td>\n",
       "      <td>0</td>\n",
       "      <td>0</td>\n",
       "      <td>0</td>\n",
       "      <td>0</td>\n",
       "      <td>0</td>\n",
       "      <td>0</td>\n",
       "      <td>0</td>\n",
       "      <td>...</td>\n",
       "      <td>0</td>\n",
       "      <td>0</td>\n",
       "      <td>0</td>\n",
       "      <td>0</td>\n",
       "      <td>0</td>\n",
       "      <td>0</td>\n",
       "      <td>0</td>\n",
       "      <td>0</td>\n",
       "      <td>0</td>\n",
       "      <td>0</td>\n",
       "      <td>0</td>\n",
       "      <td>0</td>\n",
       "      <td>0</td>\n",
       "      <td>0</td>\n",
       "      <td>0</td>\n",
       "      <td>0</td>\n",
       "      <td>0</td>\n",
       "      <td>0</td>\n",
       "      <td>0</td>\n",
       "      <td>0</td>\n",
       "      <td>0</td>\n",
       "      <td>0</td>\n",
       "      <td>0</td>\n",
       "      <td>0</td>\n",
       "      <td>0</td>\n",
       "    </tr>\n",
       "    <tr>\n",
       "      <th>1</th>\n",
       "      <td>0.0</td>\n",
       "      <td>87</td>\n",
       "      <td>60</td>\n",
       "      <td>73.5</td>\n",
       "      <td>44</td>\n",
       "      <td>58.0</td>\n",
       "      <td>0.0</td>\n",
       "      <td>9.0</td>\n",
       "      <td></td>\n",
       "      <td>0.000</td>\n",
       "      <td>29.41</td>\n",
       "      <td>30.05</td>\n",
       "      <td>10.1</td>\n",
       "      <td>16</td>\n",
       "      <td>10.6</td>\n",
       "      <td>5</td>\n",
       "      <td>4.416667</td>\n",
       "      <td>19.183333</td>\n",
       "      <td>0</td>\n",
       "      <td>0</td>\n",
       "      <td>0</td>\n",
       "      <td>0</td>\n",
       "      <td>0</td>\n",
       "      <td>0</td>\n",
       "      <td>0</td>\n",
       "      <td>...</td>\n",
       "      <td>0</td>\n",
       "      <td>0</td>\n",
       "      <td>0</td>\n",
       "      <td>0</td>\n",
       "      <td>0</td>\n",
       "      <td>0</td>\n",
       "      <td>0</td>\n",
       "      <td>0</td>\n",
       "      <td>0</td>\n",
       "      <td>0</td>\n",
       "      <td>0</td>\n",
       "      <td>0</td>\n",
       "      <td>0</td>\n",
       "      <td>0</td>\n",
       "      <td>0</td>\n",
       "      <td>0</td>\n",
       "      <td>0</td>\n",
       "      <td>0</td>\n",
       "      <td>0</td>\n",
       "      <td>0</td>\n",
       "      <td>0</td>\n",
       "      <td>0</td>\n",
       "      <td>0</td>\n",
       "      <td>0</td>\n",
       "      <td>0</td>\n",
       "    </tr>\n",
       "    <tr>\n",
       "      <th>2</th>\n",
       "      <td>0.0</td>\n",
       "      <td>87</td>\n",
       "      <td>60</td>\n",
       "      <td>73.5</td>\n",
       "      <td>44</td>\n",
       "      <td>58.0</td>\n",
       "      <td>0.0</td>\n",
       "      <td>9.0</td>\n",
       "      <td></td>\n",
       "      <td>0.000</td>\n",
       "      <td>29.41</td>\n",
       "      <td>30.05</td>\n",
       "      <td>10.1</td>\n",
       "      <td>16</td>\n",
       "      <td>10.6</td>\n",
       "      <td>5</td>\n",
       "      <td>4.416667</td>\n",
       "      <td>19.183333</td>\n",
       "      <td>0</td>\n",
       "      <td>0</td>\n",
       "      <td>0</td>\n",
       "      <td>0</td>\n",
       "      <td>0</td>\n",
       "      <td>0</td>\n",
       "      <td>0</td>\n",
       "      <td>...</td>\n",
       "      <td>0</td>\n",
       "      <td>0</td>\n",
       "      <td>0</td>\n",
       "      <td>0</td>\n",
       "      <td>0</td>\n",
       "      <td>0</td>\n",
       "      <td>0</td>\n",
       "      <td>0</td>\n",
       "      <td>0</td>\n",
       "      <td>0</td>\n",
       "      <td>0</td>\n",
       "      <td>0</td>\n",
       "      <td>0</td>\n",
       "      <td>0</td>\n",
       "      <td>0</td>\n",
       "      <td>0</td>\n",
       "      <td>0</td>\n",
       "      <td>0</td>\n",
       "      <td>0</td>\n",
       "      <td>0</td>\n",
       "      <td>0</td>\n",
       "      <td>0</td>\n",
       "      <td>0</td>\n",
       "      <td>0</td>\n",
       "      <td>0</td>\n",
       "    </tr>\n",
       "    <tr>\n",
       "      <th>3</th>\n",
       "      <td>0.0</td>\n",
       "      <td>87</td>\n",
       "      <td>60</td>\n",
       "      <td>73.5</td>\n",
       "      <td>44</td>\n",
       "      <td>58.0</td>\n",
       "      <td>0.0</td>\n",
       "      <td>9.0</td>\n",
       "      <td></td>\n",
       "      <td>0.000</td>\n",
       "      <td>29.41</td>\n",
       "      <td>30.05</td>\n",
       "      <td>10.1</td>\n",
       "      <td>16</td>\n",
       "      <td>10.6</td>\n",
       "      <td>5</td>\n",
       "      <td>4.416667</td>\n",
       "      <td>19.183333</td>\n",
       "      <td>0</td>\n",
       "      <td>0</td>\n",
       "      <td>0</td>\n",
       "      <td>0</td>\n",
       "      <td>0</td>\n",
       "      <td>0</td>\n",
       "      <td>0</td>\n",
       "      <td>...</td>\n",
       "      <td>0</td>\n",
       "      <td>0</td>\n",
       "      <td>0</td>\n",
       "      <td>0</td>\n",
       "      <td>0</td>\n",
       "      <td>0</td>\n",
       "      <td>0</td>\n",
       "      <td>0</td>\n",
       "      <td>0</td>\n",
       "      <td>0</td>\n",
       "      <td>0</td>\n",
       "      <td>0</td>\n",
       "      <td>0</td>\n",
       "      <td>0</td>\n",
       "      <td>0</td>\n",
       "      <td>0</td>\n",
       "      <td>0</td>\n",
       "      <td>0</td>\n",
       "      <td>0</td>\n",
       "      <td>0</td>\n",
       "      <td>0</td>\n",
       "      <td>0</td>\n",
       "      <td>0</td>\n",
       "      <td>0</td>\n",
       "      <td>0</td>\n",
       "    </tr>\n",
       "    <tr>\n",
       "      <th>4</th>\n",
       "      <td>0.0</td>\n",
       "      <td>87</td>\n",
       "      <td>60</td>\n",
       "      <td>73.5</td>\n",
       "      <td>44</td>\n",
       "      <td>58.0</td>\n",
       "      <td>0.0</td>\n",
       "      <td>9.0</td>\n",
       "      <td></td>\n",
       "      <td>0.000</td>\n",
       "      <td>29.41</td>\n",
       "      <td>30.05</td>\n",
       "      <td>10.1</td>\n",
       "      <td>16</td>\n",
       "      <td>10.6</td>\n",
       "      <td>5</td>\n",
       "      <td>4.416667</td>\n",
       "      <td>19.183333</td>\n",
       "      <td>0</td>\n",
       "      <td>0</td>\n",
       "      <td>0</td>\n",
       "      <td>0</td>\n",
       "      <td>0</td>\n",
       "      <td>0</td>\n",
       "      <td>0</td>\n",
       "      <td>...</td>\n",
       "      <td>0</td>\n",
       "      <td>0</td>\n",
       "      <td>0</td>\n",
       "      <td>0</td>\n",
       "      <td>0</td>\n",
       "      <td>0</td>\n",
       "      <td>0</td>\n",
       "      <td>0</td>\n",
       "      <td>0</td>\n",
       "      <td>0</td>\n",
       "      <td>0</td>\n",
       "      <td>0</td>\n",
       "      <td>0</td>\n",
       "      <td>0</td>\n",
       "      <td>0</td>\n",
       "      <td>0</td>\n",
       "      <td>0</td>\n",
       "      <td>0</td>\n",
       "      <td>0</td>\n",
       "      <td>0</td>\n",
       "      <td>0</td>\n",
       "      <td>0</td>\n",
       "      <td>0</td>\n",
       "      <td>0</td>\n",
       "      <td>0</td>\n",
       "    </tr>\n",
       "    <tr>\n",
       "      <th>...</th>\n",
       "      <td>...</td>\n",
       "      <td>...</td>\n",
       "      <td>...</td>\n",
       "      <td>...</td>\n",
       "      <td>...</td>\n",
       "      <td>...</td>\n",
       "      <td>...</td>\n",
       "      <td>...</td>\n",
       "      <td>...</td>\n",
       "      <td>...</td>\n",
       "      <td>...</td>\n",
       "      <td>...</td>\n",
       "      <td>...</td>\n",
       "      <td>...</td>\n",
       "      <td>...</td>\n",
       "      <td>...</td>\n",
       "      <td>...</td>\n",
       "      <td>...</td>\n",
       "      <td>...</td>\n",
       "      <td>...</td>\n",
       "      <td>...</td>\n",
       "      <td>...</td>\n",
       "      <td>...</td>\n",
       "      <td>...</td>\n",
       "      <td>...</td>\n",
       "      <td>...</td>\n",
       "      <td>...</td>\n",
       "      <td>...</td>\n",
       "      <td>...</td>\n",
       "      <td>...</td>\n",
       "      <td>...</td>\n",
       "      <td>...</td>\n",
       "      <td>...</td>\n",
       "      <td>...</td>\n",
       "      <td>...</td>\n",
       "      <td>...</td>\n",
       "      <td>...</td>\n",
       "      <td>...</td>\n",
       "      <td>...</td>\n",
       "      <td>...</td>\n",
       "      <td>...</td>\n",
       "      <td>...</td>\n",
       "      <td>...</td>\n",
       "      <td>...</td>\n",
       "      <td>...</td>\n",
       "      <td>...</td>\n",
       "      <td>...</td>\n",
       "      <td>...</td>\n",
       "      <td>...</td>\n",
       "      <td>...</td>\n",
       "      <td>...</td>\n",
       "    </tr>\n",
       "    <tr>\n",
       "      <th>8470</th>\n",
       "      <td>0.0</td>\n",
       "      <td>84</td>\n",
       "      <td>70</td>\n",
       "      <td>77.0</td>\n",
       "      <td>66</td>\n",
       "      <td>69.0</td>\n",
       "      <td>0.0</td>\n",
       "      <td>12.0</td>\n",
       "      <td>RA BR HZ</td>\n",
       "      <td>0.005</td>\n",
       "      <td>29.21</td>\n",
       "      <td>29.87</td>\n",
       "      <td>7.8</td>\n",
       "      <td>16</td>\n",
       "      <td>10.0</td>\n",
       "      <td>9</td>\n",
       "      <td>5.600000</td>\n",
       "      <td>17.916667</td>\n",
       "      <td>0</td>\n",
       "      <td>1</td>\n",
       "      <td>0</td>\n",
       "      <td>0</td>\n",
       "      <td>0</td>\n",
       "      <td>0</td>\n",
       "      <td>1</td>\n",
       "      <td>...</td>\n",
       "      <td>0</td>\n",
       "      <td>0</td>\n",
       "      <td>0</td>\n",
       "      <td>0</td>\n",
       "      <td>0</td>\n",
       "      <td>0</td>\n",
       "      <td>0</td>\n",
       "      <td>0</td>\n",
       "      <td>0</td>\n",
       "      <td>0</td>\n",
       "      <td>0</td>\n",
       "      <td>0</td>\n",
       "      <td>0</td>\n",
       "      <td>0</td>\n",
       "      <td>0</td>\n",
       "      <td>0</td>\n",
       "      <td>0</td>\n",
       "      <td>0</td>\n",
       "      <td>0</td>\n",
       "      <td>0</td>\n",
       "      <td>0</td>\n",
       "      <td>0</td>\n",
       "      <td>0</td>\n",
       "      <td>0</td>\n",
       "      <td>0</td>\n",
       "    </tr>\n",
       "    <tr>\n",
       "      <th>8471</th>\n",
       "      <td>0.0</td>\n",
       "      <td>84</td>\n",
       "      <td>70</td>\n",
       "      <td>77.0</td>\n",
       "      <td>66</td>\n",
       "      <td>69.0</td>\n",
       "      <td>0.0</td>\n",
       "      <td>12.0</td>\n",
       "      <td>RA BR HZ</td>\n",
       "      <td>0.005</td>\n",
       "      <td>29.21</td>\n",
       "      <td>29.87</td>\n",
       "      <td>7.8</td>\n",
       "      <td>16</td>\n",
       "      <td>10.0</td>\n",
       "      <td>9</td>\n",
       "      <td>5.600000</td>\n",
       "      <td>17.916667</td>\n",
       "      <td>0</td>\n",
       "      <td>1</td>\n",
       "      <td>0</td>\n",
       "      <td>0</td>\n",
       "      <td>0</td>\n",
       "      <td>0</td>\n",
       "      <td>1</td>\n",
       "      <td>...</td>\n",
       "      <td>0</td>\n",
       "      <td>0</td>\n",
       "      <td>0</td>\n",
       "      <td>0</td>\n",
       "      <td>0</td>\n",
       "      <td>0</td>\n",
       "      <td>0</td>\n",
       "      <td>0</td>\n",
       "      <td>0</td>\n",
       "      <td>0</td>\n",
       "      <td>0</td>\n",
       "      <td>0</td>\n",
       "      <td>0</td>\n",
       "      <td>0</td>\n",
       "      <td>0</td>\n",
       "      <td>0</td>\n",
       "      <td>0</td>\n",
       "      <td>0</td>\n",
       "      <td>0</td>\n",
       "      <td>0</td>\n",
       "      <td>0</td>\n",
       "      <td>0</td>\n",
       "      <td>0</td>\n",
       "      <td>0</td>\n",
       "      <td>0</td>\n",
       "    </tr>\n",
       "    <tr>\n",
       "      <th>8472</th>\n",
       "      <td>0.0</td>\n",
       "      <td>84</td>\n",
       "      <td>70</td>\n",
       "      <td>77.0</td>\n",
       "      <td>66</td>\n",
       "      <td>69.0</td>\n",
       "      <td>0.0</td>\n",
       "      <td>12.0</td>\n",
       "      <td>RA BR HZ</td>\n",
       "      <td>0.005</td>\n",
       "      <td>29.21</td>\n",
       "      <td>29.87</td>\n",
       "      <td>7.8</td>\n",
       "      <td>16</td>\n",
       "      <td>10.0</td>\n",
       "      <td>9</td>\n",
       "      <td>5.600000</td>\n",
       "      <td>17.916667</td>\n",
       "      <td>0</td>\n",
       "      <td>1</td>\n",
       "      <td>0</td>\n",
       "      <td>0</td>\n",
       "      <td>0</td>\n",
       "      <td>0</td>\n",
       "      <td>1</td>\n",
       "      <td>...</td>\n",
       "      <td>0</td>\n",
       "      <td>0</td>\n",
       "      <td>0</td>\n",
       "      <td>0</td>\n",
       "      <td>0</td>\n",
       "      <td>0</td>\n",
       "      <td>0</td>\n",
       "      <td>0</td>\n",
       "      <td>0</td>\n",
       "      <td>0</td>\n",
       "      <td>0</td>\n",
       "      <td>0</td>\n",
       "      <td>0</td>\n",
       "      <td>0</td>\n",
       "      <td>0</td>\n",
       "      <td>0</td>\n",
       "      <td>0</td>\n",
       "      <td>0</td>\n",
       "      <td>0</td>\n",
       "      <td>0</td>\n",
       "      <td>0</td>\n",
       "      <td>0</td>\n",
       "      <td>0</td>\n",
       "      <td>0</td>\n",
       "      <td>0</td>\n",
       "    </tr>\n",
       "    <tr>\n",
       "      <th>8473</th>\n",
       "      <td>0.0</td>\n",
       "      <td>84</td>\n",
       "      <td>70</td>\n",
       "      <td>77.0</td>\n",
       "      <td>66</td>\n",
       "      <td>69.0</td>\n",
       "      <td>0.0</td>\n",
       "      <td>12.0</td>\n",
       "      <td>RA BR HZ</td>\n",
       "      <td>0.005</td>\n",
       "      <td>29.21</td>\n",
       "      <td>29.87</td>\n",
       "      <td>7.8</td>\n",
       "      <td>16</td>\n",
       "      <td>10.0</td>\n",
       "      <td>9</td>\n",
       "      <td>5.600000</td>\n",
       "      <td>17.916667</td>\n",
       "      <td>0</td>\n",
       "      <td>1</td>\n",
       "      <td>0</td>\n",
       "      <td>0</td>\n",
       "      <td>0</td>\n",
       "      <td>0</td>\n",
       "      <td>1</td>\n",
       "      <td>...</td>\n",
       "      <td>0</td>\n",
       "      <td>0</td>\n",
       "      <td>0</td>\n",
       "      <td>0</td>\n",
       "      <td>0</td>\n",
       "      <td>0</td>\n",
       "      <td>0</td>\n",
       "      <td>0</td>\n",
       "      <td>0</td>\n",
       "      <td>0</td>\n",
       "      <td>0</td>\n",
       "      <td>0</td>\n",
       "      <td>0</td>\n",
       "      <td>0</td>\n",
       "      <td>0</td>\n",
       "      <td>0</td>\n",
       "      <td>0</td>\n",
       "      <td>0</td>\n",
       "      <td>0</td>\n",
       "      <td>0</td>\n",
       "      <td>0</td>\n",
       "      <td>0</td>\n",
       "      <td>0</td>\n",
       "      <td>0</td>\n",
       "      <td>0</td>\n",
       "    </tr>\n",
       "    <tr>\n",
       "      <th>8474</th>\n",
       "      <td>0.0</td>\n",
       "      <td>84</td>\n",
       "      <td>70</td>\n",
       "      <td>77.0</td>\n",
       "      <td>66</td>\n",
       "      <td>69.0</td>\n",
       "      <td>0.0</td>\n",
       "      <td>12.0</td>\n",
       "      <td>RA BR HZ</td>\n",
       "      <td>0.005</td>\n",
       "      <td>29.21</td>\n",
       "      <td>29.87</td>\n",
       "      <td>7.8</td>\n",
       "      <td>16</td>\n",
       "      <td>10.0</td>\n",
       "      <td>9</td>\n",
       "      <td>5.600000</td>\n",
       "      <td>17.916667</td>\n",
       "      <td>0</td>\n",
       "      <td>1</td>\n",
       "      <td>0</td>\n",
       "      <td>0</td>\n",
       "      <td>0</td>\n",
       "      <td>0</td>\n",
       "      <td>1</td>\n",
       "      <td>...</td>\n",
       "      <td>0</td>\n",
       "      <td>0</td>\n",
       "      <td>0</td>\n",
       "      <td>0</td>\n",
       "      <td>0</td>\n",
       "      <td>0</td>\n",
       "      <td>0</td>\n",
       "      <td>0</td>\n",
       "      <td>0</td>\n",
       "      <td>0</td>\n",
       "      <td>0</td>\n",
       "      <td>0</td>\n",
       "      <td>0</td>\n",
       "      <td>0</td>\n",
       "      <td>0</td>\n",
       "      <td>0</td>\n",
       "      <td>0</td>\n",
       "      <td>0</td>\n",
       "      <td>0</td>\n",
       "      <td>0</td>\n",
       "      <td>0</td>\n",
       "      <td>1</td>\n",
       "      <td>0</td>\n",
       "      <td>0</td>\n",
       "      <td>0</td>\n",
       "    </tr>\n",
       "  </tbody>\n",
       "</table>\n",
       "<p>8475 rows × 164 columns</p>\n",
       "</div>"
      ],
      "text/plain": [
       "      wnvpresent  tmax  tmin  tavg  dewpoint  wetbulb  heat  cool   codesum  \\\n",
       "0            0.0    87    60  73.5        44     58.0   0.0   9.0             \n",
       "1            0.0    87    60  73.5        44     58.0   0.0   9.0             \n",
       "2            0.0    87    60  73.5        44     58.0   0.0   9.0             \n",
       "3            0.0    87    60  73.5        44     58.0   0.0   9.0             \n",
       "4            0.0    87    60  73.5        44     58.0   0.0   9.0             \n",
       "...          ...   ...   ...   ...       ...      ...   ...   ...       ...   \n",
       "8470         0.0    84    70  77.0        66     69.0   0.0  12.0  RA BR HZ   \n",
       "8471         0.0    84    70  77.0        66     69.0   0.0  12.0  RA BR HZ   \n",
       "8472         0.0    84    70  77.0        66     69.0   0.0  12.0  RA BR HZ   \n",
       "8473         0.0    84    70  77.0        66     69.0   0.0  12.0  RA BR HZ   \n",
       "8474         0.0    84    70  77.0        66     69.0   0.0  12.0  RA BR HZ   \n",
       "\n",
       "      preciptotal  stnpressure  sealevel  resultspeed  resultdir  avgspeed  \\\n",
       "0           0.000        29.41     30.05         10.1         16      10.6   \n",
       "1           0.000        29.41     30.05         10.1         16      10.6   \n",
       "2           0.000        29.41     30.05         10.1         16      10.6   \n",
       "3           0.000        29.41     30.05         10.1         16      10.6   \n",
       "4           0.000        29.41     30.05         10.1         16      10.6   \n",
       "...           ...          ...       ...          ...        ...       ...   \n",
       "8470        0.005        29.21     29.87          7.8         16      10.0   \n",
       "8471        0.005        29.21     29.87          7.8         16      10.0   \n",
       "8472        0.005        29.21     29.87          7.8         16      10.0   \n",
       "8473        0.005        29.21     29.87          7.8         16      10.0   \n",
       "8474        0.005        29.21     29.87          7.8         16      10.0   \n",
       "\n",
       "      month   sunrise     sunset  bcfg  br  dz  fg  fg+  fu  hz  ...  \\\n",
       "0         5  4.416667  19.183333     0   0   0   0    0   0   0  ...   \n",
       "1         5  4.416667  19.183333     0   0   0   0    0   0   0  ...   \n",
       "2         5  4.416667  19.183333     0   0   0   0    0   0   0  ...   \n",
       "3         5  4.416667  19.183333     0   0   0   0    0   0   0  ...   \n",
       "4         5  4.416667  19.183333     0   0   0   0    0   0   0  ...   \n",
       "...     ...       ...        ...   ...  ..  ..  ..  ...  ..  ..  ...   \n",
       "8470      9  5.600000  17.916667     0   1   0   0    0   0   1  ...   \n",
       "8471      9  5.600000  17.916667     0   1   0   0    0   0   1  ...   \n",
       "8472      9  5.600000  17.916667     0   1   0   0    0   0   1  ...   \n",
       "8473      9  5.600000  17.916667     0   1   0   0    0   0   1  ...   \n",
       "8474      9  5.600000  17.916667     0   1   0   0    0   0   1  ...   \n",
       "\n",
       "      trap_T903.1  trap_T223.1  trap_T900.3  trap_T013.3  trap_T225.2  \\\n",
       "0               0            0            0            0            0   \n",
       "1               0            0            0            0            0   \n",
       "2               0            0            0            0            0   \n",
       "3               0            0            0            0            0   \n",
       "4               0            0            0            0            0   \n",
       "...           ...          ...          ...          ...          ...   \n",
       "8470            0            0            0            0            0   \n",
       "8471            0            0            0            0            0   \n",
       "8472            0            0            0            0            0   \n",
       "8473            0            0            0            0            0   \n",
       "8474            0            0            0            0            0   \n",
       "\n",
       "      trap_T003.4  trap_T030.1  trap_T235  trap_T002.4  trap_T027.1  \\\n",
       "0               0            0          0            0            0   \n",
       "1               0            0          0            0            0   \n",
       "2               0            0          0            0            0   \n",
       "3               0            0          0            0            0   \n",
       "4               0            0          0            0            0   \n",
       "...           ...          ...        ...          ...          ...   \n",
       "8470            0            0          0            0            0   \n",
       "8471            0            0          0            0            0   \n",
       "8472            0            0          0            0            0   \n",
       "8473            0            0          0            0            0   \n",
       "8474            0            0          0            0            0   \n",
       "\n",
       "      trap_T028.3  trap_T233  trap_T054  trap_T066  trap_T228  trap_T230.1  \\\n",
       "0               0          0          0          0          0            0   \n",
       "1               0          0          0          0          0            0   \n",
       "2               0          0          0          0          0            0   \n",
       "3               0          0          0          0          0            0   \n",
       "4               0          0          0          0          0            0   \n",
       "...           ...        ...        ...        ...        ...          ...   \n",
       "8470            0          0          0          0          0            0   \n",
       "8471            0          0          0          0          0            0   \n",
       "8472            0          0          0          0          0            0   \n",
       "8473            0          0          0          0          0            0   \n",
       "8474            0          0          0          0          0            0   \n",
       "\n",
       "      trap_T008.4  trap_T009.3  trap_T061.2  trap_T147  trap_T223.2  \\\n",
       "0               0            0            0          0            0   \n",
       "1               0            0            0          0            0   \n",
       "2               0            0            0          0            0   \n",
       "3               0            0            0          0            0   \n",
       "4               0            0            0          0            0   \n",
       "...           ...          ...          ...        ...          ...   \n",
       "8470            0            0            0          0            0   \n",
       "8471            0            0            0          0            0   \n",
       "8472            0            0            0          0            0   \n",
       "8473            0            0            0          0            0   \n",
       "8474            0            0            0          0            0   \n",
       "\n",
       "      trap_T226  trap_T227  trap_T231  trap_T115.3  \n",
       "0             0          0          0            0  \n",
       "1             0          0          0            0  \n",
       "2             0          0          0            0  \n",
       "3             0          0          0            0  \n",
       "4             0          0          0            0  \n",
       "...         ...        ...        ...          ...  \n",
       "8470          0          0          0            0  \n",
       "8471          0          0          0            0  \n",
       "8472          0          0          0            0  \n",
       "8473          0          0          0            0  \n",
       "8474          1          0          0            0  \n",
       "\n",
       "[8475 rows x 164 columns]"
      ]
     },
     "execution_count": 8,
     "metadata": {},
     "output_type": "execute_result"
    }
   ],
   "source": [
    "lag_train"
   ]
  },
  {
   "cell_type": "code",
   "execution_count": 9,
   "metadata": {},
   "outputs": [],
   "source": [
    "merged_train = pd.read_csv('../data/merged_train.csv')\n",
    "merged_test = pd.read_csv('../data/merged_test.csv')"
   ]
  },
  {
   "cell_type": "code",
   "execution_count": 10,
   "metadata": {},
   "outputs": [],
   "source": [
    "# convert date time \n",
    "merged_train['date'] = pd.to_datetime(merged_train['date'])\n",
    "merged_test['date'] = pd.to_datetime(merged_test['date'])"
   ]
  },
  {
   "cell_type": "code",
   "execution_count": 11,
   "metadata": {},
   "outputs": [
    {
     "data": {
      "text/plain": [
       "(116293, 39)"
      ]
     },
     "execution_count": 11,
     "metadata": {},
     "output_type": "execute_result"
    }
   ],
   "source": [
    "merged_test.shape"
   ]
  },
  {
   "cell_type": "code",
   "execution_count": 12,
   "metadata": {},
   "outputs": [
    {
     "data": {
      "text/plain": [
       "Text(0.69, 0.5, '5.39% of 8475 observations\\nare from the Positive class (1),\\nie. WNV present')"
      ]
     },
     "execution_count": 12,
     "metadata": {},
     "output_type": "execute_result"
    },
    {
     "data": {
      "image/png": "[encoded data removed]",
      "text/plain": [
       "<Figure size 576x576 with 1 Axes>"
      ]
     },
     "metadata": {
      "needs_background": "light"
     },
     "output_type": "display_data"
    }
   ],
   "source": [
    "# Plotting the balance of classes on a countplot.\n",
    "\n",
    "wnv_notpresent = merged_train['wnvpresent'].value_counts()[0]\n",
    "wnv_present = merged_train['wnvpresent'].value_counts()[1]\n",
    "neg_pct = merged_train['wnvpresent'].value_counts(normalize=True)[0] * 100\n",
    "pos_pct = merged_train['wnvpresent'].value_counts(normalize=True)[1] * 100\n",
    "total = wnv_notpresent + wnv_present\n",
    "\n",
    "# set up figure size \n",
    "plt.figure(figsize=(8,8))\n",
    "\n",
    "# plot countplot\n",
    "ax = sns.countplot(x='wnvpresent', data=merged_train)\n",
    "\n",
    "\n",
    "# set labels for X and y and titles\n",
    "ax.set_xticklabels(['Negative class (0)\\nWNV not present', 'Positive class(1)\\nWNV present'])\n",
    "ax.tick_params(axis='both', labelsize=12)\n",
    "\n",
    "plt.xlabel(\"WnvPresent\", fontsize=15)\n",
    "plt.ylabel(\"Counts\", fontsize=15)\n",
    "\n",
    "plt.title(\"Barplot displaying balance of classes\", fontdict = {'size' : 18, 'weight': 'bold'})\n",
    "\n",
    "# to plot number of points in each class \n",
    "plt.text(x=0, y=wnv_notpresent+100, s=str(wnv_notpresent) + ' (' + str(round(neg_pct,2)) + '%)', fontsize=13, ha='center')\n",
    "plt.text(x=1, y=wnv_present+100, s=str(wnv_present) + ' (' + str(round(pos_pct,2)) + '%)', fontsize=13, ha='center')\n",
    "\n",
    "# set up red text \n",
    "plt.figtext(x=0.69, \n",
    "            y=0.5, \n",
    "            s=f\"{round(pos_pct, 2)}% of {total} observations\\nare from the Positive class (1),\\nie. WNV present\", \n",
    "            fontdict = {'size' : 12, 'weight': 'semibold'},\n",
    "            ha='center',\n",
    "            color = 'red',\n",
    "           )\n"
   ]
  },
  {
   "cell_type": "markdown",
   "metadata": {},
   "source": [
    "From the above, we can see that the classes are very unbalanced. Of the 8475 observations, only 457 `(5.5%) are from the positive class` ie. West Nile Virus present (WvvPresent == 1) while 8018 (94.61%) observations from the negative class, ie. West Nile Virus not present (WvvPresent == 0)\n",
    "\n",
    "We will need to explore ways to balance the two classes before modelling "
   ]
  },
  {
   "cell_type": "markdown",
   "metadata": {},
   "source": [
    "# Model Preparation"
   ]
  },
  {
   "cell_type": "markdown",
   "metadata": {},
   "source": [
    "## Modelling Approaches"
   ]
  },
  {
   "cell_type": "markdown",
   "metadata": {},
   "source": [
    "As seen from the above, the classes in this case is unbalanced. We will need to deploy balancing techniques like `over-sampling` using imblearn `SMOTE` and also adjust `class_weights` on certain classifiers like RandomForestClassifier. \n",
    "\n",
    "We will be using these following models \n",
    "- Logistic Regression  \n",
    "- RandomForestClassifier\n",
    "- XGboost "
   ]
  },
  {
   "cell_type": "markdown",
   "metadata": {},
   "source": [
    "## Classification Matrix"
   ]
  },
  {
   "cell_type": "markdown",
   "metadata": {},
   "source": [
    "In the context of this project, we define our **positive class as the presence of WNV *(WnvPresent = 1)*, and the negative class as the absence of WNV *(WnvPresent = 0)***.\n",
    "\n",
    "`Accuracy` is defined as the total number of correct predictions over the total number of predictions made. Essentially, this refers to the correct predictions of mosquitos trapped containing WNV virus over the total number of predictions made.\n",
    "\n",
    "While `Accuracy` is a good overall measure of the model's performance, a high score doesnt reflect how well it is predicting for each class. For example, having high score, could also mean having very good predictions of mosquitos NOT having WNV (due to high skew of data towards no WnvPresent), that would overshadow class that contains correct predictions for those carrying WNV. \n",
    "\n",
    "Hence we need `sensitivity` and `specificity` as well to measure the true positive and true negative rate and achieve balance between the two. \n",
    "\n",
    "To answer the part on `calculating the cost involved to deploy the the pesticides` throughout the city of Chicago, having high amount of false positives will result in increased cost for spraying these pesticides. On the other hand, having `large number of false negatives could potentially lead to an outbreak of WNV which would greatly affect the economy should Chicago be forced to take drastic measures to contain it`. Hence, the team has decided it would be better to focus on having `minimal false negatives` than false positives hence leaning towards `sensitivity` than `specificity`. "
   ]
  },
  {
   "cell_type": "markdown",
   "metadata": {},
   "source": [
    "### Instantiate X and y variables"
   ]
  },
  {
   "cell_type": "code",
   "execution_count": 13,
   "metadata": {},
   "outputs": [],
   "source": [
    "merged_train = pd.get_dummies(merged_train, columns = ['species'], drop_first = True)\n",
    "merged_test = pd.get_dummies(merged_test, columns = ['species'], drop_first = True)"
   ]
  },
  {
   "cell_type": "code",
   "execution_count": 14,
   "metadata": {},
   "outputs": [
    {
     "data": {
      "text/plain": [
       "Index(['date', 'latitude', 'longitude', 'trap', 'nummosquitos', 'wnvpresent',\n",
       "       'wnvcount', 'station', 'tmax', 'tmin', 'tavg', 'dewpoint', 'wetbulb',\n",
       "       'heat', 'cool', 'codesum', 'preciptotal', 'stnpressure', 'sealevel',\n",
       "       'resultspeed', 'resultdir', 'avgspeed', 'month', 'sunrise', 'sunset',\n",
       "       'bcfg', 'br', 'dz', 'fg', 'fg+', 'fu', 'hz', 'mifg', 'ra', 'sn', 'sq',\n",
       "       'ts', 'tsra', 'vcts', 'gr', 'vcfg', 'sprayed', 'species_CULEX PIPIENS',\n",
       "       'species_CULEX PIPIENS/RESTUANS', 'species_CULEX RESTUANS',\n",
       "       'species_CULEX SALINARIUS', 'species_CULEX TARSALIS',\n",
       "       'species_CULEX TERRITANS'],\n",
       "      dtype='object')"
      ]
     },
     "execution_count": 14,
     "metadata": {},
     "output_type": "execute_result"
    }
   ],
   "source": [
    "merged_train.columns"
   ]
  },
  {
   "cell_type": "code",
   "execution_count": 16,
   "metadata": {},
   "outputs": [
    {
     "data": {
      "text/plain": [
       "Index(['wnvpresent', 'tmax', 'tmin', 'tavg', 'dewpoint', 'wetbulb', 'heat',\n",
       "       'cool', 'codesum', 'preciptotal',\n",
       "       ...\n",
       "       'trap_T230.1', 'trap_T008.4', 'trap_T009.3', 'trap_T061.2', 'trap_T147',\n",
       "       'trap_T223.2', 'trap_T226', 'trap_T227', 'trap_T231', 'trap_T115.3'],\n",
       "      dtype='object', length=164)"
      ]
     },
     "execution_count": 16,
     "metadata": {},
     "output_type": "execute_result"
    }
   ],
   "source": [
    "lag_train.columns"
   ]
  },
  {
   "cell_type": "code",
   "execution_count": 28,
   "metadata": {},
   "outputs": [],
   "source": [
    "X = lag_train.drop(columns = ['wnvpresent','codesum'])\n",
    "y = lag_train['wnvpresent']"
   ]
  },
  {
   "cell_type": "code",
   "execution_count": 29,
   "metadata": {},
   "outputs": [],
   "source": [
    "# X = merged_train[[col for col in merged_train.columns if (merged_train[col].dtypes !='O') & (col not in ['date','block','addressaccuracy','nummosquitos','wnvcount','wnvpresent', 'station','species_CULEX SALINARIUS',\n",
    "#  'species_CULEX TARSALIS',\n",
    "#  'species_CULEX TERRITANS'])]]\n",
    "# y = merged_train['wnvpresent']"
   ]
  },
  {
   "cell_type": "code",
   "execution_count": 30,
   "metadata": {},
   "outputs": [],
   "source": [
    "kaggle_test = merged_test[[col for col in merged_test.columns if (merged_test[col].dtypes !='O') & (col not in ['date','block','addressaccuracy', 'station','species_CULEX SALINARIUS',\n",
    " 'species_CULEX TARSALIS',\n",
    " 'species_CULEX TERRITANS','species_UNSPECIFIED CULEX'])]]"
   ]
  },
  {
   "cell_type": "code",
   "execution_count": 31,
   "metadata": {},
   "outputs": [
    {
     "data": {
      "text/plain": [
       "(8475, 162)"
      ]
     },
     "execution_count": 31,
     "metadata": {},
     "output_type": "execute_result"
    }
   ],
   "source": [
    "X.shape"
   ]
  },
  {
   "cell_type": "code",
   "execution_count": 32,
   "metadata": {},
   "outputs": [
    {
     "data": {
      "text/plain": [
       "(116293, 38)"
      ]
     },
     "execution_count": 32,
     "metadata": {},
     "output_type": "execute_result"
    }
   ],
   "source": [
    "kaggle_test.shape"
   ]
  },
  {
   "cell_type": "markdown",
   "metadata": {},
   "source": [
    "Train test split"
   ]
  },
  {
   "cell_type": "code",
   "execution_count": 33,
   "metadata": {},
   "outputs": [],
   "source": [
    "# Splitting X and y into training and testing datasets.\n",
    "\n",
    "X_train, X_test, y_train, y_test = train_test_split(X, y, stratify=y, random_state=42)"
   ]
  },
  {
   "cell_type": "code",
   "execution_count": 34,
   "metadata": {},
   "outputs": [],
   "source": [
    "# Scaling X_train to the standard scale.\n",
    "\n",
    "ss = StandardScaler()\n",
    "X_train_sc = ss.fit_transform(X_train)\n",
    "\n",
    "# Transforming X_test to the same scale.\n",
    "\n",
    "X_test_sc = ss.transform(X_test)"
   ]
  },
  {
   "cell_type": "code",
   "execution_count": 36,
   "metadata": {},
   "outputs": [],
   "source": [
    "# # Transforming actual test dataframe to the same scale (to generate predictions for kaggle submission later).\n",
    "\n",
    "# kaggle_test_sc = ss.transform(kaggle_test)"
   ]
  },
  {
   "cell_type": "markdown",
   "metadata": {},
   "source": [
    "# Classification Modelling"
   ]
  },
  {
   "cell_type": "markdown",
   "metadata": {},
   "source": [
    "### Class balancing Technique\n",
    "\n",
    "We will be using only `smote` for this project"
   ]
  },
  {
   "cell_type": "code",
   "execution_count": 37,
   "metadata": {},
   "outputs": [],
   "source": [
    "# instantiate SMOTE\n",
    "smote = SMOTE(random_state=42)"
   ]
  },
  {
   "cell_type": "code",
   "execution_count": 38,
   "metadata": {},
   "outputs": [],
   "source": [
    "X_train_sc_smote, y_train_smote = smote.fit_resample(X_train_sc, y_train)"
   ]
  },
  {
   "cell_type": "code",
   "execution_count": 39,
   "metadata": {},
   "outputs": [
    {
     "data": {
      "text/plain": [
       "0.0    6013\n",
       "1.0    6013\n",
       "Name: wnvpresent, dtype: int64"
      ]
     },
     "execution_count": 39,
     "metadata": {},
     "output_type": "execute_result"
    }
   ],
   "source": [
    "# Checking the distribution of classes with SMOTE balancing technique.\n",
    "\n",
    "y_train_smote.value_counts()"
   ]
  },
  {
   "cell_type": "markdown",
   "metadata": {},
   "source": [
    "We can see the library helped balance the proportions between two classes. \n",
    "\n",
    "`SMOTE` is an over-sampling method, that creates copies of the minority class data points with small variations, making synthetic samples more diverse [source](https://www.analyticsvidhya.com/blog/2020/10/overcoming-class-imbalance-using-smote-techniques/). Hence we see the number of data points for the positive class matching with the negative class"
   ]
  },
  {
   "cell_type": "markdown",
   "metadata": {},
   "source": [
    "### Logistic regression & SMOTE"
   ]
  },
  {
   "cell_type": "code",
   "execution_count": 40,
   "metadata": {},
   "outputs": [],
   "source": [
    "# Creating a pipeline object using imblearn.pipeline with SMOTE and LogisticRegression.\n",
    "\n",
    "pipe_logreg = make_pipeline(SMOTE(random_state=42),\n",
    "                      LogisticRegression(penalty='elasticnet', solver='saga', random_state=42, max_iter=1000)\n",
    "                     )"
   ]
  },
  {
   "cell_type": "code",
   "execution_count": 41,
   "metadata": {},
   "outputs": [
    {
     "data": {
      "text/plain": [
       "{'memory': None,\n",
       " 'steps': [('smote', SMOTE(random_state=42)),\n",
       "  ('logisticregression',\n",
       "   LogisticRegression(max_iter=1000, penalty='elasticnet', random_state=42,\n",
       "                      solver='saga'))],\n",
       " 'verbose': False,\n",
       " 'smote': SMOTE(random_state=42),\n",
       " 'logisticregression': LogisticRegression(max_iter=1000, penalty='elasticnet', random_state=42,\n",
       "                    solver='saga'),\n",
       " 'smote__k_neighbors': 5,\n",
       " 'smote__n_jobs': None,\n",
       " 'smote__random_state': 42,\n",
       " 'smote__sampling_strategy': 'auto',\n",
       " 'logisticregression__C': 1.0,\n",
       " 'logisticregression__class_weight': None,\n",
       " 'logisticregression__dual': False,\n",
       " 'logisticregression__fit_intercept': True,\n",
       " 'logisticregression__intercept_scaling': 1,\n",
       " 'logisticregression__l1_ratio': None,\n",
       " 'logisticregression__max_iter': 1000,\n",
       " 'logisticregression__multi_class': 'auto',\n",
       " 'logisticregression__n_jobs': None,\n",
       " 'logisticregression__penalty': 'elasticnet',\n",
       " 'logisticregression__random_state': 42,\n",
       " 'logisticregression__solver': 'saga',\n",
       " 'logisticregression__tol': 0.0001,\n",
       " 'logisticregression__verbose': 0,\n",
       " 'logisticregression__warm_start': False}"
      ]
     },
     "execution_count": 41,
     "metadata": {},
     "output_type": "execute_result"
    }
   ],
   "source": [
    "pipe_logreg.get_params()"
   ]
  },
  {
   "cell_type": "code",
   "execution_count": 42,
   "metadata": {},
   "outputs": [],
   "source": [
    "# {'logisticregression__C': 2.7777777777777777,\n",
    "#  'logisticregression__l1_ratio': 1}"
   ]
  },
  {
   "cell_type": "code",
   "execution_count": 43,
   "metadata": {},
   "outputs": [],
   "source": [
    "# Establishing ranges of hyperparameters C and l1_ratio for GridSearchCV, and class_weight.\n",
    "\n",
    "pipe_logreg_params = {\n",
    "    'logisticregression__C': [2.77],\n",
    "    'logisticregression__l1_ratio': [1],\n",
    "    }"
   ]
  },
  {
   "cell_type": "code",
   "execution_count": 44,
   "metadata": {},
   "outputs": [],
   "source": [
    "# Creating a GridSearchCV with scoring of ROC_AUC\n",
    "\n",
    "gs_logreg = GridSearchCV(pipe_logreg, \n",
    "                        param_grid=pipe_logreg_params, \n",
    "                        cv=5, \n",
    "                        scoring='roc_auc',\n",
    "                        n_jobs = -1\n",
    "                       )"
   ]
  },
  {
   "cell_type": "code",
   "execution_count": 45,
   "metadata": {},
   "outputs": [
    {
     "name": "stderr",
     "output_type": "stream",
     "text": [
      "C:\\Users\\Admin\\.conda\\envs\\myenv\\lib\\site-packages\\sklearn\\linear_model\\_sag.py:352: ConvergenceWarning: The max_iter was reached which means the coef_ did not converge\n",
      "  warnings.warn(\n"
     ]
    },
    {
     "data": {
      "text/plain": [
       "GridSearchCV(cv=5,\n",
       "             estimator=Pipeline(steps=[('smote', SMOTE(random_state=42)),\n",
       "                                       ('logisticregression',\n",
       "                                        LogisticRegression(max_iter=1000,\n",
       "                                                           penalty='elasticnet',\n",
       "                                                           random_state=42,\n",
       "                                                           solver='saga'))]),\n",
       "             n_jobs=-1,\n",
       "             param_grid={'logisticregression__C': [2.77],\n",
       "                         'logisticregression__l1_ratio': [1]},\n",
       "             scoring='roc_auc')"
      ]
     },
     "execution_count": 45,
     "metadata": {},
     "output_type": "execute_result"
    }
   ],
   "source": [
    "# Fitting GridSearchCV with SMOTE and LogisticRegression on X_train_sc and y_train.\n",
    "\n",
    "gs_logreg.fit(X_train_sc, y_train)"
   ]
  },
  {
   "cell_type": "code",
   "execution_count": 46,
   "metadata": {},
   "outputs": [
    {
     "data": {
      "text/plain": [
       "{'logisticregression__C': 2.77, 'logisticregression__l1_ratio': 1}"
      ]
     },
     "execution_count": 46,
     "metadata": {},
     "output_type": "execute_result"
    }
   ],
   "source": [
    "gs_logreg.best_params_"
   ]
  },
  {
   "cell_type": "code",
   "execution_count": 47,
   "metadata": {},
   "outputs": [],
   "source": [
    "# Scoring model for all matrix \n",
    "\n",
    "train_acc = gs_logreg.score(X_train_sc, y_train)\n",
    "cross_val_acc = gs_logreg.best_score_\n",
    "test_acc = gs_logreg.score(X_test_sc, y_test)\n",
    "preds = gs_logreg.predict(X_test_sc)\n",
    "y_pred_proba = gs_logreg.predict_proba(X_test_sc)\n",
    "\n",
    "confusion_matrix(y_test, # True values.\n",
    "                 preds)# Predicted values.\n",
    "tn, fp, fn, tp = confusion_matrix(y_test, preds).ravel();\n",
    "\n",
    "sensitivity = tp/(tp+fn)\n",
    "specificity = tn/(tn+fp)\n",
    "precision = tp/(tp+fp)\n",
    "roc_auc  = roc_auc_score(y_test, y_pred_proba[:,1])\n"
   ]
  },
  {
   "cell_type": "code",
   "execution_count": 48,
   "metadata": {},
   "outputs": [
    {
     "name": "stderr",
     "output_type": "stream",
     "text": [
      "C:\\Users\\Admin\\.conda\\envs\\myenv\\lib\\site-packages\\sklearn\\utils\\deprecation.py:87: FutureWarning: Function plot_confusion_matrix is deprecated; Function `plot_confusion_matrix` is deprecated in 1.0 and will be removed in 1.2. Use one of the class methods: ConfusionMatrixDisplay.from_predictions or ConfusionMatrixDisplay.from_estimator.\n",
      "  warnings.warn(msg, category=FutureWarning)\n"
     ]
    },
    {
     "data": {
      "image/png": "[encoded data removed]",
      "text/plain": [
       "<Figure size 432x288 with 2 Axes>"
      ]
     },
     "metadata": {
      "needs_background": "light"
     },
     "output_type": "display_data"
    }
   ],
   "source": [
    "# Plot Confusion matrix\n",
    "plot_confusion_matrix(gs_logreg, X_test_sc, y_test, cmap='Blues', \n",
    "                      values_format='d', display_labels=['No WnvPresent', 'WnvPresent']);                 "
   ]
  },
  {
   "cell_type": "code",
   "execution_count": 49,
   "metadata": {},
   "outputs": [],
   "source": [
    "summary_df = pd.DataFrame(columns=['Classifier',\n",
    "                                   'Class Balancing Technique',\n",
    "                                   'Train Accuracy',\n",
    "                                   'GridSearchCV Accuracy',\n",
    "                                   'Actual Test Accuracy',\n",
    "                                   'Overfit (-ve) / Underfit (+ve)',\n",
    "                                   'Sensitivity',\n",
    "                                   'Specificity',\n",
    "                                   'Precision',\n",
    "                                   'ROC-AUC',\n",
    "                                  ])"
   ]
  },
  {
   "cell_type": "code",
   "execution_count": 50,
   "metadata": {},
   "outputs": [
    {
     "data": {
      "text/html": [
       "<div>\n",
       "<style scoped>\n",
       "    .dataframe tbody tr th:only-of-type {\n",
       "        vertical-align: middle;\n",
       "    }\n",
       "\n",
       "    .dataframe tbody tr th {\n",
       "        vertical-align: top;\n",
       "    }\n",
       "\n",
       "    .dataframe thead th {\n",
       "        text-align: right;\n",
       "    }\n",
       "</style>\n",
       "<table border=\"1\" class=\"dataframe\">\n",
       "  <thead>\n",
       "    <tr style=\"text-align: right;\">\n",
       "      <th></th>\n",
       "      <th>Classifier</th>\n",
       "      <th>Class Balancing Technique</th>\n",
       "      <th>Train Accuracy</th>\n",
       "      <th>GridSearchCV Accuracy</th>\n",
       "      <th>Actual Test Accuracy</th>\n",
       "      <th>Overfit (-ve) / Underfit (+ve)</th>\n",
       "      <th>Sensitivity</th>\n",
       "      <th>Specificity</th>\n",
       "      <th>Precision</th>\n",
       "      <th>ROC-AUC</th>\n",
       "    </tr>\n",
       "  </thead>\n",
       "  <tbody>\n",
       "    <tr>\n",
       "      <th>1</th>\n",
       "      <td>LogisticRegression</td>\n",
       "      <td>SMOTE</td>\n",
       "      <td>0.873</td>\n",
       "      <td>0.828</td>\n",
       "      <td>0.828</td>\n",
       "      <td>0.045</td>\n",
       "      <td>0.719</td>\n",
       "      <td>0.761</td>\n",
       "      <td>0.146</td>\n",
       "      <td>0.828</td>\n",
       "    </tr>\n",
       "  </tbody>\n",
       "</table>\n",
       "</div>"
      ],
      "text/plain": [
       "           Classifier Class Balancing Technique  Train Accuracy  \\\n",
       "1  LogisticRegression                     SMOTE           0.873   \n",
       "\n",
       "   GridSearchCV Accuracy  Actual Test Accuracy  \\\n",
       "1                  0.828                 0.828   \n",
       "\n",
       "   Overfit (-ve) / Underfit (+ve)  Sensitivity  Specificity  Precision  \\\n",
       "1                           0.045        0.719        0.761      0.146   \n",
       "\n",
       "   ROC-AUC  \n",
       "1    0.828  "
      ]
     },
     "execution_count": 50,
     "metadata": {},
     "output_type": "execute_result"
    }
   ],
   "source": [
    "summary_df.loc[1] = [\"LogisticRegression\",\n",
    "                     \"SMOTE\",\n",
    "                     round(train_acc, 3),\n",
    "                     round(cross_val_acc, 3),\n",
    "                     round(test_acc, 3),\n",
    "                     round(train_acc-test_acc, 3),\n",
    "                     round(sensitivity, 3),\n",
    "                     round(specificity, 3),\n",
    "                     round(precision, 3),\n",
    "                     round(roc_auc, 3),\n",
    "                    ]\n",
    "\n",
    "summary_df"
   ]
  },
  {
   "cell_type": "markdown",
   "metadata": {},
   "source": [
    "### Random Forest Classifier & SMOTE"
   ]
  },
  {
   "cell_type": "code",
   "execution_count": 51,
   "metadata": {},
   "outputs": [],
   "source": [
    "# # n_estimators=100,\n",
    "# #                                                        ccp_alpha=0,\n",
    "# #                                                        max_depth=5,\n",
    "# #                                                        min_samples_split=2,\n",
    "# #                                                        min_samples_leaf=3,\n",
    "# #                                                        random_state=42\n",
    "\n",
    "\n",
    "# {'randomforestclassifier__max_depth': None,\n",
    "#  'randomforestclassifier__max_features': 'log2',\n",
    "#  'randomforestclassifier__min_samples_split': 4,\n",
    "#  'randomforestclassifier__n_estimators': 500}\n",
    "\n",
    "#          max_depth= None,\n",
    "#         max_features= 'log2',\n",
    "#         min_samples_split=4,\n",
    "#         n_estimators=500,\n",
    "#         ccp_alpha=0,\n",
    "#         random_state=42"
   ]
  },
  {
   "cell_type": "code",
   "execution_count": 52,
   "metadata": {},
   "outputs": [],
   "source": [
    "# Creating a pipeline object using imblearn.pipeline with SMOTE and RandomForestClassifier.\n",
    "\n",
    "rfc_smote_pipe = make_pipeline(\n",
    "    SMOTE(random_state=42),\n",
    "    RandomForestClassifier(\n",
    "        n_estimators=100,\n",
    "        ccp_alpha=0,\n",
    "        max_depth=15,\n",
    "        min_samples_split=2,\n",
    "        min_samples_leaf=3,\n",
    "        random_state=42,\n",
    "    )\n",
    ")\n"
   ]
  },
  {
   "cell_type": "code",
   "execution_count": 53,
   "metadata": {},
   "outputs": [
    {
     "data": {
      "text/plain": [
       "Pipeline(steps=[('smote', SMOTE(random_state=42)),\n",
       "                ('randomforestclassifier',\n",
       "                 RandomForestClassifier(ccp_alpha=0, max_depth=15,\n",
       "                                        min_samples_leaf=3, random_state=42))])"
      ]
     },
     "execution_count": 53,
     "metadata": {},
     "output_type": "execute_result"
    }
   ],
   "source": [
    "# Fitting X_train_sc and y_train on the pipeline object defined above.\n",
    "\n",
    "rfc_smote_pipe.fit(X_train_sc, y_train)"
   ]
  },
  {
   "cell_type": "code",
   "execution_count": 54,
   "metadata": {},
   "outputs": [],
   "source": [
    "# # Establishing ranges of hyperparameters for GridSearchCV\n",
    "\n",
    "# pipe_rfs_smote = {\n",
    "#     'randomforestclassifier__n_estimators': [300,500,600],\n",
    "#     'randomforestclassifier__max_depth': [None,1,2,3],\n",
    "#     'randomforestclassifier__max_features': ['sqrt','log2',None],\n",
    "#     'randomforestclassifier__min_samples_split': [2,3,4]\n",
    "#     }"
   ]
  },
  {
   "cell_type": "code",
   "execution_count": 55,
   "metadata": {},
   "outputs": [],
   "source": [
    "# # Creating a GridSearchCV with scoring of ROC_AUC with Randomforest\n",
    "\n",
    "# gs_pipe_rfs_smote = GridSearchCV(rfc_smote_pipe, \n",
    "#                         param_grid=pipe_rfs_smote, \n",
    "#                         cv=5, \n",
    "#                         scoring='roc_auc',\n",
    "#                         n_jobs = -1\n",
    "#                        )"
   ]
  },
  {
   "cell_type": "code",
   "execution_count": 56,
   "metadata": {},
   "outputs": [],
   "source": [
    "# # Fitting GridSearchCV with Random Forest Classifier\n",
    "\n",
    "# gs_pipe_rfs_smote.fit(X_train, y_train)"
   ]
  },
  {
   "cell_type": "code",
   "execution_count": 57,
   "metadata": {},
   "outputs": [],
   "source": [
    "# # Best params for rfs with SMOTE\n",
    "# gs_pipe_rfs_smote.best_params_"
   ]
  },
  {
   "cell_type": "code",
   "execution_count": 58,
   "metadata": {},
   "outputs": [],
   "source": [
    "# Scoring model for all matrix \n",
    "\n",
    "train_acc = rfc_smote_pipe.score(X_train_sc, y_train)\n",
    "cross_val_acc = cross_val_score(rfc_smote_pipe, X_train_sc,y_train, cv=5).mean()\n",
    "test_acc = rfc_smote_pipe.score(X_test_sc, y_test)\n",
    "preds = rfc_smote_pipe.predict(X_test_sc)\n",
    "y_pred_proba = rfc_smote_pipe.predict_proba(X_test_sc)\n",
    "confusion_matrix(y_test, # True values.\n",
    "                 preds)# Predicted values.\n",
    "tn, fp, fn, tp = confusion_matrix(y_test, preds).ravel();\n",
    "\n",
    "sensitivity = tp/(tp+fn)\n",
    "specificity = tn/(tn+fp)\n",
    "precision = tp/(tp+fp)\n",
    "roc_auc  = roc_auc_score(y_test, y_pred_proba[:,1])\n"
   ]
  },
  {
   "cell_type": "code",
   "execution_count": 59,
   "metadata": {},
   "outputs": [
    {
     "name": "stderr",
     "output_type": "stream",
     "text": [
      "C:\\Users\\Admin\\.conda\\envs\\myenv\\lib\\site-packages\\sklearn\\utils\\deprecation.py:87: FutureWarning: Function plot_confusion_matrix is deprecated; Function `plot_confusion_matrix` is deprecated in 1.0 and will be removed in 1.2. Use one of the class methods: ConfusionMatrixDisplay.from_predictions or ConfusionMatrixDisplay.from_estimator.\n",
      "  warnings.warn(msg, category=FutureWarning)\n"
     ]
    },
    {
     "data": {
      "image/png": "[encoded data removed]",
      "text/plain": [
       "<Figure size 432x288 with 2 Axes>"
      ]
     },
     "metadata": {
      "needs_background": "light"
     },
     "output_type": "display_data"
    }
   ],
   "source": [
    "# Plot Confusion matrix\n",
    "plot_confusion_matrix(rfc_smote_pipe, X_test_sc, y_test, cmap='Blues', \n",
    "                      values_format='d', display_labels=['No WnvPresent', 'WnvPresent']);                 "
   ]
  },
  {
   "cell_type": "code",
   "execution_count": 60,
   "metadata": {},
   "outputs": [
    {
     "data": {
      "text/html": [
       "<div>\n",
       "<style scoped>\n",
       "    .dataframe tbody tr th:only-of-type {\n",
       "        vertical-align: middle;\n",
       "    }\n",
       "\n",
       "    .dataframe tbody tr th {\n",
       "        vertical-align: top;\n",
       "    }\n",
       "\n",
       "    .dataframe thead th {\n",
       "        text-align: right;\n",
       "    }\n",
       "</style>\n",
       "<table border=\"1\" class=\"dataframe\">\n",
       "  <thead>\n",
       "    <tr style=\"text-align: right;\">\n",
       "      <th></th>\n",
       "      <th>Classifier</th>\n",
       "      <th>Class Balancing Technique</th>\n",
       "      <th>Train Accuracy</th>\n",
       "      <th>GridSearchCV Accuracy</th>\n",
       "      <th>Actual Test Accuracy</th>\n",
       "      <th>Overfit (-ve) / Underfit (+ve)</th>\n",
       "      <th>Sensitivity</th>\n",
       "      <th>Specificity</th>\n",
       "      <th>Precision</th>\n",
       "      <th>ROC-AUC</th>\n",
       "    </tr>\n",
       "  </thead>\n",
       "  <tbody>\n",
       "    <tr>\n",
       "      <th>1</th>\n",
       "      <td>LogisticRegression</td>\n",
       "      <td>SMOTE</td>\n",
       "      <td>0.873</td>\n",
       "      <td>0.828</td>\n",
       "      <td>0.828</td>\n",
       "      <td>0.045</td>\n",
       "      <td>0.719</td>\n",
       "      <td>0.761</td>\n",
       "      <td>0.146</td>\n",
       "      <td>0.828</td>\n",
       "    </tr>\n",
       "    <tr>\n",
       "      <th>2</th>\n",
       "      <td>RandomForestClassifier</td>\n",
       "      <td>SMOTE</td>\n",
       "      <td>0.908</td>\n",
       "      <td>0.890</td>\n",
       "      <td>0.897</td>\n",
       "      <td>0.011</td>\n",
       "      <td>0.412</td>\n",
       "      <td>0.924</td>\n",
       "      <td>0.236</td>\n",
       "      <td>0.836</td>\n",
       "    </tr>\n",
       "  </tbody>\n",
       "</table>\n",
       "</div>"
      ],
      "text/plain": [
       "               Classifier Class Balancing Technique  Train Accuracy  \\\n",
       "1      LogisticRegression                     SMOTE           0.873   \n",
       "2  RandomForestClassifier                     SMOTE           0.908   \n",
       "\n",
       "   GridSearchCV Accuracy  Actual Test Accuracy  \\\n",
       "1                  0.828                 0.828   \n",
       "2                  0.890                 0.897   \n",
       "\n",
       "   Overfit (-ve) / Underfit (+ve)  Sensitivity  Specificity  Precision  \\\n",
       "1                           0.045        0.719        0.761      0.146   \n",
       "2                           0.011        0.412        0.924      0.236   \n",
       "\n",
       "   ROC-AUC  \n",
       "1    0.828  \n",
       "2    0.836  "
      ]
     },
     "execution_count": 60,
     "metadata": {},
     "output_type": "execute_result"
    }
   ],
   "source": [
    "summary_df.loc[2] = [\"RandomForestClassifier\",\n",
    "                     \"SMOTE\",\n",
    "                     round(train_acc, 3),\n",
    "                     round(cross_val_acc, 3),\n",
    "                     round(test_acc, 3),\n",
    "                     round(train_acc-test_acc, 3),\n",
    "                     round(sensitivity, 3),\n",
    "                     round(specificity, 3),\n",
    "                     round(precision, 3),\n",
    "                     round(roc_auc, 3),\n",
    "                    ]\n",
    "\n",
    "summary_df"
   ]
  },
  {
   "cell_type": "markdown",
   "metadata": {},
   "source": [
    "After tuning `RandomForestClassifier with Smote`, we can see that the accuracy and ROC-AUC is better than `LogisticRegression`. \n",
    "\n",
    "However, sensitivity will be hard to tune upwards while maintaining high precision and ROC_AUC. This might not be good to use if we want to prevent an outbreak if almost half was wrongly predicted to not contain Wnv. We will proceed to tune hyperparameter class weight for the RandomForestClassifier. "
   ]
  },
  {
   "cell_type": "markdown",
   "metadata": {},
   "source": [
    "### Random Forest Classifier & Hyperparameter class_weight = `balance_subsample`"
   ]
  },
  {
   "cell_type": "markdown",
   "metadata": {},
   "source": [
    "We will be manually tuning the parameters as GridsearchCV will only optimise the model based on one scoring parameter. There is a need to find a balance between multiple matrix like accuracy, sensitivity, specifity, precision and ROC_AUC. \n"
   ]
  },
  {
   "cell_type": "code",
   "execution_count": 61,
   "metadata": {},
   "outputs": [],
   "source": [
    "rfs_hyperparam_bal =  RandomForestClassifier(\n",
    "        n_estimators=1500,\n",
    "        ccp_alpha=0,\n",
    "        max_depth=10,\n",
    "        min_samples_split=5,\n",
    "        min_samples_leaf=5,\n",
    "        random_state=42,\n",
    "        class_weight='balanced_subsample')"
   ]
  },
  {
   "cell_type": "code",
   "execution_count": 62,
   "metadata": {},
   "outputs": [
    {
     "data": {
      "text/plain": [
       "RandomForestClassifier(ccp_alpha=0, class_weight='balanced_subsample',\n",
       "                       max_depth=10, min_samples_leaf=5, min_samples_split=5,\n",
       "                       n_estimators=1500, random_state=42)"
      ]
     },
     "execution_count": 62,
     "metadata": {},
     "output_type": "execute_result"
    }
   ],
   "source": [
    "# Fitting X_train_sc and y_train on RandomForestClassifier object defined above.\n",
    "\n",
    "rfs_hyperparam_bal.fit(X_train_sc, y_train)"
   ]
  },
  {
   "cell_type": "code",
   "execution_count": 63,
   "metadata": {},
   "outputs": [],
   "source": [
    "# # Establishing ranges of hyperparameters for GridSearchCV\n",
    "\n",
    "# pipe_rfs_hyperparam_bal = {\n",
    "#     'randomforestclassifier__n_estimators': [100,200,300],\n",
    "#     'randomforestclassifier__max_depth': [5,6],\n",
    "#     'randomforestclassifier__max_features': ['sqrt','log2',None],\n",
    "#     'randomforestclassifier__min_samples_split': [4,5],\n",
    "#     'randomforestclassifier__min_samples_leaf': [2,3,4] \n",
    "#     }"
   ]
  },
  {
   "cell_type": "code",
   "execution_count": 64,
   "metadata": {},
   "outputs": [],
   "source": [
    "# # Creating a GridSearchCV with scoring of ROC_AUC with Randomforest\n",
    "\n",
    "# gs_rfs_hyperparam_bal = GridSearchCV(rfs_hyperparam_bal, \n",
    "#                         param_grid=pipe_rfs_hyperparam_bal, \n",
    "#                         cv=5, \n",
    "#                         scoring='roc_auc',\n",
    "#                         n_jobs = -1\n",
    "#                        )"
   ]
  },
  {
   "cell_type": "code",
   "execution_count": 65,
   "metadata": {},
   "outputs": [
    {
     "data": {
      "text/plain": [
       "RandomForestClassifier(ccp_alpha=0, class_weight='balanced_subsample',\n",
       "                       max_depth=10, min_samples_leaf=5, min_samples_split=5,\n",
       "                       n_estimators=1500, random_state=42)"
      ]
     },
     "execution_count": 65,
     "metadata": {},
     "output_type": "execute_result"
    }
   ],
   "source": [
    "# Fitting GridSearchCV with Random Forest Classifier\n",
    "\n",
    "rfs_hyperparam_bal.fit(X_train_sc, y_train)"
   ]
  },
  {
   "cell_type": "code",
   "execution_count": 66,
   "metadata": {},
   "outputs": [],
   "source": [
    "# # Best params for rfs with SMOTE\n",
    "# gs_rfs_hyperparam_bal.best_params_"
   ]
  },
  {
   "cell_type": "code",
   "execution_count": 67,
   "metadata": {},
   "outputs": [],
   "source": [
    "# Scoring model for all matrix \n",
    "\n",
    "train_acc = rfs_hyperparam_bal.score(X_train_sc, y_train)\n",
    "cross_val_acc = cross_val_score(rfs_hyperparam_bal,X_train_sc,y_train, cv = 5).mean()\n",
    "test_acc = rfs_hyperparam_bal.score(X_test_sc, y_test)\n",
    "preds = rfs_hyperparam_bal.predict(X_test_sc)\n",
    "y_pred_proba = rfs_hyperparam_bal.predict_proba(X_test_sc)\n",
    "\n",
    "confusion_matrix(y_test, # True values.\n",
    "                 preds)# Predicted values.\n",
    "tn, fp, fn, tp = confusion_matrix(y_test, preds).ravel();\n",
    "\n",
    "sensitivity = tp/(tp+fn)\n",
    "specificity = tn/(tn+fp)\n",
    "precision = tp/(tp+fp)\n",
    "roc_auc  = roc_auc_score(y_test, y_pred_proba[:,1])\n"
   ]
  },
  {
   "cell_type": "code",
   "execution_count": 68,
   "metadata": {},
   "outputs": [
    {
     "name": "stderr",
     "output_type": "stream",
     "text": [
      "C:\\Users\\Admin\\.conda\\envs\\myenv\\lib\\site-packages\\sklearn\\utils\\deprecation.py:87: FutureWarning: Function plot_confusion_matrix is deprecated; Function `plot_confusion_matrix` is deprecated in 1.0 and will be removed in 1.2. Use one of the class methods: ConfusionMatrixDisplay.from_predictions or ConfusionMatrixDisplay.from_estimator.\n",
      "  warnings.warn(msg, category=FutureWarning)\n"
     ]
    },
    {
     "data": {
      "image/png": "[encoded data removed]",
      "text/plain": [
       "<Figure size 432x288 with 2 Axes>"
      ]
     },
     "metadata": {
      "needs_background": "light"
     },
     "output_type": "display_data"
    }
   ],
   "source": [
    "# Plot Confusion matrix\n",
    "plot_confusion_matrix(rfs_hyperparam_bal, X_test_sc, y_test, cmap='Blues', \n",
    "                      values_format='d', display_labels=['No WnvPresent', 'WnvPresent']);                 "
   ]
  },
  {
   "cell_type": "code",
   "execution_count": 69,
   "metadata": {},
   "outputs": [
    {
     "data": {
      "text/html": [
       "<div>\n",
       "<style scoped>\n",
       "    .dataframe tbody tr th:only-of-type {\n",
       "        vertical-align: middle;\n",
       "    }\n",
       "\n",
       "    .dataframe tbody tr th {\n",
       "        vertical-align: top;\n",
       "    }\n",
       "\n",
       "    .dataframe thead th {\n",
       "        text-align: right;\n",
       "    }\n",
       "</style>\n",
       "<table border=\"1\" class=\"dataframe\">\n",
       "  <thead>\n",
       "    <tr style=\"text-align: right;\">\n",
       "      <th></th>\n",
       "      <th>Classifier</th>\n",
       "      <th>Class Balancing Technique</th>\n",
       "      <th>Train Accuracy</th>\n",
       "      <th>GridSearchCV Accuracy</th>\n",
       "      <th>Actual Test Accuracy</th>\n",
       "      <th>Overfit (-ve) / Underfit (+ve)</th>\n",
       "      <th>Sensitivity</th>\n",
       "      <th>Specificity</th>\n",
       "      <th>Precision</th>\n",
       "      <th>ROC-AUC</th>\n",
       "    </tr>\n",
       "  </thead>\n",
       "  <tbody>\n",
       "    <tr>\n",
       "      <th>1</th>\n",
       "      <td>LogisticRegression</td>\n",
       "      <td>SMOTE</td>\n",
       "      <td>0.873</td>\n",
       "      <td>0.828</td>\n",
       "      <td>0.828</td>\n",
       "      <td>0.045</td>\n",
       "      <td>0.719</td>\n",
       "      <td>0.761</td>\n",
       "      <td>0.146</td>\n",
       "      <td>0.828</td>\n",
       "    </tr>\n",
       "    <tr>\n",
       "      <th>2</th>\n",
       "      <td>RandomForestClassifier</td>\n",
       "      <td>SMOTE</td>\n",
       "      <td>0.908</td>\n",
       "      <td>0.890</td>\n",
       "      <td>0.897</td>\n",
       "      <td>0.011</td>\n",
       "      <td>0.412</td>\n",
       "      <td>0.924</td>\n",
       "      <td>0.236</td>\n",
       "      <td>0.836</td>\n",
       "    </tr>\n",
       "    <tr>\n",
       "      <th>3</th>\n",
       "      <td>RandomForestClassifier</td>\n",
       "      <td>Hyperparameter: Balanced Subsample</td>\n",
       "      <td>0.741</td>\n",
       "      <td>0.732</td>\n",
       "      <td>0.744</td>\n",
       "      <td>-0.003</td>\n",
       "      <td>0.781</td>\n",
       "      <td>0.742</td>\n",
       "      <td>0.147</td>\n",
       "      <td>0.839</td>\n",
       "    </tr>\n",
       "  </tbody>\n",
       "</table>\n",
       "</div>"
      ],
      "text/plain": [
       "               Classifier           Class Balancing Technique  Train Accuracy  \\\n",
       "1      LogisticRegression                               SMOTE           0.873   \n",
       "2  RandomForestClassifier                               SMOTE           0.908   \n",
       "3  RandomForestClassifier  Hyperparameter: Balanced Subsample           0.741   \n",
       "\n",
       "   GridSearchCV Accuracy  Actual Test Accuracy  \\\n",
       "1                  0.828                 0.828   \n",
       "2                  0.890                 0.897   \n",
       "3                  0.732                 0.744   \n",
       "\n",
       "   Overfit (-ve) / Underfit (+ve)  Sensitivity  Specificity  Precision  \\\n",
       "1                           0.045        0.719        0.761      0.146   \n",
       "2                           0.011        0.412        0.924      0.236   \n",
       "3                          -0.003        0.781        0.742      0.147   \n",
       "\n",
       "   ROC-AUC  \n",
       "1    0.828  \n",
       "2    0.836  \n",
       "3    0.839  "
      ]
     },
     "execution_count": 69,
     "metadata": {},
     "output_type": "execute_result"
    }
   ],
   "source": [
    "summary_df.loc[3] = [\"RandomForestClassifier\",\n",
    "                     \"Hyperparameter: Balanced Subsample\",\n",
    "                     round(train_acc, 3),\n",
    "                     round(cross_val_acc, 3),\n",
    "                     round(test_acc, 3),\n",
    "                     round(train_acc-test_acc, 3),\n",
    "                     round(sensitivity, 3),\n",
    "                     round(specificity, 3),\n",
    "                     round(precision, 3),\n",
    "                     round(roc_auc, 3),\n",
    "                    ]\n",
    "\n",
    "summary_df"
   ]
  },
  {
   "cell_type": "markdown",
   "metadata": {},
   "source": [
    "This hyperparameter tuning enables RandomForestClassifier to handle unbalanced dataset without using the oversampling method, SMOTE. Although the test accuracy suffers a little, the sensitivity and ROC_AUC improved. "
   ]
  },
  {
   "cell_type": "markdown",
   "metadata": {},
   "source": [
    "### SVC & SMOTE"
   ]
  },
  {
   "cell_type": "code",
   "execution_count": 70,
   "metadata": {},
   "outputs": [],
   "source": [
    "# svc_smote_pipe = make_pipeline(\n",
    "#     # SMOTE(random_state=42),\n",
    "#     SVC(C=21,\n",
    "#         kernel='rbf',\n",
    "#         probability=True, \n",
    "#         random_state=42,\n",
    "#         class_weight = 'balanced',\n",
    "#         gamma = 'scale',\n",
    "#         tol = 1e-3\n",
    "# ))"
   ]
  },
  {
   "cell_type": "code",
   "execution_count": 71,
   "metadata": {},
   "outputs": [],
   "source": [
    "# Creating a pipeline object using imblearn.pipeline with SMOTE and SVC.\n",
    "\n",
    "svc_smote_pipe = make_pipeline(\n",
    "    SMOTE(random_state=42),\n",
    "    SVC(\n",
    "        kernel='rbf',\n",
    "        probability=True, \n",
    "        random_state=42,\n",
    "        class_weight = 'balanced',\n",
    "        gamma = 'scale',\n",
    "        tol = 1e-3\n",
    "))"
   ]
  },
  {
   "cell_type": "code",
   "execution_count": 72,
   "metadata": {},
   "outputs": [
    {
     "data": {
      "text/plain": [
       "{'memory': None,\n",
       " 'steps': [('smote', SMOTE(random_state=42)),\n",
       "  ('svc', SVC(class_weight='balanced', probability=True, random_state=42))],\n",
       " 'verbose': False,\n",
       " 'smote': SMOTE(random_state=42),\n",
       " 'svc': SVC(class_weight='balanced', probability=True, random_state=42),\n",
       " 'smote__k_neighbors': 5,\n",
       " 'smote__n_jobs': None,\n",
       " 'smote__random_state': 42,\n",
       " 'smote__sampling_strategy': 'auto',\n",
       " 'svc__C': 1.0,\n",
       " 'svc__break_ties': False,\n",
       " 'svc__cache_size': 200,\n",
       " 'svc__class_weight': 'balanced',\n",
       " 'svc__coef0': 0.0,\n",
       " 'svc__decision_function_shape': 'ovr',\n",
       " 'svc__degree': 3,\n",
       " 'svc__gamma': 'scale',\n",
       " 'svc__kernel': 'rbf',\n",
       " 'svc__max_iter': -1,\n",
       " 'svc__probability': True,\n",
       " 'svc__random_state': 42,\n",
       " 'svc__shrinking': True,\n",
       " 'svc__tol': 0.001,\n",
       " 'svc__verbose': False}"
      ]
     },
     "execution_count": 72,
     "metadata": {},
     "output_type": "execute_result"
    }
   ],
   "source": [
    "svc_smote_pipe.get_params()"
   ]
  },
  {
   "cell_type": "code",
   "execution_count": 73,
   "metadata": {},
   "outputs": [],
   "source": [
    "# # Fitting X_train_sc and y_train on the pipeline object defined above.\n",
    "\n",
    "# svc_smote_pipe.fit(X_train_sc, y_train)"
   ]
  },
  {
   "cell_type": "code",
   "execution_count": 74,
   "metadata": {},
   "outputs": [],
   "source": [
    "# # pipe_svc = {\n",
    "#     'svc__C': 0.5\n",
    "#     }"
   ]
  },
  {
   "cell_type": "code",
   "execution_count": 75,
   "metadata": {},
   "outputs": [],
   "source": [
    "# Establishing ranges of hyperparameters for GridSearchCV\n",
    "\n",
    "pipe_svc = {\n",
    "    'svc__C': [0.5]\n",
    "    }"
   ]
  },
  {
   "cell_type": "code",
   "execution_count": 76,
   "metadata": {},
   "outputs": [],
   "source": [
    "# Creating a GridSearchCV with scoring of ROC_AUC with Randomforest\n",
    "\n",
    "gs_svc = GridSearchCV(svc_smote_pipe, \n",
    "                        param_grid=pipe_svc, \n",
    "                        cv=5, \n",
    "                        scoring='roc_auc',\n",
    "                        n_jobs = -1,\n",
    "                       )"
   ]
  },
  {
   "cell_type": "code",
   "execution_count": 77,
   "metadata": {},
   "outputs": [],
   "source": [
    "# Fitting GridSearchCV with Random Forest Classifier\n",
    "\n",
    "gs_svc.fit(X_train_sc, y_train);"
   ]
  },
  {
   "cell_type": "code",
   "execution_count": 78,
   "metadata": {},
   "outputs": [
    {
     "data": {
      "text/plain": [
       "{'svc__C': 0.5}"
      ]
     },
     "execution_count": 78,
     "metadata": {},
     "output_type": "execute_result"
    }
   ],
   "source": [
    "gs_svc.best_params_"
   ]
  },
  {
   "cell_type": "code",
   "execution_count": 79,
   "metadata": {},
   "outputs": [],
   "source": [
    "# Scoring model for all matrix \n",
    "\n",
    "train_acc = gs_svc.score(X_train_sc, y_train)\n",
    "cross_val_acc = gs_svc.best_score_\n",
    "test_acc = gs_svc.score(X_test_sc, y_test)\n",
    "preds = gs_svc.predict(X_test_sc)\n",
    "y_pred_proba = gs_svc.predict_proba(X_test_sc)\n",
    "\n",
    "confusion_matrix(y_test, # True values.\n",
    "                 preds)# Predicted values.\n",
    "tn, fp, fn, tp = confusion_matrix(y_test, preds).ravel();\n",
    "\n",
    "sensitivity = tp/(tp+fn)\n",
    "specificity = tn/(tn+fp)\n",
    "precision = tp/(tp+fp)\n",
    "roc_auc  = roc_auc_score(y_test, y_pred_proba[:,1])\n"
   ]
  },
  {
   "cell_type": "code",
   "execution_count": 80,
   "metadata": {},
   "outputs": [
    {
     "name": "stderr",
     "output_type": "stream",
     "text": [
      "C:\\Users\\Admin\\.conda\\envs\\myenv\\lib\\site-packages\\sklearn\\utils\\deprecation.py:87: FutureWarning: Function plot_confusion_matrix is deprecated; Function `plot_confusion_matrix` is deprecated in 1.0 and will be removed in 1.2. Use one of the class methods: ConfusionMatrixDisplay.from_predictions or ConfusionMatrixDisplay.from_estimator.\n",
      "  warnings.warn(msg, category=FutureWarning)\n"
     ]
    },
    {
     "data": {
      "image/png": "[encoded data removed]",
      "text/plain": [
       "<Figure size 432x288 with 2 Axes>"
      ]
     },
     "metadata": {
      "needs_background": "light"
     },
     "output_type": "display_data"
    }
   ],
   "source": [
    "# Plot Confusion matrix\n",
    "plot_confusion_matrix(gs_svc, X_test_sc, y_test, cmap='Blues', \n",
    "                      values_format='d', display_labels=['No WnvPresent', 'WnvPresent']);                 "
   ]
  },
  {
   "cell_type": "code",
   "execution_count": 81,
   "metadata": {},
   "outputs": [
    {
     "data": {
      "text/html": [
       "<div>\n",
       "<style scoped>\n",
       "    .dataframe tbody tr th:only-of-type {\n",
       "        vertical-align: middle;\n",
       "    }\n",
       "\n",
       "    .dataframe tbody tr th {\n",
       "        vertical-align: top;\n",
       "    }\n",
       "\n",
       "    .dataframe thead th {\n",
       "        text-align: right;\n",
       "    }\n",
       "</style>\n",
       "<table border=\"1\" class=\"dataframe\">\n",
       "  <thead>\n",
       "    <tr style=\"text-align: right;\">\n",
       "      <th></th>\n",
       "      <th>Classifier</th>\n",
       "      <th>Class Balancing Technique</th>\n",
       "      <th>Train Accuracy</th>\n",
       "      <th>GridSearchCV Accuracy</th>\n",
       "      <th>Actual Test Accuracy</th>\n",
       "      <th>Overfit (-ve) / Underfit (+ve)</th>\n",
       "      <th>Sensitivity</th>\n",
       "      <th>Specificity</th>\n",
       "      <th>Precision</th>\n",
       "      <th>ROC-AUC</th>\n",
       "    </tr>\n",
       "  </thead>\n",
       "  <tbody>\n",
       "    <tr>\n",
       "      <th>1</th>\n",
       "      <td>LogisticRegression</td>\n",
       "      <td>SMOTE</td>\n",
       "      <td>0.873</td>\n",
       "      <td>0.828</td>\n",
       "      <td>0.828</td>\n",
       "      <td>0.045</td>\n",
       "      <td>0.719</td>\n",
       "      <td>0.761</td>\n",
       "      <td>0.146</td>\n",
       "      <td>0.828</td>\n",
       "    </tr>\n",
       "    <tr>\n",
       "      <th>2</th>\n",
       "      <td>RandomForestClassifier</td>\n",
       "      <td>SMOTE</td>\n",
       "      <td>0.908</td>\n",
       "      <td>0.890</td>\n",
       "      <td>0.897</td>\n",
       "      <td>0.011</td>\n",
       "      <td>0.412</td>\n",
       "      <td>0.924</td>\n",
       "      <td>0.236</td>\n",
       "      <td>0.836</td>\n",
       "    </tr>\n",
       "    <tr>\n",
       "      <th>3</th>\n",
       "      <td>RandomForestClassifier</td>\n",
       "      <td>Hyperparameter: Balanced Subsample</td>\n",
       "      <td>0.741</td>\n",
       "      <td>0.732</td>\n",
       "      <td>0.744</td>\n",
       "      <td>-0.003</td>\n",
       "      <td>0.781</td>\n",
       "      <td>0.742</td>\n",
       "      <td>0.147</td>\n",
       "      <td>0.839</td>\n",
       "    </tr>\n",
       "    <tr>\n",
       "      <th>4</th>\n",
       "      <td>SVC</td>\n",
       "      <td>Hyperparameter: Balanced</td>\n",
       "      <td>0.923</td>\n",
       "      <td>0.755</td>\n",
       "      <td>0.767</td>\n",
       "      <td>0.157</td>\n",
       "      <td>0.491</td>\n",
       "      <td>0.806</td>\n",
       "      <td>0.126</td>\n",
       "      <td>0.767</td>\n",
       "    </tr>\n",
       "  </tbody>\n",
       "</table>\n",
       "</div>"
      ],
      "text/plain": [
       "               Classifier           Class Balancing Technique  Train Accuracy  \\\n",
       "1      LogisticRegression                               SMOTE           0.873   \n",
       "2  RandomForestClassifier                               SMOTE           0.908   \n",
       "3  RandomForestClassifier  Hyperparameter: Balanced Subsample           0.741   \n",
       "4                     SVC            Hyperparameter: Balanced           0.923   \n",
       "\n",
       "   GridSearchCV Accuracy  Actual Test Accuracy  \\\n",
       "1                  0.828                 0.828   \n",
       "2                  0.890                 0.897   \n",
       "3                  0.732                 0.744   \n",
       "4                  0.755                 0.767   \n",
       "\n",
       "   Overfit (-ve) / Underfit (+ve)  Sensitivity  Specificity  Precision  \\\n",
       "1                           0.045        0.719        0.761      0.146   \n",
       "2                           0.011        0.412        0.924      0.236   \n",
       "3                          -0.003        0.781        0.742      0.147   \n",
       "4                           0.157        0.491        0.806      0.126   \n",
       "\n",
       "   ROC-AUC  \n",
       "1    0.828  \n",
       "2    0.836  \n",
       "3    0.839  \n",
       "4    0.767  "
      ]
     },
     "execution_count": 81,
     "metadata": {},
     "output_type": "execute_result"
    }
   ],
   "source": [
    "summary_df.loc[4] = [\"SVC\",\n",
    "                     \"Hyperparameter: Balanced\",\n",
    "                     round(train_acc, 3),\n",
    "                     round(cross_val_acc, 3),\n",
    "                     round(test_acc, 3),\n",
    "                     round(train_acc-test_acc, 3),\n",
    "                     round(sensitivity, 3),\n",
    "                     round(specificity, 3),\n",
    "                     round(precision, 3),\n",
    "                     round(roc_auc, 3),\n",
    "                    ]\n",
    "\n",
    "summary_df"
   ]
  },
  {
   "cell_type": "markdown",
   "metadata": {},
   "source": [
    "### XGBoost & Hyperparameter tuned: `Scale_pos_weight`"
   ]
  },
  {
   "cell_type": "code",
   "execution_count": 82,
   "metadata": {},
   "outputs": [],
   "source": [
    "# xbg_model = XGBClassifier(\n",
    "#     objective = 'binary:logistic',\n",
    "#     booster = 'dart',\n",
    "#     learning_rate = 0.1\n",
    "# )\n",
    "\n",
    "\n",
    "# xbg_model = XGBClassifier( \n",
    "#     scale_pos_weight=30,\n",
    "#     learning_rate=0.005,  \n",
    "#     colsample_bytree = 0.6,\n",
    "#     subsample = 0.59,\n",
    "#     objective='binary:logistic', \n",
    "#     n_estimators=1120, \n",
    "#     reg_alpha = 0.1,\n",
    "#     max_depth=6, \n",
    "#     gamma=10,\n",
    "# )\n"
   ]
  },
  {
   "cell_type": "code",
   "execution_count": 83,
   "metadata": {},
   "outputs": [
    {
     "data": {
      "text/plain": [
       "XGBClassifier(base_score=None, booster=None, colsample_bylevel=None,\n",
       "              colsample_bynode=None, colsample_bytree=None,\n",
       "              enable_categorical=False, gamma=None, gpu_id=None,\n",
       "              importance_type=None, interaction_constraints=None,\n",
       "              learning_rate=None, max_delta_step=None, max_depth=None,\n",
       "              min_child_weight=None, missing=nan, monotone_constraints=None,\n",
       "              n_estimators=100, n_jobs=None, num_parallel_tree=None,\n",
       "              predictor=None, random_state=None, reg_alpha=None,\n",
       "              reg_lambda=None, scale_pos_weight=None, subsample=None,\n",
       "              tree_method=None, validate_parameters=None, verbosity=None)"
      ]
     },
     "execution_count": 83,
     "metadata": {},
     "output_type": "execute_result"
    }
   ],
   "source": [
    "import xgboost\n",
    "xgboost.XGBClassifier()"
   ]
  },
  {
   "cell_type": "code",
   "execution_count": 490,
   "metadata": {},
   "outputs": [
    {
     "data": {
      "text/plain": [
       "XGBClassifier(base_score=0.5, booster='gbtree', colsample_bylevel=1,\n",
       "              colsample_bynode=1, colsample_bytree=1, enable_categorical=False,\n",
       "              gamma=0, gpu_id=-1, importance_type=None,\n",
       "              interaction_constraints='', learning_rate=0.300000012,\n",
       "              max_delta_step=0, max_depth=6, min_child_weight=1, missing=nan,\n",
       "              monotone_constraints='()', n_estimators=100, n_jobs=6,\n",
       "              num_parallel_tree=1, predictor='auto', random_state=0,\n",
       "              reg_alpha=0, reg_lambda=1, scale_pos_weight=20, subsample=0.5,\n",
       "              tree_method='exact', validate_parameters=1, verbosity=None)"
      ]
     },
     "execution_count": 490,
     "metadata": {},
     "output_type": "execute_result"
    }
   ],
   "source": [
    "# fit XGBoost on training data\n",
    "\n",
    "xbg_model = XGBClassifier(\n",
    "    scale_pos_weight=20,\n",
    "    # learning_rate=0.001,  \n",
    "    # colsample_bytree = 0.32,\n",
    "    subsample = 0.5,\n",
    "    # objective='binary:logistic',\n",
    "    # booster = 'dart',\n",
    "    # reg_alpha = 0.2,\n",
    "    # max_depth= 25, \n",
    "    # gamma=5,\n",
    "    # min_child_weight = 19\n",
    ")\n",
    "\n",
    "                      \n",
    "eval_set = [(X_test_sc,y_test)]\n",
    "\n",
    "\n",
    "# use AUC as eval matric\n",
    "xbg_model.fit(\n",
    "    X_train_sc,\n",
    "    y_train,\n",
    "    early_stopping_rounds=10,\n",
    "    eval_set=eval_set,\n",
    "    verbose = False,\n",
    "    eval_metric='auc'\n",
    ")"
   ]
  },
  {
   "cell_type": "code",
   "execution_count": 491,
   "metadata": {},
   "outputs": [
    {
     "data": {
      "text/plain": [
       "0.8289999818181819"
      ]
     },
     "execution_count": 491,
     "metadata": {},
     "output_type": "execute_result"
    }
   ],
   "source": [
    "# define data_dmatrix\n",
    "data_dmatrix = xgb.DMatrix(data=X_train_sc,label=y_train)\n",
    "\n",
    "params = {\n",
    "    \"objective\":\"binary:logistic\",  \n",
    "    'scale_pos_weight': 50,\n",
    "    'learning_rate':0.001,  \n",
    "    'colsample_bytree' : 0.32,\n",
    "    'subsample' : 0.92,\n",
    "    'booster' : 'dart',\n",
    "    'reg_alpha' : 0.2,\n",
    "    'max_depth':10, \n",
    "    'gamma':5,\n",
    "    'min_child_weight' : 19,\n",
    "}\n",
    "\n",
    "# to create cross val for xgboost\n",
    "xgb_cv = cv(dtrain=data_dmatrix, params=params, nfold=5,\n",
    "                    num_boost_round=30, early_stopping_rounds=10, metrics = 'auc', as_pandas=True, seed=42)\n",
    "\n",
    "xgb_cv.mean()[2]"
   ]
  },
  {
   "cell_type": "code",
   "execution_count": 492,
   "metadata": {},
   "outputs": [],
   "source": [
    "# Scoring model for all matrix \n",
    "\n",
    "train_acc = xbg_model.score(X_train_sc, y_train)\n",
    "cross_val_acc = xgb_cv.mean()[0]\n",
    "test_acc = xbg_model.score(X_test_sc, y_test)\n",
    "preds = xbg_model.predict(X_test_sc)\n",
    "y_pred_proba = xbg_model.predict_proba(X_test_sc)\n",
    "\n",
    "confusion_matrix(y_test, # True values.\n",
    "                 preds)# Predicted values.\n",
    "tn, fp, fn, tp = confusion_matrix(y_test, preds).ravel();\n",
    "\n",
    "sensitivity = tp/(tp+fn)\n",
    "specificity = tn/(tn+fp)\n",
    "precision = tp/(tp+fp)\n",
    "roc_auc  = roc_auc_score(y_test, y_pred_proba[:,1])\n"
   ]
  },
  {
   "cell_type": "code",
   "execution_count": 493,
   "metadata": {},
   "outputs": [
    {
     "name": "stderr",
     "output_type": "stream",
     "text": [
      "C:\\Users\\Admin\\.conda\\envs\\myenv\\lib\\site-packages\\sklearn\\utils\\deprecation.py:87: FutureWarning: Function plot_confusion_matrix is deprecated; Function `plot_confusion_matrix` is deprecated in 1.0 and will be removed in 1.2. Use one of the class methods: ConfusionMatrixDisplay.from_predictions or ConfusionMatrixDisplay.from_estimator.\n",
      "  warnings.warn(msg, category=FutureWarning)\n"
     ]
    },
    {
     "data": {
      "image/png": "[encoded data removed]",
      "text/plain": [
       "<Figure size 432x288 with 2 Axes>"
      ]
     },
     "metadata": {
      "needs_background": "light"
     },
     "output_type": "display_data"
    }
   ],
   "source": [
    "# Plot Confusion matrix\n",
    "plot_confusion_matrix(xbg_model, X_test_sc, y_test, cmap='Blues', \n",
    "                      values_format='d', display_labels=['No WnvPresent', 'WnvPresent']);                 "
   ]
  },
  {
   "cell_type": "code",
   "execution_count": 494,
   "metadata": {},
   "outputs": [
    {
     "data": {
      "text/html": [
       "<div>\n",
       "<style scoped>\n",
       "    .dataframe tbody tr th:only-of-type {\n",
       "        vertical-align: middle;\n",
       "    }\n",
       "\n",
       "    .dataframe tbody tr th {\n",
       "        vertical-align: top;\n",
       "    }\n",
       "\n",
       "    .dataframe thead th {\n",
       "        text-align: right;\n",
       "    }\n",
       "</style>\n",
       "<table border=\"1\" class=\"dataframe\">\n",
       "  <thead>\n",
       "    <tr style=\"text-align: right;\">\n",
       "      <th></th>\n",
       "      <th>Classifier</th>\n",
       "      <th>Class Balancing Technique</th>\n",
       "      <th>Train Accuracy</th>\n",
       "      <th>GridSearchCV Accuracy</th>\n",
       "      <th>Actual Test Accuracy</th>\n",
       "      <th>Overfit (-ve) / Underfit (+ve)</th>\n",
       "      <th>Sensitivity</th>\n",
       "      <th>Specificity</th>\n",
       "      <th>Precision</th>\n",
       "      <th>ROC-AUC</th>\n",
       "    </tr>\n",
       "  </thead>\n",
       "  <tbody>\n",
       "    <tr>\n",
       "      <th>1</th>\n",
       "      <td>LogisticRegression</td>\n",
       "      <td>SMOTE</td>\n",
       "      <td>0.873</td>\n",
       "      <td>0.828</td>\n",
       "      <td>0.828</td>\n",
       "      <td>0.045</td>\n",
       "      <td>0.719</td>\n",
       "      <td>0.761</td>\n",
       "      <td>0.146</td>\n",
       "      <td>0.828</td>\n",
       "    </tr>\n",
       "    <tr>\n",
       "      <th>2</th>\n",
       "      <td>RandomForestClassifier</td>\n",
       "      <td>SMOTE</td>\n",
       "      <td>0.908</td>\n",
       "      <td>0.890</td>\n",
       "      <td>0.897</td>\n",
       "      <td>0.011</td>\n",
       "      <td>0.412</td>\n",
       "      <td>0.924</td>\n",
       "      <td>0.236</td>\n",
       "      <td>0.836</td>\n",
       "    </tr>\n",
       "    <tr>\n",
       "      <th>3</th>\n",
       "      <td>RandomForestClassifier</td>\n",
       "      <td>Hyperparameter: Balanced Subsample</td>\n",
       "      <td>0.741</td>\n",
       "      <td>0.732</td>\n",
       "      <td>0.744</td>\n",
       "      <td>-0.003</td>\n",
       "      <td>0.781</td>\n",
       "      <td>0.742</td>\n",
       "      <td>0.147</td>\n",
       "      <td>0.839</td>\n",
       "    </tr>\n",
       "    <tr>\n",
       "      <th>4</th>\n",
       "      <td>SVC</td>\n",
       "      <td>Hyperparameter: Balanced</td>\n",
       "      <td>0.923</td>\n",
       "      <td>0.755</td>\n",
       "      <td>0.767</td>\n",
       "      <td>0.157</td>\n",
       "      <td>0.491</td>\n",
       "      <td>0.806</td>\n",
       "      <td>0.126</td>\n",
       "      <td>0.767</td>\n",
       "    </tr>\n",
       "    <tr>\n",
       "      <th>5</th>\n",
       "      <td>XGBoost</td>\n",
       "      <td>Hyperparameter: Scale_pos_weight</td>\n",
       "      <td>0.748</td>\n",
       "      <td>0.880</td>\n",
       "      <td>0.739</td>\n",
       "      <td>0.008</td>\n",
       "      <td>0.746</td>\n",
       "      <td>0.739</td>\n",
       "      <td>0.140</td>\n",
       "      <td>0.837</td>\n",
       "    </tr>\n",
       "  </tbody>\n",
       "</table>\n",
       "</div>"
      ],
      "text/plain": [
       "               Classifier           Class Balancing Technique  Train Accuracy  \\\n",
       "1      LogisticRegression                               SMOTE           0.873   \n",
       "2  RandomForestClassifier                               SMOTE           0.908   \n",
       "3  RandomForestClassifier  Hyperparameter: Balanced Subsample           0.741   \n",
       "4                     SVC            Hyperparameter: Balanced           0.923   \n",
       "5                 XGBoost    Hyperparameter: Scale_pos_weight           0.748   \n",
       "\n",
       "   GridSearchCV Accuracy  Actual Test Accuracy  \\\n",
       "1                  0.828                 0.828   \n",
       "2                  0.890                 0.897   \n",
       "3                  0.732                 0.744   \n",
       "4                  0.755                 0.767   \n",
       "5                  0.880                 0.739   \n",
       "\n",
       "   Overfit (-ve) / Underfit (+ve)  Sensitivity  Specificity  Precision  \\\n",
       "1                           0.045        0.719        0.761      0.146   \n",
       "2                           0.011        0.412        0.924      0.236   \n",
       "3                          -0.003        0.781        0.742      0.147   \n",
       "4                           0.157        0.491        0.806      0.126   \n",
       "5                           0.008        0.746        0.739      0.140   \n",
       "\n",
       "   ROC-AUC  \n",
       "1    0.828  \n",
       "2    0.836  \n",
       "3    0.839  \n",
       "4    0.767  \n",
       "5    0.837  "
      ]
     },
     "execution_count": 494,
     "metadata": {},
     "output_type": "execute_result"
    }
   ],
   "source": [
    "summary_df.loc[5] = [\"XGBoost\",\n",
    "                    'Hyperparameter: Scale_pos_weight',\n",
    "                     round(train_acc, 3),\n",
    "                     round(cross_val_acc, 3),\n",
    "                     round(test_acc, 3),\n",
    "                     round(train_acc-test_acc, 3),\n",
    "                     round(sensitivity, 3),\n",
    "                     round(specificity, 3),\n",
    "                     round(precision, 3),\n",
    "                     round(roc_auc, 3),\n",
    "                    ]\n",
    "\n",
    "summary_df"
   ]
  },
  {
   "cell_type": "markdown",
   "metadata": {},
   "source": [
    "`XGBoost` has the `highest ROC_AUC and sensitivity scores` compared to the other models. Although it suffers from the train accuracies, it is relatively better fitted, achieving the best balance between bias and variance, allowing the model to predict well with unseen data. Although it has the a low precision, the priority is to strongly predict true wnv containing places in order to prevent a huge outbreak that may cause further monetary damage than just spending on spraying. Like they say, better be safe than sorry.  "
   ]
  },
  {
   "cell_type": "markdown",
   "metadata": {},
   "source": [
    "# Feature importance"
   ]
  },
  {
   "cell_type": "code",
   "execution_count": null,
   "metadata": {},
   "outputs": [],
   "source": [
    "def plot_feature_importance(importance,names,model_type):\n",
    "\n",
    "    #Create arrays from feature importance and feature names\n",
    "    feature_importance = np.array(importance)\n",
    "    feature_names = np.array(names)\n",
    "\n",
    "    #Create a DataFrame using a Dictionary\n",
    "    data={'feature_names':feature_names,'feature_importance':feature_importance}\n",
    "    fi_df = pd.DataFrame(data)\n",
    "\n",
    "    #Sort the DataFrame in order decreasing feature importance\n",
    "    fi_df.sort_values(by=['feature_importance'], ascending=False,inplace=True)\n",
    "\n",
    "    #Define size of bar plot\n",
    "    plt.figure(figsize=(15,40))\n",
    "    #Plot Searborn bar chart\n",
    "    sns.barplot(x=fi_df['feature_importance'], y=fi_df['feature_names'])\n",
    "\n",
    "    \n",
    "    #Add chart labels\n",
    "    plt.title(model_type + ' FEATURE IMPORTANCE')\n",
    "    plt.xlabel('FEATURE IMPORTANCE')\n",
    "    plt.ylabel('FEATURE NAMES')"
   ]
  },
  {
   "cell_type": "code",
   "execution_count": null,
   "metadata": {},
   "outputs": [
    {
     "data": {
      "image/png": "[encoded data removed]",
      "text/plain": [
       "<Figure size 1080x2880 with 1 Axes>"
      ]
     },
     "metadata": {
      "needs_background": "light"
     },
     "output_type": "display_data"
    }
   ],
   "source": [
    "plot_feature_importance(xbg_model.feature_importances_,X.columns,'XGBoost')"
   ]
  },
  {
   "cell_type": "code",
   "execution_count": null,
   "metadata": {},
   "outputs": [
    {
     "ename": "ValueError",
     "evalue": "cannot reshape array of size 162 into shape (38,)",
     "output_type": "error",
     "traceback": [
      "\u001b[1;31m---------------------------------------------------------------------------\u001b[0m",
      "\u001b[1;31mValueError\u001b[0m                                Traceback (most recent call last)",
      "\u001b[1;32md:\\Github Desktop Local\\project_4\\code\\3_Classification Modelling.ipynb Cell 97'\u001b[0m in \u001b[0;36m<cell line: 1>\u001b[1;34m()\u001b[0m\n\u001b[1;32m----> <a href='vscode-notebook-cell:/d%3A/Github%20Desktop%20Local/project_4/code/3_Classification%20Modelling.ipynb#ch0000091?line=0'>1</a>\u001b[0m plot_feature_importance(gs_logreg\u001b[39m.\u001b[39;49mbest_estimator_[\u001b[39m1\u001b[39;49m]\u001b[39m.\u001b[39;49mcoef_\u001b[39m.\u001b[39;49mreshape(\u001b[39m38\u001b[39;49m,),X\u001b[39m.\u001b[39mcolumns,\u001b[39m'\u001b[39m\u001b[39mLogisticRegression\u001b[39m\u001b[39m'\u001b[39m)\n",
      "\u001b[1;31mValueError\u001b[0m: cannot reshape array of size 162 into shape (38,)"
     ]
    }
   ],
   "source": [
    "plot_feature_importance(gs_logreg.best_estimator_[1].coef_.reshape(38,),X.columns,'LogisticRegression')"
   ]
  },
  {
   "cell_type": "code",
   "execution_count": null,
   "metadata": {},
   "outputs": [
    {
     "data": {
      "image/png": "[encoded data removed]",
      "text/plain": [
       "<Figure size 1080x1080 with 1 Axes>"
      ]
     },
     "metadata": {
      "needs_background": "light"
     },
     "output_type": "display_data"
    }
   ],
   "source": [
    "plot_feature_importance(rfs_hyperparam_bal.feature_importances_,X.columns,'RandomForestClassifier')"
   ]
  },
  {
   "cell_type": "code",
   "execution_count": null,
   "metadata": {},
   "outputs": [],
   "source": []
  },
  {
   "cell_type": "markdown",
   "metadata": {},
   "source": [
    "# ROC Curve"
   ]
  },
  {
   "cell_type": "code",
   "execution_count": null,
   "metadata": {},
   "outputs": [
    {
     "name": "stderr",
     "output_type": "stream",
     "text": [
      "C:\\Users\\Admin\\.conda\\envs\\myenv\\lib\\site-packages\\sklearn\\utils\\deprecation.py:87: FutureWarning: Function plot_roc_curve is deprecated; Function :func:`plot_roc_curve` is deprecated in 1.0 and will be removed in 1.2. Use one of the class methods: :meth:`sklearn.metric.RocCurveDisplay.from_predictions` or :meth:`sklearn.metric.RocCurveDisplay.from_estimator`.\n",
      "  warnings.warn(msg, category=FutureWarning)\n"
     ]
    },
    {
     "data": {
      "image/png": "[encoded data removed]",
      "text/plain": [
       "<Figure size 432x288 with 1 Axes>"
      ]
     },
     "metadata": {
      "needs_background": "light"
     },
     "output_type": "display_data"
    }
   ],
   "source": [
    "\n",
    "plot_roc_curve(xbg_model, X_test_sc, y_test)\n",
    "\n",
    "plt.plot([0, 1], [0, 1],\n",
    "         label='baseline', linestyle='--')\n",
    "plt.legend();"
   ]
  },
  {
   "cell_type": "code",
   "execution_count": null,
   "metadata": {},
   "outputs": [],
   "source": []
  },
  {
   "cell_type": "markdown",
   "metadata": {},
   "source": [
    "# Cost Benefit Analysis"
   ]
  },
  {
   "cell_type": "markdown",
   "metadata": {},
   "source": [
    "# Kaggle Submission"
   ]
  },
  {
   "cell_type": "code",
   "execution_count": null,
   "metadata": {},
   "outputs": [],
   "source": [
    "# Generating prediction probabilities on actual testing dataset using the model above (for kaggle submission).\n",
    "\n",
    "submission_pred_proba= xbg_model.predict_proba(kaggle_test_sc)[:, 1]"
   ]
  },
  {
   "cell_type": "code",
   "execution_count": null,
   "metadata": {},
   "outputs": [
    {
     "name": "stderr",
     "output_type": "stream",
     "text": [
      "C:\\Users\\Admin\\AppData\\Local\\Temp\\ipykernel_6224\\3909536931.py:1: SettingWithCopyWarning: \n",
      "A value is trying to be set on a copy of a slice from a DataFrame.\n",
      "Try using .loc[row_indexer,col_indexer] = value instead\n",
      "\n",
      "See the caveats in the documentation: https://pandas.pydata.org/pandas-docs/stable/user_guide/indexing.html#returning-a-view-versus-a-copy\n",
      "  kaggle_test['Id'] = np.linspace(1,116293, 116293)\n"
     ]
    }
   ],
   "source": [
    "kaggle_test['Id'] = np.linspace(1,116293, 116293)"
   ]
  },
  {
   "cell_type": "code",
   "execution_count": null,
   "metadata": {},
   "outputs": [],
   "source": [
    "# Putting the above predicted probabilities into a dataframe and exporting it as a csv file for submission to kaggle.\n",
    "\n",
    "submission = pd.DataFrame({'Id' : kaggle_test['Id'].values, 'WnvPresent' : submission_pred_proba})\n",
    "submission.Id = submission.Id.astype('int')\n",
    "submission.to_csv('../kaggle_submission/submission_xgboost.csv', index=False)"
   ]
  },
  {
   "cell_type": "code",
   "execution_count": null,
   "metadata": {},
   "outputs": [],
   "source": [
    "xbgoost_score_kaggle = 0.66728"
   ]
  }
 ],
 "metadata": {
  "interpreter": {
   "hash": "006be043bc5636bd4f043fb67299334f749b935cdb979ce371419345f6e1f02a"
  },
  "kernelspec": {
   "display_name": "Python 3 (ipykernel)",
   "language": "python",
   "name": "python3"
  },
  "language_info": {
   "codemirror_mode": {
    "name": "ipython",
    "version": 3
   },
   "file_extension": ".py",
   "mimetype": "text/x-python",
   "name": "python",
   "nbconvert_exporter": "python",
   "pygments_lexer": "ipython3",
   "version": "3.9.7"
  }
 },
 "nbformat": 4,
 "nbformat_minor": 2
}
