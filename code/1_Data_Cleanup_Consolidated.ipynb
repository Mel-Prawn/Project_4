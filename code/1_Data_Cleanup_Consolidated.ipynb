{
 "cells": [
  {
   "cell_type": "markdown",
   "metadata": {},
   "source": [
    "<img src=\"http://imgur.com/1ZcRyrc.png\" style=\"float: left; margin: 20px; height: 55px\">\n",
    "\n",
    "# Project 4: Identifying west nile virus hotspots and its exacerbating factors\n"
   ]
  },
  {
   "cell_type": "markdown",
   "metadata": {},
   "source": [
    "# Overview\n",
    "\n",
    "### Introduction\n",
    "The West Nile virus (WNV) is the leading cause of mosquito-borne disease in the continental United States. The virus is most commonly spread to people by the bite of an infected mosquito, although it can also spread through organ transplant, blood transfusions and breast milk ([CDC](https://www.cdc.gov/westnile/index.html)).\n",
    "\n",
    "Most people infected with the WNV do not feel sick. Of those infected, 1 in 5 develop mild symptoms while 1 in 150 develop a serious, sometimes fatal, illness. Nonetheless, it is important to note that there is currently no human vaccine available. As such, the only way to reduce infection in people is by  reducing exposure to the virus ([WHO, 2017](https://www.who.int/news-room/fact-sheets/detail/west-nile-virus)).\n",
    "\n",
    "### Problem Statement\n",
    "As an analyst in the Disease And Treatment Agency, division of Societal Cures In Epidemiology and New Creative Engineering (DATA-SCIENCE), you have been tasked to predict when and where different species of mosquitos will test positive for WNV in the City of Chicago. Subsequently, a cost-benefit analysis should be conducted. This should include annual cost projections for various levels of pesticide coverage (cost) and the effect of these various levels of pesticide coverage (benefit).\n",
    "\n",
    "This will help the City of Chicago and the Chicago Department of Public Health (CDPH) more efficiently and effectively allocate resources towards preventing transmission of this potentially deadly virus. \n",
    "\n",
    "### Method\n",
    "#<\\to insert>"
   ]
  },
  {
   "cell_type": "code",
   "execution_count": 2,
   "metadata": {},
   "outputs": [],
   "source": [
    "import pandas as pd\n",
    "import numpy as np\n",
    "import seaborn as sns\n",
    "import matplotlib.pyplot as plt\n",
    "from datetime import datetime\n",
    "from sklearn.feature_extraction.text import CountVectorizer\n",
    "\n",
    "from sklearn import metrics\n",
    "from sklearn.metrics import mean_squared_error\n",
    "\n",
    "from sklearn.linear_model import (\n",
    "    Ridge,RidgeCV,\n",
    "    Lasso,LassoCV,\n",
    "    ElasticNet, ElasticNetCV,\n",
    "    LinearRegression,\n",
    "    LogisticRegression,\n",
    "    LogisticRegressionCV\n",
    ")\n",
    "from sklearn.model_selection import(\n",
    "    cross_val_score,\n",
    "    train_test_split\n",
    ")\n",
    "from sklearn.preprocessing import (\n",
    "    StandardScaler,\n",
    "    PolynomialFeatures\n",
    ")\n",
    "\n",
    "# pd.set_option('display.max_rows', 1000)  # or 1000\n",
    "pd.set_option('display.max_columns', 50)  # or 1000"
   ]
  },
  {
   "cell_type": "code",
   "execution_count": null,
   "metadata": {},
   "outputs": [],
   "source": [
    "test = pd.read_csv('../data/test.csv')\n",
    "train = pd.read_csv('../data/train.csv')\n",
    "weather = pd.read_csv('../data/weather.csv')\n",
    "spray = pd.read_csv('../data/spray.csv')"
   ]
  },
  {
   "cell_type": "code",
   "execution_count": null,
   "metadata": {},
   "outputs": [],
   "source": [
    "train.head()"
   ]
  },
  {
   "cell_type": "code",
   "execution_count": null,
   "metadata": {},
   "outputs": [],
   "source": [
    "test.head()"
   ]
  },
  {
   "cell_type": "markdown",
   "metadata": {},
   "source": [
    "# Contents\n",
    "- [Cleaning Train Dataset](#Cleaning-Train-Dataset)\n",
    "- [Cleaning Test Dataset](#Cleaning-Test-Dataset)\n",
    "- [Cleaning Weather Dataset](#Cleaning-Weather-Dataset)\n",
    "- [Cleaning Spray Dataset](#Cleaning-Spray-Dataset)"
   ]
  },
  {
   "cell_type": "markdown",
   "metadata": {},
   "source": [
    "## Cleaning Train & Test Dataset"
   ]
  },
  {
   "cell_type": "code",
   "execution_count": null,
   "metadata": {},
   "outputs": [],
   "source": [
    "train.head(5)"
   ]
  },
  {
   "cell_type": "code",
   "execution_count": null,
   "metadata": {},
   "outputs": [],
   "source": [
    "# convert all to lower case\n",
    "train.columns = [word.lower() for word in train.columns]"
   ]
  },
  {
   "cell_type": "code",
   "execution_count": null,
   "metadata": {},
   "outputs": [],
   "source": [
    "train.info()"
   ]
  },
  {
   "cell_type": "markdown",
   "metadata": {},
   "source": [
    "Check null"
   ]
  },
  {
   "cell_type": "code",
   "execution_count": null,
   "metadata": {},
   "outputs": [],
   "source": [
    "# no null values \n",
    "train.isnull().sum()"
   ]
  },
  {
   "cell_type": "code",
   "execution_count": null,
   "metadata": {},
   "outputs": [],
   "source": [
    "# Distribution of mosquitos found\n",
    "\n",
    "plt.hist(train['nummosquitos'], bins=50)\n",
    "plt.title(\"Histogram of Mosquitos in each Trap\");"
   ]
  },
  {
   "cell_type": "markdown",
   "metadata": {},
   "source": [
    "These test results are organized in such a way that when the number of mosquitos exceed 50, they are split into another record (another row in the dataset), such that the number of mosquitos are capped at 50.\n",
    "\n",
    "**Assumption**<br/>\n",
    "If the mosquito traps are only inspected ONCE a day, we will only expect more than one entry for the specific location/trap/date if one of the entry has 50 mosquitos."
   ]
  },
  {
   "cell_type": "code",
   "execution_count": null,
   "metadata": {},
   "outputs": [],
   "source": [
    "# Create a list of columns without 'nummosquitos'\n",
    "\n",
    "col_w = list(train.columns)\n",
    "col_w.remove('nummosquitos') # this includes all the column names except for 'nummosquitos'"
   ]
  },
  {
   "cell_type": "code",
   "execution_count": null,
   "metadata": {},
   "outputs": [],
   "source": [
    "# Inspect dulplicated rows where number of mosquito count is less than 50\n",
    "\n",
    "mos_u50 = train.loc[train['nummosquitos']<50,:] # slice data for nummosquitos < 50\n",
    "\n",
    "dup = mos_u50[col_w].duplicated(keep=False) # find index of data which have same are duplicates except 'nummosquitos'"
   ]
  },
  {
   "cell_type": "code",
   "execution_count": null,
   "metadata": {},
   "outputs": [],
   "source": [
    "# View some data which are duplicates except 'nummosquitos'\n",
    "\n",
    "mos_u50[dup][:6] "
   ]
  },
  {
   "cell_type": "markdown",
   "metadata": {},
   "source": [
    "There are entries that have the same date, location, trap with different number of mosquitos.\n",
    "\n",
    "This means that the data is not entered as we expect. These could be due to data entry errors, traps are checked more than once a day or others. However, it is impossible to discern. We will assume that all datapoints are VALID. (ie. traps are checked several times a day or the like.)"
   ]
  },
  {
   "cell_type": "code",
   "execution_count": null,
   "metadata": {},
   "outputs": [],
   "source": [
    "# To merge rows if they have the same date, location, trap\n",
    "# Create new column to identify those with wnv\n",
    "\n",
    "col_w.remove('wnvpresent') # col_w includes all columns except wnvpresent and nummosquitos\n",
    "\n",
    "train_1 = train.groupby(col_w, as_index=False).sum()\n",
    "\n",
    "# Refresh 'wnvpresent' variable (ie wnvpresent indicates whether the trap has wnv or not)\n",
    "train_1['wnvcount'] = train_1['wnvpresent']\n",
    "train_1['wnvpresent'] = train_1['wnvpresent'].map(lambda x: 1 if x > 0 else 0)\n"
   ]
  },
  {
   "cell_type": "code",
   "execution_count": null,
   "metadata": {},
   "outputs": [],
   "source": [
    "# base rate of wnvpresent AFTER transformation\n",
    "\n",
    "train_1['wnvpresent'].value_counts(normalize=True)"
   ]
  },
  {
   "cell_type": "code",
   "execution_count": null,
   "metadata": {},
   "outputs": [],
   "source": [
    "# Inspect mosquito species and WNY presence\n",
    "\n",
    "train_1.groupby(['species'])[['nummosquitos', 'wnvpresent']].agg({'nummosquitos': ['sum'],\n",
    "                                                                'wnvpresent': ['sum', 'mean']})"
   ]
  },
  {
   "cell_type": "markdown",
   "metadata": {},
   "source": [
    "Most of the mosquitos found are Culex Pipiens and Culex Restuans which are the only species which were detected to have the West Nile Virus. This is because this two species are more common in the US. Nonetheless, all the species of Culex indicated can potentially transmitt the virus.([CDC](https://www.cdc.gov/westnile/resources/pdfs/MosquitoSpecies1999-2016.pdf))"
   ]
  },
  {
   "cell_type": "code",
   "execution_count": null,
   "metadata": {},
   "outputs": [],
   "source": [
    "# Create dataframe which collapse the species column for Visualisation\n",
    "\n",
    "col_w.remove('species') # ie all columns except wnvpresent, nummosquitos amd species\n",
    "\n",
    "train_2 = train_1.groupby(col_w, as_index=False).sum()\n",
    "\n",
    "# Refresh 'wnvpresent' variable (ie if wnvpresent or not)\n",
    "train_2['wnvpresent'] = train_2['wnvpresent'].map(lambda x: 1 if x > 0 else 0)"
   ]
  },
  {
   "cell_type": "code",
   "execution_count": null,
   "metadata": {},
   "outputs": [],
   "source": [
    "train_2['date'] = pd.to_datetime(train_2['date'])\n",
    "train_2['year'] = train_2['date'].dt.year\n",
    "train_2['month'] = train_2['date'].dt.month"
   ]
  },
  {
   "cell_type": "code",
   "execution_count": null,
   "metadata": {},
   "outputs": [],
   "source": [
    "train_plot = train_2.copy()\n",
    "\n",
    "train_plot = train_plot.groupby([\"year\", \"month\"], as_index=False).sum()\n",
    "train_plot['month'] = train_plot['month'].map({5: 'May', 6: 'Jun', 7: 'Jul', 8: 'Aug', 9: 'Sep', 10: 'Oct'})\n",
    "\n",
    "fig, ax = plt.subplots(nrows =2, ncols =1, figsize =(10,10))\n",
    "\n",
    "sns.barplot(x=\"year\", y=\"nummosquitos\", hue=\"month\", data=train_plot, ax=ax[0])\n",
    "ax[0].set_title(\"Total Number of mosquitos per month\", fontsize=10)\n",
    "ax[0].set_xlabel('')\n",
    "ax[0].set_ylabel(\"Number of Mosquitos\", fontsize=10)\n",
    "\n",
    "sns.barplot(x=\"year\", y=\"wnvpresent\", hue=\"month\", data=train_plot, ax=ax[1])\n",
    "ax[1].set_title(\"Total Number of traps with WNV present per month\", fontsize=10)\n",
    "ax[1].set_xlabel('')\n",
    "ax[1].set_ylabel(\" Number of Traps with WNV\", fontsize=10)\n",
    "\n",
    "plt.subplots_adjust(hspace=0.4)"
   ]
  },
  {
   "cell_type": "markdown",
   "metadata": {},
   "source": [
    "There seem to be a cyclical trend of number of mosquitos caught in traps across the years. The number of mosquitos appear to pick up in June/July, before declining in seems to be picking up from June to August. "
   ]
  },
  {
   "cell_type": "code",
   "execution_count": null,
   "metadata": {},
   "outputs": [],
   "source": [
    "# Create a dataframe for each year with lat long and the cumulative occurence of virus\n",
    "# col_w.remove('species')\n",
    "to_keep = ['date', 'latitude', 'longitude', 'wnvpresent']\n",
    "\n",
    "train_plot = train_2[to_keep].copy()\n",
    "\n",
    "train_plot['date'] = pd.to_datetime(train_plot['date']) # convert date type\n",
    "train_plot['year'] = train_plot['date'].dt.year         # create another column of date\n",
    "train_plot.drop(columns='date', inplace=True)\n",
    "\n",
    "\n",
    "train_plot = train_plot.groupby(['year', 'latitude', 'longitude']).sum() # collapse rows that have same values in columns col_w\n",
    "train_plot.reset_index(inplace=True)    # create new df from those collapsed rows\n",
    "\n",
    "train_plot.rename(columns={'wnvpresent': 'wnvcount', # Rename column names to the appropriate one\n",
    "                       }, inplace=True)\n",
    "\n",
    "train_plot_2007 = train_plot.loc[train_plot['year']==2007, :]\n",
    "train_plot_2009 = train_plot.loc[train_plot['year']==2009, :]\n",
    "train_plot_2011 = train_plot.loc[train_plot['year']==2011, :]\n",
    "train_plot_2013 = train_plot.loc[train_plot['year']==2013, :]"
   ]
  },
  {
   "cell_type": "code",
   "execution_count": null,
   "metadata": {},
   "outputs": [],
   "source": [
    "mapdata = np.loadtxt(\"../BackupData/mapdata_copyright_openstreetmap_contributors.txt/mapdata_copyright_openstreetmap_contributors.txt\")\n",
    "traps = pd.read_csv('../data/train.csv')[['Date', 'Trap','Longitude', 'Latitude', 'WnvPresent']]\n",
    "\n",
    "aspect = mapdata.shape[0] * 1.0 / mapdata.shape[1]\n",
    "lon_lat_box = (-88, -87.5, 41.6, 42.1)\n",
    "\n",
    "\n",
    "# Plot for 2007\n",
    "fig,ax = plt.subplots(figsize=(18,18), nrows=1, ncols=4)\n",
    "ax[0].imshow(mapdata, \n",
    "           cmap=plt.get_cmap('gray'), \n",
    "           extent=lon_lat_box, \n",
    "           aspect=aspect)\n",
    "\n",
    "locations_2007 = train_plot_2007.loc[:, ['longitude', 'latitude']]\n",
    "\n",
    "ax[0].scatter(locations_2007['longitude'], locations_2007['latitude'],\n",
    "            s=train_plot_2007.loc[:, ['wnvcount']]*6,\n",
    "            alpha=0.8,\n",
    "            c='red')\n",
    "ax[0].set_title('Traps with WNV - 2007')\n",
    "\n",
    "\n",
    "# Plot for 2009\n",
    "ax[1].imshow(mapdata, \n",
    "           cmap=plt.get_cmap('gray'), \n",
    "           extent=lon_lat_box, \n",
    "           aspect=aspect)\n",
    "\n",
    "locations_2009 = train_plot_2009.loc[:, ['longitude', 'latitude']]\n",
    "\n",
    "ax[1].scatter(locations_2009['longitude'], locations_2009['latitude'],\n",
    "            s=train_plot_2009.loc[:, ['wnvcount']]*6,\n",
    "            alpha=0.8,\n",
    "            c='red')\n",
    "ax[1].set_title('Traps with WNV - 2009')\n",
    "\n",
    "# Plot for 2011\n",
    "ax[2].imshow(mapdata, \n",
    "           cmap=plt.get_cmap('gray'), \n",
    "           extent=lon_lat_box, \n",
    "           aspect=aspect)\n",
    "\n",
    "locations_2011 = train_plot_2011.loc[:, ['longitude', 'latitude']]\n",
    "\n",
    "ax[2].scatter(locations_2011['longitude'], locations_2011['latitude'],\n",
    "            s=train_plot_2011.loc[:, ['wnvcount']]*6,\n",
    "            alpha=0.8,\n",
    "            c='red')\n",
    "ax[2].set_title('Traps with WNV - 2011')\n",
    "\n",
    "# Plot for 2013\n",
    "ax[3].imshow(mapdata, \n",
    "           cmap=plt.get_cmap('gray'), \n",
    "           extent=lon_lat_box, \n",
    "           aspect=aspect)\n",
    "\n",
    "locations_2013 = train_plot_2013.loc[:, ['longitude', 'latitude']]\n",
    "\n",
    "ax[3].scatter(locations_2013['longitude'], locations_2013['latitude'],\n",
    "            s=train_plot_2013.loc[:, ['wnvcount']]*6,\n",
    "            alpha=0.8,\n",
    "            c='red')\n",
    "ax[3].set_title('Traps with WNV - 2013')"
   ]
  },
  {
   "cell_type": "code",
   "execution_count": null,
   "metadata": {},
   "outputs": [],
   "source": [
    "train_plot_2007_top = train_plot_2007.sort_values('wnvcount', ascending=False)[:5]\n",
    "train_plot_2009_top = train_plot_2009.sort_values('wnvcount', ascending=False)[:5]\n",
    "train_plot_2011_top = train_plot_2011.sort_values('wnvcount', ascending=False)[:5]\n",
    "train_plot_2013_top = train_plot_2013.sort_values('wnvcount', ascending=False)[:5]"
   ]
  },
  {
   "cell_type": "code",
   "execution_count": null,
   "metadata": {},
   "outputs": [],
   "source": [
    "# Plot for 2007\n",
    "fig,ax = plt.subplots(figsize=(18,18), nrows=1, ncols=4)\n",
    "ax[0].imshow(mapdata, \n",
    "           cmap=plt.get_cmap('gray'), \n",
    "           extent=lon_lat_box, \n",
    "           aspect=aspect)\n",
    "\n",
    "locations_2007 = train_plot_2007_top.loc[:, ['longitude', 'latitude']]\n",
    "\n",
    "ax[0].scatter(locations_2007['longitude'], locations_2007['latitude'],\n",
    "            s=train_plot_2007_top.loc[:, ['wnvcount']]*6,\n",
    "            alpha=0.8,\n",
    "            c='red')\n",
    "ax[0].set_title('Traps with WNV - 2007')\n",
    "\n",
    "\n",
    "# Plot for 2009\n",
    "ax[1].imshow(mapdata, \n",
    "           cmap=plt.get_cmap('gray'), \n",
    "           extent=lon_lat_box, \n",
    "           aspect=aspect)\n",
    "\n",
    "locations_2009 = train_plot_2009_top.loc[:, ['longitude', 'latitude']]\n",
    "\n",
    "ax[1].scatter(locations_2009['longitude'], locations_2009['latitude'],\n",
    "            s=train_plot_2009_top.loc[:, ['wnvcount']]*6,\n",
    "            alpha=0.8,\n",
    "            c='red')\n",
    "ax[1].set_title('Traps with WNV - 2009')\n",
    "\n",
    "# Plot for 2011\n",
    "ax[2].imshow(mapdata, \n",
    "           cmap=plt.get_cmap('gray'), \n",
    "           extent=lon_lat_box, \n",
    "           aspect=aspect)\n",
    "\n",
    "locations_2011 = train_plot_2011_top.loc[:, ['longitude', 'latitude']]\n",
    "\n",
    "ax[2].scatter(locations_2011['longitude'], locations_2011['latitude'],\n",
    "            s=train_plot_2011_top.loc[:, ['wnvcount']]*6,\n",
    "            alpha=0.8,\n",
    "            c='red')\n",
    "ax[2].set_title('Traps with WNV - 2011')\n",
    "\n",
    "# Plot for 2013\n",
    "ax[3].imshow(mapdata, \n",
    "           cmap=plt.get_cmap('gray'), \n",
    "           extent=lon_lat_box, \n",
    "           aspect=aspect)\n",
    "\n",
    "locations_2013 = train_plot_2013_top.loc[:, ['longitude', 'latitude']]\n",
    "\n",
    "ax[3].scatter(locations_2013['longitude'], locations_2013['latitude'],\n",
    "            s=train_plot_2013_top.loc[:, ['wnvcount']]*6,\n",
    "            alpha=0.8,\n",
    "            c='red')\n",
    "ax[3].set_title('Traps with WNV - 2013')"
   ]
  },
  {
   "cell_type": "markdown",
   "metadata": {},
   "source": [
    "Top 5 highest mosquito counts coming from these 5 locations. "
   ]
  },
  {
   "cell_type": "code",
   "execution_count": null,
   "metadata": {},
   "outputs": [],
   "source": [
    "# Find out the distribution of intervals between trap findings\n",
    "\n",
    "m_dates = train_2[['date', 'trap', 'year']].sort_values(['trap', 'date']).drop_duplicates(ignore_index=True)\n",
    "\n",
    "d_liz = []\n",
    "for i, v in enumerate(m_dates['date']):                 # for loop to get the day intervals between trap checks\n",
    "    if i == 0:\n",
    "        d_liz.append(v-v)\n",
    "    else:\n",
    "        d_liz.append(v-m_dates['date'][i-1])\n",
    "\n",
    "\n",
    "m_dates['diff']= d_liz \n",
    "m_dates['diff_n'] = m_dates['diff'].dt.days            # save day intervals to integer\n",
    "m_dates_rmfirst = m_dates[m_dates.duplicated(subset=['trap', 'year'], keep='first')] # remove first trap recorded in the year\n"
   ]
  },
  {
   "cell_type": "code",
   "execution_count": null,
   "metadata": {},
   "outputs": [],
   "source": [
    "# plot the distribution of intervals between trap checks\n",
    "\n",
    "m_dates_rmfirst.loc[:, 'diff_n'].hist(bins=50)\n",
    "m_dates_rmfirst[['diff_n']].describe()"
   ]
  },
  {
   "cell_type": "markdown",
   "metadata": {},
   "source": [
    "As records are only provided for positive mosquito counts, we are unable to conclude if the intervals represent the frequency of trap checks. Nonetheless, it reflects the data available does not come in regular intervals."
   ]
  },
  {
   "cell_type": "code",
   "execution_count": null,
   "metadata": {},
   "outputs": [],
   "source": [
    "# Select rows required for analysis in train and test set\n",
    "\n",
    "# train data\n",
    "train_to_save = train_1[['date', 'species', 'latitude', 'longitude', 'trap',\n",
    "                         'nummosquitos', 'wnvpresent', 'wnvcount']]\n",
    "\n",
    "# test data\n",
    "test.columns = [word.lower() for word in test.columns]\n",
    "test_to_save = test[['date', 'species', 'latitude', 'longitude', 'trap']]\n"
   ]
  },
  {
   "cell_type": "markdown",
   "metadata": {},
   "source": [
    "### Save cleaned train and test data to csv"
   ]
  },
  {
   "cell_type": "code",
   "execution_count": null,
   "metadata": {},
   "outputs": [],
   "source": [
    "# Save cleaned data to csv\n",
    "\n",
    "train_to_save.to_csv(r'../data/train_clean.csv', index = False) # combine rows where date/location/trap is the same\n",
    "                                                          # nummosquitos are summed\n",
    "                                                          # wnvpresent = 1 if wnvpresent >0\n",
    "\n",
    "test_to_save.to_csv(r'../data/test_clean.csv', index = False)"
   ]
  },
  {
   "cell_type": "markdown",
   "metadata": {},
   "source": [
    "## Cleaning Weather Dataset"
   ]
  },
  {
   "cell_type": "markdown",
   "metadata": {},
   "source": [
    "weather.head(10)"
   ]
  },
  {
   "cell_type": "code",
   "execution_count": null,
   "metadata": {},
   "outputs": [],
   "source": [
    "# convert all to lower case\n",
    "weather.columns = [word.lower() for word in weather.columns]"
   ]
  },
  {
   "cell_type": "code",
   "execution_count": null,
   "metadata": {},
   "outputs": [],
   "source": [
    "# convert date time \n",
    "weather['date'] = weather['date'].map(lambda date: datetime.strptime(date, '%Y-%m-%d'))"
   ]
  },
  {
   "cell_type": "code",
   "execution_count": null,
   "metadata": {},
   "outputs": [],
   "source": [
    "# create month column \n",
    "weather['month'] = weather['date'].dt.month"
   ]
  },
  {
   "cell_type": "code",
   "execution_count": null,
   "metadata": {},
   "outputs": [],
   "source": [
    "weather.info()"
   ]
  },
  {
   "cell_type": "code",
   "execution_count": null,
   "metadata": {},
   "outputs": [],
   "source": [
    "print(f'Total rows for weather: {weather.shape[0]}\\n')\n",
    "for col in weather.columns:\n",
    "    if 'M' in weather[col].unique().tolist():\n",
    "        count = weather[col].value_counts()['M']\n",
    "        print(f'Column {col} has {count} number of \"M\"');"
   ]
  },
  {
   "cell_type": "markdown",
   "metadata": {},
   "source": [
    "### Approach to handle missing data\n",
    "\n",
    "- `water1` need to drop as majority are missing values \n",
    "- `depart, depth, snowfall` have quite alot of missing values as well, need to see what are the unique values and its distribution to judge if it is usefull. \n",
    "- the `rest` will need to do imputation "
   ]
  },
  {
   "cell_type": "code",
   "execution_count": null,
   "metadata": {},
   "outputs": [],
   "source": [
    "# drop water1 rows since majority is M  \n",
    "weather.drop(columns='water1', inplace = True)"
   ]
  },
  {
   "cell_type": "code",
   "execution_count": null,
   "metadata": {},
   "outputs": [],
   "source": [
    "for col in ['preciptotal','depart','depth', 'snowfall']:\n",
    "    plt.figure(figsize=(15,5))\n",
    "    sns.histplot(x = col, data = weather)"
   ]
  },
  {
   "cell_type": "markdown",
   "metadata": {},
   "source": [
    "Need to drop snowfall and depth since not much information to impute. \n",
    "\n",
    "Noticed there are `trace` amounts in snowfall and precipitation"
   ]
  },
  {
   "cell_type": "code",
   "execution_count": null,
   "metadata": {},
   "outputs": [],
   "source": [
    "weather[weather.snowfall == '  T']"
   ]
  },
  {
   "cell_type": "markdown",
   "metadata": {},
   "source": [
    "Snowfall has intermittent traces, hence might but be usefull as it might not hypothetically stack into bigger than 'trace' amounts"
   ]
  },
  {
   "cell_type": "code",
   "execution_count": null,
   "metadata": {},
   "outputs": [],
   "source": [
    "# Dropping unnecessary columns.\n",
    "\n",
    "cols_to_drop = ['depart', 'depth', 'snowfall']\n",
    "weather.drop(columns=cols_to_drop, inplace=True)"
   ]
  },
  {
   "cell_type": "code",
   "execution_count": null,
   "metadata": {},
   "outputs": [],
   "source": [
    "weather[weather.preciptotal == '  T'].head(20)"
   ]
  },
  {
   "cell_type": "markdown",
   "metadata": {},
   "source": [
    "Found that trace amounts seems to be more frequent across datetime. "
   ]
  },
  {
   "cell_type": "code",
   "execution_count": null,
   "metadata": {},
   "outputs": [],
   "source": [
    "weather[(weather['date'] < '2007-07-01') & (weather['date'] > '2007-06-01')].head(35)"
   ]
  },
  {
   "cell_type": "code",
   "execution_count": null,
   "metadata": {},
   "outputs": [],
   "source": [
    "weather[weather.preciptotal == '  T'].shape"
   ]
  },
  {
   "cell_type": "markdown",
   "metadata": {},
   "source": [
    "Precipitation trace amounts seems to be a value more than zero and less than a certain conventional number based on the geographical area measured. We can see gradual precipitation levels converging to what we call `trace` amounts. As per ([ChicagoTribune, 2018](https://www.chicagotribune.com/weather/ct-wea-asktom-0415-20180413-column.html)), precipitation (and the water content of frozen precipitation like snow) is measured in hundredths (0.01) of an inch. \"Trace\" amounts are defined as less than half of precipitation 0.01 inch (0.005 inches). Hence we will `impute 0.005` for trace amounts as there are considerable rows of trace amounts "
   ]
  },
  {
   "cell_type": "code",
   "execution_count": null,
   "metadata": {},
   "outputs": [],
   "source": [
    "# Replacing 'T's and 'M's with 0s in some columns.\n",
    "\n",
    "weather.preciptotal.replace(['M'], 0, inplace=True)\n",
    "weather.preciptotal.replace(['  T'], 0.005, inplace=True)\n",
    "weather.wetbulb.replace(['M'], 0, inplace=True)\n",
    "weather.heat.replace(['M'], 0, inplace=True)\n",
    "weather.cool.replace(['M'], 0, inplace=True)\n",
    "weather.stnpressure.replace(['M'], 0, inplace=True)\n",
    "weather.sealevel.replace(['M'], 0, inplace=True)\n",
    "weather.avgspeed.replace(['M'], 0, inplace=True)"
   ]
  },
  {
   "cell_type": "code",
   "execution_count": null,
   "metadata": {},
   "outputs": [],
   "source": [
    "# Calculate Tavg using (Tmax + Tmin)/2 to deal with 'M's in Tavg.\n",
    "\n",
    "weather['tavg'] = (weather.tmax + weather.tmin)/2"
   ]
  },
  {
   "cell_type": "code",
   "execution_count": null,
   "metadata": {},
   "outputs": [],
   "source": [
    "# Changing column dtypes from type object to type float.\n",
    "\n",
    "weather.preciptotal = weather.preciptotal.astype(float)\n",
    "weather.wetbulb = weather.wetbulb.astype(float)\n",
    "weather.heat = weather.heat.astype(float)\n",
    "weather.cool = weather.cool.astype(float)\n",
    "weather.stnpressure = weather.stnpressure.astype(float)\n",
    "weather.sealevel = weather.sealevel.astype(float)\n",
    "weather.avgspeed = weather.avgspeed.astype(float)"
   ]
  },
  {
   "cell_type": "code",
   "execution_count": null,
   "metadata": {},
   "outputs": [],
   "source": [
    "weather.sunrise.unique()"
   ]
  },
  {
   "cell_type": "code",
   "execution_count": null,
   "metadata": {},
   "outputs": [],
   "source": [
    "weather.sunset.unique()"
   ]
  },
  {
   "cell_type": "markdown",
   "metadata": {},
   "source": [
    "Need to normalize 24h format to float "
   ]
  },
  {
   "cell_type": "code",
   "execution_count": null,
   "metadata": {},
   "outputs": [],
   "source": [
    "weather.head()"
   ]
  },
  {
   "cell_type": "code",
   "execution_count": null,
   "metadata": {},
   "outputs": [],
   "source": [
    "# find how many unique timings from station 2\n",
    "weather[weather.station == 2].sunrise.unique()"
   ]
  },
  {
   "cell_type": "markdown",
   "metadata": {},
   "source": [
    "Weather station 2 does not have sunrise and sunset. Assuming about the same we will impute same sunrise and sunset timings into station 2 similar to station 1"
   ]
  },
  {
   "cell_type": "code",
   "execution_count": null,
   "metadata": {},
   "outputs": [],
   "source": [
    "# create reference to get sunrise and sunset timings from station 1 \n",
    "weather_ref = weather[weather.station == 1][['date','sunrise','sunset']]"
   ]
  },
  {
   "cell_type": "code",
   "execution_count": null,
   "metadata": {},
   "outputs": [],
   "source": [
    "# imput all sunrise and sunset timings for station 2 similar to station 1 based on 'date'\n",
    "\n",
    "weather = weather.merge(weather_ref, on = 'date').drop(columns = ['sunrise_x', 'sunset_x']).rename(columns = {'sunrise_y': 'sunrise', 'sunset_y': 'sunset'})"
   ]
  },
  {
   "cell_type": "code",
   "execution_count": null,
   "metadata": {},
   "outputs": [],
   "source": [
    "# Define function to help convert 24h to float (0430 -->> 4.5)\n",
    "\n",
    "def suntime_float(sun_time):\n",
    "  \n",
    "  # Getting the hour part of the time to convert to the whole number part in the float number.\n",
    "  hours = sun_time // 100\n",
    "\n",
    "  # Getting the minute part of the time to convert to the decimal part in the float number.\n",
    "  minutes = (sun_time % 100) / 60\n",
    "\n",
    "  return hours + minutes"
   ]
  },
  {
   "cell_type": "markdown",
   "metadata": {},
   "source": [
    "merge with weather_data_com"
   ]
  },
  {
   "cell_type": "code",
   "execution_count": null,
   "metadata": {},
   "outputs": [],
   "source": [
    "# Creating series of sunrise and sunset times and converting them to dtype float.\n",
    "sunrise_times = weather['sunrise'].astype(float)\n",
    "sunset_times = weather['sunset'].astype(float)\n",
    "\n",
    "# Mapping the above created function to convert 24h time values to floating point numbers.\n",
    "weather['sunrise'] = list(sunrise_times.map(suntime_float))\n",
    "weather['sunset'] = list(sunset_times.map(suntime_float))"
   ]
  },
  {
   "cell_type": "code",
   "execution_count": null,
   "metadata": {},
   "outputs": [],
   "source": [
    "weather"
   ]
  },
  {
   "cell_type": "markdown",
   "metadata": {},
   "source": [
    "Checking code sum should only have these based on Daily Table format given by Kaggle \n",
    "\n",
    "`FC` - Tornado\n",
    "\n",
    "`FC` - Funnel Cloud\n",
    "\n",
    "`TS` - Thunderstorm\n",
    "\n",
    "`GR` - Hail\n",
    "\n",
    "`RA` - Rain\n"
   ]
  },
  {
   "cell_type": "code",
   "execution_count": null,
   "metadata": {},
   "outputs": [],
   "source": [
    "# to do code sum on individual stations\n",
    "weather_station_1 = weather[weather.station == 1]\n",
    "weather_station_2 = weather[weather.station == 2]"
   ]
  },
  {
   "cell_type": "code",
   "execution_count": null,
   "metadata": {},
   "outputs": [],
   "source": [
    "# Defining a function to clean the weather conditions given in Codesum column.\n",
    "def clean_codesum(string):\n",
    "    return \" \".join(set(\" \".join(string).split(' ')))"
   ]
  },
  {
   "cell_type": "code",
   "execution_count": null,
   "metadata": {},
   "outputs": [],
   "source": [
    "codesum_groupedby_date_stn1 = weather_station_1.groupby('date')['codesum'].agg(clean_codesum)\n",
    "codesum_groupedby_date_stn2 = weather_station_2.groupby('date')['codesum'].agg(clean_codesum)"
   ]
  },
  {
   "cell_type": "markdown",
   "metadata": {},
   "source": [
    "Merged codesum by date. Now need to vectorize\n"
   ]
  },
  {
   "cell_type": "code",
   "execution_count": null,
   "metadata": {},
   "outputs": [],
   "source": [
    "# define function that creates dummy columns \n",
    "\n",
    "def vectorise_code(group):\n",
    "    cvec = CountVectorizer(analyzer='word', token_pattern=r'[\\w\\+]+')\n",
    "    code_sum_cvec = cvec.fit_transform(group)\n",
    "    code_sum_df = pd.DataFrame(code_sum_cvec.toarray(),weather['date'].unique(), columns=cvec.get_feature_names_out())\n",
    "    code_sum_df = code_sum_df.reset_index().rename( columns = {'index': 'date'})\n",
    "    return code_sum_df"
   ]
  },
  {
   "cell_type": "code",
   "execution_count": null,
   "metadata": {},
   "outputs": [],
   "source": [
    "# dummify codes in both stations\n",
    "vect_codesum_stn1 = vectorise_code(codesum_groupedby_date_stn1)\n",
    "vect_codesum_stn2 = vectorise_code(codesum_groupedby_date_stn2)\n",
    "\n",
    "# impute station = 1 as reference\n",
    "vect_codesum_stn1['station'] = 1\n",
    "vect_codesum_stn2['station'] = 2\n",
    "\n",
    "# concat both to make same shape as weather df\n",
    "code_sum_df = pd.concat((vect_codesum_stn1, vect_codesum_stn2), axis=0).fillna(0)\n",
    "\n",
    "# print out shape\n",
    "print(code_sum_df.shape)\n",
    "code_sum_df"
   ]
  },
  {
   "cell_type": "code",
   "execution_count": null,
   "metadata": {},
   "outputs": [],
   "source": [
    "# check shape \n",
    "\n",
    "print(code_sum_df.shape)\n",
    "print(weather.shape)"
   ]
  },
  {
   "cell_type": "code",
   "execution_count": null,
   "metadata": {},
   "outputs": [],
   "source": [
    "cleaned_weather_df = weather.merge(code_sum_df, on = ['date','station'])\n",
    "cleaned_weather_df"
   ]
  },
  {
   "cell_type": "markdown",
   "metadata": {},
   "source": [
    "### Save cleaned weather data to csv"
   ]
  },
  {
   "cell_type": "code",
   "execution_count": null,
   "metadata": {},
   "outputs": [],
   "source": [
    "# saving into weather_cleaned\n",
    "cleaned_weather_df.to_csv(r'../data/weather_cleaned.csv', index = False)"
   ]
  },
  {
   "cell_type": "markdown",
   "metadata": {},
   "source": [
    "## Weather Lag"
   ]
  },
  {
   "cell_type": "code",
   "execution_count": null,
   "metadata": {},
   "outputs": [],
   "source": [
    "weather_station1 = cleaned_weather_df.loc[cleaned_weather_df['station'] == 1]\n",
    "weather_station2 = cleaned_weather_df.loc[cleaned_weather_df['station'] == 2]"
   ]
  },
  {
   "cell_type": "code",
   "execution_count": null,
   "metadata": {},
   "outputs": [],
   "source": [
    "weather_station1.reset_index(drop=True, inplace=True)\n",
    "weather_station2.reset_index(drop=True, inplace=True)"
   ]
  },
  {
   "cell_type": "code",
   "execution_count": null,
   "metadata": {},
   "outputs": [],
   "source": [
    "weather_station1.set_index('date', inplace=True)\n",
    "weather_station2.set_index('date', inplace=True)"
   ]
  },
  {
   "cell_type": "code",
   "execution_count": null,
   "metadata": {},
   "outputs": [],
   "source": [
    "weather_station1['date_2_lag'] = weather_station1.index.shift(2, freq='D')\n",
    "weather_station1['date_3_lag'] = weather_station1.index.shift(3, freq='D')\n",
    "weather_station1['date_5_lag'] = weather_station1.index.shift(5, freq='D')\n",
    "weather_station1['date_7_lag'] = weather_station1.index.shift(7, freq='D')\n",
    "weather_station1['date_14_lag'] = weather_station1.index.shift(14, freq='D')\n",
    "weather_station1['date_21_lag'] = weather_station1.index.shift(21, freq='D')\n",
    "weather_station1['date_28_lag'] = weather_station1.index.shift(28, freq='D')"
   ]
  },
  {
   "cell_type": "code",
   "execution_count": null,
   "metadata": {},
   "outputs": [],
   "source": [
    "weather_station2['date_2_lag'] = weather_station2.index.shift(2, freq='D')\n",
    "weather_station2['date_3_lag'] = weather_station2.index.shift(3, freq='D')\n",
    "weather_station2['date_5_lag'] = weather_station2.index.shift(5, freq='D')\n",
    "weather_station2['date_7_lag'] = weather_station2.index.shift(7, freq='D')\n",
    "weather_station2['date_14_lag'] = weather_station2.index.shift(14, freq='D')\n",
    "weather_station2['date_21_lag'] = weather_station2.index.shift(21, freq='D')\n",
    "weather_station2['date_28_lag'] = weather_station2.index.shift(28, freq='D')"
   ]
  },
  {
   "cell_type": "code",
   "execution_count": null,
   "metadata": {},
   "outputs": [],
   "source": [
    "cleaned_weather_df_lag_combined = pd.concat(objs=[weather_station1, weather_station2])"
   ]
  },
  {
   "cell_type": "code",
   "execution_count": null,
   "metadata": {},
   "outputs": [],
   "source": [
    "cleaned_weather_df_lag_combined.sort_index(inplace=True)"
   ]
  },
  {
   "cell_type": "code",
   "execution_count": null,
   "metadata": {
    "scrolled": true
   },
   "outputs": [],
   "source": [
    "cleaned_weather_df_lag_combined"
   ]
  },
  {
   "cell_type": "markdown",
   "metadata": {},
   "source": [
    "### Saving cleaned lag weather data to csv"
   ]
  },
  {
   "cell_type": "code",
   "execution_count": null,
   "metadata": {},
   "outputs": [],
   "source": [
    "# saving into weather_cleaned_lag\n",
    "cleaned_weather_df_lag_combined.to_csv(r'../data/weather_cleaned_lag.csv', index = False)"
   ]
  },
  {
   "cell_type": "markdown",
   "metadata": {},
   "source": [
    "## Cleaning Spray Dataset"
   ]
  },
  {
   "cell_type": "code",
   "execution_count": null,
   "metadata": {},
   "outputs": [],
   "source": [
    "spray.info()"
   ]
  },
  {
   "cell_type": "code",
   "execution_count": null,
   "metadata": {},
   "outputs": [],
   "source": [
    "# convert all to lower case\n",
    "spray.columns = [word.lower() for word in spray.columns]"
   ]
  },
  {
   "cell_type": "code",
   "execution_count": null,
   "metadata": {},
   "outputs": [],
   "source": [
    "spray.isnull().sum()"
   ]
  },
  {
   "cell_type": "code",
   "execution_count": null,
   "metadata": {},
   "outputs": [],
   "source": [
    "# Change date column to be datetime dtype\n",
    "spray['date'] = pd.to_datetime(spray['date']).dt.date"
   ]
  },
  {
   "cell_type": "code",
   "execution_count": null,
   "metadata": {},
   "outputs": [],
   "source": [
    "spray['time'] = pd.to_datetime(spray['time'])"
   ]
  },
  {
   "cell_type": "code",
   "execution_count": null,
   "metadata": {},
   "outputs": [],
   "source": [
    "# spray.set_index('date' ,inplace = True)\n",
    "# spray.sort_index(inplace=True)"
   ]
  },
  {
   "cell_type": "code",
   "execution_count": null,
   "metadata": {},
   "outputs": [],
   "source": [
    "for date in spray['date'].unique():\n",
    "    print(date,'Earlist time:', spray[spray['date'] == date]['time'].min().time(),'Latest time:', spray[spray['date'] == date]['time'].max().time())"
   ]
  },
  {
   "cell_type": "markdown",
   "metadata": {},
   "source": [
    "Time range for each of these days has many variations. will not be useful if merging with other dataset. hence need to remove column time. \n"
   ]
  },
  {
   "cell_type": "code",
   "execution_count": null,
   "metadata": {},
   "outputs": [],
   "source": [
    "spray.drop(columns = 'time', inplace= True)"
   ]
  },
  {
   "cell_type": "code",
   "execution_count": null,
   "metadata": {},
   "outputs": [],
   "source": [
    "spray.isnull().sum()"
   ]
  },
  {
   "cell_type": "code",
   "execution_count": null,
   "metadata": {},
   "outputs": [],
   "source": [
    "spray.shape"
   ]
  },
  {
   "cell_type": "code",
   "execution_count": null,
   "metadata": {},
   "outputs": [],
   "source": [
    "spray.drop_duplicates(subset = ['date', 'latitude', 'longitude'])"
   ]
  },
  {
   "cell_type": "code",
   "execution_count": null,
   "metadata": {},
   "outputs": [],
   "source": [
    "spray.to_csv(r'../data/spray_cleaned.csv', index = False)"
   ]
  },
  {
   "cell_type": "markdown",
   "metadata": {},
   "source": [
    "# Merging of all Datasets "
   ]
  },
  {
   "cell_type": "code",
   "execution_count": 3,
   "metadata": {},
   "outputs": [],
   "source": [
    "# read csv\n",
    "train = pd.read_csv('../data/train_clean.csv')\n",
    "test = pd.read_csv('../data/test_clean.csv')\n",
    "weather = pd.read_csv('../data/weather_cleaned.csv')\n",
    "spray = pd.read_csv('../data/spray_cleaned.csv')\n",
    "weather_lag= pd.read_csv('../data/weather_cleaned_lag.csv')"
   ]
  },
  {
   "cell_type": "markdown",
   "metadata": {},
   "source": [
    "### Merging Weather to train/test dataset"
   ]
  },
  {
   "cell_type": "code",
   "execution_count": 4,
   "metadata": {},
   "outputs": [
    {
     "data": {
      "text/html": [
       "<div>\n",
       "<style scoped>\n",
       "    .dataframe tbody tr th:only-of-type {\n",
       "        vertical-align: middle;\n",
       "    }\n",
       "\n",
       "    .dataframe tbody tr th {\n",
       "        vertical-align: top;\n",
       "    }\n",
       "\n",
       "    .dataframe thead th {\n",
       "        text-align: right;\n",
       "    }\n",
       "</style>\n",
       "<table border=\"1\" class=\"dataframe\">\n",
       "  <thead>\n",
       "    <tr style=\"text-align: right;\">\n",
       "      <th></th>\n",
       "      <th>date</th>\n",
       "      <th>species</th>\n",
       "      <th>latitude</th>\n",
       "      <th>longitude</th>\n",
       "      <th>trap</th>\n",
       "    </tr>\n",
       "  </thead>\n",
       "  <tbody>\n",
       "    <tr>\n",
       "      <th>0</th>\n",
       "      <td>2008-06-11</td>\n",
       "      <td>CULEX PIPIENS/RESTUANS</td>\n",
       "      <td>41.95469</td>\n",
       "      <td>-87.800991</td>\n",
       "      <td>T002</td>\n",
       "    </tr>\n",
       "    <tr>\n",
       "      <th>1</th>\n",
       "      <td>2008-06-11</td>\n",
       "      <td>CULEX RESTUANS</td>\n",
       "      <td>41.95469</td>\n",
       "      <td>-87.800991</td>\n",
       "      <td>T002</td>\n",
       "    </tr>\n",
       "    <tr>\n",
       "      <th>2</th>\n",
       "      <td>2008-06-11</td>\n",
       "      <td>CULEX PIPIENS</td>\n",
       "      <td>41.95469</td>\n",
       "      <td>-87.800991</td>\n",
       "      <td>T002</td>\n",
       "    </tr>\n",
       "    <tr>\n",
       "      <th>3</th>\n",
       "      <td>2008-06-11</td>\n",
       "      <td>CULEX SALINARIUS</td>\n",
       "      <td>41.95469</td>\n",
       "      <td>-87.800991</td>\n",
       "      <td>T002</td>\n",
       "    </tr>\n",
       "    <tr>\n",
       "      <th>4</th>\n",
       "      <td>2008-06-11</td>\n",
       "      <td>CULEX TERRITANS</td>\n",
       "      <td>41.95469</td>\n",
       "      <td>-87.800991</td>\n",
       "      <td>T002</td>\n",
       "    </tr>\n",
       "  </tbody>\n",
       "</table>\n",
       "</div>"
      ],
      "text/plain": [
       "         date                 species  latitude  longitude  trap\n",
       "0  2008-06-11  CULEX PIPIENS/RESTUANS  41.95469 -87.800991  T002\n",
       "1  2008-06-11          CULEX RESTUANS  41.95469 -87.800991  T002\n",
       "2  2008-06-11           CULEX PIPIENS  41.95469 -87.800991  T002\n",
       "3  2008-06-11        CULEX SALINARIUS  41.95469 -87.800991  T002\n",
       "4  2008-06-11         CULEX TERRITANS  41.95469 -87.800991  T002"
      ]
     },
     "execution_count": 4,
     "metadata": {},
     "output_type": "execute_result"
    }
   ],
   "source": [
    "test.head()"
   ]
  },
  {
   "cell_type": "code",
   "execution_count": 5,
   "metadata": {},
   "outputs": [],
   "source": [
    "# convert date to datetime\n",
    "train['date'] = pd.to_datetime(train['date'])\n",
    "test['date'] = pd.to_datetime(test['date'])\n",
    "weather['date'] = pd.to_datetime(weather['date'])\n",
    "spray['date'] = pd.to_datetime(spray['date'])"
   ]
  },
  {
   "cell_type": "code",
   "execution_count": 6,
   "metadata": {},
   "outputs": [
    {
     "name": "stdout",
     "output_type": "stream",
     "text": [
      "(8475, 8)\n",
      "(116293, 5)\n",
      "Expected rows: 124768\n"
     ]
    }
   ],
   "source": [
    "# print out shapes of test and train\n",
    "\n",
    "print(train.shape)\n",
    "print(test.shape)\n",
    "print(f'Expected rows: {train.shape[0] + test.shape[0]}')"
   ]
  },
  {
   "cell_type": "code",
   "execution_count": 7,
   "metadata": {},
   "outputs": [
    {
     "name": "stdout",
     "output_type": "stream",
     "text": [
      "Merged_df rows: 124768\n"
     ]
    }
   ],
   "source": [
    "merge_df = pd.concat([train,test], axis = 0)\n",
    "print(f'Merged_df rows: {merge_df.shape[0]}')"
   ]
  },
  {
   "cell_type": "code",
   "execution_count": 8,
   "metadata": {},
   "outputs": [],
   "source": [
    "# New feature to match spray location to nearest feature"
   ]
  },
  {
   "cell_type": "code",
   "execution_count": 9,
   "metadata": {},
   "outputs": [],
   "source": [
    "def closest_station(row):\n",
    "    \n",
    "    # Accessing the tested mozzie trap's Latitude & Longitude.\n",
    "    lat = row['latitude']\n",
    "    lon = row['longitude']\n",
    "    \n",
    "    \n",
    "    # Calculating euclidean distance between the row's location and the spray's location (using values in Latitude and Longitude columns)\n",
    "    station_1_dist = ((41.995 - lat) ** 2 + (-87.933 - lon) ** 2) ** 0.5\n",
    "    station_2_dist = ((41.786 - lat) ** 2 + (-87.752 - lon) ** 2) ** 0.5\n",
    "    # So if the calculated distance is <= distance value given as input, the tested trap is considered sprayed, so return 1.\n",
    "    if station_2_dist < station_1_dist:\n",
    "        return 2\n",
    "    \n",
    "    # Return 0 (mozzie trap not sprayed) if spray_dist > dist.\n",
    "    return 1"
   ]
  },
  {
   "cell_type": "code",
   "execution_count": 10,
   "metadata": {},
   "outputs": [],
   "source": [
    "# Apply function to merge_df to find closest station for all TRAPS\n",
    "merge_df['station'] = merge_df.apply(closest_station, axis=1)"
   ]
  },
  {
   "cell_type": "code",
   "execution_count": 11,
   "metadata": {
    "scrolled": true
   },
   "outputs": [
    {
     "data": {
      "text/html": [
       "<div>\n",
       "<style scoped>\n",
       "    .dataframe tbody tr th:only-of-type {\n",
       "        vertical-align: middle;\n",
       "    }\n",
       "\n",
       "    .dataframe tbody tr th {\n",
       "        vertical-align: top;\n",
       "    }\n",
       "\n",
       "    .dataframe thead th {\n",
       "        text-align: right;\n",
       "    }\n",
       "</style>\n",
       "<table border=\"1\" class=\"dataframe\">\n",
       "  <thead>\n",
       "    <tr style=\"text-align: right;\">\n",
       "      <th></th>\n",
       "      <th>date</th>\n",
       "      <th>species</th>\n",
       "      <th>latitude</th>\n",
       "      <th>longitude</th>\n",
       "      <th>trap</th>\n",
       "      <th>nummosquitos</th>\n",
       "      <th>wnvpresent</th>\n",
       "      <th>wnvcount</th>\n",
       "      <th>station</th>\n",
       "    </tr>\n",
       "  </thead>\n",
       "  <tbody>\n",
       "    <tr>\n",
       "      <th>0</th>\n",
       "      <td>2007-05-29</td>\n",
       "      <td>CULEX PIPIENS/RESTUANS</td>\n",
       "      <td>41.867108</td>\n",
       "      <td>-87.654224</td>\n",
       "      <td>T048</td>\n",
       "      <td>1.0</td>\n",
       "      <td>0.0</td>\n",
       "      <td>0.0</td>\n",
       "      <td>2</td>\n",
       "    </tr>\n",
       "    <tr>\n",
       "      <th>1</th>\n",
       "      <td>2007-05-29</td>\n",
       "      <td>CULEX RESTUANS</td>\n",
       "      <td>41.867108</td>\n",
       "      <td>-87.654224</td>\n",
       "      <td>T048</td>\n",
       "      <td>2.0</td>\n",
       "      <td>0.0</td>\n",
       "      <td>0.0</td>\n",
       "      <td>2</td>\n",
       "    </tr>\n",
       "    <tr>\n",
       "      <th>2</th>\n",
       "      <td>2007-05-29</td>\n",
       "      <td>CULEX RESTUANS</td>\n",
       "      <td>41.862292</td>\n",
       "      <td>-87.648860</td>\n",
       "      <td>T091</td>\n",
       "      <td>1.0</td>\n",
       "      <td>0.0</td>\n",
       "      <td>0.0</td>\n",
       "      <td>2</td>\n",
       "    </tr>\n",
       "    <tr>\n",
       "      <th>3</th>\n",
       "      <td>2007-05-29</td>\n",
       "      <td>CULEX RESTUANS</td>\n",
       "      <td>41.896282</td>\n",
       "      <td>-87.655232</td>\n",
       "      <td>T049</td>\n",
       "      <td>1.0</td>\n",
       "      <td>0.0</td>\n",
       "      <td>0.0</td>\n",
       "      <td>2</td>\n",
       "    </tr>\n",
       "    <tr>\n",
       "      <th>4</th>\n",
       "      <td>2007-05-29</td>\n",
       "      <td>CULEX RESTUANS</td>\n",
       "      <td>41.907645</td>\n",
       "      <td>-87.760886</td>\n",
       "      <td>T153</td>\n",
       "      <td>1.0</td>\n",
       "      <td>0.0</td>\n",
       "      <td>0.0</td>\n",
       "      <td>2</td>\n",
       "    </tr>\n",
       "  </tbody>\n",
       "</table>\n",
       "</div>"
      ],
      "text/plain": [
       "        date                 species   latitude  longitude  trap  \\\n",
       "0 2007-05-29  CULEX PIPIENS/RESTUANS  41.867108 -87.654224  T048   \n",
       "1 2007-05-29          CULEX RESTUANS  41.867108 -87.654224  T048   \n",
       "2 2007-05-29          CULEX RESTUANS  41.862292 -87.648860  T091   \n",
       "3 2007-05-29          CULEX RESTUANS  41.896282 -87.655232  T049   \n",
       "4 2007-05-29          CULEX RESTUANS  41.907645 -87.760886  T153   \n",
       "\n",
       "   nummosquitos  wnvpresent  wnvcount  station  \n",
       "0           1.0         0.0       0.0        2  \n",
       "1           2.0         0.0       0.0        2  \n",
       "2           1.0         0.0       0.0        2  \n",
       "3           1.0         0.0       0.0        2  \n",
       "4           1.0         0.0       0.0        2  "
      ]
     },
     "execution_count": 11,
     "metadata": {},
     "output_type": "execute_result"
    }
   ],
   "source": [
    "merge_df.head()"
   ]
  },
  {
   "cell_type": "code",
   "execution_count": 12,
   "metadata": {},
   "outputs": [],
   "source": [
    "# split merge_df into two portions based on station number \n",
    "train_station_1 = merge_df.loc[merge_df['station'] == 1]\n",
    "train_station_2 = merge_df.loc[merge_df['station'] == 2]"
   ]
  },
  {
   "cell_type": "code",
   "execution_count": 13,
   "metadata": {},
   "outputs": [
    {
     "data": {
      "image/png": "[encoded data removed]",
      "text/plain": [
       "<Figure size 504x720 with 1 Axes>"
      ]
     },
     "metadata": {
      "needs_background": "light"
     },
     "output_type": "display_data"
    }
   ],
   "source": [
    "mapdata = np.loadtxt(\"../BackupData/mapdata_copyright_openstreetmap_contributors.txt/mapdata_copyright_openstreetmap_contributors.txt\")\n",
    "                     \n",
    "#traps = pd.read_csv('./datasets/train.csv')[['Date', 'Trap','Longitude', 'Latitude', 'WnvPresent']]\n",
    "\n",
    "aspect = mapdata.shape[0] * 1.0 / mapdata.shape[1]\n",
    "lon_lat_box = (-88, -87.5, 41.6, 42.1)\n",
    "\n",
    "plt.figure(figsize=(7,10))\n",
    "plt.imshow(mapdata, \n",
    "           cmap=plt.get_cmap('gray'), \n",
    "           extent=lon_lat_box, \n",
    "           aspect='auto')\n",
    "\n",
    "plt.scatter(-87.933, 41.995, marker='x', s= 10, c='blue', label='Station 1')\n",
    "plt.scatter(-87.752, 41.786, marker='x', s= 10, c='red', label='Station 2')\n",
    "\n",
    "\n",
    "locations = train_station_1[['longitude', 'latitude']].drop_duplicates().values\n",
    "plt.scatter(locations[:,0], locations[:,1], marker='x', s= 10, c='purple', label='Trap nearer to Station 1');\n",
    "\n",
    "locations2 = train_station_2[['longitude', 'latitude']].drop_duplicates().values\n",
    "plt.scatter(locations2[:,0], locations2[:,1], marker='x', s= 10, c='green', label='Trap nearer to Station 2');\n",
    "plt.legend();"
   ]
  },
  {
   "cell_type": "code",
   "execution_count": 16,
   "metadata": {},
   "outputs": [],
   "source": [
    "merge_df_weather = merge_df.merge(weather, on = ['date','station'], how = 'left')"
   ]
  },
  {
   "cell_type": "code",
   "execution_count": 17,
   "metadata": {},
   "outputs": [
    {
     "data": {
      "text/html": [
       "<div>\n",
       "<style scoped>\n",
       "    .dataframe tbody tr th:only-of-type {\n",
       "        vertical-align: middle;\n",
       "    }\n",
       "\n",
       "    .dataframe tbody tr th {\n",
       "        vertical-align: top;\n",
       "    }\n",
       "\n",
       "    .dataframe thead th {\n",
       "        text-align: right;\n",
       "    }\n",
       "</style>\n",
       "<table border=\"1\" class=\"dataframe\">\n",
       "  <thead>\n",
       "    <tr style=\"text-align: right;\">\n",
       "      <th></th>\n",
       "      <th>date</th>\n",
       "      <th>species</th>\n",
       "      <th>latitude</th>\n",
       "      <th>longitude</th>\n",
       "      <th>trap</th>\n",
       "      <th>nummosquitos</th>\n",
       "      <th>wnvpresent</th>\n",
       "      <th>wnvcount</th>\n",
       "      <th>station</th>\n",
       "      <th>tmax</th>\n",
       "      <th>tmin</th>\n",
       "      <th>tavg</th>\n",
       "      <th>dewpoint</th>\n",
       "      <th>wetbulb</th>\n",
       "      <th>heat</th>\n",
       "      <th>cool</th>\n",
       "      <th>codesum</th>\n",
       "      <th>preciptotal</th>\n",
       "      <th>stnpressure</th>\n",
       "      <th>sealevel</th>\n",
       "      <th>resultspeed</th>\n",
       "      <th>resultdir</th>\n",
       "      <th>avgspeed</th>\n",
       "      <th>month</th>\n",
       "      <th>sunrise</th>\n",
       "      <th>sunset</th>\n",
       "      <th>bcfg</th>\n",
       "      <th>br</th>\n",
       "      <th>dz</th>\n",
       "      <th>fg</th>\n",
       "      <th>fg+</th>\n",
       "      <th>fu</th>\n",
       "      <th>hz</th>\n",
       "      <th>mifg</th>\n",
       "      <th>ra</th>\n",
       "      <th>sn</th>\n",
       "      <th>sq</th>\n",
       "      <th>ts</th>\n",
       "      <th>tsra</th>\n",
       "      <th>vcts</th>\n",
       "      <th>gr</th>\n",
       "      <th>vcfg</th>\n",
       "    </tr>\n",
       "  </thead>\n",
       "  <tbody>\n",
       "    <tr>\n",
       "      <th>0</th>\n",
       "      <td>2007-05-29</td>\n",
       "      <td>CULEX PIPIENS/RESTUANS</td>\n",
       "      <td>41.867108</td>\n",
       "      <td>-87.654224</td>\n",
       "      <td>T048</td>\n",
       "      <td>1.0</td>\n",
       "      <td>0.0</td>\n",
       "      <td>0.0</td>\n",
       "      <td>2</td>\n",
       "      <td>88</td>\n",
       "      <td>65</td>\n",
       "      <td>76.5</td>\n",
       "      <td>59</td>\n",
       "      <td>66.0</td>\n",
       "      <td>0.0</td>\n",
       "      <td>12.0</td>\n",
       "      <td>BR HZ</td>\n",
       "      <td>0.0</td>\n",
       "      <td>29.44</td>\n",
       "      <td>30.09</td>\n",
       "      <td>5.8</td>\n",
       "      <td>16</td>\n",
       "      <td>7.4</td>\n",
       "      <td>5</td>\n",
       "      <td>4.35</td>\n",
       "      <td>19.283333</td>\n",
       "      <td>0</td>\n",
       "      <td>1</td>\n",
       "      <td>0</td>\n",
       "      <td>0</td>\n",
       "      <td>0</td>\n",
       "      <td>0</td>\n",
       "      <td>1</td>\n",
       "      <td>0.0</td>\n",
       "      <td>0</td>\n",
       "      <td>0</td>\n",
       "      <td>0</td>\n",
       "      <td>0</td>\n",
       "      <td>0</td>\n",
       "      <td>0</td>\n",
       "      <td>0.0</td>\n",
       "      <td>0.0</td>\n",
       "    </tr>\n",
       "    <tr>\n",
       "      <th>1</th>\n",
       "      <td>2007-05-29</td>\n",
       "      <td>CULEX RESTUANS</td>\n",
       "      <td>41.867108</td>\n",
       "      <td>-87.654224</td>\n",
       "      <td>T048</td>\n",
       "      <td>2.0</td>\n",
       "      <td>0.0</td>\n",
       "      <td>0.0</td>\n",
       "      <td>2</td>\n",
       "      <td>88</td>\n",
       "      <td>65</td>\n",
       "      <td>76.5</td>\n",
       "      <td>59</td>\n",
       "      <td>66.0</td>\n",
       "      <td>0.0</td>\n",
       "      <td>12.0</td>\n",
       "      <td>BR HZ</td>\n",
       "      <td>0.0</td>\n",
       "      <td>29.44</td>\n",
       "      <td>30.09</td>\n",
       "      <td>5.8</td>\n",
       "      <td>16</td>\n",
       "      <td>7.4</td>\n",
       "      <td>5</td>\n",
       "      <td>4.35</td>\n",
       "      <td>19.283333</td>\n",
       "      <td>0</td>\n",
       "      <td>1</td>\n",
       "      <td>0</td>\n",
       "      <td>0</td>\n",
       "      <td>0</td>\n",
       "      <td>0</td>\n",
       "      <td>1</td>\n",
       "      <td>0.0</td>\n",
       "      <td>0</td>\n",
       "      <td>0</td>\n",
       "      <td>0</td>\n",
       "      <td>0</td>\n",
       "      <td>0</td>\n",
       "      <td>0</td>\n",
       "      <td>0.0</td>\n",
       "      <td>0.0</td>\n",
       "    </tr>\n",
       "    <tr>\n",
       "      <th>2</th>\n",
       "      <td>2007-05-29</td>\n",
       "      <td>CULEX RESTUANS</td>\n",
       "      <td>41.862292</td>\n",
       "      <td>-87.648860</td>\n",
       "      <td>T091</td>\n",
       "      <td>1.0</td>\n",
       "      <td>0.0</td>\n",
       "      <td>0.0</td>\n",
       "      <td>2</td>\n",
       "      <td>88</td>\n",
       "      <td>65</td>\n",
       "      <td>76.5</td>\n",
       "      <td>59</td>\n",
       "      <td>66.0</td>\n",
       "      <td>0.0</td>\n",
       "      <td>12.0</td>\n",
       "      <td>BR HZ</td>\n",
       "      <td>0.0</td>\n",
       "      <td>29.44</td>\n",
       "      <td>30.09</td>\n",
       "      <td>5.8</td>\n",
       "      <td>16</td>\n",
       "      <td>7.4</td>\n",
       "      <td>5</td>\n",
       "      <td>4.35</td>\n",
       "      <td>19.283333</td>\n",
       "      <td>0</td>\n",
       "      <td>1</td>\n",
       "      <td>0</td>\n",
       "      <td>0</td>\n",
       "      <td>0</td>\n",
       "      <td>0</td>\n",
       "      <td>1</td>\n",
       "      <td>0.0</td>\n",
       "      <td>0</td>\n",
       "      <td>0</td>\n",
       "      <td>0</td>\n",
       "      <td>0</td>\n",
       "      <td>0</td>\n",
       "      <td>0</td>\n",
       "      <td>0.0</td>\n",
       "      <td>0.0</td>\n",
       "    </tr>\n",
       "    <tr>\n",
       "      <th>3</th>\n",
       "      <td>2007-05-29</td>\n",
       "      <td>CULEX RESTUANS</td>\n",
       "      <td>41.896282</td>\n",
       "      <td>-87.655232</td>\n",
       "      <td>T049</td>\n",
       "      <td>1.0</td>\n",
       "      <td>0.0</td>\n",
       "      <td>0.0</td>\n",
       "      <td>2</td>\n",
       "      <td>88</td>\n",
       "      <td>65</td>\n",
       "      <td>76.5</td>\n",
       "      <td>59</td>\n",
       "      <td>66.0</td>\n",
       "      <td>0.0</td>\n",
       "      <td>12.0</td>\n",
       "      <td>BR HZ</td>\n",
       "      <td>0.0</td>\n",
       "      <td>29.44</td>\n",
       "      <td>30.09</td>\n",
       "      <td>5.8</td>\n",
       "      <td>16</td>\n",
       "      <td>7.4</td>\n",
       "      <td>5</td>\n",
       "      <td>4.35</td>\n",
       "      <td>19.283333</td>\n",
       "      <td>0</td>\n",
       "      <td>1</td>\n",
       "      <td>0</td>\n",
       "      <td>0</td>\n",
       "      <td>0</td>\n",
       "      <td>0</td>\n",
       "      <td>1</td>\n",
       "      <td>0.0</td>\n",
       "      <td>0</td>\n",
       "      <td>0</td>\n",
       "      <td>0</td>\n",
       "      <td>0</td>\n",
       "      <td>0</td>\n",
       "      <td>0</td>\n",
       "      <td>0.0</td>\n",
       "      <td>0.0</td>\n",
       "    </tr>\n",
       "    <tr>\n",
       "      <th>4</th>\n",
       "      <td>2007-05-29</td>\n",
       "      <td>CULEX RESTUANS</td>\n",
       "      <td>41.907645</td>\n",
       "      <td>-87.760886</td>\n",
       "      <td>T153</td>\n",
       "      <td>1.0</td>\n",
       "      <td>0.0</td>\n",
       "      <td>0.0</td>\n",
       "      <td>2</td>\n",
       "      <td>88</td>\n",
       "      <td>65</td>\n",
       "      <td>76.5</td>\n",
       "      <td>59</td>\n",
       "      <td>66.0</td>\n",
       "      <td>0.0</td>\n",
       "      <td>12.0</td>\n",
       "      <td>BR HZ</td>\n",
       "      <td>0.0</td>\n",
       "      <td>29.44</td>\n",
       "      <td>30.09</td>\n",
       "      <td>5.8</td>\n",
       "      <td>16</td>\n",
       "      <td>7.4</td>\n",
       "      <td>5</td>\n",
       "      <td>4.35</td>\n",
       "      <td>19.283333</td>\n",
       "      <td>0</td>\n",
       "      <td>1</td>\n",
       "      <td>0</td>\n",
       "      <td>0</td>\n",
       "      <td>0</td>\n",
       "      <td>0</td>\n",
       "      <td>1</td>\n",
       "      <td>0.0</td>\n",
       "      <td>0</td>\n",
       "      <td>0</td>\n",
       "      <td>0</td>\n",
       "      <td>0</td>\n",
       "      <td>0</td>\n",
       "      <td>0</td>\n",
       "      <td>0.0</td>\n",
       "      <td>0.0</td>\n",
       "    </tr>\n",
       "  </tbody>\n",
       "</table>\n",
       "</div>"
      ],
      "text/plain": [
       "        date                 species   latitude  longitude  trap  \\\n",
       "0 2007-05-29  CULEX PIPIENS/RESTUANS  41.867108 -87.654224  T048   \n",
       "1 2007-05-29          CULEX RESTUANS  41.867108 -87.654224  T048   \n",
       "2 2007-05-29          CULEX RESTUANS  41.862292 -87.648860  T091   \n",
       "3 2007-05-29          CULEX RESTUANS  41.896282 -87.655232  T049   \n",
       "4 2007-05-29          CULEX RESTUANS  41.907645 -87.760886  T153   \n",
       "\n",
       "   nummosquitos  wnvpresent  wnvcount  station  tmax  tmin  tavg  dewpoint  \\\n",
       "0           1.0         0.0       0.0        2    88    65  76.5        59   \n",
       "1           2.0         0.0       0.0        2    88    65  76.5        59   \n",
       "2           1.0         0.0       0.0        2    88    65  76.5        59   \n",
       "3           1.0         0.0       0.0        2    88    65  76.5        59   \n",
       "4           1.0         0.0       0.0        2    88    65  76.5        59   \n",
       "\n",
       "   wetbulb  heat  cool codesum  preciptotal  stnpressure  sealevel  \\\n",
       "0     66.0   0.0  12.0   BR HZ          0.0        29.44     30.09   \n",
       "1     66.0   0.0  12.0   BR HZ          0.0        29.44     30.09   \n",
       "2     66.0   0.0  12.0   BR HZ          0.0        29.44     30.09   \n",
       "3     66.0   0.0  12.0   BR HZ          0.0        29.44     30.09   \n",
       "4     66.0   0.0  12.0   BR HZ          0.0        29.44     30.09   \n",
       "\n",
       "   resultspeed  resultdir  avgspeed  month  sunrise     sunset  bcfg  br  dz  \\\n",
       "0          5.8         16       7.4      5     4.35  19.283333     0   1   0   \n",
       "1          5.8         16       7.4      5     4.35  19.283333     0   1   0   \n",
       "2          5.8         16       7.4      5     4.35  19.283333     0   1   0   \n",
       "3          5.8         16       7.4      5     4.35  19.283333     0   1   0   \n",
       "4          5.8         16       7.4      5     4.35  19.283333     0   1   0   \n",
       "\n",
       "   fg  fg+  fu  hz  mifg  ra  sn  sq  ts  tsra  vcts   gr  vcfg  \n",
       "0   0    0   0   1   0.0   0   0   0   0     0     0  0.0   0.0  \n",
       "1   0    0   0   1   0.0   0   0   0   0     0     0  0.0   0.0  \n",
       "2   0    0   0   1   0.0   0   0   0   0     0     0  0.0   0.0  \n",
       "3   0    0   0   1   0.0   0   0   0   0     0     0  0.0   0.0  \n",
       "4   0    0   0   1   0.0   0   0   0   0     0     0  0.0   0.0  "
      ]
     },
     "execution_count": 17,
     "metadata": {},
     "output_type": "execute_result"
    }
   ],
   "source": [
    "merge_df_weather.head()"
   ]
  },
  {
   "cell_type": "markdown",
   "metadata": {},
   "source": [
    "<font color='red'>\n",
    "    \n",
    "# UNABLE TO RUN CODE IN SECTION BELOW\n",
    "\n",
    "</font>\n",
    "\n",
    "weather_lag_combined is not defined<br/>\n",
    "is it meant to be merge_df + weather_cleaned_lag.csv + .apply(closest_station)<br/>\n",
    "or something like that?"
   ]
  },
  {
   "cell_type": "code",
   "execution_count": null,
   "metadata": {},
   "outputs": [],
   "source": [
    "# weather_lag_combined is not defined\n",
    "# is it meant to be merge_df + weather_cleaned_lag.csv + .apply(closest_station)\n",
    "# or something like that?"
   ]
  },
  {
   "cell_type": "code",
   "execution_count": null,
   "metadata": {},
   "outputs": [],
   "source": [
    "# merge weather lag data with train/test dataset"
   ]
  },
  {
   "cell_type": "code",
   "execution_count": null,
   "metadata": {},
   "outputs": [],
   "source": [
    "lag_dates = ['date_2_lag', 'date_3_lag', 'date_5_lag', 'date_7_lag', 'date_14_lag',\n",
    "       'date_21_lag', 'date_28_lag']\n",
    "\n",
    "for col in lag_dates:\n",
    "    weather_lag[col] = pd.to_datetime(weather_lag[col])"
   ]
  },
  {
   "cell_type": "code",
   "execution_count": null,
   "metadata": {},
   "outputs": [],
   "source": [
    "def merge_lag_dfs(lag_date):\n",
    "    new_merge_df = merge_df.merge(\n",
    "    weather_lag_combined,\n",
    "    left_on=['date', 'station'],\n",
    "    right_on=[lag_date, 'station'],\n",
    "    how='left'\n",
    "    )\n",
    "\n",
    "    new_merge_df.drop(columns=lag_dates, axis=1, inplace=True)\n",
    "    \n",
    "    return new_merge_df"
   ]
  },
  {
   "cell_type": "code",
   "execution_count": null,
   "metadata": {},
   "outputs": [],
   "source": [
    "merge_df_weather_2_lag = merge_lag_dfs('date_2_lag')\n",
    "merge_df_weather_3_lag = merge_lag_dfs('date_3_lag')\n",
    "merge_df_weather_5_lag = merge_lag_dfs('date_5_lag')\n",
    "merge_df_weather_7_lag = merge_lag_dfs('date_7_lag')\n",
    "merge_df_weather_14_lag = merge_lag_dfs('date_14_lag')\n",
    "merge_df_weather_21_lag = merge_lag_dfs('date_21_lag')\n",
    "merge_df_weather_28_lag = merge_lag_dfs('date_28_lag')"
   ]
  },
  {
   "cell_type": "code",
   "execution_count": null,
   "metadata": {},
   "outputs": [],
   "source": [
    "merge_df_weather_2_lag.to_csv(r'../data/weather_cleaned_lag2.csv', index = False)\n",
    "merge_df_weather_3_lag.to_csv(r'../data/weather_cleaned_lag3.csv', index = False)\n",
    "merge_df_weather_5_lag.to_csv(r'../data/weather_cleaned_lag5.csv', index = False)\n",
    "merge_df_weather_7_lag.to_csv(r'../data/weather_cleaned_lag7.csv', index = False)\n",
    "merge_df_weather_14_lag.to_csv(r'../data/weather_cleaned_lag14.csv', index = False)\n",
    "merge_df_weather_21_lag.to_csv(r'../data/weather_cleaned_lag21.csv', index = False)\n",
    "merge_df_weather_28_lag.to_csv(r'../data/weather_cleaned_lag28.csv', index = False)"
   ]
  },
  {
   "cell_type": "markdown",
   "metadata": {},
   "source": [
    "### Merging spray data with weather/train/test dataset"
   ]
  },
  {
   "cell_type": "code",
   "execution_count": 18,
   "metadata": {},
   "outputs": [
    {
     "data": {
      "text/html": [
       "<div>\n",
       "<style scoped>\n",
       "    .dataframe tbody tr th:only-of-type {\n",
       "        vertical-align: middle;\n",
       "    }\n",
       "\n",
       "    .dataframe tbody tr th {\n",
       "        vertical-align: top;\n",
       "    }\n",
       "\n",
       "    .dataframe thead th {\n",
       "        text-align: right;\n",
       "    }\n",
       "</style>\n",
       "<table border=\"1\" class=\"dataframe\">\n",
       "  <thead>\n",
       "    <tr style=\"text-align: right;\">\n",
       "      <th></th>\n",
       "      <th>date</th>\n",
       "      <th>latitude</th>\n",
       "      <th>longitude</th>\n",
       "    </tr>\n",
       "  </thead>\n",
       "  <tbody>\n",
       "    <tr>\n",
       "      <th>0</th>\n",
       "      <td>2011-08-29</td>\n",
       "      <td>42.391623</td>\n",
       "      <td>-88.089163</td>\n",
       "    </tr>\n",
       "    <tr>\n",
       "      <th>1</th>\n",
       "      <td>2011-08-29</td>\n",
       "      <td>42.391348</td>\n",
       "      <td>-88.089163</td>\n",
       "    </tr>\n",
       "    <tr>\n",
       "      <th>2</th>\n",
       "      <td>2011-08-29</td>\n",
       "      <td>42.391022</td>\n",
       "      <td>-88.089157</td>\n",
       "    </tr>\n",
       "    <tr>\n",
       "      <th>3</th>\n",
       "      <td>2011-08-29</td>\n",
       "      <td>42.390637</td>\n",
       "      <td>-88.089158</td>\n",
       "    </tr>\n",
       "    <tr>\n",
       "      <th>4</th>\n",
       "      <td>2011-08-29</td>\n",
       "      <td>42.390410</td>\n",
       "      <td>-88.088858</td>\n",
       "    </tr>\n",
       "  </tbody>\n",
       "</table>\n",
       "</div>"
      ],
      "text/plain": [
       "        date   latitude  longitude\n",
       "0 2011-08-29  42.391623 -88.089163\n",
       "1 2011-08-29  42.391348 -88.089163\n",
       "2 2011-08-29  42.391022 -88.089157\n",
       "3 2011-08-29  42.390637 -88.089158\n",
       "4 2011-08-29  42.390410 -88.088858"
      ]
     },
     "execution_count": 18,
     "metadata": {},
     "output_type": "execute_result"
    }
   ],
   "source": [
    "spray.head()"
   ]
  },
  {
   "cell_type": "code",
   "execution_count": 19,
   "metadata": {},
   "outputs": [],
   "source": [
    "def spray_within_days(row, dist=0.001):\n",
    "    \n",
    "    # Accessing the tested mozzie trap's Latitude & Longitude.\n",
    "    lat = row['latitude']\n",
    "    lon = row['longitude']\n",
    "    date = row['date']\n",
    "    \n",
    "    spray_filtered = spray[(spray['date'] == date)]\n",
    "    \n",
    "    for i in spray_filtered.index:\n",
    "        \n",
    "        # Calculating euclidean distance between the row's location and the spray's location (using values in Latitude and Longitude columns)\n",
    "        spray_dist = ((spray.loc[i, 'latitude'] - lat) ** 2 + (spray.loc[i, 'longitude'] - lon) ** 2) ** 0.5\n",
    "        \n",
    "        # So if the calculated distance is <= distance value given as input, the tested trap is considered sprayed, so return 1.\n",
    "        if spray_dist <= dist:\n",
    "            return 1\n",
    "    \n",
    "    # Return 0 (mozzie trap not sprayed) if spray_dist > dist.\n",
    "    return 0"
   ]
  },
  {
   "cell_type": "code",
   "execution_count": 20,
   "metadata": {
    "scrolled": true
   },
   "outputs": [],
   "source": [
    "merge_weather_spray = merge_df_weather.copy()\n",
    "merge_weather_spray['sprayed'] = merge_df_weather.apply(spray_within_days, axis=1)"
   ]
  },
  {
   "cell_type": "code",
   "execution_count": 21,
   "metadata": {},
   "outputs": [
    {
     "data": {
      "text/plain": [
       "0    124758\n",
       "1        10\n",
       "Name: sprayed, dtype: int64"
      ]
     },
     "execution_count": 21,
     "metadata": {},
     "output_type": "execute_result"
    }
   ],
   "source": [
    "merge_weather_spray['sprayed'].value_counts()"
   ]
  },
  {
   "cell_type": "code",
   "execution_count": 22,
   "metadata": {},
   "outputs": [],
   "source": [
    "merge_weather_spray.sort_values(by = 'nummosquitos', inplace = True)"
   ]
  },
  {
   "cell_type": "markdown",
   "metadata": {},
   "source": [
    "### Save merged (train + weather + spray) as csv\n",
    "Dataset is for EDA and exploration"
   ]
  },
  {
   "cell_type": "code",
   "execution_count": 24,
   "metadata": {},
   "outputs": [
    {
     "data": {
      "text/plain": [
       "(124768, 43)"
      ]
     },
     "execution_count": 24,
     "metadata": {},
     "output_type": "execute_result"
    }
   ],
   "source": [
    "merge_weather_spray.shape"
   ]
  },
  {
   "cell_type": "code",
   "execution_count": 23,
   "metadata": {},
   "outputs": [
    {
     "data": {
      "text/plain": [
       "date            0\n",
       "species         0\n",
       "latitude        0\n",
       "longitude       0\n",
       "trap            0\n",
       "nummosquitos    0\n",
       "wnvpresent      0\n",
       "wnvcount        0\n",
       "station         0\n",
       "tmax            0\n",
       "tmin            0\n",
       "tavg            0\n",
       "dewpoint        0\n",
       "wetbulb         0\n",
       "heat            0\n",
       "cool            0\n",
       "codesum         0\n",
       "preciptotal     0\n",
       "stnpressure     0\n",
       "sealevel        0\n",
       "resultspeed     0\n",
       "resultdir       0\n",
       "avgspeed        0\n",
       "month           0\n",
       "sunrise         0\n",
       "sunset          0\n",
       "bcfg            0\n",
       "br              0\n",
       "dz              0\n",
       "fg              0\n",
       "fg+             0\n",
       "fu              0\n",
       "hz              0\n",
       "mifg            0\n",
       "ra              0\n",
       "sn              0\n",
       "sq              0\n",
       "ts              0\n",
       "tsra            0\n",
       "vcts            0\n",
       "gr              0\n",
       "vcfg            0\n",
       "sprayed         0\n",
       "dtype: int64"
      ]
     },
     "execution_count": 23,
     "metadata": {},
     "output_type": "execute_result"
    }
   ],
   "source": [
    "train_merged = merge_weather_spray.iloc[0:8475]\n",
    "# check no NAN\n",
    "train_merged.isnull().sum()"
   ]
  },
  {
   "cell_type": "code",
   "execution_count": 25,
   "metadata": {},
   "outputs": [
    {
     "name": "stdout",
     "output_type": "stream",
     "text": [
      "Sum of null values in nummosquitos: 116293\n",
      "(116293, 5)\n"
     ]
    },
    {
     "data": {
      "text/html": [
       "<div>\n",
       "<style scoped>\n",
       "    .dataframe tbody tr th:only-of-type {\n",
       "        vertical-align: middle;\n",
       "    }\n",
       "\n",
       "    .dataframe tbody tr th {\n",
       "        vertical-align: top;\n",
       "    }\n",
       "\n",
       "    .dataframe thead th {\n",
       "        text-align: right;\n",
       "    }\n",
       "</style>\n",
       "<table border=\"1\" class=\"dataframe\">\n",
       "  <thead>\n",
       "    <tr style=\"text-align: right;\">\n",
       "      <th></th>\n",
       "      <th>date</th>\n",
       "      <th>species</th>\n",
       "      <th>latitude</th>\n",
       "      <th>longitude</th>\n",
       "      <th>trap</th>\n",
       "      <th>nummosquitos</th>\n",
       "      <th>wnvpresent</th>\n",
       "      <th>wnvcount</th>\n",
       "      <th>station</th>\n",
       "      <th>tmax</th>\n",
       "      <th>tmin</th>\n",
       "      <th>tavg</th>\n",
       "      <th>dewpoint</th>\n",
       "      <th>wetbulb</th>\n",
       "      <th>heat</th>\n",
       "      <th>cool</th>\n",
       "      <th>codesum</th>\n",
       "      <th>preciptotal</th>\n",
       "      <th>stnpressure</th>\n",
       "      <th>sealevel</th>\n",
       "      <th>resultspeed</th>\n",
       "      <th>resultdir</th>\n",
       "      <th>avgspeed</th>\n",
       "      <th>month</th>\n",
       "      <th>sunrise</th>\n",
       "      <th>sunset</th>\n",
       "      <th>bcfg</th>\n",
       "      <th>br</th>\n",
       "      <th>dz</th>\n",
       "      <th>fg</th>\n",
       "      <th>fg+</th>\n",
       "      <th>fu</th>\n",
       "      <th>hz</th>\n",
       "      <th>mifg</th>\n",
       "      <th>ra</th>\n",
       "      <th>sn</th>\n",
       "      <th>sq</th>\n",
       "      <th>ts</th>\n",
       "      <th>tsra</th>\n",
       "      <th>vcts</th>\n",
       "      <th>gr</th>\n",
       "      <th>vcfg</th>\n",
       "      <th>sprayed</th>\n",
       "    </tr>\n",
       "  </thead>\n",
       "  <tbody>\n",
       "    <tr>\n",
       "      <th>8475</th>\n",
       "      <td>2008-06-11</td>\n",
       "      <td>CULEX PIPIENS/RESTUANS</td>\n",
       "      <td>41.95469</td>\n",
       "      <td>-87.800991</td>\n",
       "      <td>T002</td>\n",
       "      <td>NaN</td>\n",
       "      <td>NaN</td>\n",
       "      <td>NaN</td>\n",
       "      <td>1</td>\n",
       "      <td>86</td>\n",
       "      <td>61</td>\n",
       "      <td>73.5</td>\n",
       "      <td>56</td>\n",
       "      <td>64.0</td>\n",
       "      <td>0.0</td>\n",
       "      <td>9.0</td>\n",
       "      <td></td>\n",
       "      <td>0.0</td>\n",
       "      <td>29.28</td>\n",
       "      <td>29.99</td>\n",
       "      <td>8.9</td>\n",
       "      <td>18</td>\n",
       "      <td>10.0</td>\n",
       "      <td>6</td>\n",
       "      <td>4.266667</td>\n",
       "      <td>19.433333</td>\n",
       "      <td>0</td>\n",
       "      <td>0</td>\n",
       "      <td>0</td>\n",
       "      <td>0</td>\n",
       "      <td>0</td>\n",
       "      <td>0</td>\n",
       "      <td>0</td>\n",
       "      <td>0.0</td>\n",
       "      <td>0</td>\n",
       "      <td>0</td>\n",
       "      <td>0</td>\n",
       "      <td>0</td>\n",
       "      <td>0</td>\n",
       "      <td>0</td>\n",
       "      <td>0.0</td>\n",
       "      <td>0.0</td>\n",
       "      <td>0</td>\n",
       "    </tr>\n",
       "    <tr>\n",
       "      <th>8476</th>\n",
       "      <td>2008-06-11</td>\n",
       "      <td>CULEX RESTUANS</td>\n",
       "      <td>41.95469</td>\n",
       "      <td>-87.800991</td>\n",
       "      <td>T002</td>\n",
       "      <td>NaN</td>\n",
       "      <td>NaN</td>\n",
       "      <td>NaN</td>\n",
       "      <td>1</td>\n",
       "      <td>86</td>\n",
       "      <td>61</td>\n",
       "      <td>73.5</td>\n",
       "      <td>56</td>\n",
       "      <td>64.0</td>\n",
       "      <td>0.0</td>\n",
       "      <td>9.0</td>\n",
       "      <td></td>\n",
       "      <td>0.0</td>\n",
       "      <td>29.28</td>\n",
       "      <td>29.99</td>\n",
       "      <td>8.9</td>\n",
       "      <td>18</td>\n",
       "      <td>10.0</td>\n",
       "      <td>6</td>\n",
       "      <td>4.266667</td>\n",
       "      <td>19.433333</td>\n",
       "      <td>0</td>\n",
       "      <td>0</td>\n",
       "      <td>0</td>\n",
       "      <td>0</td>\n",
       "      <td>0</td>\n",
       "      <td>0</td>\n",
       "      <td>0</td>\n",
       "      <td>0.0</td>\n",
       "      <td>0</td>\n",
       "      <td>0</td>\n",
       "      <td>0</td>\n",
       "      <td>0</td>\n",
       "      <td>0</td>\n",
       "      <td>0</td>\n",
       "      <td>0.0</td>\n",
       "      <td>0.0</td>\n",
       "      <td>0</td>\n",
       "    </tr>\n",
       "    <tr>\n",
       "      <th>8477</th>\n",
       "      <td>2008-06-11</td>\n",
       "      <td>CULEX PIPIENS</td>\n",
       "      <td>41.95469</td>\n",
       "      <td>-87.800991</td>\n",
       "      <td>T002</td>\n",
       "      <td>NaN</td>\n",
       "      <td>NaN</td>\n",
       "      <td>NaN</td>\n",
       "      <td>1</td>\n",
       "      <td>86</td>\n",
       "      <td>61</td>\n",
       "      <td>73.5</td>\n",
       "      <td>56</td>\n",
       "      <td>64.0</td>\n",
       "      <td>0.0</td>\n",
       "      <td>9.0</td>\n",
       "      <td></td>\n",
       "      <td>0.0</td>\n",
       "      <td>29.28</td>\n",
       "      <td>29.99</td>\n",
       "      <td>8.9</td>\n",
       "      <td>18</td>\n",
       "      <td>10.0</td>\n",
       "      <td>6</td>\n",
       "      <td>4.266667</td>\n",
       "      <td>19.433333</td>\n",
       "      <td>0</td>\n",
       "      <td>0</td>\n",
       "      <td>0</td>\n",
       "      <td>0</td>\n",
       "      <td>0</td>\n",
       "      <td>0</td>\n",
       "      <td>0</td>\n",
       "      <td>0.0</td>\n",
       "      <td>0</td>\n",
       "      <td>0</td>\n",
       "      <td>0</td>\n",
       "      <td>0</td>\n",
       "      <td>0</td>\n",
       "      <td>0</td>\n",
       "      <td>0.0</td>\n",
       "      <td>0.0</td>\n",
       "      <td>0</td>\n",
       "    </tr>\n",
       "  </tbody>\n",
       "</table>\n",
       "</div>"
      ],
      "text/plain": [
       "           date                 species  latitude  longitude  trap  \\\n",
       "8475 2008-06-11  CULEX PIPIENS/RESTUANS  41.95469 -87.800991  T002   \n",
       "8476 2008-06-11          CULEX RESTUANS  41.95469 -87.800991  T002   \n",
       "8477 2008-06-11           CULEX PIPIENS  41.95469 -87.800991  T002   \n",
       "\n",
       "      nummosquitos  wnvpresent  wnvcount  station  tmax  tmin  tavg  dewpoint  \\\n",
       "8475           NaN         NaN       NaN        1    86    61  73.5        56   \n",
       "8476           NaN         NaN       NaN        1    86    61  73.5        56   \n",
       "8477           NaN         NaN       NaN        1    86    61  73.5        56   \n",
       "\n",
       "      wetbulb  heat  cool codesum  preciptotal  stnpressure  sealevel  \\\n",
       "8475     64.0   0.0   9.0                  0.0        29.28     29.99   \n",
       "8476     64.0   0.0   9.0                  0.0        29.28     29.99   \n",
       "8477     64.0   0.0   9.0                  0.0        29.28     29.99   \n",
       "\n",
       "      resultspeed  resultdir  avgspeed  month   sunrise     sunset  bcfg  br  \\\n",
       "8475          8.9         18      10.0      6  4.266667  19.433333     0   0   \n",
       "8476          8.9         18      10.0      6  4.266667  19.433333     0   0   \n",
       "8477          8.9         18      10.0      6  4.266667  19.433333     0   0   \n",
       "\n",
       "      dz  fg  fg+  fu  hz  mifg  ra  sn  sq  ts  tsra  vcts   gr  vcfg  \\\n",
       "8475   0   0    0   0   0   0.0   0   0   0   0     0     0  0.0   0.0   \n",
       "8476   0   0    0   0   0   0.0   0   0   0   0     0     0  0.0   0.0   \n",
       "8477   0   0    0   0   0   0.0   0   0   0   0     0     0  0.0   0.0   \n",
       "\n",
       "      sprayed  \n",
       "8475        0  \n",
       "8476        0  \n",
       "8477        0  "
      ]
     },
     "execution_count": 25,
     "metadata": {},
     "output_type": "execute_result"
    }
   ],
   "source": [
    "test_merged = merge_weather_spray.iloc[8475:]\n",
    "# check no NAN and cross check test original shape\n",
    "print(f'Sum of null values in nummosquitos: {test_merged.nummosquitos.isnull().sum()}')\n",
    "print(test.shape)\n",
    "\n",
    "# check head if there are any values in nummosquitos | wnvcount\t| wnvpresent\n",
    "test_merged.head(3)"
   ]
  },
  {
   "cell_type": "code",
   "execution_count": 26,
   "metadata": {},
   "outputs": [],
   "source": [
    "# drop columns for test_merged_weather set \n",
    "\n",
    "test_merged = test_merged.drop(columns = ['nummosquitos','wnvcount', 'wnvpresent'])"
   ]
  },
  {
   "cell_type": "code",
   "execution_count": 27,
   "metadata": {},
   "outputs": [],
   "source": [
    "# Save cleaned data to csv\n",
    "\n",
    "train_merged.to_csv(r'../data/merged_train.csv', index = False) # Combined both weather and spray data\n",
    "#test_merged.to_csv(r'../data/merged_test.csv', index = False) # Combined both weather and spray data"
   ]
  },
  {
   "cell_type": "markdown",
   "metadata": {},
   "source": [
    "## Further EDA Analysis"
   ]
  },
  {
   "cell_type": "code",
   "execution_count": null,
   "metadata": {},
   "outputs": [],
   "source": [
    "# read in merged data\n",
    "\n",
    "train_merged = pd.read_csv('../data/merged_train.csv')\n",
    "train_merged['date'] = pd.to_datetime(train_merged['date'])"
   ]
  },
  {
   "cell_type": "code",
   "execution_count": null,
   "metadata": {},
   "outputs": [],
   "source": [
    "train_merged.head()"
   ]
  },
  {
   "cell_type": "code",
   "execution_count": null,
   "metadata": {},
   "outputs": [],
   "source": [
    "# create week column \n",
    "train_merged['week'] = train_merged.loc[:,'date'].dt.isocalendar().week\n",
    "train_merged['year'] = train_merged.loc[:,'date'].dt.year"
   ]
  },
  {
   "cell_type": "code",
   "execution_count": null,
   "metadata": {},
   "outputs": [],
   "source": [
    "# monthly trend of average temperature\n",
    "train_merged.groupby('month').mean()[['wnvpresent']].plot.bar()\n",
    "plt.xlabel('Month in a year')\n",
    "plt.ylabel('Temperature')\n",
    "plt.title('Month vs WnvPresent', fontdict={'fontsize': 16, 'weight': 'bold'})\n",
    "plt.xticks(rotation=0);"
   ]
  },
  {
   "cell_type": "code",
   "execution_count": null,
   "metadata": {},
   "outputs": [],
   "source": [
    "# define function that takes in df and which year to produce trend for num of mosquitos, vs wnvpresent and tavg\n",
    "\n",
    "def plot_trend_wnv(df, year):\n",
    "    dataset = df[df['year']== year]\n",
    "    # creating separate df to compile SUM of mosquitos by species\n",
    "    dataset_sub = dataset[(dataset['species']== 'CULEX PIPIENS') | (dataset['species']== 'CULEX RESTUANS') | (dataset['species']== 'CULEX PIPIENS/RESTUANS')]\n",
    "\n",
    "    dataset_sub = dataset_sub.groupby(['month', 'week','species']).sum()['nummosquitos'].reset_index()\n",
    "    dataset_sub[dataset_sub.species == 'CULEX PIPIENS']\n",
    "\n",
    "    new_df = dataset_sub[['month', 'week']]\n",
    "    new_df.loc[:,'pipiens_num'] = dataset_sub[dataset_sub.species == 'CULEX PIPIENS']['nummosquitos']\n",
    "    new_df.loc[:,'restuans_num'] = dataset_sub[dataset_sub.species == 'CULEX RESTUANS']['nummosquitos']\n",
    "    new_df.loc[:,'mix_pip&restuans_num'] = dataset_sub[dataset_sub.species == 'CULEX PIPIENS/RESTUANS']['nummosquitos']\n",
    "\n",
    "    new_df = new_df.groupby(['week','month']).mean()\n",
    "\n",
    "    # Plot subsplots with main y-axis = Sum of No. of mosquitos \n",
    "    fig, ax1 = plt.subplots() \n",
    "\n",
    "    new_df.plot.bar(figsize= (30,10), ax = ax1)\n",
    "\n",
    "    # set labels for left y-axis \n",
    "    plt.ylabel('Sum of No. of mosquitos by Species', fontdict={'size': 20}) \n",
    "    plt.xlabel('By (Week, Month)', fontdict={'size': 20}) \n",
    "    plt.xticks(rotation=0, size= 12)\n",
    "    plt.yticks(size= 12)\n",
    "\n",
    "\n",
    "    # create df for wnv and tavg line plots \n",
    "    analyse_df1 = dataset.groupby(['week','month']).sum()[['wnvpresent']]\n",
    "    analyse_df2 = dataset.groupby(['week']).mean()[['tavg']].reset_index().drop(columns= ['week'])\n",
    "\n",
    "    # Adding Twin Axes for wnvpresent (Red solid line )\n",
    "    ax2 = ax1.twinx()  \n",
    "\n",
    "    analyse_df1.plot.line(figsize= (30,10), ax = ax2, color = 'red')\n",
    "\n",
    "    plt.legend(loc='upper left')\n",
    "\n",
    "    # Adding Twin Axes for tavg (Dark Blue Dotted Line)\n",
    "    analyse_df2.plot.line(figsize= (30,10), ax = ax2, color = 'darkblue', ls =  '--', lw = 3)\n",
    "    plt.ylim(0,120)\n",
    "    plt.legend(loc='upper left')\n",
    "\n",
    "    # Add label\n",
    "    plt.title(f'WnvPresent trend in {year}', fontsize= 20, weight = 'bold')\n",
    "    plt.ylabel('Sum of WnvPresent | Average Temperature') \n",
    "\n",
    "    # Show plot\n",
    "    plt.grid(color = 'black', linestyle = '-.', linewidth = 0.5)\n",
    "    plt.show()"
   ]
  },
  {
   "cell_type": "code",
   "execution_count": null,
   "metadata": {},
   "outputs": [],
   "source": [
    "# plot yearly trends and compare if spray/avg temp has an impact \n",
    "years = [2007,2009,2011,2013]\n",
    "\n",
    "for year in years:\n",
    "    plot_trend_wnv(train_merged,year)"
   ]
  },
  {
   "cell_type": "markdown",
   "metadata": {},
   "source": [
    "Key Observations\n",
    "1) In 2007 and 2013, there seems to be a peak of Wnvpresent during month of August. As for the other two years, there seem to be lesser mosquitos caught generally. This suggest that there might be some other factors that may influence the breeding of mosquitos. \n",
    "2) Across all years, `restuans species` population peaks during mid to end July while `Pipiens species` will tend to peak during August. \n",
    "3) We did notice that when `restuans` peaked, `wnvpresent` counts did not see spike, however when `pipiens` started to rise, `wnvpresent` starts to spike upwards as well. This suggest that there is a slight chance having spots with \n",
    "4) We can see that in different years, the months display `inconsistent peaks` in `wnvpresent`\n"
   ]
  },
  {
   "cell_type": "code",
   "execution_count": null,
   "metadata": {},
   "outputs": [],
   "source": [
    "# monthly trend of average temperature\n",
    "train_merged.groupby('month').mean()[['heat', 'cool']]"
   ]
  },
  {
   "cell_type": "markdown",
   "metadata": {},
   "source": [
    "This should not be in continuous variable analysis as it depicts average cooling or heating component during hot and cold seasons. \n",
    "Naturally if we see on August having very high temp, for sure heating will be set at zero and cooling will be set at max. As temperature is believe to be a crucial factor to mosquito activity based ([source](https://blog.mosquito.buzz/how-weather-affects-mosquito-activity)), the higher the temp, the higher the cooling effect needed to dampen the overall temp, displaying positive correlation. It will not make sense to compare with the number of mosquitos as it will sure show positive correlation of cooling effect to num of mosquitos. This high collinearity may have impact on the model results. We can explore both in our models and test based on mse and also view correlation to num of mosquitos."
   ]
  },
  {
   "cell_type": "markdown",
   "metadata": {},
   "source": [
    "### Analysis on what correlates to num of mosquitos "
   ]
  },
  {
   "cell_type": "code",
   "execution_count": null,
   "metadata": {},
   "outputs": [],
   "source": [
    "continuous_var = ['tavg','dewpoint','wetbulb','preciptotal','stnpressure','sealevel','resultspeed',\n",
    " 'resultdir','avgspeed','br','dz','fg','hz','ra','ts','nummosquitos']"
   ]
  },
  {
   "cell_type": "code",
   "execution_count": null,
   "metadata": {},
   "outputs": [],
   "source": [
    "impt_features = train_merged[continuous_var]"
   ]
  },
  {
   "cell_type": "markdown",
   "metadata": {},
   "source": [
    "Checking code sum should only have these based on Daily Table format given by Kaggle \n",
    "\n",
    "`TS` - Thunderstorm\n",
    "\n",
    "`RA` - Rain\n",
    "\n",
    "`FG` - Fog\n",
    "\n",
    "`FG+` - Heavy Fog \n",
    "\n",
    "`BR` - Mist\n",
    "\n",
    "`DZ` - Drizzle \n",
    "\n",
    "`HZ` - Haze\n",
    "\n",
    "\n"
   ]
  },
  {
   "cell_type": "code",
   "execution_count": null,
   "metadata": {},
   "outputs": [],
   "source": [
    "cont_var = [col for col in merge_df_weather if \\\n",
    "    (merge_df_weather[col].dtypes != 'O') &\\\n",
    "    (col not in ['date','latitude', 'longitude', 'wnvcount', 'station', 'sunrise', 'sunset','heat','cool'])]\n",
    "\n",
    "heatmap_df = merge_df_weather[cont_var].loc[0:8474]\n",
    "heatmap_df.drop(columns = ['bcfg', 'fg+','fu','mifg','sn','sq','gr','vcfg'], inplace = True)"
   ]
  },
  {
   "cell_type": "code",
   "execution_count": null,
   "metadata": {},
   "outputs": [],
   "source": [
    "# Generate a mask for the upper triangle\n",
    "mask = np.triu(np.ones_like(heatmap_df.corr()))\n",
    "\n",
    "# Set up the matplotlib figure\n",
    "f, ax = plt.subplots(figsize=(20, 20))\n",
    "\n",
    "# Generate a custom diverging colormap\n",
    "cmap = sns.diverging_palette(10, 230, as_cmap=True)\n",
    "\n",
    "# Draw the heatmap_df with the mask and correct aspect ratio\n",
    "sns.heatmap(heatmap_df.corr(), mask=mask, cmap=cmap, vmax=0.5, vmin = -0.5,\n",
    "            square=True, linewidths=0.5, cbar_kws={\"shrink\": 0.5}, annot = True)"
   ]
  },
  {
   "cell_type": "code",
   "execution_count": null,
   "metadata": {},
   "outputs": [],
   "source": [
    "heatmap_df.corr()['wnvpresent'].sort_values(ascending = False)"
   ]
  },
  {
   "cell_type": "markdown",
   "metadata": {},
   "source": [
    "It is believed that hot and dry conditions are more favorable for West Nile virus than cold and wet.\n",
    "\n",
    "From the heatmap, few observations were observed. \n",
    "\n",
    "1) Generally, having `tavg`, `wetbulb`, `thunderstorm`, `rain` have a positive correlation with number of mosquitoes while `preciptotal`, `sealevel`, `resultspeed` and `drizzle` has a slight negative correlation. These features may be usefull in modelling later on. \n",
    "2) We can see that `dewpoint` and `wetbulb` is highly correlated to `avg temperature`, suggesting that overall temperature has influence on the two variables. The `higher the dewpoint and temperature`, the `higher the relatively humidity` of the environment. Based on ([source](https://www.ncbi.nlm.nih.gov/pmc/articles/PMC7068582/)), `humidity` shows `positive correlation` with the `numbers of species sampled from the traps`. \n",
    "3) Both `avgspeed and resultspeed` has a negative correlation to the num of mosquitos, indicating that the strong the wind, the lesser the mosquitos. Based on ([source](https://kestrelmeters.com/blogs/news/the-science-of-mosquito-abatement#:~:text=Wind%20works%20as%20a%20natural,MPH%20wind%20gust%20is%20substantial)), strong wind serves as natural repellent as mosquitos cannot fly through strong wind. \n",
    "4) The average speed has relative high correlation to weather conditions like `thunderstorm` and `drizzle` suggesting its used to help predict weather patterns and global climate.\n",
    "5) `Preciptotal`, `drizzle`, `tsra: moderate thunderstorm and rain` seems to have a negative correlation to number of mosquitos, probably due to the skewness of the distribution of precipitation levels. This is unexpected, as usually, it is understood that mosquitos need water to start breeding. However, based on ([source](https://maggiesfarmproducts.com/blogs/bug-help/weather-mosquito-activity#:~:text=Moisture%20plays%20an%20important%20role,to%20an%20increase%20in%20breeding.)), it seems like heavier rain will make it difficult for them to fly. \\\\\n",
    "6) `vcts` which stands for `Vicinity thunderstorm`, has negative correlation to `wnvpresent` due to the fact that severe weathers like this occurs on the warm side of the warm front, where the greatest directional wind shear is located near that warm front boundary. Hence stronger wind would repel mosquitos. ([weather.gov](https://www.weather.gov/source/zhu/ZHU_Training_Page/thunderstorm_stuff/Thunderstorms/thunderstorms.htm))"
   ]
  }
 ],
 "metadata": {
  "interpreter": {
   "hash": "006be043bc5636bd4f043fb67299334f749b935cdb979ce371419345f6e1f02a"
  },
  "kernelspec": {
   "display_name": "Python 3 (ipykernel)",
   "language": "python",
   "name": "python3"
  },
  "language_info": {
   "codemirror_mode": {
    "name": "ipython",
    "version": 3
   },
   "file_extension": ".py",
   "mimetype": "text/x-python",
   "name": "python",
   "nbconvert_exporter": "python",
   "pygments_lexer": "ipython3",
   "version": "3.7.13"
  }
 },
 "nbformat": 4,
 "nbformat_minor": 2
}
