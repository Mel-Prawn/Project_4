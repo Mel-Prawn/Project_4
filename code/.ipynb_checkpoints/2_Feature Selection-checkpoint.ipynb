{
 "cells": [
  {
   "cell_type": "code",
   "execution_count": 2,
   "id": "ab120b1f",
   "metadata": {},
   "outputs": [],
   "source": [
    "import pandas as pd\n",
    "import numpy as np\n",
    "import seaborn as sns\n",
    "import matplotlib.pyplot as plt\n",
    "from datetime import datetime"
   ]
  },
  {
   "cell_type": "markdown",
   "id": "86d077aa",
   "metadata": {},
   "source": [
    "# To identify which weather lag is best"
   ]
  },
  {
   "cell_type": "code",
   "execution_count": null,
   "id": "4c6f5f33",
   "metadata": {},
   "outputs": [],
   "source": [
    "# Please check error and rerun the code in notebook 1\n",
    "# so that 'trap' is included in all the weather_cleaned_lag files\n"
   ]
  },
  {
   "cell_type": "code",
   "execution_count": 15,
   "id": "aec73cbc",
   "metadata": {},
   "outputs": [],
   "source": [
    "lag7 = pd.read_csv(r'../data/weather_cleaned_lag7.csv')"
   ]
  },
  {
   "cell_type": "code",
   "execution_count": 25,
   "id": "f3386312",
   "metadata": {},
   "outputs": [],
   "source": [
    "# Extract train from train/test\n",
    "# recommend to split sets by year as splitting by index is more prone to error\n",
    "\n",
    "lag7['date'] = pd.to_datetime(lag7['date'])\n",
    "lag7['year'] = lag7['date'].dt.year\n",
    "lag7_train = lag7.loc[lag7['year'].isin([2007, 2009, 2011, 2013]), :]"
   ]
  },
  {
   "cell_type": "code",
   "execution_count": 26,
   "id": "b0034c97",
   "metadata": {},
   "outputs": [
    {
     "name": "stderr",
     "output_type": "stream",
     "text": [
      "C:\\Users\\User\\.conda\\envs\\dsi27tf\\lib\\site-packages\\pandas\\core\\frame.py:4913: SettingWithCopyWarning: \n",
      "A value is trying to be set on a copy of a slice from a DataFrame\n",
      "\n",
      "See the caveats in the documentation: https://pandas.pydata.org/pandas-docs/stable/user_guide/indexing.html#returning-a-view-versus-a-copy\n",
      "  errors=errors,\n"
     ]
    }
   ],
   "source": [
    "# To drop ['nummosquitos', 'wnvcount',        # not available in test set\n",
    "#          'station',                         # already associated weather to each station\n",
    "#          'year',\n",
    "#          'codesum', 'species']              # will be dummied below\n",
    "\n",
    "lag7_train.drop(columns = ['nummosquitos','wnvcount',\n",
    "                           'station', 'year', 'codesum', 'species'],\n",
    "                axis=1,\n",
    "                inplace = True)"
   ]
  },
  {
   "cell_type": "code",
   "execution_count": 27,
   "id": "ff3b5d22",
   "metadata": {},
   "outputs": [
    {
     "name": "stdout",
     "output_type": "stream",
     "text": [
      "<class 'pandas.core.frame.DataFrame'>\n",
      "Int64Index: 8475 entries, 0 to 8474\n",
      "Data columns (total 34 columns):\n",
      " #   Column       Non-Null Count  Dtype         \n",
      "---  ------       --------------  -----         \n",
      " 0   date         8475 non-null   datetime64[ns]\n",
      " 1   wnvpresent   8475 non-null   float64       \n",
      " 2   tmax         8475 non-null   int64         \n",
      " 3   tmin         8475 non-null   int64         \n",
      " 4   tavg         8475 non-null   float64       \n",
      " 5   dewpoint     8475 non-null   int64         \n",
      " 6   wetbulb      8475 non-null   float64       \n",
      " 7   heat         8475 non-null   float64       \n",
      " 8   cool         8475 non-null   float64       \n",
      " 9   preciptotal  8475 non-null   float64       \n",
      " 10  stnpressure  8475 non-null   float64       \n",
      " 11  sealevel     8475 non-null   float64       \n",
      " 12  resultspeed  8475 non-null   float64       \n",
      " 13  resultdir    8475 non-null   int64         \n",
      " 14  avgspeed     8475 non-null   float64       \n",
      " 15  month        8475 non-null   int64         \n",
      " 16  sunrise      8475 non-null   float64       \n",
      " 17  sunset       8475 non-null   float64       \n",
      " 18  bcfg         8475 non-null   int64         \n",
      " 19  br           8475 non-null   int64         \n",
      " 20  dz           8475 non-null   int64         \n",
      " 21  fg           8475 non-null   int64         \n",
      " 22  fg+          8475 non-null   int64         \n",
      " 23  fu           8475 non-null   int64         \n",
      " 24  hz           8475 non-null   int64         \n",
      " 25  mifg         8475 non-null   float64       \n",
      " 26  ra           8475 non-null   int64         \n",
      " 27  sn           8475 non-null   int64         \n",
      " 28  sq           8475 non-null   int64         \n",
      " 29  ts           8475 non-null   int64         \n",
      " 30  tsra         8475 non-null   int64         \n",
      " 31  vcts         8475 non-null   int64         \n",
      " 32  gr           8475 non-null   float64       \n",
      " 33  vcfg         8475 non-null   float64       \n",
      "dtypes: datetime64[ns](1), float64(15), int64(18)\n",
      "memory usage: 2.3 MB\n"
     ]
    }
   ],
   "source": [
    "lag7_train.info()"
   ]
  },
  {
   "cell_type": "code",
   "execution_count": null,
   "id": "8ccb1799",
   "metadata": {},
   "outputs": [],
   "source": [
    "# define X and y"
   ]
  },
  {
   "cell_type": "code",
   "execution_count": null,
   "id": "722410e7",
   "metadata": {},
   "outputs": [],
   "source": []
  },
  {
   "cell_type": "markdown",
   "id": "295d75eb",
   "metadata": {},
   "source": [
    "# Reccomended weather lag"
   ]
  },
  {
   "cell_type": "code",
   "execution_count": null,
   "id": "41336ba6",
   "metadata": {},
   "outputs": [],
   "source": [
    "# weather lag(##) is best\n",
    "# to proceed to see which feature combination is best"
   ]
  },
  {
   "cell_type": "code",
   "execution_count": null,
   "id": "b2f98d38",
   "metadata": {},
   "outputs": [],
   "source": []
  },
  {
   "cell_type": "code",
   "execution_count": null,
   "id": "87dc2c45",
   "metadata": {},
   "outputs": [],
   "source": []
  },
  {
   "cell_type": "code",
   "execution_count": null,
   "id": "56caccc7",
   "metadata": {},
   "outputs": [],
   "source": []
  },
  {
   "cell_type": "markdown",
   "id": "1ab3c97a",
   "metadata": {},
   "source": [
    "# Feature engineering for others"
   ]
  },
  {
   "cell_type": "code",
   "execution_count": 46,
   "id": "c2a9b858",
   "metadata": {},
   "outputs": [],
   "source": [
    "# read in data\n",
    "\n",
    "train_merged = pd.read_csv('../data/merged_train.csv')"
   ]
  },
  {
   "cell_type": "code",
   "execution_count": 47,
   "id": "db9dbe9d",
   "metadata": {},
   "outputs": [],
   "source": [
    "# to merge with weather data above\n",
    "# train_merged = train_merged['date', 'latitude', 'longitude', 'trap']\n",
    "\n",
    "# for interim analysis\n",
    "train_weather = train_merged.drop(['nummosquitos','wnvcount',\n",
    "                                   'station', 'sprayed'],\n",
    "                                  axis=1)"
   ]
  },
  {
   "cell_type": "code",
   "execution_count": 48,
   "id": "32f73b95",
   "metadata": {},
   "outputs": [
    {
     "data": {
      "text/plain": [
       "Index(['date', 'species', 'latitude', 'longitude', 'trap', 'wnvpresent',\n",
       "       'tmax', 'tmin', 'tavg', 'dewpoint', 'wetbulb', 'heat', 'cool',\n",
       "       'codesum', 'preciptotal', 'stnpressure', 'sealevel', 'resultspeed',\n",
       "       'resultdir', 'avgspeed', 'month', 'sunrise', 'sunset', 'bcfg', 'br',\n",
       "       'dz', 'fg', 'fg+', 'fu', 'hz', 'mifg', 'ra', 'sn', 'sq', 'ts', 'tsra',\n",
       "       'vcts', 'gr', 'vcfg'],\n",
       "      dtype='object')"
      ]
     },
     "execution_count": 48,
     "metadata": {},
     "output_type": "execute_result"
    }
   ],
   "source": [
    "train_weather.columns"
   ]
  },
  {
   "cell_type": "code",
   "execution_count": 49,
   "id": "aa8777c8",
   "metadata": {},
   "outputs": [
    {
     "data": {
      "text/html": [
       "<div>\n",
       "<style scoped>\n",
       "    .dataframe tbody tr th:only-of-type {\n",
       "        vertical-align: middle;\n",
       "    }\n",
       "\n",
       "    .dataframe tbody tr th {\n",
       "        vertical-align: top;\n",
       "    }\n",
       "\n",
       "    .dataframe thead th {\n",
       "        text-align: right;\n",
       "    }\n",
       "</style>\n",
       "<table border=\"1\" class=\"dataframe\">\n",
       "  <thead>\n",
       "    <tr style=\"text-align: right;\">\n",
       "      <th></th>\n",
       "      <th>date</th>\n",
       "      <th>species</th>\n",
       "      <th>latitude</th>\n",
       "      <th>longitude</th>\n",
       "      <th>trap</th>\n",
       "      <th>wnvpresent</th>\n",
       "      <th>tmax</th>\n",
       "      <th>tmin</th>\n",
       "      <th>tavg</th>\n",
       "      <th>dewpoint</th>\n",
       "      <th>...</th>\n",
       "      <th>hz</th>\n",
       "      <th>mifg</th>\n",
       "      <th>ra</th>\n",
       "      <th>sn</th>\n",
       "      <th>sq</th>\n",
       "      <th>ts</th>\n",
       "      <th>tsra</th>\n",
       "      <th>vcts</th>\n",
       "      <th>gr</th>\n",
       "      <th>vcfg</th>\n",
       "    </tr>\n",
       "  </thead>\n",
       "  <tbody>\n",
       "    <tr>\n",
       "      <th>0</th>\n",
       "      <td>2007-05-29</td>\n",
       "      <td>CULEX PIPIENS/RESTUANS</td>\n",
       "      <td>41.867108</td>\n",
       "      <td>-87.654224</td>\n",
       "      <td>T048</td>\n",
       "      <td>0.0</td>\n",
       "      <td>88</td>\n",
       "      <td>65</td>\n",
       "      <td>76.5</td>\n",
       "      <td>59</td>\n",
       "      <td>...</td>\n",
       "      <td>1</td>\n",
       "      <td>0.0</td>\n",
       "      <td>0</td>\n",
       "      <td>0</td>\n",
       "      <td>0</td>\n",
       "      <td>0</td>\n",
       "      <td>0</td>\n",
       "      <td>0</td>\n",
       "      <td>0.0</td>\n",
       "      <td>0.0</td>\n",
       "    </tr>\n",
       "    <tr>\n",
       "      <th>1</th>\n",
       "      <td>2009-09-25</td>\n",
       "      <td>CULEX PIPIENS</td>\n",
       "      <td>41.776156</td>\n",
       "      <td>-87.778927</td>\n",
       "      <td>T155</td>\n",
       "      <td>0.0</td>\n",
       "      <td>70</td>\n",
       "      <td>60</td>\n",
       "      <td>65.0</td>\n",
       "      <td>57</td>\n",
       "      <td>...</td>\n",
       "      <td>0</td>\n",
       "      <td>0.0</td>\n",
       "      <td>1</td>\n",
       "      <td>0</td>\n",
       "      <td>0</td>\n",
       "      <td>0</td>\n",
       "      <td>0</td>\n",
       "      <td>0</td>\n",
       "      <td>0.0</td>\n",
       "      <td>0.0</td>\n",
       "    </tr>\n",
       "    <tr>\n",
       "      <th>2</th>\n",
       "      <td>2009-09-25</td>\n",
       "      <td>CULEX RESTUANS</td>\n",
       "      <td>41.923738</td>\n",
       "      <td>-87.785288</td>\n",
       "      <td>T013</td>\n",
       "      <td>1.0</td>\n",
       "      <td>70</td>\n",
       "      <td>60</td>\n",
       "      <td>65.0</td>\n",
       "      <td>57</td>\n",
       "      <td>...</td>\n",
       "      <td>0</td>\n",
       "      <td>0.0</td>\n",
       "      <td>1</td>\n",
       "      <td>0</td>\n",
       "      <td>0</td>\n",
       "      <td>0</td>\n",
       "      <td>0</td>\n",
       "      <td>0</td>\n",
       "      <td>0.0</td>\n",
       "      <td>0.0</td>\n",
       "    </tr>\n",
       "    <tr>\n",
       "      <th>3</th>\n",
       "      <td>2009-09-25</td>\n",
       "      <td>CULEX RESTUANS</td>\n",
       "      <td>41.960616</td>\n",
       "      <td>-87.777189</td>\n",
       "      <td>T017</td>\n",
       "      <td>0.0</td>\n",
       "      <td>70</td>\n",
       "      <td>60</td>\n",
       "      <td>65.0</td>\n",
       "      <td>57</td>\n",
       "      <td>...</td>\n",
       "      <td>0</td>\n",
       "      <td>0.0</td>\n",
       "      <td>1</td>\n",
       "      <td>0</td>\n",
       "      <td>0</td>\n",
       "      <td>0</td>\n",
       "      <td>0</td>\n",
       "      <td>0</td>\n",
       "      <td>0.0</td>\n",
       "      <td>0.0</td>\n",
       "    </tr>\n",
       "    <tr>\n",
       "      <th>4</th>\n",
       "      <td>2007-08-24</td>\n",
       "      <td>CULEX RESTUANS</td>\n",
       "      <td>41.662014</td>\n",
       "      <td>-87.724608</td>\n",
       "      <td>T135</td>\n",
       "      <td>0.0</td>\n",
       "      <td>81</td>\n",
       "      <td>69</td>\n",
       "      <td>75.0</td>\n",
       "      <td>67</td>\n",
       "      <td>...</td>\n",
       "      <td>0</td>\n",
       "      <td>0.0</td>\n",
       "      <td>1</td>\n",
       "      <td>0</td>\n",
       "      <td>0</td>\n",
       "      <td>1</td>\n",
       "      <td>1</td>\n",
       "      <td>0</td>\n",
       "      <td>0.0</td>\n",
       "      <td>0.0</td>\n",
       "    </tr>\n",
       "  </tbody>\n",
       "</table>\n",
       "<p>5 rows × 39 columns</p>\n",
       "</div>"
      ],
      "text/plain": [
       "         date                 species   latitude  longitude  trap  wnvpresent  \\\n",
       "0  2007-05-29  CULEX PIPIENS/RESTUANS  41.867108 -87.654224  T048         0.0   \n",
       "1  2009-09-25           CULEX PIPIENS  41.776156 -87.778927  T155         0.0   \n",
       "2  2009-09-25          CULEX RESTUANS  41.923738 -87.785288  T013         1.0   \n",
       "3  2009-09-25          CULEX RESTUANS  41.960616 -87.777189  T017         0.0   \n",
       "4  2007-08-24          CULEX RESTUANS  41.662014 -87.724608  T135         0.0   \n",
       "\n",
       "   tmax  tmin  tavg  dewpoint  ...  hz  mifg  ra sn  sq  ts  tsra  vcts   gr  \\\n",
       "0    88    65  76.5        59  ...   1   0.0   0  0   0   0     0     0  0.0   \n",
       "1    70    60  65.0        57  ...   0   0.0   1  0   0   0     0     0  0.0   \n",
       "2    70    60  65.0        57  ...   0   0.0   1  0   0   0     0     0  0.0   \n",
       "3    70    60  65.0        57  ...   0   0.0   1  0   0   0     0     0  0.0   \n",
       "4    81    69  75.0        67  ...   0   0.0   1  0   0   1     1     0  0.0   \n",
       "\n",
       "   vcfg  \n",
       "0   0.0  \n",
       "1   0.0  \n",
       "2   0.0  \n",
       "3   0.0  \n",
       "4   0.0  \n",
       "\n",
       "[5 rows x 39 columns]"
      ]
     },
     "execution_count": 49,
     "metadata": {},
     "output_type": "execute_result"
    }
   ],
   "source": [
    "train_weather.head()"
   ]
  },
  {
   "cell_type": "code",
   "execution_count": 50,
   "id": "1d53cd0c",
   "metadata": {},
   "outputs": [],
   "source": [
    "# Custom dummy coding for species\n",
    "train_weather['CULEX PIPIENS/RESTUANS'] = train_weather['species'].map(lambda x: 1 if x == 'CULEX PIPIENS/RESTUANS' else 0)\n",
    "train_weather['CULEX PIPIENS'] = train_weather['species'].map(lambda x: 1 if x == 'CULEX PIPIENS' else 0)\n",
    "train_weather['CULEX RESTUANS'] = train_weather['species'].map(lambda x: 1 if x == 'CULEX RESTUANS' else 0)"
   ]
  },
  {
   "cell_type": "code",
   "execution_count": 51,
   "id": "7ffa4ff4",
   "metadata": {},
   "outputs": [],
   "source": [
    "# create week variable\n",
    "train_weather['date'] = pd.to_datetime(train_weather['date'])\n",
    "train_weather['week'] = train_weather['date'].dt.isocalendar().week"
   ]
  },
  {
   "cell_type": "code",
   "execution_count": 52,
   "id": "69dd031d",
   "metadata": {},
   "outputs": [
    {
     "data": {
      "text/plain": [
       "week\n",
       "22      0.0\n",
       "23      0.0\n",
       "24      0.0\n",
       "25      0.0\n",
       "26      1.0\n",
       "27      0.0\n",
       "28      7.0\n",
       "29     15.0\n",
       "30     16.0\n",
       "31     39.0\n",
       "32     54.0\n",
       "33     66.0\n",
       "34    107.0\n",
       "35     47.0\n",
       "36     44.0\n",
       "37     34.0\n",
       "38     19.0\n",
       "39      6.0\n",
       "40      2.0\n",
       "41      0.0\n",
       "Name: wnvpresent, dtype: float64"
      ]
     },
     "execution_count": 52,
     "metadata": {},
     "output_type": "execute_result"
    }
   ],
   "source": [
    "# Custom dummy coding for week\n",
    "\n",
    "train_weather.groupby('week')['wnvpresent'].sum()"
   ]
  },
  {
   "cell_type": "code",
   "execution_count": 58,
   "id": "f1bb5566",
   "metadata": {},
   "outputs": [],
   "source": [
    "train_weather = pd.get_dummies(train_weather, columns=['week'], drop_first=False)"
   ]
  },
  {
   "cell_type": "code",
   "execution_count": 61,
   "id": "c6968712",
   "metadata": {},
   "outputs": [
    {
     "data": {
      "text/plain": [
       "Index(['date', 'species', 'latitude', 'longitude', 'trap', 'wnvpresent',\n",
       "       'tmax', 'tmin', 'tavg', 'dewpoint', 'wetbulb', 'heat', 'cool',\n",
       "       'codesum', 'preciptotal', 'stnpressure', 'sealevel', 'resultspeed',\n",
       "       'resultdir', 'avgspeed', 'month', 'sunrise', 'sunset', 'bcfg', 'br',\n",
       "       'dz', 'fg', 'fg+', 'fu', 'hz', 'mifg', 'ra', 'sn', 'sq', 'ts', 'tsra',\n",
       "       'vcts', 'gr', 'vcfg', 'CULEX PIPIENS/RESTUANS', 'CULEX PIPIENS',\n",
       "       'CULEX RESTUANS', 'week_28', 'week_29', 'week_30', 'week_31', 'week_32',\n",
       "       'week_33', 'week_34', 'week_35', 'week_36', 'week_37', 'week_38',\n",
       "       'week_39'],\n",
       "      dtype='object')"
      ]
     },
     "execution_count": 61,
     "metadata": {},
     "output_type": "execute_result"
    }
   ],
   "source": [
    "train_weather.columns"
   ]
  },
  {
   "cell_type": "code",
   "execution_count": 60,
   "id": "3b949540",
   "metadata": {},
   "outputs": [],
   "source": [
    "train_weather.drop(columns=['week_22', 'week_23', 'week_24', 'week_25', \n",
    "                            'week_26', 'week_27', 'week_40', 'week_41'],\n",
    "                  axis=1,\n",
    "                  inplace=True)"
   ]
  },
  {
   "cell_type": "code",
   "execution_count": null,
   "id": "6dc6220a",
   "metadata": {},
   "outputs": [],
   "source": []
  },
  {
   "cell_type": "code",
   "execution_count": null,
   "id": "2c4f5f86",
   "metadata": {},
   "outputs": [],
   "source": []
  },
  {
   "cell_type": "code",
   "execution_count": null,
   "id": "cafbbd0a",
   "metadata": {},
   "outputs": [],
   "source": []
  },
  {
   "cell_type": "code",
   "execution_count": null,
   "id": "68290fc3",
   "metadata": {},
   "outputs": [],
   "source": []
  },
  {
   "cell_type": "code",
   "execution_count": null,
   "id": "a2a0f49e",
   "metadata": {},
   "outputs": [],
   "source": []
  },
  {
   "cell_type": "code",
   "execution_count": null,
   "id": "56e71ea0",
   "metadata": {},
   "outputs": [],
   "source": []
  },
  {
   "cell_type": "code",
   "execution_count": null,
   "id": "47868a75",
   "metadata": {},
   "outputs": [],
   "source": []
  },
  {
   "cell_type": "code",
   "execution_count": null,
   "id": "44fbaff7",
   "metadata": {},
   "outputs": [],
   "source": []
  },
  {
   "cell_type": "code",
   "execution_count": null,
   "id": "4cdb16bc",
   "metadata": {},
   "outputs": [],
   "source": []
  },
  {
   "cell_type": "code",
   "execution_count": null,
   "id": "f5b39477",
   "metadata": {},
   "outputs": [],
   "source": []
  },
  {
   "cell_type": "code",
   "execution_count": null,
   "id": "803f6357",
   "metadata": {},
   "outputs": [],
   "source": []
  },
  {
   "cell_type": "code",
   "execution_count": null,
   "id": "5586c818",
   "metadata": {},
   "outputs": [],
   "source": []
  },
  {
   "cell_type": "markdown",
   "id": "0fa18e0b",
   "metadata": {},
   "source": [
    "# Archive may delete"
   ]
  },
  {
   "cell_type": "code",
   "execution_count": null,
   "id": "83c85008",
   "metadata": {},
   "outputs": [],
   "source": [
    "# To check if all the traps in test are also in train set\n",
    "\n",
    "train_loc = []\n",
    "for x, y in zip(train['longitude'], train['latitude']):\n",
    "    if [x, y] not in train_loc:\n",
    "        train_loc.append([x, y])\n",
    "    \n",
    "test_loc = []\n",
    "for x, y in zip(test['longitude'], test['latitude']):\n",
    "    if [x, y] not in test_loc:\n",
    "        test_loc.append([x, y])\n",
    "        \n",
    "ex_loc = []\n",
    "for i in test_loc:\n",
    "    if i not in train_loc:\n",
    "        ex_loc.append(i)"
   ]
  },
  {
   "cell_type": "code",
   "execution_count": 30,
   "id": "4a1dee85",
   "metadata": {},
   "outputs": [
    {
     "data": {
      "text/plain": [
       "latitude   longitude \n",
       "41.644612  -87.604498      129.0\n",
       "41.659112  -87.538693     1699.0\n",
       "41.662014  -87.724608     3122.0\n",
       "41.673408  -87.599862    21668.0\n",
       "41.678618  -87.559308     1368.0\n",
       "                          ...   \n",
       "42.008314  -87.777921     2668.0\n",
       "42.009876  -87.807277      758.0\n",
       "42.010412  -87.662140      121.0\n",
       "42.011601  -87.811506      847.0\n",
       "42.017430  -87.687769      211.0\n",
       "Name: nummosquitos, Length: 138, dtype: float64"
      ]
     },
     "execution_count": 30,
     "metadata": {},
     "output_type": "execute_result"
    }
   ],
   "source": [
    "train_merged.groupby(['latitude', 'longitude'])['nummosquitos'].sum()"
   ]
  },
  {
   "cell_type": "code",
   "execution_count": 31,
   "id": "1c29c690",
   "metadata": {},
   "outputs": [
    {
     "data": {
      "text/plain": [
       "trap\n",
       "T001       25.0\n",
       "T002     3710.0\n",
       "T003     1346.0\n",
       "T004       59.0\n",
       "T005       50.0\n",
       "         ...   \n",
       "T236      375.0\n",
       "T237       18.0\n",
       "T238       34.0\n",
       "T900    15386.0\n",
       "T903     2327.0\n",
       "Name: nummosquitos, Length: 136, dtype: float64"
      ]
     },
     "execution_count": 31,
     "metadata": {},
     "output_type": "execute_result"
    }
   ],
   "source": [
    "train_merged.groupby(['trap'])['nummosquitos'].sum()"
   ]
  },
  {
   "cell_type": "code",
   "execution_count": null,
   "id": "381fb047",
   "metadata": {},
   "outputs": [],
   "source": []
  }
 ],
 "metadata": {
  "kernelspec": {
   "display_name": "Python 3 (ipykernel)",
   "language": "python",
   "name": "python3"
  },
  "language_info": {
   "codemirror_mode": {
    "name": "ipython",
    "version": 3
   },
   "file_extension": ".py",
   "mimetype": "text/x-python",
   "name": "python",
   "nbconvert_exporter": "python",
   "pygments_lexer": "ipython3",
   "version": "3.7.13"
  }
 },
 "nbformat": 4,
 "nbformat_minor": 5
}
