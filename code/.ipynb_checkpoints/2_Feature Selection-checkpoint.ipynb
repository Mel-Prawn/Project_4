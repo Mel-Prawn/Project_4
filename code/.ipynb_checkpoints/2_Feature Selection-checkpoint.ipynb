{
 "cells": [
  {
   "cell_type": "code",
   "execution_count": 1,
   "id": "ab120b1f",
   "metadata": {},
   "outputs": [],
   "source": [
    "import pandas as pd\n",
    "import numpy as np\n",
    "import seaborn as sns\n",
    "import matplotlib.pyplot as plt\n",
    "from datetime import datetime\n",
    "\n",
    "from sklearn.preprocessing import StandardScaler\n",
    "from sklearn.model_selection import train_test_split, cross_val_score\n",
    "from sklearn.pipeline import Pipeline\n",
    "from sklearn.ensemble import RandomForestClassifier\n",
    "\n",
    "from sklearn.metrics import (\n",
    "    confusion_matrix, \n",
    "    plot_confusion_matrix,\n",
    "    roc_auc_score,\n",
    "    recall_score\n",
    ")"
   ]
  },
  {
   "cell_type": "markdown",
   "id": "86d077aa",
   "metadata": {},
   "source": [
    "# To identify which weather lag is best"
   ]
  },
  {
   "cell_type": "code",
   "execution_count": 132,
   "id": "aec73cbc",
   "metadata": {},
   "outputs": [],
   "source": [
    "lag0 = pd.read_csv(r'../data/weather_cleaned_lag0.csv')\n",
    "lag2 = pd.read_csv(r'../data/weather_cleaned_lag2.csv')\n",
    "lag3 = pd.read_csv(r'../data/weather_cleaned_lag3.csv')\n",
    "lag5 = pd.read_csv(r'../data/weather_cleaned_lag5.csv')\n",
    "lag7 = pd.read_csv(r'../data/weather_cleaned_lag7.csv')\n",
    "lag14 = pd.read_csv(r'../data/weather_cleaned_lag14.csv')\n",
    "lag21 = pd.read_csv(r'../data/weather_cleaned_lag21.csv')\n",
    "lag28 = pd.read_csv(r'../data/weather_cleaned_lag28.csv')"
   ]
  },
  {
   "cell_type": "code",
   "execution_count": 146,
   "id": "226abc2a",
   "metadata": {},
   "outputs": [],
   "source": [
    "def rf_weather_lag(df, lag_num, concat_df=None):\n",
    "    df = df.dropna()\n",
    "    X = df[[col for col in df.columns if (df[col].dtypes !='O') & \n",
    "                      (col not in ['date','block','addressaccuracy','nummosquitos',\n",
    "                                   'wnvcount','wnvpresent', 'station','species', 'month'])]]\n",
    "    y = df['wnvpresent']\n",
    "    \n",
    "    X_train, X_test, y_train, y_test = train_test_split(\n",
    "        X,\n",
    "        y,\n",
    "        stratify=y,\n",
    "        random_state=42\n",
    "    )\n",
    "    \n",
    "    ss = StandardScaler()\n",
    "    \n",
    "    X_train = ss.fit_transform(X_train)\n",
    "    X_test = ss.transform(X_test)\n",
    "    \n",
    "    rf = RandomForestClassifier(n_estimators=100)\n",
    "    \n",
    "    train_acc = cross_val_score(\n",
    "        rf,\n",
    "        X_train,\n",
    "        y_train,\n",
    "        cv=5\n",
    "    ).mean()\n",
    "    \n",
    "    test_acc = cross_val_score(\n",
    "        rf,\n",
    "        X_test,\n",
    "        y_test,\n",
    "        cv=5\n",
    "    ).mean()\n",
    "    \n",
    "    rf.fit(X_train, y_train)\n",
    "    \n",
    "    forest_predictions = rf.predict(X_test)\n",
    "    \n",
    "    tn, fp, fn, tp = confusion_matrix(y_test, forest_predictions).ravel()\n",
    "    \n",
    "    sensitivity = recall_score(y_test, forest_predictions)\n",
    "\n",
    "    specificity = (tn / (tn + fp))\n",
    "    \n",
    "    roc_auc = roc_auc_score(y_test, rf.predict_proba(X_test)[:,1])\n",
    "    \n",
    "    weather_dict = {\n",
    "        'weather_lag': lag_num, \n",
    "        'train_acc': [round(train_acc * 100, 2)], \n",
    "        'test_acc': [round(test_acc * 100, 2)], \n",
    "        'sensitivity': [round(sensitivity * 100, 2)], \n",
    "        'specificity': [round(specificity * 100, 2)],\n",
    "        'roc_auc_score': [round(roc_auc * 100, 2)]\n",
    "    }\n",
    "    \n",
    "    new_df = pd.DataFrame(weather_dict)\n",
    "    \n",
    "    if isinstance(concat_df, pd.DataFrame) == True:\n",
    "        final_df = pd.concat(\n",
    "            objs=[concat_df, new_df],\n",
    "            axis=0\n",
    "        )\n",
    "        final_df.reset_index(drop=True, inplace=True)\n",
    "        return final_df\n",
    "        \n",
    "    else:    \n",
    "        return new_df\n",
    "    "
   ]
  },
  {
   "cell_type": "code",
   "execution_count": 147,
   "id": "6639c1f1",
   "metadata": {},
   "outputs": [],
   "source": [
    "weather_lag_df = rf_weather_lag(lag0, 0)\n",
    "weather_lag_df = rf_weather_lag(lag2, 2, weather_lag_df)\n",
    "weather_lag_df = rf_weather_lag(lag3, 3, weather_lag_df)\n",
    "weather_lag_df = rf_weather_lag(lag5, 5, weather_lag_df)\n",
    "weather_lag_df = rf_weather_lag(lag7, 7, weather_lag_df)\n",
    "weather_lag_df = rf_weather_lag(lag14, 14, weather_lag_df)\n",
    "weather_lag_df = rf_weather_lag(lag21, 21, weather_lag_df)\n",
    "weather_lag_df = rf_weather_lag(lag28, 28, weather_lag_df)"
   ]
  },
  {
   "cell_type": "code",
   "execution_count": 148,
   "id": "9ffce7a8",
   "metadata": {
    "scrolled": true
   },
   "outputs": [
    {
     "data": {
      "text/html": [
       "<div>\n",
       "<style scoped>\n",
       "    .dataframe tbody tr th:only-of-type {\n",
       "        vertical-align: middle;\n",
       "    }\n",
       "\n",
       "    .dataframe tbody tr th {\n",
       "        vertical-align: top;\n",
       "    }\n",
       "\n",
       "    .dataframe thead th {\n",
       "        text-align: right;\n",
       "    }\n",
       "</style>\n",
       "<table border=\"1\" class=\"dataframe\">\n",
       "  <thead>\n",
       "    <tr style=\"text-align: right;\">\n",
       "      <th></th>\n",
       "      <th>weather_lag</th>\n",
       "      <th>train_acc</th>\n",
       "      <th>test_acc</th>\n",
       "      <th>sensitivity</th>\n",
       "      <th>specificity</th>\n",
       "      <th>roc_auc_score</th>\n",
       "    </tr>\n",
       "  </thead>\n",
       "  <tbody>\n",
       "    <tr>\n",
       "      <th>0</th>\n",
       "      <td>0</td>\n",
       "      <td>92.90</td>\n",
       "      <td>93.54</td>\n",
       "      <td>16.67</td>\n",
       "      <td>97.16</td>\n",
       "      <td>77.85</td>\n",
       "    </tr>\n",
       "    <tr>\n",
       "      <th>1</th>\n",
       "      <td>2</td>\n",
       "      <td>92.92</td>\n",
       "      <td>93.39</td>\n",
       "      <td>15.79</td>\n",
       "      <td>97.26</td>\n",
       "      <td>75.99</td>\n",
       "    </tr>\n",
       "    <tr>\n",
       "      <th>2</th>\n",
       "      <td>3</td>\n",
       "      <td>92.97</td>\n",
       "      <td>93.44</td>\n",
       "      <td>18.42</td>\n",
       "      <td>97.36</td>\n",
       "      <td>76.28</td>\n",
       "    </tr>\n",
       "    <tr>\n",
       "      <th>3</th>\n",
       "      <td>5</td>\n",
       "      <td>92.98</td>\n",
       "      <td>93.63</td>\n",
       "      <td>15.79</td>\n",
       "      <td>97.46</td>\n",
       "      <td>76.21</td>\n",
       "    </tr>\n",
       "    <tr>\n",
       "      <th>4</th>\n",
       "      <td>7</td>\n",
       "      <td>93.00</td>\n",
       "      <td>93.58</td>\n",
       "      <td>16.67</td>\n",
       "      <td>97.51</td>\n",
       "      <td>77.80</td>\n",
       "    </tr>\n",
       "    <tr>\n",
       "      <th>5</th>\n",
       "      <td>14</td>\n",
       "      <td>93.06</td>\n",
       "      <td>93.11</td>\n",
       "      <td>16.67</td>\n",
       "      <td>97.21</td>\n",
       "      <td>76.89</td>\n",
       "    </tr>\n",
       "    <tr>\n",
       "      <th>6</th>\n",
       "      <td>21</td>\n",
       "      <td>93.06</td>\n",
       "      <td>93.44</td>\n",
       "      <td>16.67</td>\n",
       "      <td>97.21</td>\n",
       "      <td>76.59</td>\n",
       "    </tr>\n",
       "    <tr>\n",
       "      <th>7</th>\n",
       "      <td>28</td>\n",
       "      <td>93.28</td>\n",
       "      <td>93.11</td>\n",
       "      <td>18.42</td>\n",
       "      <td>97.94</td>\n",
       "      <td>74.43</td>\n",
       "    </tr>\n",
       "  </tbody>\n",
       "</table>\n",
       "</div>"
      ],
      "text/plain": [
       "   weather_lag  train_acc  test_acc  sensitivity  specificity  roc_auc_score\n",
       "0            0      92.90     93.54        16.67        97.16          77.85\n",
       "1            2      92.92     93.39        15.79        97.26          75.99\n",
       "2            3      92.97     93.44        18.42        97.36          76.28\n",
       "3            5      92.98     93.63        15.79        97.46          76.21\n",
       "4            7      93.00     93.58        16.67        97.51          77.80\n",
       "5           14      93.06     93.11        16.67        97.21          76.89\n",
       "6           21      93.06     93.44        16.67        97.21          76.59\n",
       "7           28      93.28     93.11        18.42        97.94          74.43"
      ]
     },
     "execution_count": 148,
     "metadata": {},
     "output_type": "execute_result"
    }
   ],
   "source": [
    "weather_lag_df"
   ]
  },
  {
   "cell_type": "code",
   "execution_count": 149,
   "id": "df21ff6b",
   "metadata": {},
   "outputs": [],
   "source": [
    "def rf_2_weather_lag(df, lag_num, concat_df=None):\n",
    "    df = df.dropna()\n",
    "    X = df[[col for col in df.columns if (df[col].dtypes !='O') & \n",
    "                      (col not in ['date','block','addressaccuracy','nummosquitos',\n",
    "                                   'wnvcount','wnvpresent','station','species', 'month'])]]\n",
    "    y = df['wnvpresent']\n",
    "    \n",
    "    X_train, X_test, y_train, y_test = train_test_split(\n",
    "        X,\n",
    "        y,\n",
    "        stratify=y,\n",
    "        random_state=42\n",
    "    )\n",
    "    \n",
    "    ss = StandardScaler()\n",
    "    \n",
    "    X_train = ss.fit_transform(X_train)\n",
    "    X_test = ss.transform(X_test)\n",
    "    \n",
    "    \n",
    "    rf =  RandomForestClassifier(\n",
    "        n_estimators=1500,\n",
    "        ccp_alpha=0,\n",
    "        max_depth=10,\n",
    "        min_samples_split=5,\n",
    "        min_samples_leaf=5,\n",
    "        random_state=42,\n",
    "        class_weight='balanced_subsample')\n",
    "    \n",
    "    train_acc = cross_val_score(\n",
    "        rf,\n",
    "        X_train,\n",
    "        y_train,\n",
    "        cv=5\n",
    "    ).mean()\n",
    "    \n",
    "    test_acc = cross_val_score(\n",
    "        rf,\n",
    "        X_test,\n",
    "        y_test,\n",
    "        cv=5\n",
    "    ).mean()\n",
    "    \n",
    "    rf.fit(X_train, y_train)\n",
    "    \n",
    "    forest_predictions = rf.predict(X_test)\n",
    "    \n",
    "    tn, fp, fn, tp = confusion_matrix(y_test, forest_predictions).ravel()\n",
    "    \n",
    "    sensitivity = recall_score(y_test, forest_predictions)\n",
    "\n",
    "    specificity = (tn / (tn + fp))\n",
    "    \n",
    "    roc_auc = roc_auc_score(y_test, rf.predict_proba(X_test)[:,1])\n",
    "    \n",
    "    weather_dict = {\n",
    "        'weather_lag': lag_num, \n",
    "        'train_acc': [round(train_acc * 100, 2)], \n",
    "        'test_acc': [round(test_acc * 100, 2)], \n",
    "        'sensitivity': [round(sensitivity * 100, 2)], \n",
    "        'specificity': [round(specificity * 100, 2)],\n",
    "        'roc_auc_score': [round(roc_auc * 100, 2)]\n",
    "    }\n",
    "    \n",
    "    new_df = pd.DataFrame(weather_dict)\n",
    "    \n",
    "    if isinstance(concat_df, pd.DataFrame) == True:\n",
    "        final_df = pd.concat(\n",
    "            objs=[concat_df, new_df],\n",
    "            axis=0\n",
    "        )\n",
    "        final_df.reset_index(drop=True, inplace=True)\n",
    "        return final_df\n",
    "        \n",
    "    else:    \n",
    "        return new_df\n",
    "    "
   ]
  },
  {
   "cell_type": "code",
   "execution_count": 151,
   "id": "0a245812",
   "metadata": {},
   "outputs": [],
   "source": [
    "weather_lag_df2 = rf_2_weather_lag(lag0, 0)\n",
    "weather_lag_df2 = rf_2_weather_lag(lag2, 2, weather_lag_df2)\n",
    "weather_lag_df2 = rf_2_weather_lag(lag3, 3, weather_lag_df2)\n",
    "weather_lag_df2 = rf_2_weather_lag(lag5, 5, weather_lag_df2)\n",
    "weather_lag_df2 = rf_2_weather_lag(lag7, 7, weather_lag_df2)\n",
    "weather_lag_df2 = rf_2_weather_lag(lag14, 14, weather_lag_df2)\n",
    "weather_lag_df2 = rf_2_weather_lag(lag21, 21, weather_lag_df2)\n",
    "weather_lag_df2 = rf_2_weather_lag(lag28, 28, weather_lag_df2)"
   ]
  },
  {
   "cell_type": "code",
   "execution_count": 152,
   "id": "aae0f934",
   "metadata": {},
   "outputs": [
    {
     "data": {
      "text/html": [
       "<div>\n",
       "<style scoped>\n",
       "    .dataframe tbody tr th:only-of-type {\n",
       "        vertical-align: middle;\n",
       "    }\n",
       "\n",
       "    .dataframe tbody tr th {\n",
       "        vertical-align: top;\n",
       "    }\n",
       "\n",
       "    .dataframe thead th {\n",
       "        text-align: right;\n",
       "    }\n",
       "</style>\n",
       "<table border=\"1\" class=\"dataframe\">\n",
       "  <thead>\n",
       "    <tr style=\"text-align: right;\">\n",
       "      <th></th>\n",
       "      <th>weather_lag</th>\n",
       "      <th>train_acc</th>\n",
       "      <th>test_acc</th>\n",
       "      <th>sensitivity</th>\n",
       "      <th>specificity</th>\n",
       "      <th>roc_auc_score</th>\n",
       "    </tr>\n",
       "  </thead>\n",
       "  <tbody>\n",
       "    <tr>\n",
       "      <th>0</th>\n",
       "      <td>0</td>\n",
       "      <td>79.63</td>\n",
       "      <td>88.82</td>\n",
       "      <td>71.05</td>\n",
       "      <td>81.40</td>\n",
       "      <td>84.84</td>\n",
       "    </tr>\n",
       "    <tr>\n",
       "      <th>1</th>\n",
       "      <td>2</td>\n",
       "      <td>81.06</td>\n",
       "      <td>89.01</td>\n",
       "      <td>69.30</td>\n",
       "      <td>81.95</td>\n",
       "      <td>84.90</td>\n",
       "    </tr>\n",
       "    <tr>\n",
       "      <th>2</th>\n",
       "      <td>3</td>\n",
       "      <td>80.46</td>\n",
       "      <td>89.52</td>\n",
       "      <td>71.93</td>\n",
       "      <td>81.50</td>\n",
       "      <td>84.92</td>\n",
       "    </tr>\n",
       "    <tr>\n",
       "      <th>3</th>\n",
       "      <td>5</td>\n",
       "      <td>81.21</td>\n",
       "      <td>88.77</td>\n",
       "      <td>71.93</td>\n",
       "      <td>83.44</td>\n",
       "      <td>85.20</td>\n",
       "    </tr>\n",
       "    <tr>\n",
       "      <th>4</th>\n",
       "      <td>7</td>\n",
       "      <td>80.36</td>\n",
       "      <td>89.81</td>\n",
       "      <td>72.81</td>\n",
       "      <td>81.90</td>\n",
       "      <td>85.52</td>\n",
       "    </tr>\n",
       "    <tr>\n",
       "      <th>5</th>\n",
       "      <td>14</td>\n",
       "      <td>82.06</td>\n",
       "      <td>88.49</td>\n",
       "      <td>71.05</td>\n",
       "      <td>83.44</td>\n",
       "      <td>85.45</td>\n",
       "    </tr>\n",
       "    <tr>\n",
       "      <th>6</th>\n",
       "      <td>21</td>\n",
       "      <td>80.90</td>\n",
       "      <td>88.35</td>\n",
       "      <td>73.68</td>\n",
       "      <td>82.04</td>\n",
       "      <td>84.65</td>\n",
       "    </tr>\n",
       "    <tr>\n",
       "      <th>7</th>\n",
       "      <td>28</td>\n",
       "      <td>81.49</td>\n",
       "      <td>89.45</td>\n",
       "      <td>60.53</td>\n",
       "      <td>82.62</td>\n",
       "      <td>82.56</td>\n",
       "    </tr>\n",
       "  </tbody>\n",
       "</table>\n",
       "</div>"
      ],
      "text/plain": [
       "   weather_lag  train_acc  test_acc  sensitivity  specificity  roc_auc_score\n",
       "0            0      79.63     88.82        71.05        81.40          84.84\n",
       "1            2      81.06     89.01        69.30        81.95          84.90\n",
       "2            3      80.46     89.52        71.93        81.50          84.92\n",
       "3            5      81.21     88.77        71.93        83.44          85.20\n",
       "4            7      80.36     89.81        72.81        81.90          85.52\n",
       "5           14      82.06     88.49        71.05        83.44          85.45\n",
       "6           21      80.90     88.35        73.68        82.04          84.65\n",
       "7           28      81.49     89.45        60.53        82.62          82.56"
      ]
     },
     "execution_count": 152,
     "metadata": {},
     "output_type": "execute_result"
    }
   ],
   "source": [
    "weather_lag_df2"
   ]
  },
  {
   "cell_type": "code",
   "execution_count": 150,
   "id": "86a0e2a9",
   "metadata": {},
   "outputs": [
    {
     "data": {
      "text/plain": [
       "Index(['date', 'species', 'latitude', 'longitude', 'trap', 'nummosquitos',\n",
       "       'wnvpresent', 'wnvcount', 'station', 'tavg', 'dewpoint', 'codesum',\n",
       "       'preciptotal', 'stnpressure', 'sealevel', 'resultdir', 'avgspeed',\n",
       "       'month', 'sunset', 'bcfg', 'br', 'dz', 'fg', 'fg+', 'fu', 'hz', 'mifg',\n",
       "       'ra', 'sn', 'sq', 'ts', 'tsra', 'vcts', 'gr', 'vcfg'],\n",
       "      dtype='object')"
      ]
     },
     "execution_count": 150,
     "metadata": {},
     "output_type": "execute_result"
    }
   ],
   "source": [
    "lag2.columns"
   ]
  },
  {
   "cell_type": "code",
   "execution_count": null,
   "id": "083d2316",
   "metadata": {},
   "outputs": [],
   "source": []
  },
  {
   "cell_type": "code",
   "execution_count": null,
   "id": "eb6b3a26",
   "metadata": {},
   "outputs": [],
   "source": []
  },
  {
   "cell_type": "markdown",
   "id": "295d75eb",
   "metadata": {},
   "source": [
    "# Recommended weather lag"
   ]
  },
  {
   "cell_type": "markdown",
   "id": "deefb599",
   "metadata": {},
   "source": [
    "Based on the randomforest model, 7day and 21day lag appears to be the best"
   ]
  },
  {
   "cell_type": "code",
   "execution_count": 8,
   "id": "41336ba6",
   "metadata": {},
   "outputs": [],
   "source": [
    "# weather lag(##) is best\n",
    "# to proceed to see which feature combination is best"
   ]
  },
  {
   "cell_type": "code",
   "execution_count": 136,
   "id": "b2f98d38",
   "metadata": {},
   "outputs": [
    {
     "data": {
      "text/plain": [
       "Index(['date', 'species', 'latitude', 'longitude', 'trap', 'nummosquitos',\n",
       "       'wnvpresent', 'wnvcount', 'station', 'tavg', 'dewpoint', 'codesum',\n",
       "       'preciptotal', 'stnpressure', 'sealevel', 'resultdir', 'avgspeed',\n",
       "       'month', 'sunset', 'bcfg', 'br', 'dz', 'fg', 'fg+', 'fu', 'hz', 'mifg',\n",
       "       'ra', 'sn', 'sq', 'ts', 'tsra', 'vcts', 'gr', 'vcfg'],\n",
       "      dtype='object')"
      ]
     },
     "execution_count": 136,
     "metadata": {},
     "output_type": "execute_result"
    }
   ],
   "source": [
    "lag2.columns"
   ]
  },
  {
   "cell_type": "code",
   "execution_count": null,
   "id": "03ca2be1",
   "metadata": {},
   "outputs": [],
   "source": []
  },
  {
   "cell_type": "markdown",
   "id": "5a35b0d1",
   "metadata": {},
   "source": [
    "# Removal of weather variables that are of VERY low feature importance"
   ]
  },
  {
   "cell_type": "code",
   "execution_count": 157,
   "id": "dbefa7b8",
   "metadata": {},
   "outputs": [],
   "source": [
    "lag21_train = lag21.dropna()\n",
    "X = lag21_train[[col for col in lag21_train.columns if (lag21_train[col].dtypes !='O') & \n",
    "                      (col not in ['date','block','addressaccuracy','nummosquitos',\n",
    "                                   'wnvcount','wnvpresent', 'station','species', 'month'])]]\n",
    "y = lag21_train['wnvpresent']\n",
    "    \n",
    "X_train, X_test, y_train, y_test = train_test_split(\n",
    "        X,\n",
    "        y,\n",
    "        stratify=y,\n",
    "        random_state=42\n",
    "    )\n",
    "ss = StandardScaler()\n",
    "X_train = ss.fit_transform(X_train)\n",
    "X_test = ss.transform(X_test)"
   ]
  },
  {
   "cell_type": "code",
   "execution_count": 158,
   "id": "ed1c6f64",
   "metadata": {},
   "outputs": [
    {
     "data": {
      "text/plain": [
       "RandomForestClassifier(ccp_alpha=0, class_weight='balanced_subsample',\n",
       "                       max_depth=10, min_samples_leaf=5, min_samples_split=5,\n",
       "                       n_estimators=1500, random_state=42)"
      ]
     },
     "execution_count": 158,
     "metadata": {},
     "output_type": "execute_result"
    }
   ],
   "source": [
    "rfs_hyperparam_bal =  RandomForestClassifier(\n",
    "        n_estimators=1500,\n",
    "        ccp_alpha=0,\n",
    "        max_depth=10,\n",
    "        min_samples_split=5,\n",
    "        min_samples_leaf=5,\n",
    "        random_state=42,\n",
    "        class_weight='balanced_subsample')\n",
    "\n",
    "# Fitting X_train_sc and y_train on RandomForestClassifier object defined above.\n",
    "\n",
    "rfs_hyperparam_bal.fit(X_train, y_train)\n"
   ]
  },
  {
   "cell_type": "code",
   "execution_count": 159,
   "id": "28c6c4b5",
   "metadata": {},
   "outputs": [],
   "source": [
    "def plot_feature_importance(importance,names,model_type):\n",
    "\n",
    "    #Create arrays from feature importance and feature names\n",
    "    feature_importance = np.array(importance)\n",
    "    feature_names = np.array(names)\n",
    "\n",
    "    #Create a DataFrame using a Dictionary\n",
    "    data={'feature_names':feature_names,'feature_importance':feature_importance}\n",
    "    fi_df = pd.DataFrame(data)\n",
    "\n",
    "    #Sort the DataFrame in order decreasing feature importance\n",
    "    fi_df.sort_values(by=['feature_importance'], ascending=False,inplace=True)\n",
    "\n",
    "    #Define size of bar plot\n",
    "    plt.figure(figsize=(15,15))\n",
    "    #Plot Searborn bar chart\n",
    "    sns.barplot(x=fi_df['feature_importance'], y=fi_df['feature_names'])\n",
    "\n",
    "    \n",
    "    #Add chart labels\n",
    "    plt.title(model_type + ' FEATURE IMPORTANCE')\n",
    "    plt.xlabel('FEATURE IMPORTANCE')\n",
    "    plt.ylabel('FEATURE NAMES')"
   ]
  },
  {
   "cell_type": "code",
   "execution_count": 160,
   "id": "ab1b7071",
   "metadata": {},
   "outputs": [
    {
     "data": {
      "image/png": "[encoded data removed]",
      "text/plain": [
       "<Figure size 1080x1080 with 1 Axes>"
      ]
     },
     "metadata": {
      "needs_background": "light"
     },
     "output_type": "display_data"
    }
   ],
   "source": [
    "plot_feature_importance(rfs_hyperparam_bal.feature_importances_,X.columns,'RandomForestClassifier')"
   ]
  },
  {
   "cell_type": "code",
   "execution_count": 43,
   "id": "56caccc7",
   "metadata": {},
   "outputs": [
    {
     "data": {
      "text/plain": [
       "Index(['date', 'species', 'latitude', 'longitude', 'trap', 'nummosquitos',\n",
       "       'wnvpresent', 'wnvcount', 'station', 'tmax', 'tmin', 'tavg', 'dewpoint',\n",
       "       'wetbulb', 'heat', 'cool', 'codesum', 'preciptotal', 'stnpressure',\n",
       "       'sealevel', 'resultspeed', 'resultdir', 'avgspeed', 'month', 'sunrise',\n",
       "       'sunset', 'bcfg', 'br', 'dz', 'fg', 'fg+', 'fu', 'hz', 'mifg', 'ra',\n",
       "       'sn', 'sq', 'ts', 'tsra', 'vcts', 'gr', 'vcfg'],\n",
       "      dtype='object')"
      ]
     },
     "execution_count": 43,
     "metadata": {},
     "output_type": "execute_result"
    }
   ],
   "source": [
    "# preliminary feature importance assessment\n",
    "#lag7.drop(['vcfg', 'gr', 'fg+', 'mifg', 'sn', 'sq', 'fg', 'bcfg', 'dz'], axis=1)\n",
    "#lag21.drop(['vcfg', 'gr', 'fg+', 'mifg', 'sn', 'sq', 'fg', 'bcfg', 'dz'], axis=1)"
   ]
  },
  {
   "cell_type": "markdown",
   "id": "e8558843",
   "metadata": {},
   "source": [
    "# Identify traps which are hotspots\n",
    "\n",
    "Include text on location importance"
   ]
  },
  {
   "cell_type": "code",
   "execution_count": 4,
   "id": "0d92e08c",
   "metadata": {},
   "outputs": [],
   "source": [
    "# import data\n",
    "\n",
    "merge_df = pd.read_csv('../data/merged_train.csv')\n",
    "\n",
    "# create time related features\n",
    "\n",
    "merge_df['date']=pd.to_datetime(merge_df['date'])\n",
    "merge_df['year'] = merge_df['date'].dt.year\n",
    "merge_df['month'] = merge_df['date'].dt.month\n",
    "merge_df['week'] = merge_df['date'].dt.isocalendar().week\n",
    "\n",
    "# subset required columns and rows\n",
    "betw_year = merge_df[['trap', 'year', 'wnvpresent', 'wnvcount']]\n",
    "betw_year = betw_year.loc[betw_year['wnvpresent']>0,:]           # only rows where wnv is present\n",
    "\n",
    "# Collapse by trap and year\n",
    "betw_year = betw_year.groupby(['trap', 'year'], as_index=False)[['wnvpresent', 'wnvcount']]\\\n",
    ".sum().sort_values(['year','wnvpresent'], ascending=False)"
   ]
  },
  {
   "cell_type": "code",
   "execution_count": 5,
   "id": "2c309b1c",
   "metadata": {},
   "outputs": [
    {
     "data": {
      "text/html": [
       "<div>\n",
       "<style scoped>\n",
       "    .dataframe tbody tr th:only-of-type {\n",
       "        vertical-align: middle;\n",
       "    }\n",
       "\n",
       "    .dataframe tbody tr th {\n",
       "        vertical-align: top;\n",
       "    }\n",
       "\n",
       "    .dataframe thead th {\n",
       "        text-align: right;\n",
       "    }\n",
       "</style>\n",
       "<table border=\"1\" class=\"dataframe\">\n",
       "  <thead>\n",
       "    <tr style=\"text-align: right;\">\n",
       "      <th></th>\n",
       "      <th>wnvpresent</th>\n",
       "    </tr>\n",
       "    <tr>\n",
       "      <th>year</th>\n",
       "      <th></th>\n",
       "    </tr>\n",
       "  </thead>\n",
       "  <tbody>\n",
       "    <tr>\n",
       "      <th>2007</th>\n",
       "      <td>189.0</td>\n",
       "    </tr>\n",
       "    <tr>\n",
       "      <th>2009</th>\n",
       "      <td>19.0</td>\n",
       "    </tr>\n",
       "    <tr>\n",
       "      <th>2011</th>\n",
       "      <td>50.0</td>\n",
       "    </tr>\n",
       "    <tr>\n",
       "      <th>2013</th>\n",
       "      <td>199.0</td>\n",
       "    </tr>\n",
       "  </tbody>\n",
       "</table>\n",
       "</div>"
      ],
      "text/plain": [
       "      wnvpresent\n",
       "year            \n",
       "2007       189.0\n",
       "2009        19.0\n",
       "2011        50.0\n",
       "2013       199.0"
      ]
     },
     "execution_count": 5,
     "metadata": {},
     "output_type": "execute_result"
    }
   ],
   "source": [
    "# Is there a consistent wave of WNV in each year?\n",
    "\n",
    "betw_year.groupby('year')[['wnvpresent']].sum()"
   ]
  },
  {
   "cell_type": "markdown",
   "id": "b0e01f0d",
   "metadata": {},
   "source": [
    "No, mosquitos thrive in specific years, probably due to favourable conditions in 2007 and 2013 but not in 2009 and 2011. No need to model these as the effects will be taken care of by the weather variables"
   ]
  },
  {
   "cell_type": "code",
   "execution_count": 6,
   "id": "c9573cfe",
   "metadata": {},
   "outputs": [
    {
     "name": "stderr",
     "output_type": "stream",
     "text": [
      "C:\\Users\\User\\.conda\\envs\\dsi27tf\\lib\\site-packages\\ipykernel_launcher.py:6: FutureWarning: Indexing with multiple keys (implicitly converted to a tuple of keys) will be deprecated, use a list instead.\n",
      "  \n"
     ]
    },
    {
     "data": {
      "text/plain": [
       "years_wnvp\n",
       "1             51\n",
       "2             26\n",
       "3             16\n",
       "4              4\n",
       "dtype: int64"
      ]
     },
     "execution_count": 6,
     "metadata": {},
     "output_type": "execute_result"
    }
   ],
   "source": [
    "# Are mosquitos always found in the same location? \n",
    "# IE MOSQUITOS THRIVE IN SPECIFIC LOCATIONS Reardless of year on year changes\n",
    "\n",
    "betw_year['years_wnvp'] = betw_year['wnvpresent'].map(lambda x: 1 if x >0 else 0)\n",
    "\n",
    "betw_year.groupby(['trap'])['wnvpresent', 'years_wnvp'].sum()\\\n",
    ".sort_values('years_wnvp', ascending=False)[['years_wnvp']].value_counts()\n"
   ]
  },
  {
   "cell_type": "markdown",
   "id": "4f098e6c",
   "metadata": {},
   "source": [
    "Not exactly, while there are some traps that have wnvpresent in more than one year, more than half of the traps have wnvpresent only in that year."
   ]
  },
  {
   "cell_type": "code",
   "execution_count": 7,
   "id": "b9513b49",
   "metadata": {},
   "outputs": [],
   "source": [
    "inter_year = betw_year.pivot(index='trap', columns='year', values=['wnvpresent'])\n",
    "inter_year.fillna(0, inplace=True)"
   ]
  },
  {
   "cell_type": "code",
   "execution_count": 8,
   "id": "4045a949",
   "metadata": {},
   "outputs": [],
   "source": [
    "# positive traps in 2007\n",
    "ptrap_2007 = betw_year.loc[betw_year['year']==2007, 'trap']\n",
    "ptrap_2009 = betw_year.loc[betw_year['year']==2009, 'trap']\n",
    "ptrap_2011 = betw_year.loc[betw_year['year']==2011, 'trap']\n",
    "ptrap_2013 = betw_year.loc[betw_year['year']==2013, 'trap']\n",
    "\n",
    "ptrap_2007 = set(ptrap_2007)\n",
    "ptrap_2009 = set(ptrap_2009)\n",
    "ptrap_2011 = set(ptrap_2011)\n",
    "ptrap_2013 = set(ptrap_2013)"
   ]
  },
  {
   "cell_type": "code",
   "execution_count": 9,
   "id": "3cf3aa83",
   "metadata": {},
   "outputs": [
    {
     "data": {
      "text/plain": [
       "{'T002', 'T090', 'T095', 'T158'}"
      ]
     },
     "execution_count": 9,
     "metadata": {},
     "output_type": "execute_result"
    }
   ],
   "source": [
    "ptrap_2007.intersection(ptrap_2009, ptrap_2011, ptrap_2013)"
   ]
  },
  {
   "cell_type": "code",
   "execution_count": 10,
   "id": "38786ed8",
   "metadata": {},
   "outputs": [
    {
     "data": {
      "text/plain": [
       "33"
      ]
     },
     "execution_count": 10,
     "metadata": {},
     "output_type": "execute_result"
    }
   ],
   "source": [
    "ptrap_2007_2013 = ptrap_2007.intersection(ptrap_2013)\n",
    "len(ptrap_2007_2013)"
   ]
  },
  {
   "cell_type": "markdown",
   "id": "88faf288",
   "metadata": {},
   "source": [
    "Concluding statement on the traps"
   ]
  },
  {
   "cell_type": "markdown",
   "id": "8ba5c3d7",
   "metadata": {},
   "source": [
    "# Groupings\n",
    "Introduction on how traps will be identified.<br/>\n",
    "1. High count ACROSS YEARS\n",
    "2. High count WITHIN each year"
   ]
  },
  {
   "cell_type": "markdown",
   "id": "77881c0a",
   "metadata": {},
   "source": [
    "Across years: Appear in \n",
    "    at least 3 of 4 years (20 traps) ay_3of4\n",
    "    at least 2 of 4 years (46 traps) ay_2of4\n",
    "\n",
    "Across years: wnvpresent \n",
    "    > wnvpresent 8 times (17 traps) ay_8nabov\n",
    "    > wnvpresent 6 times (25 traps) ay_6nabov    \n",
    "\n",
    "Within years: wnvpresent at least 4\n",
    "2007 (19 traps) wy_2007_4nabv\n",
    "2009 (0 traps)  0\n",
    "2011 (3 traps)  wy_2011_4nabv\n",
    "2013 (22 traps) wy_2013_4nabv\n",
    "\n",
    "\n",
    "Within years: wnvpresent at least 3\n",
    "2007 (27 traps) wy_2007_3nabv\n",
    "2009 (0 traps)  0\n",
    "2011 (4 traps)  wy_2011_3nabv\n",
    "2013 (33 traps) wy_2013_3nabv"
   ]
  },
  {
   "cell_type": "markdown",
   "id": "0bd068ad",
   "metadata": {},
   "source": [
    "# Across years: frequency of appearance across years"
   ]
  },
  {
   "cell_type": "markdown",
   "id": "dc16f683",
   "metadata": {},
   "source": [
    "Across years: Appear in \n",
    "    at least 3 of 4 years (20 traps) ay_3of4\n",
    "    at least 2 of 4 years (46 traps) ay_2of4"
   ]
  },
  {
   "cell_type": "code",
   "execution_count": 11,
   "id": "d3ba3f40",
   "metadata": {},
   "outputs": [
    {
     "name": "stderr",
     "output_type": "stream",
     "text": [
      "C:\\Users\\User\\.conda\\envs\\dsi27tf\\lib\\site-packages\\ipykernel_launcher.py:1: FutureWarning: Indexing with multiple keys (implicitly converted to a tuple of keys) will be deprecated, use a list instead.\n",
      "  \"\"\"Entry point for launching an IPython kernel.\n"
     ]
    },
    {
     "data": {
      "text/html": [
       "<div>\n",
       "<style scoped>\n",
       "    .dataframe tbody tr th:only-of-type {\n",
       "        vertical-align: middle;\n",
       "    }\n",
       "\n",
       "    .dataframe tbody tr th {\n",
       "        vertical-align: top;\n",
       "    }\n",
       "\n",
       "    .dataframe thead th {\n",
       "        text-align: right;\n",
       "    }\n",
       "</style>\n",
       "<table border=\"1\" class=\"dataframe\">\n",
       "  <thead>\n",
       "    <tr style=\"text-align: right;\">\n",
       "      <th></th>\n",
       "      <th>wnvpresent</th>\n",
       "      <th>years_wnvp</th>\n",
       "    </tr>\n",
       "    <tr>\n",
       "      <th>trap</th>\n",
       "      <th></th>\n",
       "      <th></th>\n",
       "    </tr>\n",
       "  </thead>\n",
       "  <tbody>\n",
       "    <tr>\n",
       "      <th>T002</th>\n",
       "      <td>15.0</td>\n",
       "      <td>4</td>\n",
       "    </tr>\n",
       "    <tr>\n",
       "      <th>T090</th>\n",
       "      <td>7.0</td>\n",
       "      <td>4</td>\n",
       "    </tr>\n",
       "    <tr>\n",
       "      <th>T095</th>\n",
       "      <td>5.0</td>\n",
       "      <td>4</td>\n",
       "    </tr>\n",
       "    <tr>\n",
       "      <th>T158</th>\n",
       "      <td>5.0</td>\n",
       "      <td>4</td>\n",
       "    </tr>\n",
       "    <tr>\n",
       "      <th>T028</th>\n",
       "      <td>9.0</td>\n",
       "      <td>3</td>\n",
       "    </tr>\n",
       "  </tbody>\n",
       "</table>\n",
       "</div>"
      ],
      "text/plain": [
       "      wnvpresent  years_wnvp\n",
       "trap                        \n",
       "T002        15.0           4\n",
       "T090         7.0           4\n",
       "T095         5.0           4\n",
       "T158         5.0           4\n",
       "T028         9.0           3"
      ]
     },
     "execution_count": 11,
     "metadata": {},
     "output_type": "execute_result"
    }
   ],
   "source": [
    "ay = betw_year.groupby(['trap'])['wnvpresent', 'years_wnvp'].sum()\\\n",
    ".sort_values('years_wnvp', ascending=False)\n",
    "ay[:5]"
   ]
  },
  {
   "cell_type": "code",
   "execution_count": 12,
   "id": "f93fc2e1",
   "metadata": {},
   "outputs": [
    {
     "data": {
      "text/plain": [
       "Index(['T002', 'T090', 'T095', 'T158', 'T028', 'T003', 'T114', 'T115', 'T151',\n",
       "       'T039', 'T031', 'T073', 'T011', 'T225', 'T900', 'T013', 'T230', 'T008',\n",
       "       'T221', 'T009'],\n",
       "      dtype='object', name='trap')"
      ]
     },
     "execution_count": 12,
     "metadata": {},
     "output_type": "execute_result"
    }
   ],
   "source": [
    "ay_3of4 = ay.loc[ay['years_wnvp']>2,:].index\n",
    "ay_3of4"
   ]
  },
  {
   "cell_type": "code",
   "execution_count": 13,
   "id": "6c73c138",
   "metadata": {},
   "outputs": [
    {
     "data": {
      "text/plain": [
       "Index(['T002', 'T090', 'T095', 'T158', 'T028', 'T003', 'T114', 'T115', 'T151',\n",
       "       'T039', 'T031', 'T073', 'T011', 'T225', 'T900', 'T013', 'T230', 'T008',\n",
       "       'T221', 'T009', 'T102', 'T081', 'T082', 'T083', 'T089', 'T094', 'T220',\n",
       "       'T128', 'T135', 'T228', 'T152', 'T080', 'T159', 'T223', 'T160', 'T155',\n",
       "       'T903', 'T035', 'T065', 'T048', 'T027', 'T061', 'T012', 'T063', 'T066',\n",
       "       'T033'],\n",
       "      dtype='object', name='trap')"
      ]
     },
     "execution_count": 13,
     "metadata": {},
     "output_type": "execute_result"
    }
   ],
   "source": [
    "ay_2of4 = ay.loc[ay['years_wnvp']>1,:].index\n",
    "ay_2of4"
   ]
  },
  {
   "cell_type": "markdown",
   "id": "64b1f410",
   "metadata": {},
   "source": [
    "# Across years: no of positive traps across years"
   ]
  },
  {
   "cell_type": "markdown",
   "id": "0f6069d2",
   "metadata": {},
   "source": [
    "Across years: wnvpresent \n",
    "    > wnvpresent 8 times (17 traps) ay_8nabov\n",
    "    > wnvpresent 6 times (25 traps) ay_6nabov"
   ]
  },
  {
   "cell_type": "code",
   "execution_count": 108,
   "id": "c03dc8b4",
   "metadata": {},
   "outputs": [
    {
     "data": {
      "text/html": [
       "<div>\n",
       "<style scoped>\n",
       "    .dataframe tbody tr th:only-of-type {\n",
       "        vertical-align: middle;\n",
       "    }\n",
       "\n",
       "    .dataframe tbody tr th {\n",
       "        vertical-align: top;\n",
       "    }\n",
       "\n",
       "    .dataframe thead th {\n",
       "        text-align: right;\n",
       "    }\n",
       "</style>\n",
       "<table border=\"1\" class=\"dataframe\">\n",
       "  <thead>\n",
       "    <tr style=\"text-align: right;\">\n",
       "      <th></th>\n",
       "      <th>wnvpresent</th>\n",
       "    </tr>\n",
       "    <tr>\n",
       "      <th>trap</th>\n",
       "      <th></th>\n",
       "    </tr>\n",
       "  </thead>\n",
       "  <tbody>\n",
       "    <tr>\n",
       "      <th>T900</th>\n",
       "      <td>29.0</td>\n",
       "    </tr>\n",
       "    <tr>\n",
       "      <th>T002</th>\n",
       "      <td>15.0</td>\n",
       "    </tr>\n",
       "    <tr>\n",
       "      <th>T115</th>\n",
       "      <td>15.0</td>\n",
       "    </tr>\n",
       "    <tr>\n",
       "      <th>T003</th>\n",
       "      <td>14.0</td>\n",
       "    </tr>\n",
       "    <tr>\n",
       "      <th>T225</th>\n",
       "      <td>11.0</td>\n",
       "    </tr>\n",
       "  </tbody>\n",
       "</table>\n",
       "</div>"
      ],
      "text/plain": [
       "      wnvpresent\n",
       "trap            \n",
       "T900        29.0\n",
       "T002        15.0\n",
       "T115        15.0\n",
       "T003        14.0\n",
       "T225        11.0"
      ]
     },
     "execution_count": 108,
     "metadata": {},
     "output_type": "execute_result"
    }
   ],
   "source": [
    "ay_c = betw_year.groupby(['trap'])['wnvpresent',].sum()\\\n",
    ".sort_values('wnvpresent', ascending=False)\n",
    "\n",
    "ay_c.head()"
   ]
  },
  {
   "cell_type": "code",
   "execution_count": 15,
   "id": "203bff97",
   "metadata": {},
   "outputs": [
    {
     "data": {
      "text/plain": [
       "Index(['T900', 'T002', 'T115', 'T003', 'T225', 'T011', 'T013', 'T028', 'T223',\n",
       "       'T138', 'T114', 'T903', 'T008', 'T009', 'T061', 'T082', 'T135'],\n",
       "      dtype='object', name='trap')"
      ]
     },
     "execution_count": 15,
     "metadata": {},
     "output_type": "execute_result"
    }
   ],
   "source": [
    "ay_8nabov = ay_c.loc[ay['wnvpresent']>7,:].index\n",
    "ay_8nabov"
   ]
  },
  {
   "cell_type": "code",
   "execution_count": 16,
   "id": "7c921d16",
   "metadata": {},
   "outputs": [
    {
     "data": {
      "text/plain": [
       "Index(['T900', 'T002', 'T115', 'T003', 'T225', 'T011', 'T013', 'T028', 'T223',\n",
       "       'T138', 'T114', 'T903', 'T008', 'T009', 'T061', 'T082', 'T135', 'T027',\n",
       "       'T030', 'T090', 'T235', 'T086', 'T230', 'T221', 'T128', 'T066', 'T151',\n",
       "       'T155', 'T228', 'T233'],\n",
       "      dtype='object', name='trap')"
      ]
     },
     "execution_count": 16,
     "metadata": {},
     "output_type": "execute_result"
    }
   ],
   "source": [
    "ay_6nabov = ay_c.loc[ay['wnvpresent']>5,:].index\n",
    "ay_6nabov"
   ]
  },
  {
   "cell_type": "markdown",
   "id": "53a8dc8f",
   "metadata": {},
   "source": [
    "# Within years: wnvpresent (at least 4)"
   ]
  },
  {
   "cell_type": "markdown",
   "id": "dfd4ba84",
   "metadata": {},
   "source": [
    "Within years: wnvpresent at least 4\n",
    "2007 (19 traps) wy_2007_4nabv\n",
    "2009 (0 traps)  0\n",
    "2011 (3 traps)  wy_2011_4nabv\n",
    "2013 (22 traps) wy_2013_4nabv"
   ]
  },
  {
   "cell_type": "code",
   "execution_count": null,
   "id": "193b6ae0",
   "metadata": {},
   "outputs": [],
   "source": []
  },
  {
   "cell_type": "code",
   "execution_count": 17,
   "id": "d30d1a88",
   "metadata": {},
   "outputs": [],
   "source": [
    "wy_2007_4nabv = betw_year.loc[(betw_year['year']==2007) & (betw_year['wnvcount']>3), 'trap']\n",
    "wy_2009_4nabv = betw_year.loc[(betw_year['year']==2009) & (betw_year['wnvcount']>3), 'trap']\n",
    "wy_2011_4nabv = betw_year.loc[(betw_year['year']==2011) & (betw_year['wnvcount']>3), 'trap']\n",
    "wy_2013_4nabv = betw_year.loc[(betw_year['year']==2013) & (betw_year['wnvcount']>3), 'trap']"
   ]
  },
  {
   "cell_type": "code",
   "execution_count": null,
   "id": "fa3827f6",
   "metadata": {},
   "outputs": [],
   "source": []
  },
  {
   "cell_type": "markdown",
   "id": "2b717b4b",
   "metadata": {},
   "source": [
    "# Within years: wnvpresent (at least 4)"
   ]
  },
  {
   "cell_type": "markdown",
   "id": "40fd3e4f",
   "metadata": {},
   "source": [
    "Within years: wnvpresent at least 3\n",
    "2007 (27 traps) wy_2007_3nabv\n",
    "2009 (0 traps)  0\n",
    "2011 (4 traps)  wy_2011_3nabv\n",
    "2013 (33 traps) wy_2013_3nabv"
   ]
  },
  {
   "cell_type": "code",
   "execution_count": 18,
   "id": "099e2a08",
   "metadata": {},
   "outputs": [],
   "source": [
    "wy_2007_3nabv = betw_year.loc[(betw_year['year']==2007) & (betw_year['wnvcount']>2), 'trap']\n",
    "wy_2009_3nabv = betw_year.loc[(betw_year['year']==2009) & (betw_year['wnvcount']>2), 'trap']\n",
    "wy_2011_3nabv = betw_year.loc[(betw_year['year']==2011) & (betw_year['wnvcount']>2), 'trap']\n",
    "wy_2013_3nabv = betw_year.loc[(betw_year['year']==2013) & (betw_year['wnvcount']>2), 'trap']"
   ]
  },
  {
   "cell_type": "code",
   "execution_count": null,
   "id": "fee4898b",
   "metadata": {},
   "outputs": [],
   "source": []
  },
  {
   "cell_type": "markdown",
   "id": "658eaa92",
   "metadata": {},
   "source": [
    "# Different groups of traps\n",
    "We have engineered 3 different groups of traps that with increasing number of features. "
   ]
  },
  {
   "cell_type": "code",
   "execution_count": 67,
   "id": "348eaf3f",
   "metadata": {},
   "outputs": [
    {
     "data": {
      "text/plain": [
       "46"
      ]
     },
     "execution_count": 67,
     "metadata": {},
     "output_type": "execute_result"
    }
   ],
   "source": [
    "group_1 = list(ay_8nabov)\n",
    "group_1.extend(ay_3of4)\n",
    "group_1.extend(wy_2007_4nabv)\n",
    "group_1.extend(wy_2011_4nabv)\n",
    "group_1.extend(wy_2013_4nabv)\n",
    "group_1 = list(set(group_1))\n",
    "len(group_1)"
   ]
  },
  {
   "cell_type": "code",
   "execution_count": 68,
   "id": "b7d106c8",
   "metadata": {},
   "outputs": [
    {
     "data": {
      "text/plain": [
       "57"
      ]
     },
     "execution_count": 68,
     "metadata": {},
     "output_type": "execute_result"
    }
   ],
   "source": [
    "group_2 = list(ay_6nabov)\n",
    "group_2.extend(ay_3of4)\n",
    "group_2.extend(wy_2007_3nabv)\n",
    "group_2.extend(wy_2011_3nabv)\n",
    "group_2.extend(wy_2013_3nabv)\n",
    "group_2 = list(set(group_2))\n",
    "len(group_2)"
   ]
  },
  {
   "cell_type": "code",
   "execution_count": 69,
   "id": "5952979c",
   "metadata": {},
   "outputs": [
    {
     "data": {
      "text/plain": [
       "68"
      ]
     },
     "execution_count": 69,
     "metadata": {},
     "output_type": "execute_result"
    }
   ],
   "source": [
    "group_3 = list(ay_6nabov)\n",
    "group_3.extend(ay_2of4)\n",
    "group_3.extend(wy_2007_3nabv)\n",
    "group_3.extend(wy_2011_3nabv)\n",
    "group_3.extend(wy_2013_3nabv)\n",
    "group_3 = list(set(group_3))\n",
    "len(group_3)"
   ]
  },
  {
   "cell_type": "markdown",
   "id": "a7a41af2",
   "metadata": {},
   "source": [
    "# Feature Engineering\n",
    "To create week, species and trap variables<br/>\n",
    "\n",
    "\n",
    "These will be used to merge on\n",
    "latitude longtitude\n",
    "species\n",
    "date\n",
    "trap"
   ]
  },
  {
   "cell_type": "code",
   "execution_count": 115,
   "id": "ac83f8f5",
   "metadata": {},
   "outputs": [],
   "source": [
    "# read in train data\n",
    "train_merged = pd.read_csv('../data/merged_train.csv')"
   ]
  },
  {
   "cell_type": "code",
   "execution_count": 116,
   "id": "7a45941f",
   "metadata": {},
   "outputs": [
    {
     "data": {
      "text/plain": [
       "Index(['date', 'species', 'latitude', 'longitude', 'trap', 'nummosquitos',\n",
       "       'wnvpresent', 'wnvcount', 'station', 'tmax', 'tmin', 'tavg', 'dewpoint',\n",
       "       'wetbulb', 'heat', 'cool', 'codesum', 'preciptotal', 'stnpressure',\n",
       "       'sealevel', 'resultspeed', 'resultdir', 'avgspeed', 'month', 'sunrise',\n",
       "       'sunset', 'bcfg', 'br', 'dz', 'fg', 'fg+', 'fu', 'hz', 'mifg', 'ra',\n",
       "       'sn', 'sq', 'ts', 'tsra', 'vcts', 'gr', 'vcfg', 'sprayed'],\n",
       "      dtype='object')"
      ]
     },
     "execution_count": 116,
     "metadata": {},
     "output_type": "execute_result"
    }
   ],
   "source": [
    "train_merged.columns"
   ]
  },
  {
   "cell_type": "code",
   "execution_count": 117,
   "id": "67b299c5",
   "metadata": {},
   "outputs": [],
   "source": [
    "# extract columns required for enginnering\n",
    "train_fe = train_merged[['date', 'species', 'latitude',\n",
    "                         'longitude', 'trap', 'wnvpresent']].copy()"
   ]
  },
  {
   "cell_type": "code",
   "execution_count": 118,
   "id": "23deab1a",
   "metadata": {},
   "outputs": [],
   "source": [
    "# from the previous EDA we understand that \n",
    "# certain species are more likely to have wnv\n",
    "# certain weeks of the month are more likely to have wnv"
   ]
  },
  {
   "cell_type": "markdown",
   "id": "effdaeb7",
   "metadata": {},
   "source": [
    "Dummy coding for species"
   ]
  },
  {
   "cell_type": "code",
   "execution_count": 119,
   "id": "60aa2f01",
   "metadata": {},
   "outputs": [],
   "source": [
    "train_fe['CULEX PIPIENS/RESTUANS'] = train_fe['species'].map(lambda x: 1 if x == 'CULEX PIPIENS/RESTUANS' else 0)\n",
    "train_fe['CULEX PIPIENS'] = train_fe['species'].map(lambda x: 1 if x == 'CULEX PIPIENS' else 0)\n",
    "train_fe['CULEX RESTUANS'] = train_fe['species'].map(lambda x: 1 if x == 'CULEX RESTUANS' else 0)"
   ]
  },
  {
   "cell_type": "markdown",
   "id": "fa41efb0",
   "metadata": {},
   "source": [
    "Dummy coding for week"
   ]
  },
  {
   "cell_type": "code",
   "execution_count": 120,
   "id": "1f9c4640",
   "metadata": {},
   "outputs": [],
   "source": [
    "# create week variable\n",
    "train_fe['date'] = pd.to_datetime(train_fe['date'])\n",
    "train_fe['week'] = train_fe['date'].dt.isocalendar().week"
   ]
  },
  {
   "cell_type": "code",
   "execution_count": 121,
   "id": "2a0ece53",
   "metadata": {},
   "outputs": [
    {
     "data": {
      "text/plain": [
       "week\n",
       "22      0.0\n",
       "23      0.0\n",
       "24      0.0\n",
       "25      0.0\n",
       "26      1.0\n",
       "27      0.0\n",
       "28      7.0\n",
       "29     15.0\n",
       "30     16.0\n",
       "31     39.0\n",
       "32     54.0\n",
       "33     66.0\n",
       "34    107.0\n",
       "35     47.0\n",
       "36     44.0\n",
       "37     34.0\n",
       "38     19.0\n",
       "39      6.0\n",
       "40      2.0\n",
       "41      0.0\n",
       "Name: wnvpresent, dtype: float64"
      ]
     },
     "execution_count": 121,
     "metadata": {},
     "output_type": "execute_result"
    }
   ],
   "source": [
    "# Dummy coding for week\n",
    "\n",
    "train_fe.groupby('week')['wnvpresent'].sum()"
   ]
  },
  {
   "cell_type": "code",
   "execution_count": 122,
   "id": "46e541e2",
   "metadata": {},
   "outputs": [
    {
     "data": {
      "text/plain": [
       "(8475, 21)"
      ]
     },
     "execution_count": 122,
     "metadata": {},
     "output_type": "execute_result"
    }
   ],
   "source": [
    "# Only select weeks that have more than 2 counts\n",
    "\n",
    "train_fe = pd.get_dummies(train_fe, columns=['week'], drop_first=False)\n",
    "\n",
    "train_fe.drop(columns=['week_22', 'week_23', 'week_24', 'week_25', \n",
    "                            'week_26', 'week_27', 'week_40', 'week_41'],\n",
    "                  axis=1,\n",
    "                  inplace=True)\n",
    "train_fe.shape"
   ]
  },
  {
   "cell_type": "code",
   "execution_count": 124,
   "id": "29db39b2",
   "metadata": {},
   "outputs": [
    {
     "data": {
      "text/plain": [
       "['date',\n",
       " 'species',\n",
       " 'latitude',\n",
       " 'longitude',\n",
       " 'wnvpresent',\n",
       " 'CULEX PIPIENS/RESTUANS',\n",
       " 'CULEX PIPIENS',\n",
       " 'CULEX RESTUANS',\n",
       " 'week_28',\n",
       " 'week_29',\n",
       " 'week_30',\n",
       " 'week_31',\n",
       " 'week_32',\n",
       " 'week_33',\n",
       " 'week_34',\n",
       " 'week_35',\n",
       " 'week_36',\n",
       " 'week_37',\n",
       " 'week_38',\n",
       " 'week_39']"
      ]
     },
     "execution_count": 124,
     "metadata": {},
     "output_type": "execute_result"
    }
   ],
   "source": [
    "# extract col_names without trap variables\n",
    "\n",
    "col_wo_trap = list(train_fe.columns)\n",
    "col_wo_trap.remove('trap')\n",
    "col_wo_trap\n"
   ]
  },
  {
   "cell_type": "markdown",
   "id": "985a2a70",
   "metadata": {},
   "source": [
    "Dummy coding for traps"
   ]
  },
  {
   "cell_type": "code",
   "execution_count": 105,
   "id": "e30399e5",
   "metadata": {},
   "outputs": [
    {
     "data": {
      "text/plain": [
       "(21,)"
      ]
     },
     "execution_count": 105,
     "metadata": {},
     "output_type": "execute_result"
    }
   ],
   "source": [
    "# Create dataframe of ALL trap dummies\n",
    "\n",
    "train_fe['trap_d'] = train_fe['trap']          # duplicate trap col as\n",
    "                                               # we need to merge on it later\n",
    "train_fe = pd.get_dummies(train_fe, columns=['trap'])         # get dummies\n",
    "train_fe.rename(columns = {'trap_d':'trap'}, inplace = True) #rename to trap\n"
   ]
  },
  {
   "cell_type": "code",
   "execution_count": null,
   "id": "06702165",
   "metadata": {},
   "outputs": [],
   "source": [
    "# Create a list of variables for each group\n",
    "# Create dataset for each group with newly added species, week, trap variables"
   ]
  },
  {
   "cell_type": "code",
   "execution_count": 104,
   "id": "1e9ed2e8",
   "metadata": {},
   "outputs": [
    {
     "data": {
      "text/plain": [
       "(8475, 67)"
      ]
     },
     "execution_count": 104,
     "metadata": {},
     "output_type": "execute_result"
    }
   ],
   "source": [
    "g1 = ['trap_' + x for x in group_1]\n",
    "g1_others = col_wo_trap.copy()\n",
    "g1_others.extend(g1)\n",
    "train_fe_g1 = train_fe[g1_others]\n",
    "train_fe_g1.shape"
   ]
  },
  {
   "cell_type": "code",
   "execution_count": 106,
   "id": "de1a3b43",
   "metadata": {},
   "outputs": [
    {
     "data": {
      "text/plain": [
       "(8475, 136)"
      ]
     },
     "execution_count": 106,
     "metadata": {},
     "output_type": "execute_result"
    }
   ],
   "source": [
    "g2 = ['trap_' + x for x in group_2]\n",
    "g2_others = col_wo_trap.copy()\n",
    "g2_others.extend(g2)\n",
    "train_fe_g2 = train_fe[g2_others]\n",
    "train_fe_g2.shape"
   ]
  },
  {
   "cell_type": "code",
   "execution_count": 107,
   "id": "d7768a16",
   "metadata": {},
   "outputs": [
    {
     "data": {
      "text/plain": [
       "(8475, 158)"
      ]
     },
     "execution_count": 107,
     "metadata": {},
     "output_type": "execute_result"
    }
   ],
   "source": [
    "g3 = ['trap_' + x for x in group_3]\n",
    "g3_others = col_wo_trap.copy()\n",
    "g3_others.extend(g3)\n",
    "train_fe_g3 = train_fe[g3_others]\n",
    "train_fe_g3.shape"
   ]
  },
  {
   "cell_type": "code",
   "execution_count": null,
   "id": "fa6d6ed6",
   "metadata": {},
   "outputs": [],
   "source": [
    "# save groups to csv"
   ]
  },
  {
   "cell_type": "markdown",
   "id": "eb1d7885",
   "metadata": {},
   "source": [
    "# Merge new features with weather lag dataset"
   ]
  },
  {
   "cell_type": "markdown",
   "id": "7a5266dc",
   "metadata": {},
   "source": [
    "## lag#"
   ]
  },
  {
   "cell_type": "markdown",
   "id": "1912d6f7",
   "metadata": {},
   "source": [
    "### lag#_g1"
   ]
  },
  {
   "cell_type": "code",
   "execution_count": null,
   "id": "7cf23484",
   "metadata": {},
   "outputs": [],
   "source": [
    "lag3_g = lag3.copy()\n",
    "lag3_g['date'] = pd.to_datetime(lag3_g['date'])\n",
    "\n",
    "lag3_g1 = lag3_g.merge(train_fe_g1, how='inner',\n",
    "                    on=['date', 'species', 'latitude',\n",
    "                        'longitude', 'wnvpresent', 'trap'],\n",
    "                   )\n",
    "lag3_g1.shape"
   ]
  },
  {
   "cell_type": "code",
   "execution_count": null,
   "id": "8d68883b",
   "metadata": {},
   "outputs": [],
   "source": [
    "lag3_g1 = lag3_g1.drop(columns=['trap', 'date', 'species', 'month', \n",
    "                                'latitude', 'longitude','nummosquitos',\n",
    "                                'wnvcount', 'station', 'codesum'], axis=1)\n",
    "\n",
    "lag3_g1.shape"
   ]
  },
  {
   "cell_type": "code",
   "execution_count": null,
   "id": "c1cbffa1",
   "metadata": {},
   "outputs": [],
   "source": []
  },
  {
   "cell_type": "markdown",
   "id": "3670f403",
   "metadata": {},
   "source": [
    "### lag#_g2"
   ]
  },
  {
   "cell_type": "code",
   "execution_count": null,
   "id": "6e4b34a6",
   "metadata": {},
   "outputs": [],
   "source": [
    "lag3_ = lag3.copy()\n",
    "lag3_['date'] = pd.to_datetime(lag3_['date'])\n",
    "\n",
    "lag3_g2 = lag3_.merge(train_fe_g2, how='inner',\n",
    "                    on=['date', 'species', 'latitude',\n",
    "                        'longitude', 'wnvpresent', 'trap'],\n",
    "                   )\n",
    "lag3_g2.shape"
   ]
  },
  {
   "cell_type": "code",
   "execution_count": null,
   "id": "c0b0a448",
   "metadata": {},
   "outputs": [],
   "source": [
    "lag3_g2 = lag3_g2.drop(columns=['trap', 'date', 'species', 'month', \n",
    "                                'latitude', 'longitude','nummosquitos',\n",
    "                                'wnvcount', 'station', 'codesum'], axis=1)\n",
    "\n",
    "lag3_g2.shape"
   ]
  },
  {
   "cell_type": "code",
   "execution_count": null,
   "id": "3b8d0e51",
   "metadata": {},
   "outputs": [],
   "source": [
    "#lag3_g2.to_csv('../data/lag3_g2.csv', index=False)"
   ]
  },
  {
   "cell_type": "markdown",
   "id": "772cb251",
   "metadata": {},
   "source": [
    "### lag#_g3"
   ]
  },
  {
   "cell_type": "code",
   "execution_count": null,
   "id": "36711af0",
   "metadata": {},
   "outputs": [],
   "source": [
    "lag3_ = lag3.copy()\n",
    "lag3_['date'] = pd.to_datetime(lag3_['date'])\n",
    "\n",
    "lag3_g3 = lag3_.merge(train_fe_g3, how='inner',\n",
    "                    on=['date', 'species', 'latitude',\n",
    "                        'longitude', 'wnvpresent', 'trap'],\n",
    "                   )\n",
    "lag3_g3.shape"
   ]
  },
  {
   "cell_type": "code",
   "execution_count": null,
   "id": "a1c17718",
   "metadata": {},
   "outputs": [],
   "source": [
    "lag3_g3 = lag3_g3.drop(columns=['trap', 'date', 'species', 'month', \n",
    "                                'latitude', 'longitude','nummosquitos',\n",
    "                                'wnvcount', 'station', 'codesum'], axis=1)\n",
    "\n",
    "lag3_g3.shape"
   ]
  },
  {
   "cell_type": "code",
   "execution_count": null,
   "id": "693acad6",
   "metadata": {},
   "outputs": [],
   "source": [
    "#lag3_g3.to_csv('../data/lag3_g3.csv', index=False)"
   ]
  },
  {
   "cell_type": "code",
   "execution_count": null,
   "id": "58e5beaa",
   "metadata": {},
   "outputs": [],
   "source": []
  },
  {
   "cell_type": "code",
   "execution_count": null,
   "id": "ccd3eb31",
   "metadata": {},
   "outputs": [],
   "source": [
    "[df[col].dtypes for col in df.columns]"
   ]
  },
  {
   "cell_type": "code",
   "execution_count": null,
   "id": "fa07ca0f",
   "metadata": {},
   "outputs": [],
   "source": []
  },
  {
   "cell_type": "code",
   "execution_count": null,
   "id": "1c88ae41",
   "metadata": {},
   "outputs": [],
   "source": []
  },
  {
   "cell_type": "code",
   "execution_count": null,
   "id": "cbb22b90",
   "metadata": {},
   "outputs": [],
   "source": [
    "# find best combination of model and features"
   ]
  },
  {
   "cell_type": "code",
   "execution_count": null,
   "id": "67919520",
   "metadata": {},
   "outputs": [],
   "source": [
    "def rf_2_weather_lag(df, lag_num, concat_df=None, grp_num):\n",
    "    df = df.dropna()\n",
    "    X = df.drop(columns='wnvpresent', axis=1)\n",
    "    y = df['wnvpresent']\n",
    "    \n",
    "    X_train, X_test, y_train, y_test = train_test_split(\n",
    "        X,\n",
    "        y,\n",
    "        stratify=y,\n",
    "        random_state=42\n",
    "    )\n",
    "    \n",
    "    ss = StandardScaler()\n",
    "    \n",
    "    X_train = ss.fit_transform(X_train)\n",
    "    X_test = ss.transform(X_test)\n",
    "    \n",
    "    \n",
    "    rf =  RandomForestClassifier(\n",
    "        n_estimators=1500,\n",
    "        ccp_alpha=0,\n",
    "        max_depth=10,\n",
    "        min_samples_split=5,\n",
    "        min_samples_leaf=5,\n",
    "        random_state=42,\n",
    "        class_weight='balanced_subsample')\n",
    "    \n",
    "    train_acc = cross_val_score(\n",
    "        rf,\n",
    "        X_train,\n",
    "        y_train,\n",
    "        cv=5\n",
    "    ).mean()\n",
    "    \n",
    "    test_acc = cross_val_score(\n",
    "        rf,\n",
    "        X_test,\n",
    "        y_test,\n",
    "        cv=5\n",
    "    ).mean()\n",
    "    \n",
    "    rf.fit(X_train, y_train)\n",
    "    \n",
    "    forest_predictions = rf.predict(X_test)\n",
    "    \n",
    "    tn, fp, fn, tp = confusion_matrix(y_test, forest_predictions).ravel()\n",
    "    \n",
    "    sensitivity = recall_score(y_test, forest_predictions)\n",
    "\n",
    "    specificity = (tn / (tn + fp))\n",
    "    \n",
    "    roc_auc = roc_auc_score(y_test, rf.predict_proba(X_test)[:,1])\n",
    "    \n",
    "    weather_dict = {\n",
    "        'feature_grp': grp_num,\n",
    "        'weather_lag': lag_num, \n",
    "        'train_acc': [round(train_acc * 100, 2)], \n",
    "        'test_acc': [round(test_acc * 100, 2)], \n",
    "        'sensitivity': [round(sensitivity * 100, 2)], \n",
    "        'specificity': [round(specificity * 100, 2)],\n",
    "        'roc_auc_score': [round(roc_auc * 100, 2)]\n",
    "    }\n",
    "    \n",
    "    new_df = pd.DataFrame(weather_dict)\n",
    "    \n",
    "    if isinstance(concat_df, pd.DataFrame) == True:\n",
    "        final_df = pd.concat(\n",
    "            objs=[concat_df, new_df],\n",
    "            axis=0\n",
    "        )\n",
    "        final_df.reset_index(drop=True, inplace=True)\n",
    "        return final_df\n",
    "        \n",
    "    else:    \n",
    "        return new_df\n",
    "    "
   ]
  },
  {
   "cell_type": "code",
   "execution_count": null,
   "id": "6e17c37f",
   "metadata": {},
   "outputs": [],
   "source": [
    "weather_lag_df = rf_weather_lag(lag0, 0)\n",
    "weather_lag_df = rf_weather_lag(lag2, 2, weather_lag_df)\n",
    "weather_lag_df = rf_weather_lag(lag3, 3, weather_lag_df)\n",
    "weather_lag_df = rf_weather_lag(lag5, 5, weather_lag_df)\n",
    "weather_lag_df = rf_weather_lag(lag7, 7, weather_lag_df)\n",
    "weather_lag_df = rf_weather_lag(lag14, 14, weather_lag_df)\n",
    "weather_lag_df = rf_weather_lag(lag21, 21, weather_lag_df)\n",
    "weather_lag_df = rf_weather_lag(lag28, 28, weather_lag_df)"
   ]
  },
  {
   "cell_type": "code",
   "execution_count": null,
   "id": "778f0f06",
   "metadata": {},
   "outputs": [],
   "source": [
    "weather_lag_df"
   ]
  },
  {
   "cell_type": "code",
   "execution_count": null,
   "id": "9227d88a",
   "metadata": {},
   "outputs": [],
   "source": []
  },
  {
   "cell_type": "code",
   "execution_count": null,
   "id": "d6fcb86d",
   "metadata": {},
   "outputs": [],
   "source": [
    "# Save files to csv"
   ]
  },
  {
   "cell_type": "code",
   "execution_count": null,
   "id": "387f6eb8",
   "metadata": {},
   "outputs": [],
   "source": [
    "# choose 2\n",
    "\n",
    "#lag7_g1.to_csv('../data/lag7_g1.csv', index=False)\n",
    "#lag7_g2.to_csv('../data/lag7_g2.csv', index=False)\n",
    "#lag7_g3.to_csv('../data/lag7_g3.csv', index=False)\n",
    "\n",
    "#lag21_g1.to_csv('../data/lag21_g1.csv', index=False)\n",
    "#lag21_g2.to_csv('../data/lag21_g2.csv', index=False)\n",
    "#lag21_g3.to_csv('../data/lag21_g3.csv', index=False)"
   ]
  },
  {
   "cell_type": "code",
   "execution_count": null,
   "id": "a428c570",
   "metadata": {},
   "outputs": [],
   "source": []
  },
  {
   "cell_type": "code",
   "execution_count": null,
   "id": "92becce9",
   "metadata": {},
   "outputs": [],
   "source": []
  },
  {
   "cell_type": "code",
   "execution_count": null,
   "id": "204117c3",
   "metadata": {},
   "outputs": [],
   "source": [
    "# create test set for kaggle testing"
   ]
  },
  {
   "cell_type": "code",
   "execution_count": null,
   "id": "9eb0253c",
   "metadata": {},
   "outputs": [],
   "source": []
  },
  {
   "cell_type": "code",
   "execution_count": null,
   "id": "92bcc953",
   "metadata": {},
   "outputs": [],
   "source": []
  },
  {
   "cell_type": "code",
   "execution_count": null,
   "id": "d1eba0d6",
   "metadata": {},
   "outputs": [],
   "source": []
  },
  {
   "cell_type": "code",
   "execution_count": null,
   "id": "6a9a3078",
   "metadata": {},
   "outputs": [],
   "source": []
  },
  {
   "cell_type": "code",
   "execution_count": null,
   "id": "ea74f9ce",
   "metadata": {},
   "outputs": [],
   "source": []
  },
  {
   "cell_type": "code",
   "execution_count": null,
   "id": "eb529ba8",
   "metadata": {},
   "outputs": [],
   "source": []
  },
  {
   "cell_type": "code",
   "execution_count": null,
   "id": "3cc93313",
   "metadata": {},
   "outputs": [],
   "source": []
  },
  {
   "cell_type": "markdown",
   "id": "0fa18e0b",
   "metadata": {},
   "source": [
    "# Archive may delete"
   ]
  },
  {
   "cell_type": "code",
   "execution_count": 19,
   "id": "83c85008",
   "metadata": {},
   "outputs": [
    {
     "ename": "NameError",
     "evalue": "name 'train' is not defined",
     "output_type": "error",
     "traceback": [
      "\u001b[0;31m---------------------------------------------------------------------------\u001b[0m",
      "\u001b[0;31mNameError\u001b[0m                                 Traceback (most recent call last)",
      "\u001b[0;32m/var/folders/0t/nymtt02n1zqdc1ksr0n857bc0000gn/T/ipykernel_1434/3166623968.py\u001b[0m in \u001b[0;36m<module>\u001b[0;34m\u001b[0m\n\u001b[1;32m      2\u001b[0m \u001b[0;34m\u001b[0m\u001b[0m\n\u001b[1;32m      3\u001b[0m \u001b[0mtrain_loc\u001b[0m \u001b[0;34m=\u001b[0m \u001b[0;34m[\u001b[0m\u001b[0;34m]\u001b[0m\u001b[0;34m\u001b[0m\u001b[0;34m\u001b[0m\u001b[0m\n\u001b[0;32m----> 4\u001b[0;31m \u001b[0;32mfor\u001b[0m \u001b[0mx\u001b[0m\u001b[0;34m,\u001b[0m \u001b[0my\u001b[0m \u001b[0;32min\u001b[0m \u001b[0mzip\u001b[0m\u001b[0;34m(\u001b[0m\u001b[0mtrain\u001b[0m\u001b[0;34m[\u001b[0m\u001b[0;34m'longitude'\u001b[0m\u001b[0;34m]\u001b[0m\u001b[0;34m,\u001b[0m \u001b[0mtrain\u001b[0m\u001b[0;34m[\u001b[0m\u001b[0;34m'latitude'\u001b[0m\u001b[0;34m]\u001b[0m\u001b[0;34m)\u001b[0m\u001b[0;34m:\u001b[0m\u001b[0;34m\u001b[0m\u001b[0;34m\u001b[0m\u001b[0m\n\u001b[0m\u001b[1;32m      5\u001b[0m     \u001b[0;32mif\u001b[0m \u001b[0;34m[\u001b[0m\u001b[0mx\u001b[0m\u001b[0;34m,\u001b[0m \u001b[0my\u001b[0m\u001b[0;34m]\u001b[0m \u001b[0;32mnot\u001b[0m \u001b[0;32min\u001b[0m \u001b[0mtrain_loc\u001b[0m\u001b[0;34m:\u001b[0m\u001b[0;34m\u001b[0m\u001b[0;34m\u001b[0m\u001b[0m\n\u001b[1;32m      6\u001b[0m         \u001b[0mtrain_loc\u001b[0m\u001b[0;34m.\u001b[0m\u001b[0mappend\u001b[0m\u001b[0;34m(\u001b[0m\u001b[0;34m[\u001b[0m\u001b[0mx\u001b[0m\u001b[0;34m,\u001b[0m \u001b[0my\u001b[0m\u001b[0;34m]\u001b[0m\u001b[0;34m)\u001b[0m\u001b[0;34m\u001b[0m\u001b[0;34m\u001b[0m\u001b[0m\n",
      "\u001b[0;31mNameError\u001b[0m: name 'train' is not defined"
     ]
    }
   ],
   "source": [
    "# To check if all the traps in test are also in train set\n",
    "\n",
    "train_loc = []\n",
    "for x, y in zip(train['longitude'], train['latitude']):\n",
    "    if [x, y] not in train_loc:\n",
    "        train_loc.append([x, y])\n",
    "    \n",
    "test_loc = []\n",
    "for x, y in zip(test['longitude'], test['latitude']):\n",
    "    if [x, y] not in test_loc:\n",
    "        test_loc.append([x, y])\n",
    "        \n",
    "ex_loc = []\n",
    "for i in test_loc:\n",
    "    if i not in train_loc:\n",
    "        ex_loc.append(i)"
   ]
  },
  {
   "cell_type": "code",
   "execution_count": null,
   "id": "4a1dee85",
   "metadata": {},
   "outputs": [],
   "source": [
    "train_merged.groupby(['latitude', 'longitude'])['nummosquitos'].sum()"
   ]
  },
  {
   "cell_type": "code",
   "execution_count": null,
   "id": "1c29c690",
   "metadata": {},
   "outputs": [],
   "source": [
    "train_merged.groupby(['trap'])['nummosquitos'].sum()"
   ]
  },
  {
   "cell_type": "code",
   "execution_count": null,
   "id": "381fb047",
   "metadata": {},
   "outputs": [],
   "source": []
  }
 ],
 "metadata": {
  "kernelspec": {
   "display_name": "Python 3 (ipykernel)",
   "language": "python",
   "name": "python3"
  },
  "language_info": {
   "codemirror_mode": {
    "name": "ipython",
    "version": 3
   },
   "file_extension": ".py",
   "mimetype": "text/x-python",
   "name": "python",
   "nbconvert_exporter": "python",
   "pygments_lexer": "ipython3",
   "version": "3.7.13"
  }
 },
 "nbformat": 4,
 "nbformat_minor": 5
}
