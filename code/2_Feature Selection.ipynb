{
 "cells": [
  {
   "cell_type": "code",
   "execution_count": 75,
   "id": "ab120b1f",
   "metadata": {},
   "outputs": [],
   "source": [
    "import pandas as pd\n",
    "import numpy as np\n",
    "import seaborn as sns\n",
    "import matplotlib.pyplot as plt\n",
    "from datetime import datetime\n",
    "\n",
    "from sklearn.preprocessing import StandardScaler\n",
    "from sklearn.model_selection import train_test_split, cross_val_score\n",
    "from sklearn.pipeline import Pipeline\n",
    "from sklearn.ensemble import RandomForestClassifier\n",
    "\n",
    "from sklearn.metrics import (\n",
    "    confusion_matrix, \n",
    "    plot_confusion_matrix,\n",
    "    roc_auc_score,\n",
    "    recall_score\n",
    ")"
   ]
  },
  {
   "cell_type": "markdown",
   "id": "86d077aa",
   "metadata": {},
   "source": [
    "# To identify which weather lag is best"
   ]
  },
  {
   "cell_type": "code",
   "execution_count": 76,
   "id": "4c6f5f33",
   "metadata": {},
   "outputs": [],
   "source": [
    "# Please check error and rerun the code in notebook 1\n",
    "# so that 'trap' is included in all the weather_cleaned_lag files\n"
   ]
  },
  {
   "cell_type": "code",
   "execution_count": 77,
   "id": "aec73cbc",
   "metadata": {},
   "outputs": [],
   "source": [
    "lag0 = pd.read_csv(r'../data/weather_cleaned_lag0.csv')\n",
    "lag2 = pd.read_csv(r'../data/weather_cleaned_lag2.csv')\n",
    "lag3 = pd.read_csv(r'../data/weather_cleaned_lag3.csv')\n",
    "lag5 = pd.read_csv(r'../data/weather_cleaned_lag5.csv')\n",
    "lag7 = pd.read_csv(r'../data/weather_cleaned_lag7.csv')\n",
    "lag14 = pd.read_csv(r'../data/weather_cleaned_lag14.csv')\n",
    "lag21 = pd.read_csv(r'../data/weather_cleaned_lag21.csv')\n",
    "lag28 = pd.read_csv(r'../data/weather_cleaned_lag28.csv')"
   ]
  },
  {
   "cell_type": "code",
   "execution_count": 4,
   "id": "f3386312",
   "metadata": {},
   "outputs": [],
   "source": [
    "# Extract train from train/test\n",
    "# recommend to split sets by year as splitting by index is more prone to error\n",
    "\n",
    "lag7['date'] = pd.to_datetime(lag7['date'])\n",
    "lag7['year'] = lag7['date'].dt.year\n",
    "lag7_train = lag7.loc[lag7['year'].isin([2007, 2009, 2011, 2013]), :]"
   ]
  },
  {
   "cell_type": "code",
   "execution_count": 5,
   "id": "b0034c97",
   "metadata": {},
   "outputs": [
    {
     "name": "stderr",
     "output_type": "stream",
     "text": [
      "/var/folders/0t/nymtt02n1zqdc1ksr0n857bc0000gn/T/ipykernel_1434/503540313.py:6: SettingWithCopyWarning: \n",
      "A value is trying to be set on a copy of a slice from a DataFrame\n",
      "\n",
      "See the caveats in the documentation: https://pandas.pydata.org/pandas-docs/stable/user_guide/indexing.html#returning-a-view-versus-a-copy\n",
      "  lag7_train.drop(columns = ['nummosquitos','wnvcount',\n"
     ]
    }
   ],
   "source": [
    "# To drop ['nummosquitos', 'wnvcount',        # not available in test set\n",
    "#          'station',                         # already associated weather to each station\n",
    "#          'year',\n",
    "#          'codesum', 'species']              # will be dummied below\n",
    "\n",
    "lag7_train.drop(columns = ['nummosquitos','wnvcount',\n",
    "                           'station', 'year', 'codesum', 'species'],\n",
    "                axis=1,\n",
    "                inplace = True)"
   ]
  },
  {
   "cell_type": "code",
   "execution_count": 79,
   "id": "226abc2a",
   "metadata": {},
   "outputs": [],
   "source": [
    "def rf_weather_lag(df, lag_num, concat_df=None):\n",
    "    df = df.dropna()\n",
    "    X = df[[col for col in df.columns if (df[col].dtypes !='O') & \n",
    "                      (col not in ['date','block','addressaccuracy','nummosquitos','wnvcount','wnvpresent', 'station','species'])]]\n",
    "    y = df['wnvpresent']\n",
    "    \n",
    "    X_train, X_test, y_train, y_test = train_test_split(\n",
    "        X,\n",
    "        y,\n",
    "        stratify=y,\n",
    "        random_state=42\n",
    "    )\n",
    "    \n",
    "    ss = StandardScaler()\n",
    "    \n",
    "    X_train = ss.fit_transform(X_train)\n",
    "    X_test = ss.transform(X_test)\n",
    "    \n",
    "    rf = RandomForestClassifier(n_estimators=100)\n",
    "    \n",
    "    train_acc = cross_val_score(\n",
    "        rf,\n",
    "        X_train,\n",
    "        y_train,\n",
    "        cv=5\n",
    "    ).mean()\n",
    "    \n",
    "    test_acc = cross_val_score(\n",
    "        rf,\n",
    "        X_test,\n",
    "        y_test,\n",
    "        cv=5\n",
    "    ).mean()\n",
    "    \n",
    "    rf.fit(X_train, y_train)\n",
    "    \n",
    "    forest_predictions = rf.predict(X_test)\n",
    "    \n",
    "    tn, fp, fn, tp = confusion_matrix(y_test, forest_predictions).ravel()\n",
    "    \n",
    "    sensitivity = recall_score(y_test, forest_predictions)\n",
    "\n",
    "    specificity = (tn / (tn + fp))\n",
    "    \n",
    "    roc_auc = roc_auc_score(y_test, rf.predict_proba(X_test)[:,1])\n",
    "    \n",
    "    weather_dict = {\n",
    "        'weather_lag': lag_num, \n",
    "        'train_acc': [round(train_acc * 100, 2)], \n",
    "        'test_acc': [round(test_acc * 100, 2)], \n",
    "        'sensitivity': [round(sensitivity * 100, 2)], \n",
    "        'specificity': [round(specificity * 100, 2)],\n",
    "        'roc_auc_score': [round(roc_auc * 100, 2)]\n",
    "    }\n",
    "    \n",
    "    new_df = pd.DataFrame(weather_dict)\n",
    "    \n",
    "    if isinstance(concat_df, pd.DataFrame) == True:\n",
    "        final_df = pd.concat(\n",
    "            objs=[concat_df, new_df],\n",
    "            axis=0\n",
    "        )\n",
    "        final_df.reset_index(drop=True, inplace=True)\n",
    "        return final_df\n",
    "        \n",
    "    else:    \n",
    "        return new_df\n",
    "    "
   ]
  },
  {
   "cell_type": "code",
   "execution_count": 126,
   "id": "6639c1f1",
   "metadata": {},
   "outputs": [],
   "source": [
    "weather_lag_df = rf_weather_lag(lag0, 0)\n",
    "weather_lag_df = rf_weather_lag(lag2, 2, weather_lag_df)\n",
    "weather_lag_df = rf_weather_lag(lag3, 3, weather_lag_df)\n",
    "weather_lag_df = rf_weather_lag(lag5, 5, weather_lag_df)\n",
    "weather_lag_df = rf_weather_lag(lag7, 7, weather_lag_df)\n",
    "weather_lag_df = rf_weather_lag(lag14, 14, weather_lag_df)\n",
    "weather_lag_df = rf_weather_lag(lag21, 21, weather_lag_df)\n",
    "weather_lag_df = rf_weather_lag(lag28, 28, weather_lag_df)"
   ]
  },
  {
   "cell_type": "code",
   "execution_count": 127,
   "id": "9ffce7a8",
   "metadata": {
    "scrolled": true
   },
   "outputs": [
    {
     "data": {
      "text/html": [
       "<div>\n",
       "<style scoped>\n",
       "    .dataframe tbody tr th:only-of-type {\n",
       "        vertical-align: middle;\n",
       "    }\n",
       "\n",
       "    .dataframe tbody tr th {\n",
       "        vertical-align: top;\n",
       "    }\n",
       "\n",
       "    .dataframe thead th {\n",
       "        text-align: right;\n",
       "    }\n",
       "</style>\n",
       "<table border=\"1\" class=\"dataframe\">\n",
       "  <thead>\n",
       "    <tr style=\"text-align: right;\">\n",
       "      <th></th>\n",
       "      <th>weather_lag</th>\n",
       "      <th>train_acc</th>\n",
       "      <th>test_acc</th>\n",
       "      <th>sensitivity</th>\n",
       "      <th>specificity</th>\n",
       "      <th>roc_auc_score</th>\n",
       "    </tr>\n",
       "  </thead>\n",
       "  <tbody>\n",
       "    <tr>\n",
       "      <th>0</th>\n",
       "      <td>0</td>\n",
       "      <td>92.90</td>\n",
       "      <td>93.25</td>\n",
       "      <td>17.54</td>\n",
       "      <td>97.31</td>\n",
       "      <td>77.79</td>\n",
       "    </tr>\n",
       "    <tr>\n",
       "      <th>1</th>\n",
       "      <td>2</td>\n",
       "      <td>92.98</td>\n",
       "      <td>93.30</td>\n",
       "      <td>16.67</td>\n",
       "      <td>97.36</td>\n",
       "      <td>75.39</td>\n",
       "    </tr>\n",
       "    <tr>\n",
       "      <th>2</th>\n",
       "      <td>3</td>\n",
       "      <td>92.92</td>\n",
       "      <td>93.20</td>\n",
       "      <td>18.42</td>\n",
       "      <td>97.51</td>\n",
       "      <td>77.55</td>\n",
       "    </tr>\n",
       "    <tr>\n",
       "      <th>3</th>\n",
       "      <td>5</td>\n",
       "      <td>92.98</td>\n",
       "      <td>93.44</td>\n",
       "      <td>18.42</td>\n",
       "      <td>97.51</td>\n",
       "      <td>75.61</td>\n",
       "    </tr>\n",
       "    <tr>\n",
       "      <th>4</th>\n",
       "      <td>7</td>\n",
       "      <td>92.90</td>\n",
       "      <td>93.30</td>\n",
       "      <td>16.67</td>\n",
       "      <td>97.51</td>\n",
       "      <td>75.66</td>\n",
       "    </tr>\n",
       "    <tr>\n",
       "      <th>5</th>\n",
       "      <td>14</td>\n",
       "      <td>92.95</td>\n",
       "      <td>93.53</td>\n",
       "      <td>17.54</td>\n",
       "      <td>97.01</td>\n",
       "      <td>76.76</td>\n",
       "    </tr>\n",
       "    <tr>\n",
       "      <th>6</th>\n",
       "      <td>21</td>\n",
       "      <td>93.03</td>\n",
       "      <td>93.35</td>\n",
       "      <td>19.30</td>\n",
       "      <td>97.41</td>\n",
       "      <td>77.10</td>\n",
       "    </tr>\n",
       "    <tr>\n",
       "      <th>7</th>\n",
       "      <td>28</td>\n",
       "      <td>93.21</td>\n",
       "      <td>93.30</td>\n",
       "      <td>18.42</td>\n",
       "      <td>97.94</td>\n",
       "      <td>75.14</td>\n",
       "    </tr>\n",
       "  </tbody>\n",
       "</table>\n",
       "</div>"
      ],
      "text/plain": [
       "   weather_lag  train_acc  test_acc  sensitivity  specificity  roc_auc_score\n",
       "0            0      92.90     93.25        17.54        97.31          77.79\n",
       "1            2      92.98     93.30        16.67        97.36          75.39\n",
       "2            3      92.92     93.20        18.42        97.51          77.55\n",
       "3            5      92.98     93.44        18.42        97.51          75.61\n",
       "4            7      92.90     93.30        16.67        97.51          75.66\n",
       "5           14      92.95     93.53        17.54        97.01          76.76\n",
       "6           21      93.03     93.35        19.30        97.41          77.10\n",
       "7           28      93.21     93.30        18.42        97.94          75.14"
      ]
     },
     "execution_count": 127,
     "metadata": {},
     "output_type": "execute_result"
    }
   ],
   "source": [
    "weather_lag_df"
   ]
  },
  {
   "cell_type": "code",
   "execution_count": 5,
   "id": "df21ff6b",
   "metadata": {},
   "outputs": [],
   "source": [
    "def rf_2_weather_lag(df, lag_num, concat_df=None):\n",
    "    df = df.dropna()\n",
    "    X = df[[col for col in df.columns if (df[col].dtypes !='O') & \n",
    "                      (col not in ['date','block','addressaccuracy','nummosquitos','wnvcount','wnvpresent', 'station','species'])]]\n",
    "    y = df['wnvpresent']\n",
    "    \n",
    "    X_train, X_test, y_train, y_test = train_test_split(\n",
    "        X,\n",
    "        y,\n",
    "        stratify=y,\n",
    "        random_state=42\n",
    "    )\n",
    "    \n",
    "    ss = StandardScaler()\n",
    "    \n",
    "    X_train = ss.fit_transform(X_train)\n",
    "    X_test = ss.transform(X_test)\n",
    "    \n",
    "    \n",
    "    rf =  RandomForestClassifier(\n",
    "        n_estimators=1500,\n",
    "        ccp_alpha=0,\n",
    "        max_depth=10,\n",
    "        min_samples_split=5,\n",
    "        min_samples_leaf=5,\n",
    "        random_state=42,\n",
    "        class_weight='balanced_subsample')\n",
    "    \n",
    "    train_acc = cross_val_score(\n",
    "        rf,\n",
    "        X_train,\n",
    "        y_train,\n",
    "        cv=5\n",
    "    ).mean()\n",
    "    \n",
    "    test_acc = cross_val_score(\n",
    "        rf,\n",
    "        X_test,\n",
    "        y_test,\n",
    "        cv=5\n",
    "    ).mean()\n",
    "    \n",
    "    rf.fit(X_train, y_train)\n",
    "    \n",
    "    forest_predictions = rf.predict(X_test)\n",
    "    \n",
    "    tn, fp, fn, tp = confusion_matrix(y_test, forest_predictions).ravel()\n",
    "    \n",
    "    sensitivity = recall_score(y_test, forest_predictions)\n",
    "\n",
    "    specificity = (tn / (tn + fp))\n",
    "    \n",
    "    roc_auc = roc_auc_score(y_test, rf.predict_proba(X_test)[:,1])\n",
    "    \n",
    "    weather_dict = {\n",
    "        'weather_lag': lag_num, \n",
    "        'train_acc': [round(train_acc * 100, 2)], \n",
    "        'test_acc': [round(test_acc * 100, 2)], \n",
    "        'sensitivity': [round(sensitivity * 100, 2)], \n",
    "        'specificity': [round(specificity * 100, 2)],\n",
    "        'roc_auc_score': [round(roc_auc * 100, 2)]\n",
    "    }\n",
    "    \n",
    "    new_df = pd.DataFrame(weather_dict)\n",
    "    \n",
    "    if isinstance(concat_df, pd.DataFrame) == True:\n",
    "        final_df = pd.concat(\n",
    "            objs=[concat_df, new_df],\n",
    "            axis=0\n",
    "        )\n",
    "        final_df.reset_index(drop=True, inplace=True)\n",
    "        return final_df\n",
    "        \n",
    "    else:    \n",
    "        return new_df\n",
    "    "
   ]
  },
  {
   "cell_type": "code",
   "execution_count": null,
   "id": "bb57875f",
   "metadata": {},
   "outputs": [],
   "source": [
    "weather_lag_df2 = rf_2_weather_lag(lag0, 0)\n",
    "weather_lag_df2 = rf_2_weather_lag(lag2, 2, weather_lag_df2)\n",
    "weather_lag_df2 = rf_2_weather_lag(lag3, 3, weather_lag_df2)\n",
    "weather_lag_df2 = rf_2_weather_lag(lag5, 5, weather_lag_df2)\n",
    "weather_lag_df2 = rf_2_weather_lag(lag7, 7, weather_lag_df2)\n",
    "weather_lag_df2 = rf_2_weather_lag(lag14, 14, weather_lag_df2)\n",
    "weather_lag_df2 = rf_2_weather_lag(lag21, 21, weather_lag_df2)\n",
    "weather_lag_df2 = rf_2_weather_lag(lag28, 28, weather_lag_df2)"
   ]
  },
  {
   "cell_type": "code",
   "execution_count": null,
   "id": "aae0f934",
   "metadata": {},
   "outputs": [],
   "source": [
    "weather_lag_df2"
   ]
  },
  {
   "cell_type": "code",
   "execution_count": null,
   "id": "86a0e2a9",
   "metadata": {},
   "outputs": [],
   "source": []
  },
  {
   "cell_type": "markdown",
   "id": "295d75eb",
   "metadata": {},
   "source": [
    "# Recommended weather lag"
   ]
  },
  {
   "cell_type": "code",
   "execution_count": 8,
   "id": "41336ba6",
   "metadata": {},
   "outputs": [],
   "source": [
    "# weather lag(##) is best\n",
    "# to proceed to see which feature combination is best"
   ]
  },
  {
   "cell_type": "code",
   "execution_count": null,
   "id": "b2f98d38",
   "metadata": {},
   "outputs": [],
   "source": [
    "lag2 = pd.read_csv(r'../data/weather_cleaned_lag2.csv')"
   ]
  },
  {
   "cell_type": "code",
   "execution_count": null,
   "id": "87dc2c45",
   "metadata": {},
   "outputs": [],
   "source": [
    "lag2.columns"
   ]
  },
  {
   "cell_type": "code",
   "execution_count": 43,
   "id": "56caccc7",
   "metadata": {},
   "outputs": [
    {
     "data": {
      "text/plain": [
       "Index(['date', 'species', 'latitude', 'longitude', 'trap', 'nummosquitos',\n",
       "       'wnvpresent', 'wnvcount', 'station', 'tmax', 'tmin', 'tavg', 'dewpoint',\n",
       "       'wetbulb', 'heat', 'cool', 'codesum', 'preciptotal', 'stnpressure',\n",
       "       'sealevel', 'resultspeed', 'resultdir', 'avgspeed', 'month', 'sunrise',\n",
       "       'sunset', 'bcfg', 'br', 'dz', 'fg', 'fg+', 'fu', 'hz', 'mifg', 'ra',\n",
       "       'sn', 'sq', 'ts', 'tsra', 'vcts', 'gr', 'vcfg'],\n",
       "      dtype='object')"
      ]
     },
     "execution_count": 43,
     "metadata": {},
     "output_type": "execute_result"
    }
   ],
   "source": [
    "lag0.columns"
   ]
  },
  {
   "cell_type": "markdown",
   "id": "e8558843",
   "metadata": {},
   "source": [
    "# Identify traps which are hotspots"
   ]
  },
  {
   "cell_type": "code",
   "execution_count": 6,
   "id": "0d92e08c",
   "metadata": {},
   "outputs": [],
   "source": [
    "# import data\n",
    "\n",
    "merge_df = pd.read_csv('../data/merged_train.csv')\n",
    "\n",
    "# create time related features\n",
    "\n",
    "merge_df['date']=pd.to_datetime(merge_df['date'])\n",
    "merge_df['year'] = merge_df['date'].dt.year\n",
    "merge_df['month'] = merge_df['date'].dt.month\n",
    "merge_df['week'] = merge_df['date'].dt.isocalendar().week\n",
    "\n",
    "# subset required columns and rows\n",
    "betw_year = merge_df[['trap', 'year', 'wnvpresent', 'wnvcount']]\n",
    "betw_year = betw_year.loc[betw_year['wnvpresent']>0,:]           # only rows where wnv is present\n",
    "\n",
    "# Collapse by trap and year\n",
    "betw_year = betw_year.groupby(['trap', 'year'], as_index=False)[['wnvpresent', 'wnvcount']]\\\n",
    ".sum().sort_values(['year','wnvpresent'], ascending=False)"
   ]
  },
  {
   "cell_type": "code",
   "execution_count": 7,
   "id": "2c309b1c",
   "metadata": {},
   "outputs": [
    {
     "data": {
      "text/html": [
       "<div>\n",
       "<style scoped>\n",
       "    .dataframe tbody tr th:only-of-type {\n",
       "        vertical-align: middle;\n",
       "    }\n",
       "\n",
       "    .dataframe tbody tr th {\n",
       "        vertical-align: top;\n",
       "    }\n",
       "\n",
       "    .dataframe thead th {\n",
       "        text-align: right;\n",
       "    }\n",
       "</style>\n",
       "<table border=\"1\" class=\"dataframe\">\n",
       "  <thead>\n",
       "    <tr style=\"text-align: right;\">\n",
       "      <th></th>\n",
       "      <th>wnvpresent</th>\n",
       "    </tr>\n",
       "    <tr>\n",
       "      <th>year</th>\n",
       "      <th></th>\n",
       "    </tr>\n",
       "  </thead>\n",
       "  <tbody>\n",
       "    <tr>\n",
       "      <th>2007</th>\n",
       "      <td>189.0</td>\n",
       "    </tr>\n",
       "    <tr>\n",
       "      <th>2009</th>\n",
       "      <td>19.0</td>\n",
       "    </tr>\n",
       "    <tr>\n",
       "      <th>2011</th>\n",
       "      <td>50.0</td>\n",
       "    </tr>\n",
       "    <tr>\n",
       "      <th>2013</th>\n",
       "      <td>199.0</td>\n",
       "    </tr>\n",
       "  </tbody>\n",
       "</table>\n",
       "</div>"
      ],
      "text/plain": [
       "      wnvpresent\n",
       "year            \n",
       "2007       189.0\n",
       "2009        19.0\n",
       "2011        50.0\n",
       "2013       199.0"
      ]
     },
     "execution_count": 7,
     "metadata": {},
     "output_type": "execute_result"
    }
   ],
   "source": [
    "# Is there a consistent wave of WNV in each year?\n",
    "\n",
    "betw_year.groupby('year')[['wnvpresent']].sum()"
   ]
  },
  {
   "cell_type": "markdown",
   "id": "b0e01f0d",
   "metadata": {},
   "source": [
    "No, mosquitos thrive in specific years, probably due to favourable conditions in 2007 and 2013 but not in 2009 and 2011. No need to model these as the effects will be taken care of by the weather variables"
   ]
  },
  {
   "cell_type": "code",
   "execution_count": 8,
   "id": "c9573cfe",
   "metadata": {},
   "outputs": [
    {
     "name": "stderr",
     "output_type": "stream",
     "text": [
      "C:\\Users\\User\\AppData\\Local\\Temp/ipykernel_24512/1500054444.py:6: FutureWarning: Indexing with multiple keys (implicitly converted to a tuple of keys) will be deprecated, use a list instead.\n",
      "  betw_year.groupby(['trap'])['wnvpresent', 'years_wnvp'].sum()\\\n"
     ]
    },
    {
     "data": {
      "text/plain": [
       "years_wnvp\n",
       "1             51\n",
       "2             26\n",
       "3             16\n",
       "4              4\n",
       "dtype: int64"
      ]
     },
     "execution_count": 8,
     "metadata": {},
     "output_type": "execute_result"
    }
   ],
   "source": [
    "# Are mosquitos always found in the same location? \n",
    "# IE MOSQUITOS THRIVE IN SPECIFIC LOCATIONS Reardless of year on year changes\n",
    "\n",
    "betw_year['years_wnvp'] = betw_year['wnvpresent'].map(lambda x: 1 if x >0 else 0)\n",
    "\n",
    "betw_year.groupby(['trap'])['wnvpresent', 'years_wnvp'].sum()\\\n",
    ".sort_values('years_wnvp', ascending=False)[['years_wnvp']].value_counts()\n"
   ]
  },
  {
   "cell_type": "markdown",
   "id": "4f098e6c",
   "metadata": {},
   "source": [
    "Not exactly, while there are some traps that have wnvpresent in more than one year, more than half of the traps have wnvpresent only in that year."
   ]
  },
  {
   "cell_type": "code",
   "execution_count": 9,
   "id": "b9513b49",
   "metadata": {},
   "outputs": [],
   "source": [
    "inter_year = betw_year.pivot(index='trap', columns='year', values=['wnvpresent'])\n",
    "inter_year.fillna(0, inplace=True)"
   ]
  },
  {
   "cell_type": "code",
   "execution_count": 10,
   "id": "4045a949",
   "metadata": {},
   "outputs": [],
   "source": [
    "# positive traps in 2007\n",
    "ptrap_2007 = betw_year.loc[betw_year['year']==2007, 'trap']\n",
    "ptrap_2009 = betw_year.loc[betw_year['year']==2009, 'trap']\n",
    "ptrap_2011 = betw_year.loc[betw_year['year']==2011, 'trap']\n",
    "ptrap_2013 = betw_year.loc[betw_year['year']==2013, 'trap']\n",
    "\n",
    "ptrap_2007 = set(ptrap_2007)\n",
    "ptrap_2009 = set(ptrap_2009)\n",
    "ptrap_2011 = set(ptrap_2011)\n",
    "ptrap_2013 = set(ptrap_2013)"
   ]
  },
  {
   "cell_type": "code",
   "execution_count": 11,
   "id": "3cf3aa83",
   "metadata": {},
   "outputs": [
    {
     "data": {
      "text/plain": [
       "{'T002', 'T090', 'T095', 'T158'}"
      ]
     },
     "execution_count": 11,
     "metadata": {},
     "output_type": "execute_result"
    }
   ],
   "source": [
    "ptrap_2007.intersection(ptrap_2009, ptrap_2011, ptrap_2013)"
   ]
  },
  {
   "cell_type": "code",
   "execution_count": 12,
   "id": "38786ed8",
   "metadata": {},
   "outputs": [
    {
     "data": {
      "text/plain": [
       "33"
      ]
     },
     "execution_count": 12,
     "metadata": {},
     "output_type": "execute_result"
    }
   ],
   "source": [
    "ptrap_2007_2013 = ptrap_2007.intersection(ptrap_2013)\n",
    "len(ptrap_2007_2013)"
   ]
  },
  {
   "cell_type": "code",
   "execution_count": null,
   "id": "c43c604d",
   "metadata": {},
   "outputs": [],
   "source": []
  },
  {
   "cell_type": "markdown",
   "id": "8ba5c3d7",
   "metadata": {},
   "source": [
    "# Groupings"
   ]
  },
  {
   "cell_type": "markdown",
   "id": "77881c0a",
   "metadata": {},
   "source": [
    "Across years: Appear in \n",
    "    at least 3 of 4 years (20 traps) ay_3of4\n",
    "    at least 2 of 4 years (46 traps) ay_2of4\n",
    "\n",
    "Across years: wnvpresent \n",
    "    > wnvpresent 8 times (17 traps) ay_8nabov\n",
    "    > wnvpresent 6 times (25 traps) ay_6nabov    \n",
    "\n",
    "Within years: wnvpresent at least 4\n",
    "2007 (19 traps) wy_2007_4nabv\n",
    "2009 (0 traps)  0\n",
    "2011 (3 traps)  wy_2011_4nabv\n",
    "2013 (22 traps) wy_2013_4nabv\n",
    "\n",
    "\n",
    "Within years: wnvpresent at least 3\n",
    "2007 (27 traps) wy_2007_3nabv\n",
    "2009 (0 traps)  0\n",
    "2011 (4 traps)  wy_2011_3nabv\n",
    "2013 (33 traps) wy_2013_3nabv"
   ]
  },
  {
   "cell_type": "markdown",
   "id": "0bd068ad",
   "metadata": {},
   "source": [
    "# Across years: frequency of appearance across years"
   ]
  },
  {
   "cell_type": "markdown",
   "id": "dc16f683",
   "metadata": {},
   "source": [
    "Across years: Appear in \n",
    "    at least 3 of 4 years (20 traps) ay_3of4\n",
    "    at least 2 of 4 years (46 traps) ay_2of4"
   ]
  },
  {
   "cell_type": "code",
   "execution_count": 13,
   "id": "d3ba3f40",
   "metadata": {},
   "outputs": [
    {
     "name": "stderr",
     "output_type": "stream",
     "text": [
      "C:\\Users\\User\\AppData\\Local\\Temp/ipykernel_24512/2786419457.py:1: FutureWarning: Indexing with multiple keys (implicitly converted to a tuple of keys) will be deprecated, use a list instead.\n",
      "  ay = betw_year.groupby(['trap'])['wnvpresent', 'years_wnvp'].sum()\\\n"
     ]
    },
    {
     "data": {
      "text/html": [
       "<div>\n",
       "<style scoped>\n",
       "    .dataframe tbody tr th:only-of-type {\n",
       "        vertical-align: middle;\n",
       "    }\n",
       "\n",
       "    .dataframe tbody tr th {\n",
       "        vertical-align: top;\n",
       "    }\n",
       "\n",
       "    .dataframe thead th {\n",
       "        text-align: right;\n",
       "    }\n",
       "</style>\n",
       "<table border=\"1\" class=\"dataframe\">\n",
       "  <thead>\n",
       "    <tr style=\"text-align: right;\">\n",
       "      <th></th>\n",
       "      <th>wnvpresent</th>\n",
       "      <th>years_wnvp</th>\n",
       "    </tr>\n",
       "    <tr>\n",
       "      <th>trap</th>\n",
       "      <th></th>\n",
       "      <th></th>\n",
       "    </tr>\n",
       "  </thead>\n",
       "  <tbody>\n",
       "    <tr>\n",
       "      <th>T002</th>\n",
       "      <td>15.0</td>\n",
       "      <td>4</td>\n",
       "    </tr>\n",
       "    <tr>\n",
       "      <th>T090</th>\n",
       "      <td>7.0</td>\n",
       "      <td>4</td>\n",
       "    </tr>\n",
       "    <tr>\n",
       "      <th>T095</th>\n",
       "      <td>5.0</td>\n",
       "      <td>4</td>\n",
       "    </tr>\n",
       "    <tr>\n",
       "      <th>T158</th>\n",
       "      <td>5.0</td>\n",
       "      <td>4</td>\n",
       "    </tr>\n",
       "    <tr>\n",
       "      <th>T028</th>\n",
       "      <td>9.0</td>\n",
       "      <td>3</td>\n",
       "    </tr>\n",
       "  </tbody>\n",
       "</table>\n",
       "</div>"
      ],
      "text/plain": [
       "      wnvpresent  years_wnvp\n",
       "trap                        \n",
       "T002        15.0           4\n",
       "T090         7.0           4\n",
       "T095         5.0           4\n",
       "T158         5.0           4\n",
       "T028         9.0           3"
      ]
     },
     "execution_count": 13,
     "metadata": {},
     "output_type": "execute_result"
    }
   ],
   "source": [
    "ay = betw_year.groupby(['trap'])['wnvpresent', 'years_wnvp'].sum()\\\n",
    ".sort_values('years_wnvp', ascending=False)\n",
    "ay[:5]"
   ]
  },
  {
   "cell_type": "code",
   "execution_count": 14,
   "id": "f93fc2e1",
   "metadata": {},
   "outputs": [
    {
     "data": {
      "text/plain": [
       "Index(['T002', 'T090', 'T095', 'T158', 'T028', 'T003', 'T114', 'T115', 'T151',\n",
       "       'T039', 'T031', 'T073', 'T011', 'T225', 'T900', 'T013', 'T230', 'T008',\n",
       "       'T221', 'T009'],\n",
       "      dtype='object', name='trap')"
      ]
     },
     "execution_count": 14,
     "metadata": {},
     "output_type": "execute_result"
    }
   ],
   "source": [
    "ay_3of4 = ay.loc[ay['years_wnvp']>2,:].index\n",
    "ay_3of4"
   ]
  },
  {
   "cell_type": "code",
   "execution_count": 15,
   "id": "6c73c138",
   "metadata": {},
   "outputs": [
    {
     "data": {
      "text/plain": [
       "Index(['T002', 'T090', 'T095', 'T158', 'T028', 'T003', 'T114', 'T115', 'T151',\n",
       "       'T039', 'T031', 'T073', 'T011', 'T225', 'T900', 'T013', 'T230', 'T008',\n",
       "       'T221', 'T009', 'T102', 'T081', 'T082', 'T083', 'T089', 'T094', 'T220',\n",
       "       'T128', 'T135', 'T228', 'T152', 'T080', 'T159', 'T223', 'T160', 'T155',\n",
       "       'T903', 'T035', 'T065', 'T048', 'T027', 'T061', 'T012', 'T063', 'T066',\n",
       "       'T033'],\n",
       "      dtype='object', name='trap')"
      ]
     },
     "execution_count": 15,
     "metadata": {},
     "output_type": "execute_result"
    }
   ],
   "source": [
    "ay_2of4 = ay.loc[ay['years_wnvp']>1,:].index\n",
    "ay_2of4"
   ]
  },
  {
   "cell_type": "markdown",
   "id": "64b1f410",
   "metadata": {},
   "source": [
    "# Across years: no of positive traps across years"
   ]
  },
  {
   "cell_type": "markdown",
   "id": "0f6069d2",
   "metadata": {},
   "source": [
    "Across years: wnvpresent \n",
    "    > wnvpresent 8 times (17 traps) ay_8nabov\n",
    "    > wnvpresent 6 times (25 traps) ay_6nabov"
   ]
  },
  {
   "cell_type": "code",
   "execution_count": 16,
   "id": "c03dc8b4",
   "metadata": {},
   "outputs": [
    {
     "data": {
      "text/html": [
       "<div>\n",
       "<style scoped>\n",
       "    .dataframe tbody tr th:only-of-type {\n",
       "        vertical-align: middle;\n",
       "    }\n",
       "\n",
       "    .dataframe tbody tr th {\n",
       "        vertical-align: top;\n",
       "    }\n",
       "\n",
       "    .dataframe thead th {\n",
       "        text-align: right;\n",
       "    }\n",
       "</style>\n",
       "<table border=\"1\" class=\"dataframe\">\n",
       "  <thead>\n",
       "    <tr style=\"text-align: right;\">\n",
       "      <th></th>\n",
       "      <th>wnvpresent</th>\n",
       "    </tr>\n",
       "    <tr>\n",
       "      <th>trap</th>\n",
       "      <th></th>\n",
       "    </tr>\n",
       "  </thead>\n",
       "  <tbody>\n",
       "    <tr>\n",
       "      <th>T900</th>\n",
       "      <td>29.0</td>\n",
       "    </tr>\n",
       "    <tr>\n",
       "      <th>T002</th>\n",
       "      <td>15.0</td>\n",
       "    </tr>\n",
       "    <tr>\n",
       "      <th>T115</th>\n",
       "      <td>15.0</td>\n",
       "    </tr>\n",
       "    <tr>\n",
       "      <th>T003</th>\n",
       "      <td>14.0</td>\n",
       "    </tr>\n",
       "    <tr>\n",
       "      <th>T225</th>\n",
       "      <td>11.0</td>\n",
       "    </tr>\n",
       "  </tbody>\n",
       "</table>\n",
       "</div>"
      ],
      "text/plain": [
       "      wnvpresent\n",
       "trap            \n",
       "T900        29.0\n",
       "T002        15.0\n",
       "T115        15.0\n",
       "T003        14.0\n",
       "T225        11.0"
      ]
     },
     "execution_count": 16,
     "metadata": {},
     "output_type": "execute_result"
    }
   ],
   "source": [
    "ay_c = betw_year.groupby(['trap'])['wnvpresent',].sum()\\\n",
    ".sort_values('wnvpresent', ascending=False)\n",
    "\n",
    "ay_c.head()"
   ]
  },
  {
   "cell_type": "code",
   "execution_count": 17,
   "id": "203bff97",
   "metadata": {},
   "outputs": [
    {
     "data": {
      "text/plain": [
       "Index(['T900', 'T002', 'T115', 'T003', 'T225', 'T011', 'T013', 'T028', 'T223',\n",
       "       'T138', 'T114', 'T903', 'T008', 'T009', 'T061', 'T082', 'T135'],\n",
       "      dtype='object', name='trap')"
      ]
     },
     "execution_count": 17,
     "metadata": {},
     "output_type": "execute_result"
    }
   ],
   "source": [
    "ay_8nabov = ay_c.loc[ay['wnvpresent']>7,:].index\n",
    "ay_8nabov"
   ]
  },
  {
   "cell_type": "code",
   "execution_count": 18,
   "id": "7c921d16",
   "metadata": {},
   "outputs": [
    {
     "data": {
      "text/plain": [
       "Index(['T900', 'T002', 'T115', 'T003', 'T225', 'T011', 'T013', 'T028', 'T223',\n",
       "       'T138', 'T114', 'T903', 'T008', 'T009', 'T061', 'T082', 'T135', 'T027',\n",
       "       'T030', 'T090', 'T235', 'T086', 'T230', 'T221', 'T128', 'T066', 'T151',\n",
       "       'T155', 'T228', 'T233'],\n",
       "      dtype='object', name='trap')"
      ]
     },
     "execution_count": 18,
     "metadata": {},
     "output_type": "execute_result"
    }
   ],
   "source": [
    "ay_6nabov = ay_c.loc[ay['wnvpresent']>5,:].index\n",
    "ay_6nabov"
   ]
  },
  {
   "cell_type": "markdown",
   "id": "53a8dc8f",
   "metadata": {},
   "source": [
    "# Within years: wnvpresent (at least 4)"
   ]
  },
  {
   "cell_type": "markdown",
   "id": "dfd4ba84",
   "metadata": {},
   "source": [
    "Within years: wnvpresent at least 4\n",
    "2007 (19 traps) wy_2007_4nabv\n",
    "2009 (0 traps)  0\n",
    "2011 (3 traps)  wy_2011_4nabv\n",
    "2013 (22 traps) wy_2013_4nabv"
   ]
  },
  {
   "cell_type": "code",
   "execution_count": null,
   "id": "193b6ae0",
   "metadata": {},
   "outputs": [],
   "source": []
  },
  {
   "cell_type": "code",
   "execution_count": 19,
   "id": "d30d1a88",
   "metadata": {},
   "outputs": [],
   "source": [
    "wy_2007_4nabv = betw_year.loc[(betw_year['year']==2007) & (betw_year['wnvcount']>3), 'trap']\n",
    "wy_2009_4nabv = betw_year.loc[(betw_year['year']==2009) & (betw_year['wnvcount']>3), 'trap']\n",
    "wy_2011_4nabv = betw_year.loc[(betw_year['year']==2011) & (betw_year['wnvcount']>3), 'trap']\n",
    "wy_2013_4nabv = betw_year.loc[(betw_year['year']==2013) & (betw_year['wnvcount']>3), 'trap']"
   ]
  },
  {
   "cell_type": "code",
   "execution_count": null,
   "id": "fa3827f6",
   "metadata": {},
   "outputs": [],
   "source": []
  },
  {
   "cell_type": "markdown",
   "id": "2b717b4b",
   "metadata": {},
   "source": [
    "# Within years: wnvpresent (at least 4)"
   ]
  },
  {
   "cell_type": "markdown",
   "id": "40fd3e4f",
   "metadata": {},
   "source": [
    "Within years: wnvpresent at least 3\n",
    "2007 (27 traps) wy_2007_3nabv\n",
    "2009 (0 traps)  0\n",
    "2011 (4 traps)  wy_2011_3nabv\n",
    "2013 (33 traps) wy_2013_3nabv"
   ]
  },
  {
   "cell_type": "code",
   "execution_count": 20,
   "id": "099e2a08",
   "metadata": {},
   "outputs": [],
   "source": [
    "wy_2007_3nabv = betw_year.loc[(betw_year['year']==2007) & (betw_year['wnvcount']>2), 'trap']\n",
    "wy_2009_3nabv = betw_year.loc[(betw_year['year']==2009) & (betw_year['wnvcount']>2), 'trap']\n",
    "wy_2011_3nabv = betw_year.loc[(betw_year['year']==2011) & (betw_year['wnvcount']>2), 'trap']\n",
    "wy_2013_3nabv = betw_year.loc[(betw_year['year']==2013) & (betw_year['wnvcount']>2), 'trap']"
   ]
  },
  {
   "cell_type": "code",
   "execution_count": null,
   "id": "fee4898b",
   "metadata": {},
   "outputs": [],
   "source": []
  },
  {
   "cell_type": "markdown",
   "id": "658eaa92",
   "metadata": {},
   "source": [
    "# Create groups"
   ]
  },
  {
   "cell_type": "code",
   "execution_count": 21,
   "id": "348eaf3f",
   "metadata": {},
   "outputs": [
    {
     "data": {
      "text/plain": [
       "46"
      ]
     },
     "execution_count": 21,
     "metadata": {},
     "output_type": "execute_result"
    }
   ],
   "source": [
    "group_1 = list(ay_8nabov)\n",
    "group_1.extend(ay_3of4)\n",
    "group_1.extend(wy_2007_4nabv)\n",
    "group_1.extend(wy_2011_4nabv)\n",
    "group_1.extend(wy_2013_4nabv)\n",
    "len(list(set(group_1)))"
   ]
  },
  {
   "cell_type": "code",
   "execution_count": 22,
   "id": "b7d106c8",
   "metadata": {},
   "outputs": [
    {
     "data": {
      "text/plain": [
       "57"
      ]
     },
     "execution_count": 22,
     "metadata": {},
     "output_type": "execute_result"
    }
   ],
   "source": [
    "group_2 = list(ay_6nabov)\n",
    "group_2.extend(ay_3of4)\n",
    "group_2.extend(wy_2007_3nabv)\n",
    "group_2.extend(wy_2011_3nabv)\n",
    "group_2.extend(wy_2013_3nabv)\n",
    "len(list(set(group_2)))"
   ]
  },
  {
   "cell_type": "code",
   "execution_count": 23,
   "id": "5952979c",
   "metadata": {},
   "outputs": [
    {
     "data": {
      "text/plain": [
       "68"
      ]
     },
     "execution_count": 23,
     "metadata": {},
     "output_type": "execute_result"
    }
   ],
   "source": [
    "group_3 = list(ay_6nabov)\n",
    "group_3.extend(ay_2of4)\n",
    "group_3.extend(wy_2007_3nabv)\n",
    "group_3.extend(wy_2011_3nabv)\n",
    "group_3.extend(wy_2013_3nabv)\n",
    "len(list(set(group_3)))"
   ]
  },
  {
   "cell_type": "code",
   "execution_count": null,
   "id": "6c2445ca",
   "metadata": {},
   "outputs": [],
   "source": []
  },
  {
   "cell_type": "markdown",
   "id": "a7a41af2",
   "metadata": {},
   "source": [
    "# ADD new df here\n",
    "to merge on\n",
    "latitude longtitude\n",
    "species\n",
    "date\n",
    "trap"
   ]
  },
  {
   "cell_type": "code",
   "execution_count": null,
   "id": "5e3fcf36",
   "metadata": {},
   "outputs": [],
   "source": []
  },
  {
   "cell_type": "code",
   "execution_count": 24,
   "id": "ac83f8f5",
   "metadata": {},
   "outputs": [],
   "source": [
    "# read in data\n",
    "train_merged = pd.read_csv('../data/merged_train.csv')"
   ]
  },
  {
   "cell_type": "code",
   "execution_count": 25,
   "id": "7a45941f",
   "metadata": {},
   "outputs": [
    {
     "data": {
      "text/plain": [
       "Index(['date', 'species', 'latitude', 'longitude', 'trap', 'nummosquitos',\n",
       "       'wnvpresent', 'wnvcount', 'station', 'tmax', 'tmin', 'tavg', 'dewpoint',\n",
       "       'wetbulb', 'heat', 'cool', 'codesum', 'preciptotal', 'stnpressure',\n",
       "       'sealevel', 'resultspeed', 'resultdir', 'avgspeed', 'month', 'sunrise',\n",
       "       'sunset', 'bcfg', 'br', 'dz', 'fg', 'fg+', 'fu', 'hz', 'mifg', 'ra',\n",
       "       'sn', 'sq', 'ts', 'tsra', 'vcts', 'gr', 'vcfg', 'sprayed'],\n",
       "      dtype='object')"
      ]
     },
     "execution_count": 25,
     "metadata": {},
     "output_type": "execute_result"
    }
   ],
   "source": [
    "train_merged.columns"
   ]
  },
  {
   "cell_type": "code",
   "execution_count": 26,
   "id": "67b299c5",
   "metadata": {},
   "outputs": [],
   "source": [
    "# extract required columns\n",
    "train_fe = train_merged[['date', 'species', 'latitude',\n",
    "                         'longitude', 'trap', 'wnvpresent']].copy()"
   ]
  },
  {
   "cell_type": "code",
   "execution_count": 27,
   "id": "23deab1a",
   "metadata": {},
   "outputs": [],
   "source": [
    "# from the previous EDA we understand that \n",
    "# certain species are more likely to have wnv\n",
    "# certain weeks of the month are more likely to have wnv"
   ]
  },
  {
   "cell_type": "code",
   "execution_count": 28,
   "id": "60aa2f01",
   "metadata": {},
   "outputs": [],
   "source": [
    "# Custom dummy coding for species\n",
    "train_fe['CULEX PIPIENS/RESTUANS'] = train_fe['species'].map(lambda x: 1 if x == 'CULEX PIPIENS/RESTUANS' else 0)\n",
    "train_fe['CULEX PIPIENS'] = train_fe['species'].map(lambda x: 1 if x == 'CULEX PIPIENS' else 0)\n",
    "train_fe['CULEX RESTUANS'] = train_fe['species'].map(lambda x: 1 if x == 'CULEX RESTUANS' else 0)"
   ]
  },
  {
   "cell_type": "code",
   "execution_count": 29,
   "id": "1f9c4640",
   "metadata": {},
   "outputs": [],
   "source": [
    "# create week variable\n",
    "train_fe['date'] = pd.to_datetime(train_fe['date'])\n",
    "train_fe['week'] = train_fe['date'].dt.isocalendar().week"
   ]
  },
  {
   "cell_type": "code",
   "execution_count": 30,
   "id": "2a0ece53",
   "metadata": {},
   "outputs": [
    {
     "data": {
      "text/plain": [
       "week\n",
       "22      0.0\n",
       "23      0.0\n",
       "24      0.0\n",
       "25      0.0\n",
       "26      1.0\n",
       "27      0.0\n",
       "28      7.0\n",
       "29     15.0\n",
       "30     16.0\n",
       "31     39.0\n",
       "32     54.0\n",
       "33     66.0\n",
       "34    107.0\n",
       "35     47.0\n",
       "36     44.0\n",
       "37     34.0\n",
       "38     19.0\n",
       "39      6.0\n",
       "40      2.0\n",
       "41      0.0\n",
       "Name: wnvpresent, dtype: float64"
      ]
     },
     "execution_count": 30,
     "metadata": {},
     "output_type": "execute_result"
    }
   ],
   "source": [
    "# Custom dummy coding for week\n",
    "\n",
    "train_fe.groupby('week')['wnvpresent'].sum()"
   ]
  },
  {
   "cell_type": "code",
   "execution_count": 31,
   "id": "46e541e2",
   "metadata": {},
   "outputs": [],
   "source": [
    "train_fe = pd.get_dummies(train_fe, columns=['week'], drop_first=False)\n",
    "\n",
    "train_fe.drop(columns=['week_22', 'week_23', 'week_24', 'week_25', \n",
    "                            'week_26', 'week_27', 'week_40', 'week_41'],\n",
    "                  axis=1,\n",
    "                  inplace=True)"
   ]
  },
  {
   "cell_type": "code",
   "execution_count": 32,
   "id": "e30399e5",
   "metadata": {},
   "outputs": [],
   "source": [
    "train_fe['trap_d'] = train_fe['trap']\n",
    "train_fe = pd.get_dummies(train_fe, columns=['trap'])\n",
    "train_fe.rename(columns = {'trap_d':'trap'}, inplace = True)\n",
    "col_wo_trap = train_fe.columns[:53]"
   ]
  },
  {
   "cell_type": "code",
   "execution_count": 33,
   "id": "1e9ed2e8",
   "metadata": {},
   "outputs": [
    {
     "data": {
      "text/plain": [
       "(8475, 136)"
      ]
     },
     "execution_count": 33,
     "metadata": {},
     "output_type": "execute_result"
    }
   ],
   "source": [
    "g1 = ['trap_' + x for x in group_1]\n",
    "g1_others = list(col_wo_trap)\n",
    "g1_others.extend(g1)\n",
    "train_fe_g1 = train_fe[g1_others]\n",
    "train_fe_g1.shape"
   ]
  },
  {
   "cell_type": "code",
   "execution_count": 34,
   "id": "de1a3b43",
   "metadata": {},
   "outputs": [
    {
     "data": {
      "text/plain": [
       "(8475, 170)"
      ]
     },
     "execution_count": 34,
     "metadata": {},
     "output_type": "execute_result"
    }
   ],
   "source": [
    "g2 = ['trap_' + x for x in group_2]\n",
    "g2_others = list(col_wo_trap)\n",
    "g2_others.extend(g2)\n",
    "train_fe_g2 = train_fe[g2_others]\n",
    "train_fe_g2.shape"
   ]
  },
  {
   "cell_type": "code",
   "execution_count": 35,
   "id": "d7768a16",
   "metadata": {},
   "outputs": [
    {
     "data": {
      "text/plain": [
       "(8475, 196)"
      ]
     },
     "execution_count": 35,
     "metadata": {},
     "output_type": "execute_result"
    }
   ],
   "source": [
    "g3 = ['trap_' + x for x in group_3]\n",
    "g3_others = list(col_wo_trap)\n",
    "g3_others.extend(g3)\n",
    "train_fe_g3 = train_fe[g3_others]\n",
    "train_fe_g3.shape"
   ]
  },
  {
   "cell_type": "markdown",
   "id": "dd7a067e",
   "metadata": {},
   "source": [
    "# Merge"
   ]
  },
  {
   "cell_type": "code",
   "execution_count": 40,
   "id": "3a296be0",
   "metadata": {},
   "outputs": [
    {
     "data": {
      "text/plain": [
       "(124768, 42)"
      ]
     },
     "execution_count": 40,
     "metadata": {},
     "output_type": "execute_result"
    }
   ],
   "source": [
    "lag2.shape"
   ]
  },
  {
   "cell_type": "code",
   "execution_count": 41,
   "id": "cd602ee8",
   "metadata": {},
   "outputs": [
    {
     "data": {
      "text/plain": [
       "(8475, 136)"
      ]
     },
     "execution_count": 41,
     "metadata": {},
     "output_type": "execute_result"
    }
   ],
   "source": [
    "train_fe_g1.shape"
   ]
  },
  {
   "cell_type": "code",
   "execution_count": 43,
   "id": "b3e8ba7a",
   "metadata": {},
   "outputs": [],
   "source": [
    "lag2['date'] = pd.to_datetime(lag2['date'])\n",
    "lag2_g1 = lag2.copy()\n",
    "\n",
    "lag2_g1 = lag2_g1.merge(train_fe_g1, how='left',\n",
    "                             on=['date', 'species', 'latitude',\n",
    "                                 'longitude', 'wnvpresent', 'trap'],\n",
    "                            )"
   ]
  },
  {
   "cell_type": "code",
   "execution_count": 44,
   "id": "f343ae72",
   "metadata": {},
   "outputs": [
    {
     "data": {
      "text/plain": [
       "(124768, 172)"
      ]
     },
     "execution_count": 44,
     "metadata": {},
     "output_type": "execute_result"
    }
   ],
   "source": [
    "lag2_g1.shape"
   ]
  },
  {
   "cell_type": "code",
   "execution_count": null,
   "id": "4c7a7de3",
   "metadata": {},
   "outputs": [],
   "source": []
  },
  {
   "cell_type": "code",
   "execution_count": 49,
   "id": "f4fdd7a7",
   "metadata": {},
   "outputs": [],
   "source": [
    "weather_lag_df = rf_weather_lag(lag0, 0)\n",
    "weather_lag_df = rf_weather_lag(lag2, 2, weather_lag_df)"
   ]
  },
  {
   "cell_type": "code",
   "execution_count": 50,
   "id": "ffd479d8",
   "metadata": {},
   "outputs": [
    {
     "data": {
      "text/html": [
       "<div>\n",
       "<style scoped>\n",
       "    .dataframe tbody tr th:only-of-type {\n",
       "        vertical-align: middle;\n",
       "    }\n",
       "\n",
       "    .dataframe tbody tr th {\n",
       "        vertical-align: top;\n",
       "    }\n",
       "\n",
       "    .dataframe thead th {\n",
       "        text-align: right;\n",
       "    }\n",
       "</style>\n",
       "<table border=\"1\" class=\"dataframe\">\n",
       "  <thead>\n",
       "    <tr style=\"text-align: right;\">\n",
       "      <th></th>\n",
       "      <th>weather_lag</th>\n",
       "      <th>train_acc</th>\n",
       "      <th>test_acc</th>\n",
       "      <th>sensitivity</th>\n",
       "      <th>specificity</th>\n",
       "      <th>roc_auc_score</th>\n",
       "    </tr>\n",
       "  </thead>\n",
       "  <tbody>\n",
       "    <tr>\n",
       "      <th>0</th>\n",
       "      <td>0</td>\n",
       "      <td>92.94</td>\n",
       "      <td>93.44</td>\n",
       "      <td>16.67</td>\n",
       "      <td>97.51</td>\n",
       "      <td>77.03</td>\n",
       "    </tr>\n",
       "    <tr>\n",
       "      <th>1</th>\n",
       "      <td>2</td>\n",
       "      <td>93.00</td>\n",
       "      <td>93.30</td>\n",
       "      <td>14.04</td>\n",
       "      <td>97.51</td>\n",
       "      <td>76.51</td>\n",
       "    </tr>\n",
       "  </tbody>\n",
       "</table>\n",
       "</div>"
      ],
      "text/plain": [
       "   weather_lag  train_acc  test_acc  sensitivity  specificity  roc_auc_score\n",
       "0            0      92.94     93.44        16.67        97.51          77.03\n",
       "1            2      93.00     93.30        14.04        97.51          76.51"
      ]
     },
     "execution_count": 50,
     "metadata": {},
     "output_type": "execute_result"
    }
   ],
   "source": [
    "weather_lag_df"
   ]
  },
  {
   "cell_type": "code",
   "execution_count": 80,
   "id": "136af86e",
   "metadata": {},
   "outputs": [],
   "source": [
    "weather_lag_df = rf_weather_lag(lag2_g1, 2, weather_lag_df)"
   ]
  },
  {
   "cell_type": "code",
   "execution_count": null,
   "id": "a7a05b24",
   "metadata": {},
   "outputs": [],
   "source": []
  },
  {
   "cell_type": "code",
   "execution_count": 71,
   "id": "3f010c60",
   "metadata": {},
   "outputs": [],
   "source": [
    "df = lag2.copy()"
   ]
  },
  {
   "cell_type": "code",
   "execution_count": 53,
   "id": "76cc4bed",
   "metadata": {},
   "outputs": [
    {
     "data": {
      "text/html": [
       "<div>\n",
       "<style scoped>\n",
       "    .dataframe tbody tr th:only-of-type {\n",
       "        vertical-align: middle;\n",
       "    }\n",
       "\n",
       "    .dataframe tbody tr th {\n",
       "        vertical-align: top;\n",
       "    }\n",
       "\n",
       "    .dataframe thead th {\n",
       "        text-align: right;\n",
       "    }\n",
       "</style>\n",
       "<table border=\"1\" class=\"dataframe\">\n",
       "  <thead>\n",
       "    <tr style=\"text-align: right;\">\n",
       "      <th></th>\n",
       "      <th>latitude</th>\n",
       "      <th>longitude</th>\n",
       "      <th>tmax</th>\n",
       "      <th>tmin</th>\n",
       "      <th>tavg</th>\n",
       "      <th>dewpoint</th>\n",
       "      <th>wetbulb</th>\n",
       "      <th>heat</th>\n",
       "      <th>cool</th>\n",
       "      <th>preciptotal</th>\n",
       "      <th>...</th>\n",
       "      <th>hz</th>\n",
       "      <th>mifg</th>\n",
       "      <th>ra</th>\n",
       "      <th>sn</th>\n",
       "      <th>sq</th>\n",
       "      <th>ts</th>\n",
       "      <th>tsra</th>\n",
       "      <th>vcts</th>\n",
       "      <th>gr</th>\n",
       "      <th>vcfg</th>\n",
       "    </tr>\n",
       "  </thead>\n",
       "  <tbody>\n",
       "    <tr>\n",
       "      <th>0</th>\n",
       "      <td>41.867108</td>\n",
       "      <td>-87.654224</td>\n",
       "      <td>75</td>\n",
       "      <td>59</td>\n",
       "      <td>67.0</td>\n",
       "      <td>49</td>\n",
       "      <td>57.0</td>\n",
       "      <td>0.0</td>\n",
       "      <td>2.0</td>\n",
       "      <td>0.080</td>\n",
       "      <td>...</td>\n",
       "      <td>0</td>\n",
       "      <td>0.0</td>\n",
       "      <td>1</td>\n",
       "      <td>0</td>\n",
       "      <td>0</td>\n",
       "      <td>0</td>\n",
       "      <td>0</td>\n",
       "      <td>0</td>\n",
       "      <td>0.0</td>\n",
       "      <td>0.0</td>\n",
       "    </tr>\n",
       "    <tr>\n",
       "      <th>1</th>\n",
       "      <td>41.867108</td>\n",
       "      <td>-87.654224</td>\n",
       "      <td>75</td>\n",
       "      <td>59</td>\n",
       "      <td>67.0</td>\n",
       "      <td>49</td>\n",
       "      <td>57.0</td>\n",
       "      <td>0.0</td>\n",
       "      <td>2.0</td>\n",
       "      <td>0.080</td>\n",
       "      <td>...</td>\n",
       "      <td>0</td>\n",
       "      <td>0.0</td>\n",
       "      <td>1</td>\n",
       "      <td>0</td>\n",
       "      <td>0</td>\n",
       "      <td>0</td>\n",
       "      <td>0</td>\n",
       "      <td>0</td>\n",
       "      <td>0.0</td>\n",
       "      <td>0.0</td>\n",
       "    </tr>\n",
       "    <tr>\n",
       "      <th>2</th>\n",
       "      <td>41.862292</td>\n",
       "      <td>-87.648860</td>\n",
       "      <td>75</td>\n",
       "      <td>59</td>\n",
       "      <td>67.0</td>\n",
       "      <td>49</td>\n",
       "      <td>57.0</td>\n",
       "      <td>0.0</td>\n",
       "      <td>2.0</td>\n",
       "      <td>0.080</td>\n",
       "      <td>...</td>\n",
       "      <td>0</td>\n",
       "      <td>0.0</td>\n",
       "      <td>1</td>\n",
       "      <td>0</td>\n",
       "      <td>0</td>\n",
       "      <td>0</td>\n",
       "      <td>0</td>\n",
       "      <td>0</td>\n",
       "      <td>0.0</td>\n",
       "      <td>0.0</td>\n",
       "    </tr>\n",
       "    <tr>\n",
       "      <th>3</th>\n",
       "      <td>41.896282</td>\n",
       "      <td>-87.655232</td>\n",
       "      <td>75</td>\n",
       "      <td>59</td>\n",
       "      <td>67.0</td>\n",
       "      <td>49</td>\n",
       "      <td>57.0</td>\n",
       "      <td>0.0</td>\n",
       "      <td>2.0</td>\n",
       "      <td>0.080</td>\n",
       "      <td>...</td>\n",
       "      <td>0</td>\n",
       "      <td>0.0</td>\n",
       "      <td>1</td>\n",
       "      <td>0</td>\n",
       "      <td>0</td>\n",
       "      <td>0</td>\n",
       "      <td>0</td>\n",
       "      <td>0</td>\n",
       "      <td>0.0</td>\n",
       "      <td>0.0</td>\n",
       "    </tr>\n",
       "    <tr>\n",
       "      <th>4</th>\n",
       "      <td>41.907645</td>\n",
       "      <td>-87.760886</td>\n",
       "      <td>75</td>\n",
       "      <td>59</td>\n",
       "      <td>67.0</td>\n",
       "      <td>49</td>\n",
       "      <td>57.0</td>\n",
       "      <td>0.0</td>\n",
       "      <td>2.0</td>\n",
       "      <td>0.080</td>\n",
       "      <td>...</td>\n",
       "      <td>0</td>\n",
       "      <td>0.0</td>\n",
       "      <td>1</td>\n",
       "      <td>0</td>\n",
       "      <td>0</td>\n",
       "      <td>0</td>\n",
       "      <td>0</td>\n",
       "      <td>0</td>\n",
       "      <td>0.0</td>\n",
       "      <td>0.0</td>\n",
       "    </tr>\n",
       "    <tr>\n",
       "      <th>...</th>\n",
       "      <td>...</td>\n",
       "      <td>...</td>\n",
       "      <td>...</td>\n",
       "      <td>...</td>\n",
       "      <td>...</td>\n",
       "      <td>...</td>\n",
       "      <td>...</td>\n",
       "      <td>...</td>\n",
       "      <td>...</td>\n",
       "      <td>...</td>\n",
       "      <td>...</td>\n",
       "      <td>...</td>\n",
       "      <td>...</td>\n",
       "      <td>...</td>\n",
       "      <td>...</td>\n",
       "      <td>...</td>\n",
       "      <td>...</td>\n",
       "      <td>...</td>\n",
       "      <td>...</td>\n",
       "      <td>...</td>\n",
       "      <td>...</td>\n",
       "    </tr>\n",
       "    <tr>\n",
       "      <th>124763</th>\n",
       "      <td>41.925652</td>\n",
       "      <td>-87.633590</td>\n",
       "      <td>61</td>\n",
       "      <td>51</td>\n",
       "      <td>56.0</td>\n",
       "      <td>49</td>\n",
       "      <td>52.0</td>\n",
       "      <td>9.0</td>\n",
       "      <td>0.0</td>\n",
       "      <td>0.005</td>\n",
       "      <td>...</td>\n",
       "      <td>0</td>\n",
       "      <td>0.0</td>\n",
       "      <td>0</td>\n",
       "      <td>0</td>\n",
       "      <td>0</td>\n",
       "      <td>0</td>\n",
       "      <td>0</td>\n",
       "      <td>0</td>\n",
       "      <td>0.0</td>\n",
       "      <td>0.0</td>\n",
       "    </tr>\n",
       "    <tr>\n",
       "      <th>124764</th>\n",
       "      <td>41.925652</td>\n",
       "      <td>-87.633590</td>\n",
       "      <td>61</td>\n",
       "      <td>51</td>\n",
       "      <td>56.0</td>\n",
       "      <td>49</td>\n",
       "      <td>52.0</td>\n",
       "      <td>9.0</td>\n",
       "      <td>0.0</td>\n",
       "      <td>0.005</td>\n",
       "      <td>...</td>\n",
       "      <td>0</td>\n",
       "      <td>0.0</td>\n",
       "      <td>0</td>\n",
       "      <td>0</td>\n",
       "      <td>0</td>\n",
       "      <td>0</td>\n",
       "      <td>0</td>\n",
       "      <td>0</td>\n",
       "      <td>0.0</td>\n",
       "      <td>0.0</td>\n",
       "    </tr>\n",
       "    <tr>\n",
       "      <th>124765</th>\n",
       "      <td>41.925652</td>\n",
       "      <td>-87.633590</td>\n",
       "      <td>61</td>\n",
       "      <td>51</td>\n",
       "      <td>56.0</td>\n",
       "      <td>49</td>\n",
       "      <td>52.0</td>\n",
       "      <td>9.0</td>\n",
       "      <td>0.0</td>\n",
       "      <td>0.005</td>\n",
       "      <td>...</td>\n",
       "      <td>0</td>\n",
       "      <td>0.0</td>\n",
       "      <td>0</td>\n",
       "      <td>0</td>\n",
       "      <td>0</td>\n",
       "      <td>0</td>\n",
       "      <td>0</td>\n",
       "      <td>0</td>\n",
       "      <td>0.0</td>\n",
       "      <td>0.0</td>\n",
       "    </tr>\n",
       "    <tr>\n",
       "      <th>124766</th>\n",
       "      <td>41.925652</td>\n",
       "      <td>-87.633590</td>\n",
       "      <td>61</td>\n",
       "      <td>51</td>\n",
       "      <td>56.0</td>\n",
       "      <td>49</td>\n",
       "      <td>52.0</td>\n",
       "      <td>9.0</td>\n",
       "      <td>0.0</td>\n",
       "      <td>0.005</td>\n",
       "      <td>...</td>\n",
       "      <td>0</td>\n",
       "      <td>0.0</td>\n",
       "      <td>0</td>\n",
       "      <td>0</td>\n",
       "      <td>0</td>\n",
       "      <td>0</td>\n",
       "      <td>0</td>\n",
       "      <td>0</td>\n",
       "      <td>0.0</td>\n",
       "      <td>0.0</td>\n",
       "    </tr>\n",
       "    <tr>\n",
       "      <th>124767</th>\n",
       "      <td>41.925652</td>\n",
       "      <td>-87.633590</td>\n",
       "      <td>61</td>\n",
       "      <td>51</td>\n",
       "      <td>56.0</td>\n",
       "      <td>49</td>\n",
       "      <td>52.0</td>\n",
       "      <td>9.0</td>\n",
       "      <td>0.0</td>\n",
       "      <td>0.005</td>\n",
       "      <td>...</td>\n",
       "      <td>0</td>\n",
       "      <td>0.0</td>\n",
       "      <td>0</td>\n",
       "      <td>0</td>\n",
       "      <td>0</td>\n",
       "      <td>0</td>\n",
       "      <td>0</td>\n",
       "      <td>0</td>\n",
       "      <td>0.0</td>\n",
       "      <td>0.0</td>\n",
       "    </tr>\n",
       "  </tbody>\n",
       "</table>\n",
       "<p>124768 rows × 34 columns</p>\n",
       "</div>"
      ],
      "text/plain": [
       "         latitude  longitude  tmax  tmin  tavg  dewpoint  wetbulb  heat  cool  \\\n",
       "0       41.867108 -87.654224    75    59  67.0        49     57.0   0.0   2.0   \n",
       "1       41.867108 -87.654224    75    59  67.0        49     57.0   0.0   2.0   \n",
       "2       41.862292 -87.648860    75    59  67.0        49     57.0   0.0   2.0   \n",
       "3       41.896282 -87.655232    75    59  67.0        49     57.0   0.0   2.0   \n",
       "4       41.907645 -87.760886    75    59  67.0        49     57.0   0.0   2.0   \n",
       "...           ...        ...   ...   ...   ...       ...      ...   ...   ...   \n",
       "124763  41.925652 -87.633590    61    51  56.0        49     52.0   9.0   0.0   \n",
       "124764  41.925652 -87.633590    61    51  56.0        49     52.0   9.0   0.0   \n",
       "124765  41.925652 -87.633590    61    51  56.0        49     52.0   9.0   0.0   \n",
       "124766  41.925652 -87.633590    61    51  56.0        49     52.0   9.0   0.0   \n",
       "124767  41.925652 -87.633590    61    51  56.0        49     52.0   9.0   0.0   \n",
       "\n",
       "        preciptotal  ...  hz  mifg  ra  sn  sq  ts  tsra  vcts   gr  vcfg  \n",
       "0             0.080  ...   0   0.0   1   0   0   0     0     0  0.0   0.0  \n",
       "1             0.080  ...   0   0.0   1   0   0   0     0     0  0.0   0.0  \n",
       "2             0.080  ...   0   0.0   1   0   0   0     0     0  0.0   0.0  \n",
       "3             0.080  ...   0   0.0   1   0   0   0     0     0  0.0   0.0  \n",
       "4             0.080  ...   0   0.0   1   0   0   0     0     0  0.0   0.0  \n",
       "...             ...  ...  ..   ...  ..  ..  ..  ..   ...   ...  ...   ...  \n",
       "124763        0.005  ...   0   0.0   0   0   0   0     0     0  0.0   0.0  \n",
       "124764        0.005  ...   0   0.0   0   0   0   0     0     0  0.0   0.0  \n",
       "124765        0.005  ...   0   0.0   0   0   0   0     0     0  0.0   0.0  \n",
       "124766        0.005  ...   0   0.0   0   0   0   0     0     0  0.0   0.0  \n",
       "124767        0.005  ...   0   0.0   0   0   0   0     0     0  0.0   0.0  \n",
       "\n",
       "[124768 rows x 34 columns]"
      ]
     },
     "execution_count": 53,
     "metadata": {},
     "output_type": "execute_result"
    }
   ],
   "source": [
    "df[[col for col in df.columns if (df[col].dtypes !='O') & \n",
    "                      (col not in ['date','block','addressaccuracy','nummosquitos','wnvcount','wnvpresent', 'station','species'])]]"
   ]
  },
  {
   "cell_type": "code",
   "execution_count": 73,
   "id": "d06a19f0",
   "metadata": {},
   "outputs": [],
   "source": [
    "df = lag2_g1.copy()"
   ]
  },
  {
   "cell_type": "code",
   "execution_count": 61,
   "id": "f6106fb0",
   "metadata": {},
   "outputs": [
    {
     "data": {
      "text/plain": [
       "float64           19\n",
       "int64             19\n",
       "object             3\n",
       "datetime64[ns]     1\n",
       "dtype: int64"
      ]
     },
     "execution_count": 61,
     "metadata": {},
     "output_type": "execute_result"
    }
   ],
   "source": [
    "lag2.dtypes.value_counts()"
   ]
  },
  {
   "cell_type": "code",
   "execution_count": 60,
   "id": "c5a7790f",
   "metadata": {},
   "outputs": [
    {
     "data": {
      "text/plain": [
       "float64           149\n",
       "int64              19\n",
       "object              3\n",
       "datetime64[ns]      1\n",
       "dtype: int64"
      ]
     },
     "execution_count": 60,
     "metadata": {},
     "output_type": "execute_result"
    }
   ],
   "source": [
    "lag2_g1.dtypes.value_counts()"
   ]
  },
  {
   "cell_type": "code",
   "execution_count": null,
   "id": "c5608408",
   "metadata": {},
   "outputs": [],
   "source": [
    "df[col].dtypes"
   ]
  },
  {
   "cell_type": "code",
   "execution_count": 74,
   "id": "aa54ecb8",
   "metadata": {},
   "outputs": [
    {
     "data": {
      "text/plain": [
       "[dtype('<M8[ns]'),\n",
       " dtype('O'),\n",
       " dtype('float64'),\n",
       " dtype('float64'),\n",
       " dtype('O'),\n",
       " dtype('float64'),\n",
       " dtype('float64'),\n",
       " dtype('float64'),\n",
       " dtype('int64'),\n",
       " dtype('int64'),\n",
       " dtype('int64'),\n",
       " dtype('float64'),\n",
       " dtype('int64'),\n",
       " dtype('float64'),\n",
       " dtype('float64'),\n",
       " dtype('float64'),\n",
       " dtype('O'),\n",
       " dtype('float64'),\n",
       " dtype('float64'),\n",
       " dtype('float64'),\n",
       " dtype('float64'),\n",
       " dtype('int64'),\n",
       " dtype('float64'),\n",
       " dtype('int64'),\n",
       " dtype('float64'),\n",
       " dtype('float64'),\n",
       " dtype('int64'),\n",
       " dtype('int64'),\n",
       " dtype('int64'),\n",
       " dtype('int64'),\n",
       " dtype('int64'),\n",
       " dtype('int64'),\n",
       " dtype('int64'),\n",
       " dtype('float64'),\n",
       " dtype('int64'),\n",
       " dtype('int64'),\n",
       " dtype('int64'),\n",
       " dtype('int64'),\n",
       " dtype('int64'),\n",
       " dtype('int64'),\n",
       " dtype('float64'),\n",
       " dtype('float64'),\n",
       " dtype('float64'),\n",
       " dtype('float64'),\n",
       " dtype('float64'),\n",
       " dtype('float64'),\n",
       " dtype('float64'),\n",
       " dtype('float64'),\n",
       " dtype('float64'),\n",
       " dtype('float64'),\n",
       " dtype('float64'),\n",
       " dtype('float64'),\n",
       " dtype('float64'),\n",
       " dtype('float64'),\n",
       " dtype('float64'),\n",
       " dtype('float64'),\n",
       " dtype('float64'),\n",
       " dtype('float64'),\n",
       " trap_T002    float64\n",
       " trap_T002    float64\n",
       " trap_T002    float64\n",
       " trap_T002    float64\n",
       " trap_T002    float64\n",
       " dtype: object,\n",
       " trap_T003    float64\n",
       " trap_T003    float64\n",
       " trap_T003    float64\n",
       " trap_T003    float64\n",
       " trap_T003    float64\n",
       " dtype: object,\n",
       " dtype('float64'),\n",
       " dtype('float64'),\n",
       " trap_T006    float64\n",
       " trap_T006    float64\n",
       " dtype: object,\n",
       " dtype('float64'),\n",
       " trap_T008    float64\n",
       " trap_T008    float64\n",
       " trap_T008    float64\n",
       " trap_T008    float64\n",
       " trap_T008    float64\n",
       " dtype: object,\n",
       " trap_T009    float64\n",
       " trap_T009    float64\n",
       " trap_T009    float64\n",
       " trap_T009    float64\n",
       " dtype: object,\n",
       " trap_T011    float64\n",
       " trap_T011    float64\n",
       " trap_T011    float64\n",
       " trap_T011    float64\n",
       " dtype: object,\n",
       " dtype('float64'),\n",
       " trap_T013    float64\n",
       " trap_T013    float64\n",
       " trap_T013    float64\n",
       " trap_T013    float64\n",
       " dtype: object,\n",
       " trap_T014    float64\n",
       " trap_T014    float64\n",
       " dtype: object,\n",
       " trap_T015    float64\n",
       " trap_T015    float64\n",
       " dtype: object,\n",
       " trap_T016    float64\n",
       " trap_T016    float64\n",
       " dtype: object,\n",
       " dtype('float64'),\n",
       " dtype('float64'),\n",
       " dtype('float64'),\n",
       " dtype('float64'),\n",
       " trap_T027    float64\n",
       " trap_T027    float64\n",
       " dtype: object,\n",
       " trap_T028    float64\n",
       " trap_T028    float64\n",
       " trap_T028    float64\n",
       " trap_T028    float64\n",
       " dtype: object,\n",
       " trap_T030    float64\n",
       " trap_T030    float64\n",
       " dtype: object,\n",
       " trap_T031    float64\n",
       " trap_T031    float64\n",
       " dtype: object,\n",
       " dtype('float64'),\n",
       " dtype('float64'),\n",
       " dtype('float64'),\n",
       " dtype('float64'),\n",
       " dtype('float64'),\n",
       " trap_T039    float64\n",
       " trap_T039    float64\n",
       " dtype: object,\n",
       " dtype('float64'),\n",
       " dtype('float64'),\n",
       " dtype('float64'),\n",
       " trap_T900    float64\n",
       " trap_T900    float64\n",
       " trap_T900    float64\n",
       " trap_T900    float64\n",
       " dtype: object,\n",
       " trap_T002    float64\n",
       " trap_T002    float64\n",
       " trap_T002    float64\n",
       " trap_T002    float64\n",
       " trap_T002    float64\n",
       " dtype: object,\n",
       " trap_T115    float64\n",
       " trap_T115    float64\n",
       " trap_T115    float64\n",
       " trap_T115    float64\n",
       " dtype: object,\n",
       " trap_T003    float64\n",
       " trap_T003    float64\n",
       " trap_T003    float64\n",
       " trap_T003    float64\n",
       " trap_T003    float64\n",
       " dtype: object,\n",
       " trap_T225    float64\n",
       " trap_T225    float64\n",
       " trap_T225    float64\n",
       " dtype: object,\n",
       " trap_T011    float64\n",
       " trap_T011    float64\n",
       " trap_T011    float64\n",
       " trap_T011    float64\n",
       " dtype: object,\n",
       " trap_T013    float64\n",
       " trap_T013    float64\n",
       " trap_T013    float64\n",
       " trap_T013    float64\n",
       " dtype: object,\n",
       " trap_T028    float64\n",
       " trap_T028    float64\n",
       " trap_T028    float64\n",
       " trap_T028    float64\n",
       " dtype: object,\n",
       " trap_T223    float64\n",
       " trap_T223    float64\n",
       " trap_T223    float64\n",
       " dtype: object,\n",
       " trap_T138    float64\n",
       " trap_T138    float64\n",
       " dtype: object,\n",
       " trap_T114    float64\n",
       " trap_T114    float64\n",
       " trap_T114    float64\n",
       " dtype: object,\n",
       " trap_T903    float64\n",
       " trap_T903    float64\n",
       " dtype: object,\n",
       " trap_T008    float64\n",
       " trap_T008    float64\n",
       " trap_T008    float64\n",
       " trap_T008    float64\n",
       " trap_T008    float64\n",
       " dtype: object,\n",
       " trap_T009    float64\n",
       " trap_T009    float64\n",
       " trap_T009    float64\n",
       " trap_T009    float64\n",
       " dtype: object,\n",
       " trap_T061    float64\n",
       " trap_T061    float64\n",
       " trap_T061    float64\n",
       " dtype: object,\n",
       " trap_T082    float64\n",
       " trap_T082    float64\n",
       " dtype: object,\n",
       " trap_T135    float64\n",
       " trap_T135    float64\n",
       " dtype: object,\n",
       " trap_T002    float64\n",
       " trap_T002    float64\n",
       " trap_T002    float64\n",
       " trap_T002    float64\n",
       " trap_T002    float64\n",
       " dtype: object,\n",
       " dtype('float64'),\n",
       " dtype('float64'),\n",
       " dtype('float64'),\n",
       " trap_T028    float64\n",
       " trap_T028    float64\n",
       " trap_T028    float64\n",
       " trap_T028    float64\n",
       " dtype: object,\n",
       " trap_T003    float64\n",
       " trap_T003    float64\n",
       " trap_T003    float64\n",
       " trap_T003    float64\n",
       " trap_T003    float64\n",
       " dtype: object,\n",
       " trap_T114    float64\n",
       " trap_T114    float64\n",
       " trap_T114    float64\n",
       " dtype: object,\n",
       " trap_T115    float64\n",
       " trap_T115    float64\n",
       " trap_T115    float64\n",
       " trap_T115    float64\n",
       " dtype: object,\n",
       " dtype('float64'),\n",
       " trap_T039    float64\n",
       " trap_T039    float64\n",
       " dtype: object,\n",
       " trap_T031    float64\n",
       " trap_T031    float64\n",
       " dtype: object,\n",
       " dtype('float64'),\n",
       " trap_T011    float64\n",
       " trap_T011    float64\n",
       " trap_T011    float64\n",
       " trap_T011    float64\n",
       " dtype: object,\n",
       " trap_T225    float64\n",
       " trap_T225    float64\n",
       " trap_T225    float64\n",
       " dtype: object,\n",
       " trap_T900    float64\n",
       " trap_T900    float64\n",
       " trap_T900    float64\n",
       " trap_T900    float64\n",
       " dtype: object,\n",
       " trap_T013    float64\n",
       " trap_T013    float64\n",
       " trap_T013    float64\n",
       " trap_T013    float64\n",
       " dtype: object,\n",
       " trap_T230    float64\n",
       " trap_T230    float64\n",
       " dtype: object,\n",
       " trap_T008    float64\n",
       " trap_T008    float64\n",
       " trap_T008    float64\n",
       " trap_T008    float64\n",
       " trap_T008    float64\n",
       " dtype: object,\n",
       " trap_T221    float64\n",
       " trap_T221    float64\n",
       " dtype: object,\n",
       " trap_T009    float64\n",
       " trap_T009    float64\n",
       " trap_T009    float64\n",
       " trap_T009    float64\n",
       " dtype: object,\n",
       " trap_T115    float64\n",
       " trap_T115    float64\n",
       " trap_T115    float64\n",
       " trap_T115    float64\n",
       " dtype: object,\n",
       " trap_T138    float64\n",
       " trap_T138    float64\n",
       " dtype: object,\n",
       " trap_T002    float64\n",
       " trap_T002    float64\n",
       " trap_T002    float64\n",
       " trap_T002    float64\n",
       " trap_T002    float64\n",
       " dtype: object,\n",
       " trap_T011    float64\n",
       " trap_T011    float64\n",
       " trap_T011    float64\n",
       " trap_T011    float64\n",
       " dtype: object,\n",
       " dtype('float64'),\n",
       " trap_T135    float64\n",
       " trap_T135    float64\n",
       " dtype: object,\n",
       " trap_T082    float64\n",
       " trap_T082    float64\n",
       " dtype: object,\n",
       " trap_T016    float64\n",
       " trap_T016    float64\n",
       " dtype: object,\n",
       " dtype('float64'),\n",
       " dtype('float64'),\n",
       " dtype('float64'),\n",
       " trap_T003    float64\n",
       " trap_T003    float64\n",
       " trap_T003    float64\n",
       " trap_T003    float64\n",
       " trap_T003    float64\n",
       " dtype: object,\n",
       " trap_T006    float64\n",
       " trap_T006    float64\n",
       " dtype: object,\n",
       " trap_T008    float64\n",
       " trap_T008    float64\n",
       " trap_T008    float64\n",
       " trap_T008    float64\n",
       " trap_T008    float64\n",
       " dtype: object,\n",
       " trap_T014    float64\n",
       " trap_T014    float64\n",
       " dtype: object,\n",
       " trap_T015    float64\n",
       " trap_T015    float64\n",
       " dtype: object,\n",
       " trap_T061    float64\n",
       " trap_T061    float64\n",
       " trap_T061    float64\n",
       " dtype: object,\n",
       " dtype('float64'),\n",
       " trap_T114    float64\n",
       " trap_T114    float64\n",
       " trap_T114    float64\n",
       " dtype: object,\n",
       " trap_T221    float64\n",
       " trap_T221    float64\n",
       " dtype: object,\n",
       " trap_T900    float64\n",
       " trap_T900    float64\n",
       " trap_T900    float64\n",
       " trap_T900    float64\n",
       " dtype: object,\n",
       " trap_T903    float64\n",
       " trap_T903    float64\n",
       " dtype: object,\n",
       " trap_T223    float64\n",
       " trap_T223    float64\n",
       " trap_T223    float64\n",
       " dtype: object,\n",
       " trap_T900    float64\n",
       " trap_T900    float64\n",
       " trap_T900    float64\n",
       " trap_T900    float64\n",
       " dtype: object,\n",
       " trap_T013    float64\n",
       " trap_T013    float64\n",
       " trap_T013    float64\n",
       " trap_T013    float64\n",
       " dtype: object,\n",
       " trap_T225    float64\n",
       " trap_T225    float64\n",
       " trap_T225    float64\n",
       " dtype: object,\n",
       " trap_T003    float64\n",
       " trap_T003    float64\n",
       " trap_T003    float64\n",
       " trap_T003    float64\n",
       " trap_T003    float64\n",
       " dtype: object,\n",
       " trap_T030    float64\n",
       " trap_T030    float64\n",
       " dtype: object,\n",
       " dtype('float64'),\n",
       " trap_T002    float64\n",
       " trap_T002    float64\n",
       " trap_T002    float64\n",
       " trap_T002    float64\n",
       " trap_T002    float64\n",
       " dtype: object,\n",
       " trap_T027    float64\n",
       " trap_T027    float64\n",
       " dtype: object,\n",
       " trap_T028    float64\n",
       " trap_T028    float64\n",
       " trap_T028    float64\n",
       " trap_T028    float64\n",
       " dtype: object,\n",
       " dtype('float64'),\n",
       " dtype('float64'),\n",
       " dtype('float64'),\n",
       " dtype('float64'),\n",
       " trap_T230    float64\n",
       " trap_T230    float64\n",
       " dtype: object,\n",
       " trap_T008    float64\n",
       " trap_T008    float64\n",
       " trap_T008    float64\n",
       " trap_T008    float64\n",
       " trap_T008    float64\n",
       " dtype: object,\n",
       " trap_T009    float64\n",
       " trap_T009    float64\n",
       " trap_T009    float64\n",
       " trap_T009    float64\n",
       " dtype: object,\n",
       " trap_T061    float64\n",
       " trap_T061    float64\n",
       " trap_T061    float64\n",
       " dtype: object,\n",
       " dtype('float64'),\n",
       " trap_T223    float64\n",
       " trap_T223    float64\n",
       " trap_T223    float64\n",
       " dtype: object,\n",
       " dtype('float64'),\n",
       " dtype('float64'),\n",
       " dtype('float64'),\n",
       " trap_T115    float64\n",
       " trap_T115    float64\n",
       " trap_T115    float64\n",
       " trap_T115    float64\n",
       " dtype: object]"
      ]
     },
     "execution_count": 74,
     "metadata": {},
     "output_type": "execute_result"
    }
   ],
   "source": [
    "[df[col].dtypes for col in df.columns]"
   ]
  },
  {
   "cell_type": "code",
   "execution_count": null,
   "id": "8f95125a",
   "metadata": {},
   "outputs": [],
   "source": []
  },
  {
   "cell_type": "code",
   "execution_count": null,
   "id": "e5c89fb9",
   "metadata": {},
   "outputs": [],
   "source": []
  },
  {
   "cell_type": "code",
   "execution_count": null,
   "id": "6e9fd46c",
   "metadata": {},
   "outputs": [],
   "source": []
  },
  {
   "cell_type": "code",
   "execution_count": null,
   "id": "0d9dfe43",
   "metadata": {},
   "outputs": [],
   "source": []
  },
  {
   "cell_type": "code",
   "execution_count": null,
   "id": "20901282",
   "metadata": {},
   "outputs": [],
   "source": []
  },
  {
   "cell_type": "code",
   "execution_count": 81,
   "id": "737ba177",
   "metadata": {},
   "outputs": [],
   "source": [
    "#lag2_test.iloc[:,60:80].info()"
   ]
  },
  {
   "cell_type": "code",
   "execution_count": 64,
   "id": "10af38ff",
   "metadata": {},
   "outputs": [],
   "source": [
    "#weather_lag_df2 = rf_2_weather_lag(lag0, 0)"
   ]
  },
  {
   "cell_type": "code",
   "execution_count": 112,
   "id": "54f90cd8",
   "metadata": {},
   "outputs": [],
   "source": [
    "# weather_lag_df2 = rf_2_weather_lag(lag2_test, 2, weather_lag_df2)"
   ]
  },
  {
   "cell_type": "code",
   "execution_count": 67,
   "id": "9fa9275d",
   "metadata": {},
   "outputs": [
    {
     "data": {
      "text/html": [
       "<div>\n",
       "<style scoped>\n",
       "    .dataframe tbody tr th:only-of-type {\n",
       "        vertical-align: middle;\n",
       "    }\n",
       "\n",
       "    .dataframe tbody tr th {\n",
       "        vertical-align: top;\n",
       "    }\n",
       "\n",
       "    .dataframe thead th {\n",
       "        text-align: right;\n",
       "    }\n",
       "</style>\n",
       "<table border=\"1\" class=\"dataframe\">\n",
       "  <thead>\n",
       "    <tr style=\"text-align: right;\">\n",
       "      <th></th>\n",
       "      <th>weather_lag</th>\n",
       "      <th>train_acc</th>\n",
       "      <th>test_acc</th>\n",
       "      <th>sensitivity</th>\n",
       "      <th>specificity</th>\n",
       "      <th>roc_auc_score</th>\n",
       "    </tr>\n",
       "  </thead>\n",
       "  <tbody>\n",
       "    <tr>\n",
       "      <th>0</th>\n",
       "      <td>0</td>\n",
       "      <td>79.28</td>\n",
       "      <td>88.53</td>\n",
       "      <td>71.05</td>\n",
       "      <td>80.75</td>\n",
       "      <td>85.06</td>\n",
       "    </tr>\n",
       "    <tr>\n",
       "      <th>1</th>\n",
       "      <td>2</td>\n",
       "      <td>79.78</td>\n",
       "      <td>88.16</td>\n",
       "      <td>71.93</td>\n",
       "      <td>81.10</td>\n",
       "      <td>84.54</td>\n",
       "    </tr>\n",
       "    <tr>\n",
       "      <th>2</th>\n",
       "      <td>3</td>\n",
       "      <td>78.82</td>\n",
       "      <td>87.64</td>\n",
       "      <td>75.44</td>\n",
       "      <td>80.20</td>\n",
       "      <td>85.07</td>\n",
       "    </tr>\n",
       "  </tbody>\n",
       "</table>\n",
       "</div>"
      ],
      "text/plain": [
       "   weather_lag  train_acc  test_acc  sensitivity  specificity  roc_auc_score\n",
       "0            0      79.28     88.53        71.05        80.75          85.06\n",
       "1            2      79.78     88.16        71.93        81.10          84.54\n",
       "2            3      78.82     87.64        75.44        80.20          85.07"
      ]
     },
     "execution_count": 67,
     "metadata": {},
     "output_type": "execute_result"
    }
   ],
   "source": [
    "weather_lag_df2"
   ]
  },
  {
   "cell_type": "code",
   "execution_count": null,
   "id": "82cd4f30",
   "metadata": {},
   "outputs": [],
   "source": [
    "0\n",
    "2\n",
    "3\n",
    "5\n",
    "7\n",
    "14"
   ]
  },
  {
   "cell_type": "code",
   "execution_count": null,
   "id": "e4b0366e",
   "metadata": {},
   "outputs": [],
   "source": [
    "weather_lag_df = rf_weather_lag(lag0, 0)\n",
    "weather_lag_df = rf_weather_lag(lag2, 2, weather_lag_df)\n",
    "weather_lag_df = rf_weather_lag(lag3, 3, weather_lag_df)\n",
    "weather_lag_df = rf_weather_lag(lag5, 5, weather_lag_df)\n",
    "weather_lag_df = rf_weather_lag(lag7, 7, weather_lag_df)\n",
    "weather_lag_df = rf_weather_lag(lag14, 14, weather_lag_df)\n",
    "weather_lag_df = rf_weather_lag(lag21, 21, weather_lag_df)\n",
    "weather_lag_df = rf_weather_lag(lag28, 28, weather_lag_df)"
   ]
  },
  {
   "cell_type": "code",
   "execution_count": 118,
   "id": "93f3172f",
   "metadata": {},
   "outputs": [],
   "source": [
    "weather_lag_df = rf_weather_lag(lag7, 7, weather_lag_df)"
   ]
  },
  {
   "cell_type": "code",
   "execution_count": 119,
   "id": "3331c592",
   "metadata": {},
   "outputs": [
    {
     "data": {
      "text/html": [
       "<div>\n",
       "<style scoped>\n",
       "    .dataframe tbody tr th:only-of-type {\n",
       "        vertical-align: middle;\n",
       "    }\n",
       "\n",
       "    .dataframe tbody tr th {\n",
       "        vertical-align: top;\n",
       "    }\n",
       "\n",
       "    .dataframe thead th {\n",
       "        text-align: right;\n",
       "    }\n",
       "</style>\n",
       "<table border=\"1\" class=\"dataframe\">\n",
       "  <thead>\n",
       "    <tr style=\"text-align: right;\">\n",
       "      <th></th>\n",
       "      <th>weather_lag</th>\n",
       "      <th>train_acc</th>\n",
       "      <th>test_acc</th>\n",
       "      <th>sensitivity</th>\n",
       "      <th>specificity</th>\n",
       "      <th>roc_auc_score</th>\n",
       "    </tr>\n",
       "  </thead>\n",
       "  <tbody>\n",
       "    <tr>\n",
       "      <th>0</th>\n",
       "      <td>0</td>\n",
       "      <td>93.06</td>\n",
       "      <td>93.20</td>\n",
       "      <td>21.05</td>\n",
       "      <td>97.31</td>\n",
       "      <td>75.99</td>\n",
       "    </tr>\n",
       "    <tr>\n",
       "      <th>1</th>\n",
       "      <td>7</td>\n",
       "      <td>92.79</td>\n",
       "      <td>93.35</td>\n",
       "      <td>15.79</td>\n",
       "      <td>97.26</td>\n",
       "      <td>76.30</td>\n",
       "    </tr>\n",
       "  </tbody>\n",
       "</table>\n",
       "</div>"
      ],
      "text/plain": [
       "   weather_lag  train_acc  test_acc  sensitivity  specificity  roc_auc_score\n",
       "0            0      93.06     93.20        21.05        97.31          75.99\n",
       "1            7      92.79     93.35        15.79        97.26          76.30"
      ]
     },
     "execution_count": 119,
     "metadata": {},
     "output_type": "execute_result"
    }
   ],
   "source": [
    "weather_lag_df"
   ]
  },
  {
   "cell_type": "code",
   "execution_count": 104,
   "id": "04b70f56",
   "metadata": {},
   "outputs": [],
   "source": [
    "ert = lag7_test.drop(columns='date', axis=1)"
   ]
  },
  {
   "cell_type": "code",
   "execution_count": 114,
   "id": "4d63f2cf",
   "metadata": {},
   "outputs": [],
   "source": [
    "# ert[[col for col in ert.columns if (ert[col].dtypes !='O')]]"
   ]
  },
  {
   "cell_type": "code",
   "execution_count": 117,
   "id": "b67f1ad5",
   "metadata": {},
   "outputs": [
    {
     "data": {
      "text/plain": [
       "date            datetime64[ns]\n",
       "species                 object\n",
       "latitude               float64\n",
       "longitude              float64\n",
       "trap                    object\n",
       "nummosquitos           float64\n",
       "wnvpresent             float64\n",
       "wnvcount               float64\n",
       "station                  int64\n",
       "tmax                     int64\n",
       "tmin                     int64\n",
       "tavg                   float64\n",
       "dewpoint                 int64\n",
       "wetbulb                float64\n",
       "heat                   float64\n",
       "cool                   float64\n",
       "codesum                 object\n",
       "preciptotal            float64\n",
       "stnpressure            float64\n",
       "sealevel               float64\n",
       "resultspeed            float64\n",
       "resultdir                int64\n",
       "avgspeed               float64\n",
       "month                    int64\n",
       "sunrise                float64\n",
       "sunset                 float64\n",
       "bcfg                     int64\n",
       "br                       int64\n",
       "dz                       int64\n",
       "fg                       int64\n",
       "fg+                      int64\n",
       "fu                       int64\n",
       "hz                       int64\n",
       "mifg                   float64\n",
       "ra                       int64\n",
       "sn                       int64\n",
       "sq                       int64\n",
       "ts                       int64\n",
       "tsra                     int64\n",
       "vcts                     int64\n",
       "gr                     float64\n",
       "vcfg                   float64\n",
       "dtype: object"
      ]
     },
     "execution_count": 117,
     "metadata": {},
     "output_type": "execute_result"
    }
   ],
   "source": [
    "lag7.dtypes"
   ]
  },
  {
   "cell_type": "code",
   "execution_count": 124,
   "id": "f63efec0",
   "metadata": {},
   "outputs": [
    {
     "data": {
      "text/plain": [
       "(124768, 42)"
      ]
     },
     "execution_count": 124,
     "metadata": {},
     "output_type": "execute_result"
    }
   ],
   "source": [
    "lag7.shape"
   ]
  },
  {
   "cell_type": "code",
   "execution_count": 128,
   "id": "505b44d0",
   "metadata": {},
   "outputs": [
    {
     "data": {
      "text/plain": [
       "pandas.core.frame.DataFrame"
      ]
     },
     "execution_count": 128,
     "metadata": {},
     "output_type": "execute_result"
    }
   ],
   "source": [
    "type(lag7_test)"
   ]
  },
  {
   "cell_type": "code",
   "execution_count": 133,
   "id": "b6f2ede8",
   "metadata": {},
   "outputs": [],
   "source": [
    "df = lag7_test.copy()"
   ]
  },
  {
   "cell_type": "code",
   "execution_count": 134,
   "id": "b68752f2",
   "metadata": {},
   "outputs": [
    {
     "ename": "ValueError",
     "evalue": "The truth value of a Series is ambiguous. Use a.empty, a.bool(), a.item(), a.any() or a.all().",
     "output_type": "error",
     "traceback": [
      "\u001b[1;31m---------------------------------------------------------------------------\u001b[0m",
      "\u001b[1;31mValueError\u001b[0m                                Traceback (most recent call last)",
      "\u001b[1;32m~\\AppData\\Local\\Temp/ipykernel_22228/2830234078.py\u001b[0m in \u001b[0;36m<module>\u001b[1;34m\u001b[0m\n\u001b[1;32m----> 1\u001b[1;33m df[[col for col in df.columns if (df[col].dtypes !='O') & \n\u001b[0m\u001b[0;32m      2\u001b[0m                       (col not in ['date','block','addressaccuracy','nummosquitos','wnvcount','wnvpresent', 'station','species'])]]\n",
      "\u001b[1;32m~\\AppData\\Local\\Temp/ipykernel_22228/2830234078.py\u001b[0m in \u001b[0;36m<listcomp>\u001b[1;34m(.0)\u001b[0m\n\u001b[1;32m----> 1\u001b[1;33m df[[col for col in df.columns if (df[col].dtypes !='O') & \n\u001b[0m\u001b[0;32m      2\u001b[0m                       (col not in ['date','block','addressaccuracy','nummosquitos','wnvcount','wnvpresent', 'station','species'])]]\n",
      "\u001b[1;32m~\\.conda\\envs\\dsi\\lib\\site-packages\\pandas\\core\\generic.py\u001b[0m in \u001b[0;36m__nonzero__\u001b[1;34m(self)\u001b[0m\n\u001b[0;32m   1533\u001b[0m     \u001b[1;33m@\u001b[0m\u001b[0mfinal\u001b[0m\u001b[1;33m\u001b[0m\u001b[1;33m\u001b[0m\u001b[0m\n\u001b[0;32m   1534\u001b[0m     \u001b[1;32mdef\u001b[0m \u001b[0m__nonzero__\u001b[0m\u001b[1;33m(\u001b[0m\u001b[0mself\u001b[0m\u001b[1;33m)\u001b[0m\u001b[1;33m:\u001b[0m\u001b[1;33m\u001b[0m\u001b[1;33m\u001b[0m\u001b[0m\n\u001b[1;32m-> 1535\u001b[1;33m         raise ValueError(\n\u001b[0m\u001b[0;32m   1536\u001b[0m             \u001b[1;34mf\"The truth value of a {type(self).__name__} is ambiguous. \"\u001b[0m\u001b[1;33m\u001b[0m\u001b[1;33m\u001b[0m\u001b[0m\n\u001b[0;32m   1537\u001b[0m             \u001b[1;34m\"Use a.empty, a.bool(), a.item(), a.any() or a.all().\"\u001b[0m\u001b[1;33m\u001b[0m\u001b[1;33m\u001b[0m\u001b[0m\n",
      "\u001b[1;31mValueError\u001b[0m: The truth value of a Series is ambiguous. Use a.empty, a.bool(), a.item(), a.any() or a.all()."
     ]
    }
   ],
   "source": [
    "df[[col for col in df.columns if (df[col].dtypes !='O') & \n",
    "                      (col not in ['date','block','addressaccuracy','nummosquitos','wnvcount','wnvpresent', 'station','species'])]]"
   ]
  },
  {
   "cell_type": "code",
   "execution_count": 136,
   "id": "28c6c058",
   "metadata": {},
   "outputs": [
    {
     "data": {
      "text/plain": [
       "dtype('<M8[ns]')"
      ]
     },
     "execution_count": 136,
     "metadata": {},
     "output_type": "execute_result"
    }
   ],
   "source": [
    "df['date'].dtypes"
   ]
  },
  {
   "cell_type": "code",
   "execution_count": 137,
   "id": "8231240c",
   "metadata": {},
   "outputs": [
    {
     "data": {
      "text/plain": [
       "dtype('<M8[ns]')"
      ]
     },
     "execution_count": 137,
     "metadata": {},
     "output_type": "execute_result"
    }
   ],
   "source": [
    "lag7_test['date'].dtypes"
   ]
  },
  {
   "cell_type": "code",
   "execution_count": null,
   "id": "b68c8272",
   "metadata": {},
   "outputs": [],
   "source": []
  },
  {
   "cell_type": "code",
   "execution_count": null,
   "id": "f9c1e181",
   "metadata": {},
   "outputs": [],
   "source": []
  },
  {
   "cell_type": "code",
   "execution_count": null,
   "id": "67919520",
   "metadata": {},
   "outputs": [],
   "source": []
  },
  {
   "cell_type": "markdown",
   "id": "1ab3c97a",
   "metadata": {},
   "source": [
    "# Feature engineering for others"
   ]
  },
  {
   "cell_type": "code",
   "execution_count": 82,
   "id": "c2a9b858",
   "metadata": {},
   "outputs": [],
   "source": [
    "# read in data\n",
    "\n",
    "train_merged = pd.read_csv('../data/merged_train.csv')"
   ]
  },
  {
   "cell_type": "code",
   "execution_count": 83,
   "id": "db9dbe9d",
   "metadata": {},
   "outputs": [],
   "source": [
    "# to merge with weather data above\n",
    "# train_merged = train_merged['date', 'latitude', 'longitude', 'trap']\n",
    "\n",
    "# for interim analysis\n",
    "train_weather = train_merged.drop(['nummosquitos','wnvcount',\n",
    "                                   'station', 'sprayed'],\n",
    "                                  axis=1)"
   ]
  },
  {
   "cell_type": "code",
   "execution_count": 84,
   "id": "32f73b95",
   "metadata": {},
   "outputs": [
    {
     "data": {
      "text/plain": [
       "Index(['date', 'species', 'latitude', 'longitude', 'trap', 'wnvpresent',\n",
       "       'tmax', 'tmin', 'tavg', 'dewpoint', 'wetbulb', 'heat', 'cool',\n",
       "       'codesum', 'preciptotal', 'stnpressure', 'sealevel', 'resultspeed',\n",
       "       'resultdir', 'avgspeed', 'month', 'sunrise', 'sunset', 'bcfg', 'br',\n",
       "       'dz', 'fg', 'fg+', 'fu', 'hz', 'mifg', 'ra', 'sn', 'sq', 'ts', 'tsra',\n",
       "       'vcts', 'gr', 'vcfg'],\n",
       "      dtype='object')"
      ]
     },
     "execution_count": 84,
     "metadata": {},
     "output_type": "execute_result"
    }
   ],
   "source": [
    "train_weather.columns"
   ]
  },
  {
   "cell_type": "code",
   "execution_count": 85,
   "id": "aa8777c8",
   "metadata": {},
   "outputs": [
    {
     "data": {
      "text/html": [
       "<div>\n",
       "<style scoped>\n",
       "    .dataframe tbody tr th:only-of-type {\n",
       "        vertical-align: middle;\n",
       "    }\n",
       "\n",
       "    .dataframe tbody tr th {\n",
       "        vertical-align: top;\n",
       "    }\n",
       "\n",
       "    .dataframe thead th {\n",
       "        text-align: right;\n",
       "    }\n",
       "</style>\n",
       "<table border=\"1\" class=\"dataframe\">\n",
       "  <thead>\n",
       "    <tr style=\"text-align: right;\">\n",
       "      <th></th>\n",
       "      <th>date</th>\n",
       "      <th>species</th>\n",
       "      <th>latitude</th>\n",
       "      <th>longitude</th>\n",
       "      <th>trap</th>\n",
       "      <th>wnvpresent</th>\n",
       "      <th>tmax</th>\n",
       "      <th>tmin</th>\n",
       "      <th>tavg</th>\n",
       "      <th>dewpoint</th>\n",
       "      <th>...</th>\n",
       "      <th>hz</th>\n",
       "      <th>mifg</th>\n",
       "      <th>ra</th>\n",
       "      <th>sn</th>\n",
       "      <th>sq</th>\n",
       "      <th>ts</th>\n",
       "      <th>tsra</th>\n",
       "      <th>vcts</th>\n",
       "      <th>gr</th>\n",
       "      <th>vcfg</th>\n",
       "    </tr>\n",
       "  </thead>\n",
       "  <tbody>\n",
       "    <tr>\n",
       "      <th>0</th>\n",
       "      <td>2007-05-29</td>\n",
       "      <td>CULEX PIPIENS/RESTUANS</td>\n",
       "      <td>41.867108</td>\n",
       "      <td>-87.654224</td>\n",
       "      <td>T048</td>\n",
       "      <td>0.0</td>\n",
       "      <td>88</td>\n",
       "      <td>65</td>\n",
       "      <td>76.5</td>\n",
       "      <td>59</td>\n",
       "      <td>...</td>\n",
       "      <td>1</td>\n",
       "      <td>0.0</td>\n",
       "      <td>0</td>\n",
       "      <td>0</td>\n",
       "      <td>0</td>\n",
       "      <td>0</td>\n",
       "      <td>0</td>\n",
       "      <td>0</td>\n",
       "      <td>0.0</td>\n",
       "      <td>0.0</td>\n",
       "    </tr>\n",
       "    <tr>\n",
       "      <th>1</th>\n",
       "      <td>2009-09-25</td>\n",
       "      <td>CULEX PIPIENS</td>\n",
       "      <td>41.776156</td>\n",
       "      <td>-87.778927</td>\n",
       "      <td>T155</td>\n",
       "      <td>0.0</td>\n",
       "      <td>70</td>\n",
       "      <td>60</td>\n",
       "      <td>65.0</td>\n",
       "      <td>57</td>\n",
       "      <td>...</td>\n",
       "      <td>0</td>\n",
       "      <td>0.0</td>\n",
       "      <td>1</td>\n",
       "      <td>0</td>\n",
       "      <td>0</td>\n",
       "      <td>0</td>\n",
       "      <td>0</td>\n",
       "      <td>0</td>\n",
       "      <td>0.0</td>\n",
       "      <td>0.0</td>\n",
       "    </tr>\n",
       "    <tr>\n",
       "      <th>2</th>\n",
       "      <td>2009-09-25</td>\n",
       "      <td>CULEX RESTUANS</td>\n",
       "      <td>41.923738</td>\n",
       "      <td>-87.785288</td>\n",
       "      <td>T013</td>\n",
       "      <td>1.0</td>\n",
       "      <td>70</td>\n",
       "      <td>60</td>\n",
       "      <td>65.0</td>\n",
       "      <td>57</td>\n",
       "      <td>...</td>\n",
       "      <td>0</td>\n",
       "      <td>0.0</td>\n",
       "      <td>1</td>\n",
       "      <td>0</td>\n",
       "      <td>0</td>\n",
       "      <td>0</td>\n",
       "      <td>0</td>\n",
       "      <td>0</td>\n",
       "      <td>0.0</td>\n",
       "      <td>0.0</td>\n",
       "    </tr>\n",
       "    <tr>\n",
       "      <th>3</th>\n",
       "      <td>2009-09-25</td>\n",
       "      <td>CULEX RESTUANS</td>\n",
       "      <td>41.960616</td>\n",
       "      <td>-87.777189</td>\n",
       "      <td>T017</td>\n",
       "      <td>0.0</td>\n",
       "      <td>70</td>\n",
       "      <td>60</td>\n",
       "      <td>65.0</td>\n",
       "      <td>57</td>\n",
       "      <td>...</td>\n",
       "      <td>0</td>\n",
       "      <td>0.0</td>\n",
       "      <td>1</td>\n",
       "      <td>0</td>\n",
       "      <td>0</td>\n",
       "      <td>0</td>\n",
       "      <td>0</td>\n",
       "      <td>0</td>\n",
       "      <td>0.0</td>\n",
       "      <td>0.0</td>\n",
       "    </tr>\n",
       "    <tr>\n",
       "      <th>4</th>\n",
       "      <td>2007-08-24</td>\n",
       "      <td>CULEX RESTUANS</td>\n",
       "      <td>41.662014</td>\n",
       "      <td>-87.724608</td>\n",
       "      <td>T135</td>\n",
       "      <td>0.0</td>\n",
       "      <td>81</td>\n",
       "      <td>69</td>\n",
       "      <td>75.0</td>\n",
       "      <td>67</td>\n",
       "      <td>...</td>\n",
       "      <td>0</td>\n",
       "      <td>0.0</td>\n",
       "      <td>1</td>\n",
       "      <td>0</td>\n",
       "      <td>0</td>\n",
       "      <td>1</td>\n",
       "      <td>1</td>\n",
       "      <td>0</td>\n",
       "      <td>0.0</td>\n",
       "      <td>0.0</td>\n",
       "    </tr>\n",
       "  </tbody>\n",
       "</table>\n",
       "<p>5 rows × 39 columns</p>\n",
       "</div>"
      ],
      "text/plain": [
       "         date                 species   latitude  longitude  trap  wnvpresent  \\\n",
       "0  2007-05-29  CULEX PIPIENS/RESTUANS  41.867108 -87.654224  T048         0.0   \n",
       "1  2009-09-25           CULEX PIPIENS  41.776156 -87.778927  T155         0.0   \n",
       "2  2009-09-25          CULEX RESTUANS  41.923738 -87.785288  T013         1.0   \n",
       "3  2009-09-25          CULEX RESTUANS  41.960616 -87.777189  T017         0.0   \n",
       "4  2007-08-24          CULEX RESTUANS  41.662014 -87.724608  T135         0.0   \n",
       "\n",
       "   tmax  tmin  tavg  dewpoint  ...  hz  mifg  ra sn  sq  ts  tsra  vcts   gr  \\\n",
       "0    88    65  76.5        59  ...   1   0.0   0  0   0   0     0     0  0.0   \n",
       "1    70    60  65.0        57  ...   0   0.0   1  0   0   0     0     0  0.0   \n",
       "2    70    60  65.0        57  ...   0   0.0   1  0   0   0     0     0  0.0   \n",
       "3    70    60  65.0        57  ...   0   0.0   1  0   0   0     0     0  0.0   \n",
       "4    81    69  75.0        67  ...   0   0.0   1  0   0   1     1     0  0.0   \n",
       "\n",
       "   vcfg  \n",
       "0   0.0  \n",
       "1   0.0  \n",
       "2   0.0  \n",
       "3   0.0  \n",
       "4   0.0  \n",
       "\n",
       "[5 rows x 39 columns]"
      ]
     },
     "execution_count": 85,
     "metadata": {},
     "output_type": "execute_result"
    }
   ],
   "source": [
    "train_weather.head()"
   ]
  },
  {
   "cell_type": "code",
   "execution_count": 86,
   "id": "1d53cd0c",
   "metadata": {},
   "outputs": [],
   "source": [
    "# Custom dummy coding for species\n",
    "train_weather['CULEX PIPIENS/RESTUANS'] = train_weather['species'].map(lambda x: 1 if x == 'CULEX PIPIENS/RESTUANS' else 0)\n",
    "train_weather['CULEX PIPIENS'] = train_weather['species'].map(lambda x: 1 if x == 'CULEX PIPIENS' else 0)\n",
    "train_weather['CULEX RESTUANS'] = train_weather['species'].map(lambda x: 1 if x == 'CULEX RESTUANS' else 0)"
   ]
  },
  {
   "cell_type": "code",
   "execution_count": 14,
   "id": "7ffa4ff4",
   "metadata": {},
   "outputs": [],
   "source": [
    "# create week variable\n",
    "train_weather['date'] = pd.to_datetime(train_weather['date'])\n",
    "train_weather['week'] = train_weather['date'].dt.isocalendar().week"
   ]
  },
  {
   "cell_type": "code",
   "execution_count": 15,
   "id": "69dd031d",
   "metadata": {},
   "outputs": [
    {
     "data": {
      "text/plain": [
       "week\n",
       "22      0.0\n",
       "23      0.0\n",
       "24      0.0\n",
       "25      0.0\n",
       "26      1.0\n",
       "27      0.0\n",
       "28      7.0\n",
       "29     15.0\n",
       "30     16.0\n",
       "31     39.0\n",
       "32     54.0\n",
       "33     66.0\n",
       "34    107.0\n",
       "35     47.0\n",
       "36     44.0\n",
       "37     34.0\n",
       "38     19.0\n",
       "39      6.0\n",
       "40      2.0\n",
       "41      0.0\n",
       "Name: wnvpresent, dtype: float64"
      ]
     },
     "execution_count": 15,
     "metadata": {},
     "output_type": "execute_result"
    }
   ],
   "source": [
    "# Custom dummy coding for week\n",
    "\n",
    "train_weather.groupby('week')['wnvpresent'].sum()"
   ]
  },
  {
   "cell_type": "code",
   "execution_count": 16,
   "id": "f1bb5566",
   "metadata": {},
   "outputs": [],
   "source": [
    "train_weather = pd.get_dummies(train_weather, columns=['week'], drop_first=False)"
   ]
  },
  {
   "cell_type": "code",
   "execution_count": 17,
   "id": "c6968712",
   "metadata": {},
   "outputs": [
    {
     "data": {
      "text/plain": [
       "Index(['date', 'species', 'latitude', 'longitude', 'trap', 'wnvpresent',\n",
       "       'tmax', 'tmin', 'tavg', 'dewpoint', 'wetbulb', 'heat', 'cool',\n",
       "       'codesum', 'preciptotal', 'stnpressure', 'sealevel', 'resultspeed',\n",
       "       'resultdir', 'avgspeed', 'month', 'sunrise', 'sunset', 'bcfg', 'br',\n",
       "       'dz', 'fg', 'fg+', 'fu', 'hz', 'mifg', 'ra', 'sn', 'sq', 'ts', 'tsra',\n",
       "       'vcts', 'gr', 'vcfg', 'CULEX PIPIENS/RESTUANS', 'CULEX PIPIENS',\n",
       "       'CULEX RESTUANS', 'week_22', 'week_23', 'week_24', 'week_25', 'week_26',\n",
       "       'week_27', 'week_28', 'week_29', 'week_30', 'week_31', 'week_32',\n",
       "       'week_33', 'week_34', 'week_35', 'week_36', 'week_37', 'week_38',\n",
       "       'week_39', 'week_40', 'week_41'],\n",
       "      dtype='object')"
      ]
     },
     "execution_count": 17,
     "metadata": {},
     "output_type": "execute_result"
    }
   ],
   "source": [
    "train_weather.columns"
   ]
  },
  {
   "cell_type": "code",
   "execution_count": 18,
   "id": "3b949540",
   "metadata": {},
   "outputs": [],
   "source": [
    "train_weather.drop(columns=['week_22', 'week_23', 'week_24', 'week_25', \n",
    "                            'week_26', 'week_27', 'week_40', 'week_41'],\n",
    "                  axis=1,\n",
    "                  inplace=True)"
   ]
  },
  {
   "cell_type": "code",
   "execution_count": 138,
   "id": "68290fc3",
   "metadata": {},
   "outputs": [],
   "source": [
    "lag7 = pd.read_csv(r'../data/weather_cleaned_lag7.csv')"
   ]
  },
  {
   "cell_type": "code",
   "execution_count": null,
   "id": "00a32f13",
   "metadata": {},
   "outputs": [],
   "source": []
  },
  {
   "cell_type": "code",
   "execution_count": null,
   "id": "4cb1c7f2",
   "metadata": {},
   "outputs": [],
   "source": []
  },
  {
   "cell_type": "markdown",
   "id": "386a878a",
   "metadata": {},
   "source": [
    "# lag3"
   ]
  },
  {
   "cell_type": "code",
   "execution_count": 95,
   "id": "e5125f7d",
   "metadata": {},
   "outputs": [
    {
     "data": {
      "text/plain": [
       "(124768, 42)"
      ]
     },
     "execution_count": 95,
     "metadata": {},
     "output_type": "execute_result"
    }
   ],
   "source": [
    "lag3.shape"
   ]
  },
  {
   "cell_type": "code",
   "execution_count": 96,
   "id": "a2a0f49e",
   "metadata": {},
   "outputs": [],
   "source": [
    "lag3_ = lag3.copy()\n",
    "lag3_['date'] = pd.to_datetime(lag3_['date'])\n",
    "\n",
    "lag3_g1 = lag3_.merge(train_fe_g1, how='inner',\n",
    "                    on=['date', 'species', 'latitude',\n",
    "                        'longitude', 'wnvpresent', 'trap'],\n",
    "                   )"
   ]
  },
  {
   "cell_type": "code",
   "execution_count": 97,
   "id": "47868a75",
   "metadata": {},
   "outputs": [
    {
     "data": {
      "text/plain": [
       "(8475, 172)"
      ]
     },
     "execution_count": 97,
     "metadata": {},
     "output_type": "execute_result"
    }
   ],
   "source": [
    "lag3_g1.shape"
   ]
  },
  {
   "cell_type": "markdown",
   "id": "aa2d8a42",
   "metadata": {},
   "source": [
    "## lag3_g1"
   ]
  },
  {
   "cell_type": "code",
   "execution_count": 98,
   "id": "44fbaff7",
   "metadata": {},
   "outputs": [
    {
     "data": {
      "text/plain": [
       "(8475, 163)"
      ]
     },
     "execution_count": 98,
     "metadata": {},
     "output_type": "execute_result"
    }
   ],
   "source": [
    "lag3_g1 = lag3_g1.drop(columns=['trap', 'date', 'species', 'latitude', 'longitude',\n",
    "                              'nummosquitos', 'wnvcount', 'station', 'codesum'], axis=1)\n",
    "\n",
    "lag3_g1.shape"
   ]
  },
  {
   "cell_type": "code",
   "execution_count": 99,
   "id": "803f6357",
   "metadata": {},
   "outputs": [],
   "source": [
    "lag3_g1.to_csv('../data/lag3_g1.csv', index=False)"
   ]
  },
  {
   "cell_type": "code",
   "execution_count": 94,
   "id": "5586c818",
   "metadata": {},
   "outputs": [
    {
     "data": {
      "text/html": [
       "<div>\n",
       "<style scoped>\n",
       "    .dataframe tbody tr th:only-of-type {\n",
       "        vertical-align: middle;\n",
       "    }\n",
       "\n",
       "    .dataframe tbody tr th {\n",
       "        vertical-align: top;\n",
       "    }\n",
       "\n",
       "    .dataframe thead th {\n",
       "        text-align: right;\n",
       "    }\n",
       "</style>\n",
       "<table border=\"1\" class=\"dataframe\">\n",
       "  <thead>\n",
       "    <tr style=\"text-align: right;\">\n",
       "      <th></th>\n",
       "      <th>wnvpresent</th>\n",
       "      <th>tmax</th>\n",
       "      <th>tmin</th>\n",
       "      <th>tavg</th>\n",
       "      <th>dewpoint</th>\n",
       "      <th>wetbulb</th>\n",
       "      <th>heat</th>\n",
       "      <th>cool</th>\n",
       "      <th>codesum</th>\n",
       "      <th>preciptotal</th>\n",
       "      <th>...</th>\n",
       "      <th>trap_T230</th>\n",
       "      <th>trap_T008</th>\n",
       "      <th>trap_T009</th>\n",
       "      <th>trap_T061</th>\n",
       "      <th>trap_T147</th>\n",
       "      <th>trap_T223</th>\n",
       "      <th>trap_T226</th>\n",
       "      <th>trap_T227</th>\n",
       "      <th>trap_T231</th>\n",
       "      <th>trap_T115</th>\n",
       "    </tr>\n",
       "  </thead>\n",
       "  <tbody>\n",
       "    <tr>\n",
       "      <th>0</th>\n",
       "      <td>0.0</td>\n",
       "      <td>70</td>\n",
       "      <td>50</td>\n",
       "      <td>60.0</td>\n",
       "      <td>55</td>\n",
       "      <td>57.0</td>\n",
       "      <td>5.0</td>\n",
       "      <td>0.0</td>\n",
       "      <td>TSRA RA BR</td>\n",
       "      <td>0.28</td>\n",
       "      <td>...</td>\n",
       "      <td>0</td>\n",
       "      <td>0</td>\n",
       "      <td>0</td>\n",
       "      <td>0</td>\n",
       "      <td>0</td>\n",
       "      <td>0</td>\n",
       "      <td>0</td>\n",
       "      <td>0</td>\n",
       "      <td>0</td>\n",
       "      <td>0</td>\n",
       "    </tr>\n",
       "    <tr>\n",
       "      <th>1</th>\n",
       "      <td>0.0</td>\n",
       "      <td>70</td>\n",
       "      <td>50</td>\n",
       "      <td>60.0</td>\n",
       "      <td>55</td>\n",
       "      <td>57.0</td>\n",
       "      <td>5.0</td>\n",
       "      <td>0.0</td>\n",
       "      <td>TSRA RA BR</td>\n",
       "      <td>0.28</td>\n",
       "      <td>...</td>\n",
       "      <td>0</td>\n",
       "      <td>0</td>\n",
       "      <td>0</td>\n",
       "      <td>0</td>\n",
       "      <td>0</td>\n",
       "      <td>0</td>\n",
       "      <td>0</td>\n",
       "      <td>0</td>\n",
       "      <td>0</td>\n",
       "      <td>0</td>\n",
       "    </tr>\n",
       "    <tr>\n",
       "      <th>2</th>\n",
       "      <td>0.0</td>\n",
       "      <td>70</td>\n",
       "      <td>50</td>\n",
       "      <td>60.0</td>\n",
       "      <td>55</td>\n",
       "      <td>57.0</td>\n",
       "      <td>5.0</td>\n",
       "      <td>0.0</td>\n",
       "      <td>TSRA RA BR</td>\n",
       "      <td>0.28</td>\n",
       "      <td>...</td>\n",
       "      <td>0</td>\n",
       "      <td>0</td>\n",
       "      <td>0</td>\n",
       "      <td>0</td>\n",
       "      <td>0</td>\n",
       "      <td>0</td>\n",
       "      <td>0</td>\n",
       "      <td>0</td>\n",
       "      <td>0</td>\n",
       "      <td>0</td>\n",
       "    </tr>\n",
       "    <tr>\n",
       "      <th>3</th>\n",
       "      <td>0.0</td>\n",
       "      <td>70</td>\n",
       "      <td>50</td>\n",
       "      <td>60.0</td>\n",
       "      <td>55</td>\n",
       "      <td>57.0</td>\n",
       "      <td>5.0</td>\n",
       "      <td>0.0</td>\n",
       "      <td>TSRA RA BR</td>\n",
       "      <td>0.28</td>\n",
       "      <td>...</td>\n",
       "      <td>0</td>\n",
       "      <td>0</td>\n",
       "      <td>0</td>\n",
       "      <td>0</td>\n",
       "      <td>0</td>\n",
       "      <td>0</td>\n",
       "      <td>0</td>\n",
       "      <td>0</td>\n",
       "      <td>0</td>\n",
       "      <td>0</td>\n",
       "    </tr>\n",
       "    <tr>\n",
       "      <th>4</th>\n",
       "      <td>0.0</td>\n",
       "      <td>70</td>\n",
       "      <td>50</td>\n",
       "      <td>60.0</td>\n",
       "      <td>55</td>\n",
       "      <td>57.0</td>\n",
       "      <td>5.0</td>\n",
       "      <td>0.0</td>\n",
       "      <td>TSRA RA BR</td>\n",
       "      <td>0.28</td>\n",
       "      <td>...</td>\n",
       "      <td>0</td>\n",
       "      <td>0</td>\n",
       "      <td>0</td>\n",
       "      <td>0</td>\n",
       "      <td>0</td>\n",
       "      <td>0</td>\n",
       "      <td>0</td>\n",
       "      <td>0</td>\n",
       "      <td>0</td>\n",
       "      <td>0</td>\n",
       "    </tr>\n",
       "  </tbody>\n",
       "</table>\n",
       "<p>5 rows × 164 columns</p>\n",
       "</div>"
      ],
      "text/plain": [
       "   wnvpresent  tmax  tmin  tavg  dewpoint  wetbulb  heat  cool     codesum  \\\n",
       "0         0.0    70    50  60.0        55     57.0   5.0   0.0  TSRA RA BR   \n",
       "1         0.0    70    50  60.0        55     57.0   5.0   0.0  TSRA RA BR   \n",
       "2         0.0    70    50  60.0        55     57.0   5.0   0.0  TSRA RA BR   \n",
       "3         0.0    70    50  60.0        55     57.0   5.0   0.0  TSRA RA BR   \n",
       "4         0.0    70    50  60.0        55     57.0   5.0   0.0  TSRA RA BR   \n",
       "\n",
       "   preciptotal  ...  trap_T230  trap_T008  trap_T009  trap_T061  trap_T147  \\\n",
       "0         0.28  ...          0          0          0          0          0   \n",
       "1         0.28  ...          0          0          0          0          0   \n",
       "2         0.28  ...          0          0          0          0          0   \n",
       "3         0.28  ...          0          0          0          0          0   \n",
       "4         0.28  ...          0          0          0          0          0   \n",
       "\n",
       "   trap_T223  trap_T226  trap_T227  trap_T231  trap_T115  \n",
       "0          0          0          0          0          0  \n",
       "1          0          0          0          0          0  \n",
       "2          0          0          0          0          0  \n",
       "3          0          0          0          0          0  \n",
       "4          0          0          0          0          0  \n",
       "\n",
       "[5 rows x 164 columns]"
      ]
     },
     "execution_count": 94,
     "metadata": {},
     "output_type": "execute_result"
    }
   ],
   "source": [
    "lag3_g1.head()"
   ]
  },
  {
   "cell_type": "code",
   "execution_count": null,
   "id": "10d6ddbe",
   "metadata": {},
   "outputs": [],
   "source": []
  },
  {
   "cell_type": "code",
   "execution_count": null,
   "id": "68388b44",
   "metadata": {},
   "outputs": [],
   "source": [
    "## lag3_g2"
   ]
  },
  {
   "cell_type": "code",
   "execution_count": 101,
   "id": "c5f5c633",
   "metadata": {},
   "outputs": [
    {
     "data": {
      "text/plain": [
       "(8475, 206)"
      ]
     },
     "execution_count": 101,
     "metadata": {},
     "output_type": "execute_result"
    }
   ],
   "source": [
    "lag3_ = lag3.copy()\n",
    "lag3_['date'] = pd.to_datetime(lag3_['date'])\n",
    "\n",
    "lag3_g2 = lag3_.merge(train_fe_g2, how='inner',\n",
    "                    on=['date', 'species', 'latitude',\n",
    "                        'longitude', 'wnvpresent', 'trap'],\n",
    "                   )\n",
    "lag3_g2.shape"
   ]
  },
  {
   "cell_type": "code",
   "execution_count": 103,
   "id": "f8df9a80",
   "metadata": {},
   "outputs": [
    {
     "data": {
      "text/plain": [
       "(8475, 198)"
      ]
     },
     "execution_count": 103,
     "metadata": {},
     "output_type": "execute_result"
    }
   ],
   "source": [
    "lag3_g2 = lag3_g2.drop(columns=['trap', 'date', 'species', 'latitude', 'longitude',\n",
    "                              'nummosquitos', 'wnvcount', 'station'], axis=1)\n",
    "\n",
    "lag3_g2.shape"
   ]
  },
  {
   "cell_type": "code",
   "execution_count": 104,
   "id": "b91f7ea6",
   "metadata": {},
   "outputs": [],
   "source": [
    "lag3_g2.to_csv('../data/lag3_g2.csv', index=False)"
   ]
  },
  {
   "cell_type": "code",
   "execution_count": null,
   "id": "fe864d99",
   "metadata": {},
   "outputs": [],
   "source": []
  },
  {
   "cell_type": "code",
   "execution_count": null,
   "id": "45fd7fdf",
   "metadata": {},
   "outputs": [],
   "source": [
    "## lag3_g2"
   ]
  },
  {
   "cell_type": "code",
   "execution_count": 105,
   "id": "37fbd23d",
   "metadata": {},
   "outputs": [
    {
     "data": {
      "text/plain": [
       "(8475, 232)"
      ]
     },
     "execution_count": 105,
     "metadata": {},
     "output_type": "execute_result"
    }
   ],
   "source": [
    "lag3_ = lag3.copy()\n",
    "lag3_['date'] = pd.to_datetime(lag3_['date'])\n",
    "\n",
    "lag3_g3 = lag3_.merge(train_fe_g3, how='inner',\n",
    "                    on=['date', 'species', 'latitude',\n",
    "                        'longitude', 'wnvpresent', 'trap'],\n",
    "                   )\n",
    "lag3_g3.shape"
   ]
  },
  {
   "cell_type": "code",
   "execution_count": 106,
   "id": "d66345e3",
   "metadata": {},
   "outputs": [
    {
     "data": {
      "text/plain": [
       "(8475, 224)"
      ]
     },
     "execution_count": 106,
     "metadata": {},
     "output_type": "execute_result"
    }
   ],
   "source": [
    "lag3_g3 = lag3_g3.drop(columns=['trap', 'date', 'species', 'latitude', 'longitude',\n",
    "                              'nummosquitos', 'wnvcount', 'station'], axis=1)\n",
    "\n",
    "lag3_g3.shape"
   ]
  },
  {
   "cell_type": "code",
   "execution_count": 107,
   "id": "2eeaeeeb",
   "metadata": {},
   "outputs": [],
   "source": [
    "lag3_g3.to_csv('../data/lag3_g3.csv', index=False)"
   ]
  },
  {
   "cell_type": "code",
   "execution_count": null,
   "id": "3487d352",
   "metadata": {},
   "outputs": [],
   "source": []
  },
  {
   "cell_type": "code",
   "execution_count": null,
   "id": "a2694ea0",
   "metadata": {},
   "outputs": [],
   "source": []
  },
  {
   "cell_type": "code",
   "execution_count": null,
   "id": "a7d66b9a",
   "metadata": {},
   "outputs": [],
   "source": []
  },
  {
   "cell_type": "code",
   "execution_count": null,
   "id": "12857eb5",
   "metadata": {},
   "outputs": [],
   "source": []
  },
  {
   "cell_type": "code",
   "execution_count": null,
   "id": "9a85239d",
   "metadata": {},
   "outputs": [],
   "source": []
  },
  {
   "cell_type": "code",
   "execution_count": null,
   "id": "c577b9ce",
   "metadata": {},
   "outputs": [],
   "source": []
  },
  {
   "cell_type": "code",
   "execution_count": null,
   "id": "05371ad5",
   "metadata": {},
   "outputs": [],
   "source": []
  },
  {
   "cell_type": "code",
   "execution_count": null,
   "id": "b8354208",
   "metadata": {},
   "outputs": [],
   "source": []
  },
  {
   "cell_type": "code",
   "execution_count": null,
   "id": "6998d6be",
   "metadata": {},
   "outputs": [],
   "source": []
  },
  {
   "cell_type": "code",
   "execution_count": null,
   "id": "e86e9ba2",
   "metadata": {},
   "outputs": [],
   "source": []
  },
  {
   "cell_type": "code",
   "execution_count": null,
   "id": "dffc5480",
   "metadata": {},
   "outputs": [],
   "source": []
  },
  {
   "cell_type": "code",
   "execution_count": null,
   "id": "0aa71a74",
   "metadata": {},
   "outputs": [],
   "source": []
  },
  {
   "cell_type": "code",
   "execution_count": null,
   "id": "3af9cea9",
   "metadata": {},
   "outputs": [],
   "source": []
  },
  {
   "cell_type": "markdown",
   "id": "0fa18e0b",
   "metadata": {},
   "source": [
    "# Archive may delete"
   ]
  },
  {
   "cell_type": "code",
   "execution_count": 19,
   "id": "83c85008",
   "metadata": {},
   "outputs": [
    {
     "ename": "NameError",
     "evalue": "name 'train' is not defined",
     "output_type": "error",
     "traceback": [
      "\u001b[0;31m---------------------------------------------------------------------------\u001b[0m",
      "\u001b[0;31mNameError\u001b[0m                                 Traceback (most recent call last)",
      "\u001b[0;32m/var/folders/0t/nymtt02n1zqdc1ksr0n857bc0000gn/T/ipykernel_1434/3166623968.py\u001b[0m in \u001b[0;36m<module>\u001b[0;34m\u001b[0m\n\u001b[1;32m      2\u001b[0m \u001b[0;34m\u001b[0m\u001b[0m\n\u001b[1;32m      3\u001b[0m \u001b[0mtrain_loc\u001b[0m \u001b[0;34m=\u001b[0m \u001b[0;34m[\u001b[0m\u001b[0;34m]\u001b[0m\u001b[0;34m\u001b[0m\u001b[0;34m\u001b[0m\u001b[0m\n\u001b[0;32m----> 4\u001b[0;31m \u001b[0;32mfor\u001b[0m \u001b[0mx\u001b[0m\u001b[0;34m,\u001b[0m \u001b[0my\u001b[0m \u001b[0;32min\u001b[0m \u001b[0mzip\u001b[0m\u001b[0;34m(\u001b[0m\u001b[0mtrain\u001b[0m\u001b[0;34m[\u001b[0m\u001b[0;34m'longitude'\u001b[0m\u001b[0;34m]\u001b[0m\u001b[0;34m,\u001b[0m \u001b[0mtrain\u001b[0m\u001b[0;34m[\u001b[0m\u001b[0;34m'latitude'\u001b[0m\u001b[0;34m]\u001b[0m\u001b[0;34m)\u001b[0m\u001b[0;34m:\u001b[0m\u001b[0;34m\u001b[0m\u001b[0;34m\u001b[0m\u001b[0m\n\u001b[0m\u001b[1;32m      5\u001b[0m     \u001b[0;32mif\u001b[0m \u001b[0;34m[\u001b[0m\u001b[0mx\u001b[0m\u001b[0;34m,\u001b[0m \u001b[0my\u001b[0m\u001b[0;34m]\u001b[0m \u001b[0;32mnot\u001b[0m \u001b[0;32min\u001b[0m \u001b[0mtrain_loc\u001b[0m\u001b[0;34m:\u001b[0m\u001b[0;34m\u001b[0m\u001b[0;34m\u001b[0m\u001b[0m\n\u001b[1;32m      6\u001b[0m         \u001b[0mtrain_loc\u001b[0m\u001b[0;34m.\u001b[0m\u001b[0mappend\u001b[0m\u001b[0;34m(\u001b[0m\u001b[0;34m[\u001b[0m\u001b[0mx\u001b[0m\u001b[0;34m,\u001b[0m \u001b[0my\u001b[0m\u001b[0;34m]\u001b[0m\u001b[0;34m)\u001b[0m\u001b[0;34m\u001b[0m\u001b[0;34m\u001b[0m\u001b[0m\n",
      "\u001b[0;31mNameError\u001b[0m: name 'train' is not defined"
     ]
    }
   ],
   "source": [
    "# To check if all the traps in test are also in train set\n",
    "\n",
    "train_loc = []\n",
    "for x, y in zip(train['longitude'], train['latitude']):\n",
    "    if [x, y] not in train_loc:\n",
    "        train_loc.append([x, y])\n",
    "    \n",
    "test_loc = []\n",
    "for x, y in zip(test['longitude'], test['latitude']):\n",
    "    if [x, y] not in test_loc:\n",
    "        test_loc.append([x, y])\n",
    "        \n",
    "ex_loc = []\n",
    "for i in test_loc:\n",
    "    if i not in train_loc:\n",
    "        ex_loc.append(i)"
   ]
  },
  {
   "cell_type": "code",
   "execution_count": null,
   "id": "4a1dee85",
   "metadata": {},
   "outputs": [],
   "source": [
    "train_merged.groupby(['latitude', 'longitude'])['nummosquitos'].sum()"
   ]
  },
  {
   "cell_type": "code",
   "execution_count": null,
   "id": "1c29c690",
   "metadata": {},
   "outputs": [],
   "source": [
    "train_merged.groupby(['trap'])['nummosquitos'].sum()"
   ]
  },
  {
   "cell_type": "code",
   "execution_count": null,
   "id": "381fb047",
   "metadata": {},
   "outputs": [],
   "source": []
  }
 ],
 "metadata": {
  "kernelspec": {
   "display_name": "Python 3 (ipykernel)",
   "language": "python",
   "name": "python3"
  },
  "language_info": {
   "codemirror_mode": {
    "name": "ipython",
    "version": 3
   },
   "file_extension": ".py",
   "mimetype": "text/x-python",
   "name": "python",
   "nbconvert_exporter": "python",
   "pygments_lexer": "ipython3",
   "version": "3.8.12"
  }
 },
 "nbformat": 4,
 "nbformat_minor": 5
}
