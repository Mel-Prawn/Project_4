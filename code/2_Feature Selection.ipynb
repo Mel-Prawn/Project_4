{
 "cells": [
  {
   "cell_type": "code",
   "execution_count": 124,
   "id": "ab120b1f",
   "metadata": {},
   "outputs": [],
   "source": [
    "import pandas as pd\n",
    "import numpy as np\n",
    "import seaborn as sns\n",
    "import matplotlib.pyplot as plt\n",
    "from datetime import datetime\n",
    "\n",
    "from sklearn.preprocessing import StandardScaler\n",
    "from sklearn.model_selection import train_test_split, cross_val_score\n",
    "from sklearn.pipeline import Pipeline\n",
    "from sklearn.ensemble import RandomForestClassifier\n",
    "\n",
    "from sklearn.metrics import (\n",
    "    confusion_matrix, \n",
    "    plot_confusion_matrix,\n",
    "    roc_auc_score,\n",
    "    recall_score\n",
    ")"
   ]
  },
  {
   "cell_type": "markdown",
   "id": "86d077aa",
   "metadata": {},
   "source": [
    "# To identify which weather lag is best"
   ]
  },
  {
   "cell_type": "code",
   "execution_count": 2,
   "id": "4c6f5f33",
   "metadata": {},
   "outputs": [],
   "source": [
    "# Please check error and rerun the code in notebook 1\n",
    "# so that 'trap' is included in all the weather_cleaned_lag files\n"
   ]
  },
  {
   "cell_type": "code",
   "execution_count": 21,
   "id": "aec73cbc",
   "metadata": {},
   "outputs": [],
   "source": [
    "lag0 = pd.read_csv(r'../data/weather_cleaned_lag0.csv')\n",
    "lag2 = pd.read_csv(r'../data/weather_cleaned_lag2.csv')\n",
    "lag3 = pd.read_csv(r'../data/weather_cleaned_lag3.csv')\n",
    "lag5 = pd.read_csv(r'../data/weather_cleaned_lag5.csv')\n",
    "lag7 = pd.read_csv(r'../data/weather_cleaned_lag7.csv')\n",
    "lag14 = pd.read_csv(r'../data/weather_cleaned_lag14.csv')\n",
    "lag21 = pd.read_csv(r'../data/weather_cleaned_lag21.csv')\n",
    "lag28 = pd.read_csv(r'../data/weather_cleaned_lag28.csv')"
   ]
  },
  {
   "cell_type": "code",
   "execution_count": 4,
   "id": "f3386312",
   "metadata": {},
   "outputs": [],
   "source": [
    "# Extract train from train/test\n",
    "# recommend to split sets by year as splitting by index is more prone to error\n",
    "\n",
    "lag7['date'] = pd.to_datetime(lag7['date'])\n",
    "lag7['year'] = lag7['date'].dt.year\n",
    "lag7_train = lag7.loc[lag7['year'].isin([2007, 2009, 2011, 2013]), :]"
   ]
  },
  {
   "cell_type": "code",
   "execution_count": 5,
   "id": "b0034c97",
   "metadata": {},
   "outputs": [
    {
     "name": "stderr",
     "output_type": "stream",
     "text": [
      "/var/folders/0t/nymtt02n1zqdc1ksr0n857bc0000gn/T/ipykernel_1434/503540313.py:6: SettingWithCopyWarning: \n",
      "A value is trying to be set on a copy of a slice from a DataFrame\n",
      "\n",
      "See the caveats in the documentation: https://pandas.pydata.org/pandas-docs/stable/user_guide/indexing.html#returning-a-view-versus-a-copy\n",
      "  lag7_train.drop(columns = ['nummosquitos','wnvcount',\n"
     ]
    }
   ],
   "source": [
    "# To drop ['nummosquitos', 'wnvcount',        # not available in test set\n",
    "#          'station',                         # already associated weather to each station\n",
    "#          'year',\n",
    "#          'codesum', 'species']              # will be dummied below\n",
    "\n",
    "lag7_train.drop(columns = ['nummosquitos','wnvcount',\n",
    "                           'station', 'year', 'codesum', 'species'],\n",
    "                axis=1,\n",
    "                inplace = True)"
   ]
  },
  {
   "cell_type": "code",
   "execution_count": 6,
   "id": "ff3b5d22",
   "metadata": {},
   "outputs": [
    {
     "name": "stdout",
     "output_type": "stream",
     "text": [
      "<class 'pandas.core.frame.DataFrame'>\n",
      "Int64Index: 8475 entries, 0 to 8474\n",
      "Data columns (total 37 columns):\n",
      " #   Column       Non-Null Count  Dtype         \n",
      "---  ------       --------------  -----         \n",
      " 0   date         8475 non-null   datetime64[ns]\n",
      " 1   latitude     8475 non-null   float64       \n",
      " 2   longitude    8475 non-null   float64       \n",
      " 3   trap         8475 non-null   object        \n",
      " 4   wnvpresent   8475 non-null   float64       \n",
      " 5   tmax         8475 non-null   int64         \n",
      " 6   tmin         8475 non-null   int64         \n",
      " 7   tavg         8475 non-null   float64       \n",
      " 8   dewpoint     8475 non-null   int64         \n",
      " 9   wetbulb      8475 non-null   float64       \n",
      " 10  heat         8475 non-null   float64       \n",
      " 11  cool         8475 non-null   float64       \n",
      " 12  preciptotal  8475 non-null   float64       \n",
      " 13  stnpressure  8475 non-null   float64       \n",
      " 14  sealevel     8475 non-null   float64       \n",
      " 15  resultspeed  8475 non-null   float64       \n",
      " 16  resultdir    8475 non-null   int64         \n",
      " 17  avgspeed     8475 non-null   float64       \n",
      " 18  month        8475 non-null   int64         \n",
      " 19  sunrise      8475 non-null   float64       \n",
      " 20  sunset       8475 non-null   float64       \n",
      " 21  bcfg         8475 non-null   int64         \n",
      " 22  br           8475 non-null   int64         \n",
      " 23  dz           8475 non-null   int64         \n",
      " 24  fg           8475 non-null   int64         \n",
      " 25  fg+          8475 non-null   int64         \n",
      " 26  fu           8475 non-null   int64         \n",
      " 27  hz           8475 non-null   int64         \n",
      " 28  mifg         8475 non-null   float64       \n",
      " 29  ra           8475 non-null   int64         \n",
      " 30  sn           8475 non-null   int64         \n",
      " 31  sq           8475 non-null   int64         \n",
      " 32  ts           8475 non-null   int64         \n",
      " 33  tsra         8475 non-null   int64         \n",
      " 34  vcts         8475 non-null   int64         \n",
      " 35  gr           8475 non-null   float64       \n",
      " 36  vcfg         8475 non-null   float64       \n",
      "dtypes: datetime64[ns](1), float64(17), int64(18), object(1)\n",
      "memory usage: 2.5+ MB\n"
     ]
    }
   ],
   "source": [
    "lag7_train.info()"
   ]
  },
  {
   "cell_type": "code",
   "execution_count": 125,
   "id": "226abc2a",
   "metadata": {},
   "outputs": [],
   "source": [
    "def rf_weather_lag(df, lag_num, concat_df=None):\n",
    "    df = df.dropna()\n",
    "    X = df[[col for col in df.columns if (df[col].dtypes !='O') & \n",
    "                      (col not in ['date','block','addressaccuracy','nummosquitos','wnvcount','wnvpresent', 'station','species_CULEX SALINARIUS','species_CULEX TARSALIS', 'species_CULEX TERRITANS'])]]\n",
    "    y = df['wnvpresent']\n",
    "    \n",
    "    X_train, X_test, y_train, y_test = train_test_split(\n",
    "        X,\n",
    "        y,\n",
    "        stratify=y,\n",
    "        random_state=42\n",
    "    )\n",
    "    \n",
    "    ss = StandardScaler()\n",
    "    \n",
    "    X_train = ss.fit_transform(X_train)\n",
    "    X_test = ss.transform(X_test)\n",
    "    \n",
    "    rf = RandomForestClassifier(n_estimators=100)\n",
    "    \n",
    "    train_acc = cross_val_score(\n",
    "        rf,\n",
    "        X_train,\n",
    "        y_train,\n",
    "        cv=5\n",
    "    ).mean()\n",
    "    \n",
    "    test_acc = cross_val_score(\n",
    "        rf,\n",
    "        X_test,\n",
    "        y_test,\n",
    "        cv=5\n",
    "    ).mean()\n",
    "    \n",
    "    rf.fit(X_train, y_train)\n",
    "    \n",
    "    forest_predictions = rf.predict(X_test)\n",
    "    \n",
    "    tn, fp, fn, tp = confusion_matrix(y_test, forest_predictions).ravel()\n",
    "    \n",
    "    sensitivity = recall_score(y_test, forest_predictions)\n",
    "\n",
    "    specificity = (tn / (tn + fp))\n",
    "    \n",
    "    roc_auc = roc_auc_score(y_test, rf.predict_proba(X_test)[:,1])\n",
    "    \n",
    "    weather_dict = {\n",
    "        'weather_lag': lag_num, \n",
    "        'train_acc': [round(train_acc * 100, 2)], \n",
    "        'test_acc': [round(test_acc * 100, 2)], \n",
    "        'sensitivity': [round(sensitivity * 100, 2)], \n",
    "        'specificity': [round(specificity * 100, 2)],\n",
    "        'roc_auc_score': [round(roc_auc * 100, 2)]\n",
    "    }\n",
    "    \n",
    "    new_df = pd.DataFrame(weather_dict)\n",
    "    \n",
    "    if isinstance(concat_df, pd.DataFrame) == True:\n",
    "        final_df = pd.concat(\n",
    "            objs=[concat_df, new_df],\n",
    "            axis=0\n",
    "        )\n",
    "        final_df.reset_index(drop=True, inplace=True)\n",
    "        return final_df\n",
    "        \n",
    "    else:    \n",
    "        return new_df\n",
    "    "
   ]
  },
  {
   "cell_type": "code",
   "execution_count": 126,
   "id": "6639c1f1",
   "metadata": {},
   "outputs": [],
   "source": [
    "weather_lag_df = rf_weather_lag(lag0, 0)\n",
    "weather_lag_df = rf_weather_lag(lag2, 2, weather_lag_df)\n",
    "weather_lag_df = rf_weather_lag(lag3, 3, weather_lag_df)\n",
    "weather_lag_df = rf_weather_lag(lag5, 5, weather_lag_df)\n",
    "weather_lag_df = rf_weather_lag(lag7, 7, weather_lag_df)\n",
    "weather_lag_df = rf_weather_lag(lag14, 14, weather_lag_df)\n",
    "weather_lag_df = rf_weather_lag(lag21, 21, weather_lag_df)\n",
    "weather_lag_df = rf_weather_lag(lag28, 28, weather_lag_df)"
   ]
  },
  {
   "cell_type": "code",
   "execution_count": 127,
   "id": "9ffce7a8",
   "metadata": {
    "scrolled": true
   },
   "outputs": [
    {
     "data": {
      "text/html": [
       "<div>\n",
       "<style scoped>\n",
       "    .dataframe tbody tr th:only-of-type {\n",
       "        vertical-align: middle;\n",
       "    }\n",
       "\n",
       "    .dataframe tbody tr th {\n",
       "        vertical-align: top;\n",
       "    }\n",
       "\n",
       "    .dataframe thead th {\n",
       "        text-align: right;\n",
       "    }\n",
       "</style>\n",
       "<table border=\"1\" class=\"dataframe\">\n",
       "  <thead>\n",
       "    <tr style=\"text-align: right;\">\n",
       "      <th></th>\n",
       "      <th>weather_lag</th>\n",
       "      <th>train_acc</th>\n",
       "      <th>test_acc</th>\n",
       "      <th>sensitivity</th>\n",
       "      <th>specificity</th>\n",
       "      <th>roc_auc_score</th>\n",
       "    </tr>\n",
       "  </thead>\n",
       "  <tbody>\n",
       "    <tr>\n",
       "      <th>0</th>\n",
       "      <td>0</td>\n",
       "      <td>92.90</td>\n",
       "      <td>93.25</td>\n",
       "      <td>17.54</td>\n",
       "      <td>97.31</td>\n",
       "      <td>77.79</td>\n",
       "    </tr>\n",
       "    <tr>\n",
       "      <th>1</th>\n",
       "      <td>2</td>\n",
       "      <td>92.98</td>\n",
       "      <td>93.30</td>\n",
       "      <td>16.67</td>\n",
       "      <td>97.36</td>\n",
       "      <td>75.39</td>\n",
       "    </tr>\n",
       "    <tr>\n",
       "      <th>2</th>\n",
       "      <td>3</td>\n",
       "      <td>92.92</td>\n",
       "      <td>93.20</td>\n",
       "      <td>18.42</td>\n",
       "      <td>97.51</td>\n",
       "      <td>77.55</td>\n",
       "    </tr>\n",
       "    <tr>\n",
       "      <th>3</th>\n",
       "      <td>5</td>\n",
       "      <td>92.98</td>\n",
       "      <td>93.44</td>\n",
       "      <td>18.42</td>\n",
       "      <td>97.51</td>\n",
       "      <td>75.61</td>\n",
       "    </tr>\n",
       "    <tr>\n",
       "      <th>4</th>\n",
       "      <td>7</td>\n",
       "      <td>92.90</td>\n",
       "      <td>93.30</td>\n",
       "      <td>16.67</td>\n",
       "      <td>97.51</td>\n",
       "      <td>75.66</td>\n",
       "    </tr>\n",
       "    <tr>\n",
       "      <th>5</th>\n",
       "      <td>14</td>\n",
       "      <td>92.95</td>\n",
       "      <td>93.53</td>\n",
       "      <td>17.54</td>\n",
       "      <td>97.01</td>\n",
       "      <td>76.76</td>\n",
       "    </tr>\n",
       "    <tr>\n",
       "      <th>6</th>\n",
       "      <td>21</td>\n",
       "      <td>93.03</td>\n",
       "      <td>93.35</td>\n",
       "      <td>19.30</td>\n",
       "      <td>97.41</td>\n",
       "      <td>77.10</td>\n",
       "    </tr>\n",
       "    <tr>\n",
       "      <th>7</th>\n",
       "      <td>28</td>\n",
       "      <td>93.21</td>\n",
       "      <td>93.30</td>\n",
       "      <td>18.42</td>\n",
       "      <td>97.94</td>\n",
       "      <td>75.14</td>\n",
       "    </tr>\n",
       "  </tbody>\n",
       "</table>\n",
       "</div>"
      ],
      "text/plain": [
       "   weather_lag  train_acc  test_acc  sensitivity  specificity  roc_auc_score\n",
       "0            0      92.90     93.25        17.54        97.31          77.79\n",
       "1            2      92.98     93.30        16.67        97.36          75.39\n",
       "2            3      92.92     93.20        18.42        97.51          77.55\n",
       "3            5      92.98     93.44        18.42        97.51          75.61\n",
       "4            7      92.90     93.30        16.67        97.51          75.66\n",
       "5           14      92.95     93.53        17.54        97.01          76.76\n",
       "6           21      93.03     93.35        19.30        97.41          77.10\n",
       "7           28      93.21     93.30        18.42        97.94          75.14"
      ]
     },
     "execution_count": 127,
     "metadata": {},
     "output_type": "execute_result"
    }
   ],
   "source": [
    "weather_lag_df"
   ]
  },
  {
   "cell_type": "code",
   "execution_count": 128,
   "id": "df21ff6b",
   "metadata": {},
   "outputs": [],
   "source": [
    "def rf_2_weather_lag(df, lag_num, concat_df=None):\n",
    "    df = df.dropna()\n",
    "    X = df[[col for col in df.columns if (df[col].dtypes !='O') & \n",
    "                      (col not in ['date','block','addressaccuracy','nummosquitos','wnvcount','wnvpresent', 'station','species_CULEX SALINARIUS','species_CULEX TARSALIS', 'species_CULEX TERRITANS'])]]\n",
    "    y = df['wnvpresent']\n",
    "    \n",
    "    X_train, X_test, y_train, y_test = train_test_split(\n",
    "        X,\n",
    "        y,\n",
    "        stratify=y,\n",
    "        random_state=42\n",
    "    )\n",
    "    \n",
    "    ss = StandardScaler()\n",
    "    \n",
    "    X_train = ss.fit_transform(X_train)\n",
    "    X_test = ss.transform(X_test)\n",
    "    \n",
    "    \n",
    "    rf =  RandomForestClassifier(\n",
    "        n_estimators=1500,\n",
    "        ccp_alpha=0,\n",
    "        max_depth=10,\n",
    "        min_samples_split=5,\n",
    "        min_samples_leaf=5,\n",
    "        random_state=42,\n",
    "        class_weight='balanced_subsample')\n",
    "    \n",
    "    train_acc = cross_val_score(\n",
    "        rf,\n",
    "        X_train,\n",
    "        y_train,\n",
    "        cv=5\n",
    "    ).mean()\n",
    "    \n",
    "    test_acc = cross_val_score(\n",
    "        rf,\n",
    "        X_test,\n",
    "        y_test,\n",
    "        cv=5\n",
    "    ).mean()\n",
    "    \n",
    "    rf.fit(X_train, y_train)\n",
    "    \n",
    "    forest_predictions = rf.predict(X_test)\n",
    "    \n",
    "    tn, fp, fn, tp = confusion_matrix(y_test, forest_predictions).ravel()\n",
    "    \n",
    "    sensitivity = recall_score(y_test, forest_predictions)\n",
    "\n",
    "    specificity = (tn / (tn + fp))\n",
    "    \n",
    "    roc_auc = roc_auc_score(y_test, rf.predict_proba(X_test)[:,1])\n",
    "    \n",
    "    weather_dict = {\n",
    "        'weather_lag': lag_num, \n",
    "        'train_acc': [round(train_acc * 100, 2)], \n",
    "        'test_acc': [round(test_acc * 100, 2)], \n",
    "        'sensitivity': [round(sensitivity * 100, 2)], \n",
    "        'specificity': [round(specificity * 100, 2)],\n",
    "        'roc_auc_score': [round(roc_auc * 100, 2)]\n",
    "    }\n",
    "    \n",
    "    new_df = pd.DataFrame(weather_dict)\n",
    "    \n",
    "    if isinstance(concat_df, pd.DataFrame) == True:\n",
    "        final_df = pd.concat(\n",
    "            objs=[concat_df, new_df],\n",
    "            axis=0\n",
    "        )\n",
    "        final_df.reset_index(drop=True, inplace=True)\n",
    "        return final_df\n",
    "        \n",
    "    else:    \n",
    "        return new_df\n",
    "    "
   ]
  },
  {
   "cell_type": "code",
   "execution_count": null,
   "id": "724d99b2",
   "metadata": {},
   "outputs": [],
   "source": [
    "weather_lag_df2 = rf_2_weather_lag(lag0, 0)\n",
    "weather_lag_df2 = rf_2_weather_lag(lag2, 2, weather_lag_df2)\n",
    "weather_lag_df2 = rf_2_weather_lag(lag3, 3, weather_lag_df2)\n",
    "weather_lag_df2 = rf_2_weather_lag(lag5, 5, weather_lag_df2)\n",
    "weather_lag_df2 = rf_2_weather_lag(lag7, 7, weather_lag_df2)\n",
    "weather_lag_df2 = rf_2_weather_lag(lag14, 14, weather_lag_df2)\n",
    "weather_lag_df2 = rf_2_weather_lag(lag21, 21, weather_lag_df2)\n",
    "weather_lag_df2 = rf_2_weather_lag(lag28, 28, weather_lag_df2)"
   ]
  },
  {
   "cell_type": "code",
   "execution_count": null,
   "id": "461d048e",
   "metadata": {},
   "outputs": [],
   "source": [
    "weather_lag_df2"
   ]
  },
  {
   "cell_type": "code",
   "execution_count": null,
   "id": "aae0f934",
   "metadata": {},
   "outputs": [],
   "source": []
  },
  {
   "cell_type": "code",
   "execution_count": null,
   "id": "21c9aaf1",
   "metadata": {},
   "outputs": [],
   "source": []
  },
  {
   "cell_type": "code",
   "execution_count": null,
   "id": "4fa10937",
   "metadata": {},
   "outputs": [],
   "source": []
  },
  {
   "cell_type": "code",
   "execution_count": null,
   "id": "86a0e2a9",
   "metadata": {},
   "outputs": [],
   "source": []
  },
  {
   "cell_type": "markdown",
   "id": "295d75eb",
   "metadata": {},
   "source": [
    "# Recommended weather lag"
   ]
  },
  {
   "cell_type": "code",
   "execution_count": 8,
   "id": "41336ba6",
   "metadata": {},
   "outputs": [],
   "source": [
    "# weather lag(##) is best\n",
    "# to proceed to see which feature combination is best"
   ]
  },
  {
   "cell_type": "code",
   "execution_count": null,
   "id": "b2f98d38",
   "metadata": {},
   "outputs": [],
   "source": []
  },
  {
   "cell_type": "code",
   "execution_count": null,
   "id": "87dc2c45",
   "metadata": {},
   "outputs": [],
   "source": []
  },
  {
   "cell_type": "code",
   "execution_count": null,
   "id": "56caccc7",
   "metadata": {},
   "outputs": [],
   "source": []
  },
  {
   "cell_type": "markdown",
   "id": "1ab3c97a",
   "metadata": {},
   "source": [
    "# Feature engineering for others"
   ]
  },
  {
   "cell_type": "code",
   "execution_count": 9,
   "id": "c2a9b858",
   "metadata": {},
   "outputs": [],
   "source": [
    "# read in data\n",
    "\n",
    "train_merged = pd.read_csv('../data/merged_train.csv')"
   ]
  },
  {
   "cell_type": "code",
   "execution_count": 10,
   "id": "db9dbe9d",
   "metadata": {},
   "outputs": [],
   "source": [
    "# to merge with weather data above\n",
    "# train_merged = train_merged['date', 'latitude', 'longitude', 'trap']\n",
    "\n",
    "# for interim analysis\n",
    "train_weather = train_merged.drop(['nummosquitos','wnvcount',\n",
    "                                   'station', 'sprayed'],\n",
    "                                  axis=1)"
   ]
  },
  {
   "cell_type": "code",
   "execution_count": 11,
   "id": "32f73b95",
   "metadata": {},
   "outputs": [
    {
     "data": {
      "text/plain": [
       "Index(['date', 'species', 'latitude', 'longitude', 'trap', 'wnvpresent',\n",
       "       'tmax', 'tmin', 'tavg', 'dewpoint', 'wetbulb', 'heat', 'cool',\n",
       "       'codesum', 'preciptotal', 'stnpressure', 'sealevel', 'resultspeed',\n",
       "       'resultdir', 'avgspeed', 'month', 'sunrise', 'sunset', 'bcfg', 'br',\n",
       "       'dz', 'fg', 'fg+', 'fu', 'hz', 'mifg', 'ra', 'sn', 'sq', 'ts', 'tsra',\n",
       "       'vcts', 'gr', 'vcfg'],\n",
       "      dtype='object')"
      ]
     },
     "execution_count": 11,
     "metadata": {},
     "output_type": "execute_result"
    }
   ],
   "source": [
    "train_weather.columns"
   ]
  },
  {
   "cell_type": "code",
   "execution_count": 12,
   "id": "aa8777c8",
   "metadata": {},
   "outputs": [
    {
     "data": {
      "text/html": [
       "<div>\n",
       "<style scoped>\n",
       "    .dataframe tbody tr th:only-of-type {\n",
       "        vertical-align: middle;\n",
       "    }\n",
       "\n",
       "    .dataframe tbody tr th {\n",
       "        vertical-align: top;\n",
       "    }\n",
       "\n",
       "    .dataframe thead th {\n",
       "        text-align: right;\n",
       "    }\n",
       "</style>\n",
       "<table border=\"1\" class=\"dataframe\">\n",
       "  <thead>\n",
       "    <tr style=\"text-align: right;\">\n",
       "      <th></th>\n",
       "      <th>date</th>\n",
       "      <th>species</th>\n",
       "      <th>latitude</th>\n",
       "      <th>longitude</th>\n",
       "      <th>trap</th>\n",
       "      <th>wnvpresent</th>\n",
       "      <th>tmax</th>\n",
       "      <th>tmin</th>\n",
       "      <th>tavg</th>\n",
       "      <th>dewpoint</th>\n",
       "      <th>...</th>\n",
       "      <th>hz</th>\n",
       "      <th>mifg</th>\n",
       "      <th>ra</th>\n",
       "      <th>sn</th>\n",
       "      <th>sq</th>\n",
       "      <th>ts</th>\n",
       "      <th>tsra</th>\n",
       "      <th>vcts</th>\n",
       "      <th>gr</th>\n",
       "      <th>vcfg</th>\n",
       "    </tr>\n",
       "  </thead>\n",
       "  <tbody>\n",
       "    <tr>\n",
       "      <th>0</th>\n",
       "      <td>2007-05-29</td>\n",
       "      <td>CULEX PIPIENS/RESTUANS</td>\n",
       "      <td>41.867108</td>\n",
       "      <td>-87.654224</td>\n",
       "      <td>T048</td>\n",
       "      <td>0.0</td>\n",
       "      <td>88</td>\n",
       "      <td>65</td>\n",
       "      <td>76.5</td>\n",
       "      <td>59</td>\n",
       "      <td>...</td>\n",
       "      <td>1</td>\n",
       "      <td>0.0</td>\n",
       "      <td>0</td>\n",
       "      <td>0</td>\n",
       "      <td>0</td>\n",
       "      <td>0</td>\n",
       "      <td>0</td>\n",
       "      <td>0</td>\n",
       "      <td>0.0</td>\n",
       "      <td>0.0</td>\n",
       "    </tr>\n",
       "    <tr>\n",
       "      <th>1</th>\n",
       "      <td>2009-09-25</td>\n",
       "      <td>CULEX PIPIENS</td>\n",
       "      <td>41.776156</td>\n",
       "      <td>-87.778927</td>\n",
       "      <td>T155</td>\n",
       "      <td>0.0</td>\n",
       "      <td>70</td>\n",
       "      <td>60</td>\n",
       "      <td>65.0</td>\n",
       "      <td>57</td>\n",
       "      <td>...</td>\n",
       "      <td>0</td>\n",
       "      <td>0.0</td>\n",
       "      <td>1</td>\n",
       "      <td>0</td>\n",
       "      <td>0</td>\n",
       "      <td>0</td>\n",
       "      <td>0</td>\n",
       "      <td>0</td>\n",
       "      <td>0.0</td>\n",
       "      <td>0.0</td>\n",
       "    </tr>\n",
       "    <tr>\n",
       "      <th>2</th>\n",
       "      <td>2009-09-25</td>\n",
       "      <td>CULEX RESTUANS</td>\n",
       "      <td>41.923738</td>\n",
       "      <td>-87.785288</td>\n",
       "      <td>T013</td>\n",
       "      <td>1.0</td>\n",
       "      <td>70</td>\n",
       "      <td>60</td>\n",
       "      <td>65.0</td>\n",
       "      <td>57</td>\n",
       "      <td>...</td>\n",
       "      <td>0</td>\n",
       "      <td>0.0</td>\n",
       "      <td>1</td>\n",
       "      <td>0</td>\n",
       "      <td>0</td>\n",
       "      <td>0</td>\n",
       "      <td>0</td>\n",
       "      <td>0</td>\n",
       "      <td>0.0</td>\n",
       "      <td>0.0</td>\n",
       "    </tr>\n",
       "    <tr>\n",
       "      <th>3</th>\n",
       "      <td>2009-09-25</td>\n",
       "      <td>CULEX RESTUANS</td>\n",
       "      <td>41.960616</td>\n",
       "      <td>-87.777189</td>\n",
       "      <td>T017</td>\n",
       "      <td>0.0</td>\n",
       "      <td>70</td>\n",
       "      <td>60</td>\n",
       "      <td>65.0</td>\n",
       "      <td>57</td>\n",
       "      <td>...</td>\n",
       "      <td>0</td>\n",
       "      <td>0.0</td>\n",
       "      <td>1</td>\n",
       "      <td>0</td>\n",
       "      <td>0</td>\n",
       "      <td>0</td>\n",
       "      <td>0</td>\n",
       "      <td>0</td>\n",
       "      <td>0.0</td>\n",
       "      <td>0.0</td>\n",
       "    </tr>\n",
       "    <tr>\n",
       "      <th>4</th>\n",
       "      <td>2007-08-24</td>\n",
       "      <td>CULEX RESTUANS</td>\n",
       "      <td>41.662014</td>\n",
       "      <td>-87.724608</td>\n",
       "      <td>T135</td>\n",
       "      <td>0.0</td>\n",
       "      <td>81</td>\n",
       "      <td>69</td>\n",
       "      <td>75.0</td>\n",
       "      <td>67</td>\n",
       "      <td>...</td>\n",
       "      <td>0</td>\n",
       "      <td>0.0</td>\n",
       "      <td>1</td>\n",
       "      <td>0</td>\n",
       "      <td>0</td>\n",
       "      <td>1</td>\n",
       "      <td>1</td>\n",
       "      <td>0</td>\n",
       "      <td>0.0</td>\n",
       "      <td>0.0</td>\n",
       "    </tr>\n",
       "  </tbody>\n",
       "</table>\n",
       "<p>5 rows × 39 columns</p>\n",
       "</div>"
      ],
      "text/plain": [
       "         date                 species   latitude  longitude  trap  wnvpresent  \\\n",
       "0  2007-05-29  CULEX PIPIENS/RESTUANS  41.867108 -87.654224  T048         0.0   \n",
       "1  2009-09-25           CULEX PIPIENS  41.776156 -87.778927  T155         0.0   \n",
       "2  2009-09-25          CULEX RESTUANS  41.923738 -87.785288  T013         1.0   \n",
       "3  2009-09-25          CULEX RESTUANS  41.960616 -87.777189  T017         0.0   \n",
       "4  2007-08-24          CULEX RESTUANS  41.662014 -87.724608  T135         0.0   \n",
       "\n",
       "   tmax  tmin  tavg  dewpoint  ...  hz  mifg  ra sn  sq  ts  tsra  vcts   gr  \\\n",
       "0    88    65  76.5        59  ...   1   0.0   0  0   0   0     0     0  0.0   \n",
       "1    70    60  65.0        57  ...   0   0.0   1  0   0   0     0     0  0.0   \n",
       "2    70    60  65.0        57  ...   0   0.0   1  0   0   0     0     0  0.0   \n",
       "3    70    60  65.0        57  ...   0   0.0   1  0   0   0     0     0  0.0   \n",
       "4    81    69  75.0        67  ...   0   0.0   1  0   0   1     1     0  0.0   \n",
       "\n",
       "   vcfg  \n",
       "0   0.0  \n",
       "1   0.0  \n",
       "2   0.0  \n",
       "3   0.0  \n",
       "4   0.0  \n",
       "\n",
       "[5 rows x 39 columns]"
      ]
     },
     "execution_count": 12,
     "metadata": {},
     "output_type": "execute_result"
    }
   ],
   "source": [
    "train_weather.head()"
   ]
  },
  {
   "cell_type": "code",
   "execution_count": 13,
   "id": "1d53cd0c",
   "metadata": {},
   "outputs": [],
   "source": [
    "# Custom dummy coding for species\n",
    "train_weather['CULEX PIPIENS/RESTUANS'] = train_weather['species'].map(lambda x: 1 if x == 'CULEX PIPIENS/RESTUANS' else 0)\n",
    "train_weather['CULEX PIPIENS'] = train_weather['species'].map(lambda x: 1 if x == 'CULEX PIPIENS' else 0)\n",
    "train_weather['CULEX RESTUANS'] = train_weather['species'].map(lambda x: 1 if x == 'CULEX RESTUANS' else 0)"
   ]
  },
  {
   "cell_type": "code",
   "execution_count": 14,
   "id": "7ffa4ff4",
   "metadata": {},
   "outputs": [],
   "source": [
    "# create week variable\n",
    "train_weather['date'] = pd.to_datetime(train_weather['date'])\n",
    "train_weather['week'] = train_weather['date'].dt.isocalendar().week"
   ]
  },
  {
   "cell_type": "code",
   "execution_count": 15,
   "id": "69dd031d",
   "metadata": {},
   "outputs": [
    {
     "data": {
      "text/plain": [
       "week\n",
       "22      0.0\n",
       "23      0.0\n",
       "24      0.0\n",
       "25      0.0\n",
       "26      1.0\n",
       "27      0.0\n",
       "28      7.0\n",
       "29     15.0\n",
       "30     16.0\n",
       "31     39.0\n",
       "32     54.0\n",
       "33     66.0\n",
       "34    107.0\n",
       "35     47.0\n",
       "36     44.0\n",
       "37     34.0\n",
       "38     19.0\n",
       "39      6.0\n",
       "40      2.0\n",
       "41      0.0\n",
       "Name: wnvpresent, dtype: float64"
      ]
     },
     "execution_count": 15,
     "metadata": {},
     "output_type": "execute_result"
    }
   ],
   "source": [
    "# Custom dummy coding for week\n",
    "\n",
    "train_weather.groupby('week')['wnvpresent'].sum()"
   ]
  },
  {
   "cell_type": "code",
   "execution_count": 16,
   "id": "f1bb5566",
   "metadata": {},
   "outputs": [],
   "source": [
    "train_weather = pd.get_dummies(train_weather, columns=['week'], drop_first=False)"
   ]
  },
  {
   "cell_type": "code",
   "execution_count": 17,
   "id": "c6968712",
   "metadata": {},
   "outputs": [
    {
     "data": {
      "text/plain": [
       "Index(['date', 'species', 'latitude', 'longitude', 'trap', 'wnvpresent',\n",
       "       'tmax', 'tmin', 'tavg', 'dewpoint', 'wetbulb', 'heat', 'cool',\n",
       "       'codesum', 'preciptotal', 'stnpressure', 'sealevel', 'resultspeed',\n",
       "       'resultdir', 'avgspeed', 'month', 'sunrise', 'sunset', 'bcfg', 'br',\n",
       "       'dz', 'fg', 'fg+', 'fu', 'hz', 'mifg', 'ra', 'sn', 'sq', 'ts', 'tsra',\n",
       "       'vcts', 'gr', 'vcfg', 'CULEX PIPIENS/RESTUANS', 'CULEX PIPIENS',\n",
       "       'CULEX RESTUANS', 'week_22', 'week_23', 'week_24', 'week_25', 'week_26',\n",
       "       'week_27', 'week_28', 'week_29', 'week_30', 'week_31', 'week_32',\n",
       "       'week_33', 'week_34', 'week_35', 'week_36', 'week_37', 'week_38',\n",
       "       'week_39', 'week_40', 'week_41'],\n",
       "      dtype='object')"
      ]
     },
     "execution_count": 17,
     "metadata": {},
     "output_type": "execute_result"
    }
   ],
   "source": [
    "train_weather.columns"
   ]
  },
  {
   "cell_type": "code",
   "execution_count": 18,
   "id": "3b949540",
   "metadata": {},
   "outputs": [],
   "source": [
    "train_weather.drop(columns=['week_22', 'week_23', 'week_24', 'week_25', \n",
    "                            'week_26', 'week_27', 'week_40', 'week_41'],\n",
    "                  axis=1,\n",
    "                  inplace=True)"
   ]
  },
  {
   "cell_type": "code",
   "execution_count": null,
   "id": "6dc6220a",
   "metadata": {},
   "outputs": [],
   "source": []
  },
  {
   "cell_type": "code",
   "execution_count": null,
   "id": "2c4f5f86",
   "metadata": {},
   "outputs": [],
   "source": []
  },
  {
   "cell_type": "code",
   "execution_count": null,
   "id": "cafbbd0a",
   "metadata": {},
   "outputs": [],
   "source": []
  },
  {
   "cell_type": "code",
   "execution_count": null,
   "id": "68290fc3",
   "metadata": {},
   "outputs": [],
   "source": []
  },
  {
   "cell_type": "code",
   "execution_count": null,
   "id": "a2a0f49e",
   "metadata": {},
   "outputs": [],
   "source": []
  },
  {
   "cell_type": "code",
   "execution_count": null,
   "id": "56e71ea0",
   "metadata": {},
   "outputs": [],
   "source": []
  },
  {
   "cell_type": "code",
   "execution_count": null,
   "id": "47868a75",
   "metadata": {},
   "outputs": [],
   "source": []
  },
  {
   "cell_type": "code",
   "execution_count": null,
   "id": "44fbaff7",
   "metadata": {},
   "outputs": [],
   "source": []
  },
  {
   "cell_type": "code",
   "execution_count": null,
   "id": "4cdb16bc",
   "metadata": {},
   "outputs": [],
   "source": []
  },
  {
   "cell_type": "code",
   "execution_count": null,
   "id": "f5b39477",
   "metadata": {},
   "outputs": [],
   "source": []
  },
  {
   "cell_type": "code",
   "execution_count": null,
   "id": "803f6357",
   "metadata": {},
   "outputs": [],
   "source": []
  },
  {
   "cell_type": "code",
   "execution_count": null,
   "id": "5586c818",
   "metadata": {},
   "outputs": [],
   "source": []
  },
  {
   "cell_type": "markdown",
   "id": "0fa18e0b",
   "metadata": {},
   "source": [
    "# Archive may delete"
   ]
  },
  {
   "cell_type": "code",
   "execution_count": 19,
   "id": "83c85008",
   "metadata": {},
   "outputs": [
    {
     "ename": "NameError",
     "evalue": "name 'train' is not defined",
     "output_type": "error",
     "traceback": [
      "\u001b[0;31m---------------------------------------------------------------------------\u001b[0m",
      "\u001b[0;31mNameError\u001b[0m                                 Traceback (most recent call last)",
      "\u001b[0;32m/var/folders/0t/nymtt02n1zqdc1ksr0n857bc0000gn/T/ipykernel_1434/3166623968.py\u001b[0m in \u001b[0;36m<module>\u001b[0;34m\u001b[0m\n\u001b[1;32m      2\u001b[0m \u001b[0;34m\u001b[0m\u001b[0m\n\u001b[1;32m      3\u001b[0m \u001b[0mtrain_loc\u001b[0m \u001b[0;34m=\u001b[0m \u001b[0;34m[\u001b[0m\u001b[0;34m]\u001b[0m\u001b[0;34m\u001b[0m\u001b[0;34m\u001b[0m\u001b[0m\n\u001b[0;32m----> 4\u001b[0;31m \u001b[0;32mfor\u001b[0m \u001b[0mx\u001b[0m\u001b[0;34m,\u001b[0m \u001b[0my\u001b[0m \u001b[0;32min\u001b[0m \u001b[0mzip\u001b[0m\u001b[0;34m(\u001b[0m\u001b[0mtrain\u001b[0m\u001b[0;34m[\u001b[0m\u001b[0;34m'longitude'\u001b[0m\u001b[0;34m]\u001b[0m\u001b[0;34m,\u001b[0m \u001b[0mtrain\u001b[0m\u001b[0;34m[\u001b[0m\u001b[0;34m'latitude'\u001b[0m\u001b[0;34m]\u001b[0m\u001b[0;34m)\u001b[0m\u001b[0;34m:\u001b[0m\u001b[0;34m\u001b[0m\u001b[0;34m\u001b[0m\u001b[0m\n\u001b[0m\u001b[1;32m      5\u001b[0m     \u001b[0;32mif\u001b[0m \u001b[0;34m[\u001b[0m\u001b[0mx\u001b[0m\u001b[0;34m,\u001b[0m \u001b[0my\u001b[0m\u001b[0;34m]\u001b[0m \u001b[0;32mnot\u001b[0m \u001b[0;32min\u001b[0m \u001b[0mtrain_loc\u001b[0m\u001b[0;34m:\u001b[0m\u001b[0;34m\u001b[0m\u001b[0;34m\u001b[0m\u001b[0m\n\u001b[1;32m      6\u001b[0m         \u001b[0mtrain_loc\u001b[0m\u001b[0;34m.\u001b[0m\u001b[0mappend\u001b[0m\u001b[0;34m(\u001b[0m\u001b[0;34m[\u001b[0m\u001b[0mx\u001b[0m\u001b[0;34m,\u001b[0m \u001b[0my\u001b[0m\u001b[0;34m]\u001b[0m\u001b[0;34m)\u001b[0m\u001b[0;34m\u001b[0m\u001b[0;34m\u001b[0m\u001b[0m\n",
      "\u001b[0;31mNameError\u001b[0m: name 'train' is not defined"
     ]
    }
   ],
   "source": [
    "# To check if all the traps in test are also in train set\n",
    "\n",
    "train_loc = []\n",
    "for x, y in zip(train['longitude'], train['latitude']):\n",
    "    if [x, y] not in train_loc:\n",
    "        train_loc.append([x, y])\n",
    "    \n",
    "test_loc = []\n",
    "for x, y in zip(test['longitude'], test['latitude']):\n",
    "    if [x, y] not in test_loc:\n",
    "        test_loc.append([x, y])\n",
    "        \n",
    "ex_loc = []\n",
    "for i in test_loc:\n",
    "    if i not in train_loc:\n",
    "        ex_loc.append(i)"
   ]
  },
  {
   "cell_type": "code",
   "execution_count": null,
   "id": "4a1dee85",
   "metadata": {},
   "outputs": [],
   "source": [
    "train_merged.groupby(['latitude', 'longitude'])['nummosquitos'].sum()"
   ]
  },
  {
   "cell_type": "code",
   "execution_count": null,
   "id": "1c29c690",
   "metadata": {},
   "outputs": [],
   "source": [
    "train_merged.groupby(['trap'])['nummosquitos'].sum()"
   ]
  },
  {
   "cell_type": "code",
   "execution_count": null,
   "id": "381fb047",
   "metadata": {},
   "outputs": [],
   "source": []
  }
 ],
 "metadata": {
  "kernelspec": {
   "display_name": "Python 3 (ipykernel)",
   "language": "python",
   "name": "python3"
  },
  "language_info": {
   "codemirror_mode": {
    "name": "ipython",
    "version": 3
   },
   "file_extension": ".py",
   "mimetype": "text/x-python",
   "name": "python",
   "nbconvert_exporter": "python",
   "pygments_lexer": "ipython3",
   "version": "3.8.12"
  }
 },
 "nbformat": 4,
 "nbformat_minor": 5
}
